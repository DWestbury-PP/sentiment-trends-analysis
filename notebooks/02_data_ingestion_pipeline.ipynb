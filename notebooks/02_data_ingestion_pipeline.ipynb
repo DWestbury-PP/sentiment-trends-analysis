{
  "cells": [
    {
      "cell_type": "raw",
      "metadata": {
        "vscode": {
          "languageId": "raw"
        }
      },
      "source": [
        "# Sentiment Trends Analysis - Data Ingestion Pipeline\n",
        "## Phase 1B: Building Market Data & News Collection System\n",
        "\n",
        "This notebook implements the core data collection pipeline for our sentiment analysis trading strategy.\n",
        "\n",
        "### Pipeline Components\n",
        "1. **Market Data Collection**: OHLCV data from Yahoo Finance\n",
        "2. **Technical Indicators**: SMA (1-8 days), ROC (1-8 days)\n",
        "3. **News Data Collection**: Headlines and content from Alpha Vantage\n",
        "4. **Sentiment Analysis**: OpenAI GPT-4o sentiment scoring\n",
        "5. **Database Storage**: Automated storage in PostgreSQL\n",
        "\n",
        "### Target Symbols\n",
        "- **Primary**: Intel Corporation (INTC)\n",
        "- **Competitors**: AMD, NVIDIA (NVDA)\n"
      ]
    },
    {
      "cell_type": "raw",
      "metadata": {
        "vscode": {
          "languageId": "raw"
        }
      },
      "source": [
        "## 1. Setup and Configuration\n",
        "Import libraries and establish database connections.\n"
      ]
    },
    {
      "cell_type": "code",
      "execution_count": null,
      "metadata": {},
      "outputs": [],
      "source": [
        "# Add parent directory to Python path\n",
        "import sys\n",
        "from pathlib import Path\n",
        "sys.path.append(str(Path('../').resolve()))\n",
        "\n",
        "# Core libraries\n",
        "import pandas as pd\n",
        "import numpy as np\n",
        "from datetime import datetime, timedelta\n",
        "import warnings\n",
        "warnings.filterwarnings('ignore')\n",
        "\n",
        "# Financial APIs\n",
        "import yfinance as yf\n",
        "from alpha_vantage.timeseries import TimeSeries\n",
        "from alpha_vantage.fundamentaldata import FundamentalData\n",
        "\n",
        "# Technical analysis\n",
        "import pandas_ta as ta\n",
        "\n",
        "# Database and utilities\n",
        "import sqlalchemy\n",
        "from dotenv import load_dotenv\n",
        "from src.database import get_database_connection, get_api_key\n",
        "\n",
        "# AI\n",
        "from openai import OpenAI\n",
        "\n",
        "# Load environment\n",
        "load_dotenv()\n",
        "print(\"✅ Environment loaded and libraries imported successfully!\")\n"
      ]
    },
    {
      "cell_type": "raw",
      "metadata": {
        "vscode": {
          "languageId": "raw"
        }
      },
      "source": [
        "## 2. Market Data Collection Functions\n",
        "Build functions to collect and process OHLCV data from Yahoo Finance.\n"
      ]
    },
    {
      "cell_type": "code",
      "execution_count": null,
      "metadata": {},
      "outputs": [],
      "source": [
        "def fetch_market_data(symbol, period=\"1y\", start_date=None, end_date=None):\n",
        "    \"\"\"\n",
        "    Fetch OHLCV market data for a given symbol.\n",
        "    \n",
        "    Args:\n",
        "        symbol (str): Stock symbol (e.g., 'INTC')\n",
        "        period (str): Time period ('1y', '2y', etc.) - used if dates not specified\n",
        "        start_date (str): Start date in 'YYYY-MM-DD' format\n",
        "        end_date (str): End date in 'YYYY-MM-DD' format\n",
        "    \n",
        "    Returns:\n",
        "        pandas.DataFrame: OHLCV data with date index\n",
        "    \"\"\"\n",
        "    try:\n",
        "        ticker = yf.Ticker(symbol)\n",
        "        \n",
        "        if start_date and end_date:\n",
        "            data = ticker.history(start=start_date, end=end_date)\n",
        "        else:\n",
        "            data = ticker.history(period=period)\n",
        "        \n",
        "        if data.empty:\n",
        "            print(f\"⚠️  No data retrieved for {symbol}\")\n",
        "            return None\n",
        "            \n",
        "        # Clean the data\n",
        "        data = data.drop(columns=['Dividends', 'Stock Splits'], errors='ignore')\n",
        "        data.index = data.index.date  # Convert to date only\n",
        "        \n",
        "        print(f\"✅ Retrieved {len(data)} days of data for {symbol}\")\n",
        "        return data\n",
        "        \n",
        "    except Exception as e:\n",
        "        print(f\"❌ Error fetching data for {symbol}: {e}\")\n",
        "        return None\n",
        "\n",
        "# Test the function\n",
        "print(\"🔍 Testing market data collection...\")\n",
        "test_data = fetch_market_data(\"INTC\", period=\"1mo\")\n",
        "if test_data is not None:\n",
        "    print(f\"📅 Date range: {test_data.index[0]} to {test_data.index[-1]}\")\n",
        "    print(f\"💰 Latest close: ${test_data['Close'][-1]:.2f}\")\n",
        "    display(test_data.tail(3))\n"
      ]
    }
  ],
  "metadata": {
    "kernelspec": {
      "display_name": ".venv",
      "language": "python",
      "name": "python3"
    },
    "language_info": {
      "name": "python",
      "version": "3.11.13"
    }
  },
  "nbformat": 4,
  "nbformat_minor": 2
}
