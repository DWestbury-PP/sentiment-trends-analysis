{
  "cells": [
    {
      "cell_type": "raw",
      "metadata": {
        "vscode": {
          "languageId": "raw"
        }
      },
      "source": [
        "# 📊 Sentiment Trading Strategy - Analysis & Visualization\n",
        "\n",
        "This notebook provides comprehensive analysis and visualization of our sentiment-based trading strategy, including:\n",
        "\n",
        "- **Market Data Analysis**: Price movements, volume patterns, and market trends\n",
        "- **Sentiment Analysis**: News sentiment scores and their correlation with market movements  \n",
        "- **Strategy Performance**: Backtesting results and performance metrics\n",
        "- **Dataset Readiness**: Assessment of data quality and completeness for production\n",
        "\n",
        "## Table of Contents\n",
        "1. [Setup & Data Loading](#setup)\n",
        "2. [Market Overview Analysis](#market)\n",
        "3. [Sentiment Analysis](#sentiment) \n",
        "4. [Trading Strategy Analysis](#strategy)\n",
        "5. [Dataset Readiness Assessment](#readiness)\n",
        "6. [Recommendations & Next Steps](#recommendations)\n"
      ]
    },
    {
      "cell_type": "code",
      "execution_count": 1,
      "metadata": {},
      "outputs": [
        {
          "name": "stdout",
          "output_type": "stream",
          "text": [
            "✅ All imports loaded successfully!\n",
            "📊 Pandas version: 2.3.0\n",
            "📈 Plotly version: 6.2.0\n",
            "🚀 Ready for analysis!\n"
          ]
        }
      ],
      "source": [
        "# Essential imports\n",
        "import sys\n",
        "import os\n",
        "sys.path.append(os.path.join(os.getcwd(), '..'))\n",
        "\n",
        "import pandas as pd\n",
        "import numpy as np\n",
        "import matplotlib.pyplot as plt\n",
        "import seaborn as sns\n",
        "import plotly\n",
        "import plotly.graph_objects as go\n",
        "import plotly.express as px\n",
        "from plotly.subplots import make_subplots\n",
        "import plotly.io as pio\n",
        "import sqlalchemy\n",
        "from datetime import datetime, timedelta\n",
        "import warnings\n",
        "\n",
        "# Custom modules\n",
        "from src.database import get_database_connection\n",
        "\n",
        "# Configure display settings\n",
        "warnings.filterwarnings('ignore')\n",
        "pd.set_option('display.max_columns', None)\n",
        "pd.set_option('display.max_rows', 100)\n",
        "plt.style.use('seaborn-v0_8')\n",
        "pio.templates.default = \"plotly_dark\"\n",
        "\n",
        "print(\"✅ All imports loaded successfully!\")\n",
        "print(f\"📊 Pandas version: {pd.__version__}\")\n",
        "print(f\"📈 Plotly version: {plotly.__version__}\")\n",
        "print(\"🚀 Ready for analysis!\")\n"
      ]
    },
    {
      "cell_type": "raw",
      "metadata": {
        "vscode": {
          "languageId": "raw"
        }
      },
      "source": [
        "# 1. Setup & Data Loading Functions {#setup}\n"
      ]
    },
    {
      "cell_type": "code",
      "execution_count": 2,
      "metadata": {},
      "outputs": [
        {
          "name": "stdout",
          "output_type": "stream",
          "text": [
            "✅ Data loading functions ready!\n"
          ]
        }
      ],
      "source": [
        "def load_foundation_dataset():\n",
        "    \"\"\"Load the complete foundation dataset with market data and sentiment scores\"\"\"\n",
        "    \n",
        "    try:\n",
        "        print(\"🔄 Connecting to database...\")\n",
        "        engine = get_database_connection()\n",
        "        \n",
        "        # Load market data with sentiment scores from actual database schema\n",
        "        query = \"\"\"\n",
        "        SELECT \n",
        "            s.symbol,\n",
        "            md.trade_date as date,\n",
        "            md.open_price,\n",
        "            md.high_price,\n",
        "            md.low_price,\n",
        "            md.close_price,\n",
        "            md.volume,\n",
        "            md.close_price as adjusted_close,\n",
        "            COALESCE(ps.smo_score, 0) as sentiment_score,\n",
        "            COALESCE(ps.confidence_score, 0) as confidence_score,\n",
        "            ps.articles_analyzed as articles_count\n",
        "        FROM market_data md\n",
        "        LEFT JOIN symbols s ON md.symbol_id = s.id\n",
        "        LEFT JOIN processed_sentiment ps ON md.symbol_id = ps.symbol_id \n",
        "            AND md.trade_date = ps.analysis_date\n",
        "        WHERE md.trade_date >= '2024-01-01'\n",
        "        ORDER BY s.symbol, md.trade_date\n",
        "        \"\"\"\n",
        "        \n",
        "        print(\"📊 Loading market data with sentiment scores...\")\n",
        "        df = pd.read_sql(query, engine)\n",
        "        df['date'] = pd.to_datetime(df['date'])\n",
        "        \n",
        "        print(f\"✅ Loaded {len(df):,} records across {df['symbol'].nunique()} symbols\")\n",
        "        print(f\"📅 Date range: {df['date'].min().date()} to {df['date'].max().date()}\")\n",
        "        \n",
        "        # Check sentiment coverage\n",
        "        sentiment_records = df[df['sentiment_score'] != 0].shape[0]\n",
        "        sentiment_coverage = (sentiment_records / len(df)) * 100 if len(df) > 0 else 0\n",
        "        print(f\"🎭 Sentiment coverage: {sentiment_records:,} records ({sentiment_coverage:.1f}%)\")\n",
        "        \n",
        "        return df\n",
        "        \n",
        "    except Exception as e:\n",
        "        print(f\"❌ Error loading data: {e}\")\n",
        "        return None\n",
        "\n",
        "def create_combined_dataset(market_data, sentiment_data):\n",
        "    \"\"\"Combine market data with sentiment data for analysis\"\"\"\n",
        "    \n",
        "    if market_data is None:\n",
        "        print(\"❌ No market data provided\")\n",
        "        return None\n",
        "        \n",
        "    print(\"🔄 Processing combined dataset...\")\n",
        "    \n",
        "    # Calculate daily returns\n",
        "    market_data = market_data.sort_values(['symbol', 'date'])\n",
        "    market_data['daily_return'] = market_data.groupby('symbol')['close_price'].pct_change()\n",
        "    market_data['prev_close'] = market_data.groupby('symbol')['close_price'].shift(1)\n",
        "    \n",
        "    # Calculate moving averages\n",
        "    market_data['ma_5'] = market_data.groupby('symbol')['close_price'].rolling(5).mean().reset_index(0, drop=True)\n",
        "    market_data['ma_20'] = market_data.groupby('symbol')['close_price'].rolling(20).mean().reset_index(0, drop=True)\n",
        "    \n",
        "    # Calculate volatility\n",
        "    market_data['volatility_5d'] = market_data.groupby('symbol')['daily_return'].rolling(5).std().reset_index(0, drop=True)\n",
        "    \n",
        "    # Sentiment metrics\n",
        "    market_data['sentiment_lag1'] = market_data.groupby('symbol')['sentiment_score'].shift(1)\n",
        "    market_data['sentiment_ma3'] = market_data.groupby('symbol')['sentiment_score'].rolling(3).mean().reset_index(0, drop=True)\n",
        "    \n",
        "    print(f\"✅ Combined dataset processed with {len(market_data):,} records\")\n",
        "    \n",
        "    return market_data\n",
        "\n",
        "print(\"✅ Data loading functions ready!\")\n"
      ]
    },
    {
      "cell_type": "raw",
      "metadata": {
        "vscode": {
          "languageId": "raw"
        }
      },
      "source": [
        "# 2. Market Overview Analysis Functions {#market}\n"
      ]
    },
    {
      "cell_type": "code",
      "execution_count": 3,
      "metadata": {},
      "outputs": [
        {
          "name": "stdout",
          "output_type": "stream",
          "text": [
            "✅ Market analysis functions ready!\n"
          ]
        }
      ],
      "source": [
        "def create_market_overview(df):\n",
        "    \"\"\"Create comprehensive market overview visualization\"\"\"\n",
        "    \n",
        "    if df is None or df.empty:\n",
        "        print(\"❌ No data available for market overview\")\n",
        "        return None\n",
        "    \n",
        "    print(\"🔄 Creating market overview visualization...\")\n",
        "    \n",
        "    # Create subplots\n",
        "    fig = make_subplots(\n",
        "        rows=2, cols=2,\n",
        "        subplot_titles=['Price Trends by Symbol', 'Daily Returns Distribution', \n",
        "                       'Volume Patterns', 'Volatility Analysis'],\n",
        "        specs=[[{\"secondary_y\": True}, {\"type\": \"histogram\"}],\n",
        "               [{\"secondary_y\": True}, {\"type\": \"scatter\"}]]\n",
        "    )\n",
        "    \n",
        "    symbols = df['symbol'].unique()[:5]  # Top 5 symbols for clarity\n",
        "    colors = ['blue', 'red', 'green', 'orange', 'purple']\n",
        "    \n",
        "    for i, symbol in enumerate(symbols):\n",
        "        symbol_data = df[df['symbol'] == symbol].sort_values('date')\n",
        "        color = colors[i % len(colors)]\n",
        "        \n",
        "        # 1. Price trends\n",
        "        fig.add_trace(\n",
        "            go.Scatter(\n",
        "                x=symbol_data['date'],\n",
        "                y=symbol_data['close_price'],\n",
        "                name=f'{symbol} Price',\n",
        "                line=dict(color=color),\n",
        "                legendgroup=symbol\n",
        "            ),\n",
        "            row=1, col=1\n",
        "        )\n",
        "        \n",
        "        # Add volume on secondary y-axis\n",
        "        fig.add_trace(\n",
        "            go.Scatter(\n",
        "                x=symbol_data['date'],\n",
        "                y=symbol_data['volume'],\n",
        "                name=f'{symbol} Volume',\n",
        "                line=dict(color=color, dash='dash'),\n",
        "                opacity=0.6,\n",
        "                yaxis='y2',\n",
        "                legendgroup=symbol,\n",
        "                showlegend=False\n",
        "            ),\n",
        "            row=1, col=1\n",
        "        )\n",
        "        \n",
        "        # 2. Returns distribution\n",
        "        fig.add_trace(\n",
        "            go.Histogram(\n",
        "                x=symbol_data['daily_return'].dropna(),\n",
        "                name=f'{symbol} Returns',\n",
        "                opacity=0.7,\n",
        "                nbinsx=30,\n",
        "                legendgroup=symbol,\n",
        "                showlegend=False\n",
        "            ),\n",
        "            row=1, col=2\n",
        "        )\n",
        "        \n",
        "        # 3. Volume patterns\n",
        "        fig.add_trace(\n",
        "            go.Scatter(\n",
        "                x=symbol_data['date'],\n",
        "                y=symbol_data['volume'],\n",
        "                name=f'{symbol} Volume',\n",
        "                line=dict(color=color),\n",
        "                legendgroup=symbol,\n",
        "                showlegend=False\n",
        "            ),\n",
        "            row=2, col=1\n",
        "        )\n",
        "        \n",
        "        # 4. Volatility analysis\n",
        "        if 'volatility_5d' in symbol_data.columns:\n",
        "            fig.add_trace(\n",
        "                go.Scatter(\n",
        "                    x=symbol_data['date'],\n",
        "                    y=symbol_data['volatility_5d'],\n",
        "                    name=f'{symbol} Volatility',\n",
        "                    mode='lines',\n",
        "                    line=dict(color=color),\n",
        "                    legendgroup=symbol,\n",
        "                    showlegend=False\n",
        "                ),\n",
        "                row=2, col=2\n",
        "            )\n",
        "    \n",
        "    # Update layout\n",
        "    fig.update_layout(\n",
        "        height=800,\n",
        "        title=\"Market Overview Dashboard\",\n",
        "        showlegend=True\n",
        "    )\n",
        "    \n",
        "    # Update axes\n",
        "    fig.update_xaxes(title_text=\"Date\", row=1, col=1)\n",
        "    fig.update_yaxes(title_text=\"Price ($)\", row=1, col=1)\n",
        "    fig.update_yaxes(title_text=\"Volume\", secondary_y=True, row=1, col=1)\n",
        "    \n",
        "    fig.update_xaxes(title_text=\"Daily Return\", row=1, col=2)\n",
        "    fig.update_yaxes(title_text=\"Frequency\", row=1, col=2)\n",
        "    \n",
        "    fig.update_xaxes(title_text=\"Date\", row=2, col=1)\n",
        "    fig.update_yaxes(title_text=\"Volume\", row=2, col=1)\n",
        "    \n",
        "    fig.update_xaxes(title_text=\"Date\", row=2, col=2)\n",
        "    fig.update_yaxes(title_text=\"5-day Volatility\", row=2, col=2)\n",
        "    \n",
        "    fig.show()\n",
        "    return fig\n",
        "\n",
        "def print_market_insights(df):\n",
        "    \"\"\"Print key market insights and statistics\"\"\"\n",
        "    \n",
        "    if df is None or df.empty:\n",
        "        print(\"❌ No data available for insights\")\n",
        "        return\n",
        "    \n",
        "    print(\"\\n\" + \"=\"*60)\n",
        "    print(\"📊 MARKET INSIGHTS SUMMARY\")\n",
        "    print(\"=\"*60)\n",
        "    \n",
        "    # Basic statistics\n",
        "    total_records = len(df)\n",
        "    symbols_count = df['symbol'].nunique()\n",
        "    date_range = (df['date'].max() - df['date'].min()).days\n",
        "    \n",
        "    print(f\"📈 Dataset Overview:\")\n",
        "    print(f\"   • Total records: {total_records:,}\")\n",
        "    print(f\"   • Number of symbols: {symbols_count}\")\n",
        "    print(f\"   • Date range: {date_range} days\")\n",
        "    print(f\"   • Period: {df['date'].min().date()} to {df['date'].max().date()}\")\n",
        "    \n",
        "    # Price and return statistics\n",
        "    print(f\"\\n💰 Price & Returns Analysis:\")\n",
        "    avg_return = df['daily_return'].mean() * 100\n",
        "    volatility = df['daily_return'].std() * 100\n",
        "    \n",
        "    print(f\"   • Average daily return: {avg_return:.3f}%\")\n",
        "    print(f\"   • Daily volatility: {volatility:.3f}%\")\n",
        "    print(f\"   • Best single day return: {df['daily_return'].max()*100:.2f}%\")\n",
        "    print(f\"   • Worst single day return: {df['daily_return'].min()*100:.2f}%\")\n",
        "    \n",
        "    # Volume analysis\n",
        "    print(f\"\\n📊 Volume Analysis:\")\n",
        "    avg_volume = df['volume'].mean()\n",
        "    print(f\"   • Average daily volume: {avg_volume:,.0f}\")\n",
        "    print(f\"   • Peak volume: {df['volume'].max():,.0f}\")\n",
        "    \n",
        "    # Top performers\n",
        "    print(f\"\\n🏆 Top Performing Symbols (by avg return):\")\n",
        "    top_performers = df.groupby('symbol')['daily_return'].mean().sort_values(ascending=False).head(5)\n",
        "    for symbol, avg_ret in top_performers.items():\n",
        "        print(f\"   • {symbol}: {avg_ret*100:.3f}% daily avg\")\n",
        "    \n",
        "    print(\"=\"*60)\n",
        "\n",
        "print(\"✅ Market analysis functions ready!\")\n"
      ]
    },
    {
      "cell_type": "raw",
      "metadata": {
        "vscode": {
          "languageId": "raw"
        }
      },
      "source": [
        "# 3. Sentiment Analysis Functions {#sentiment}\n"
      ]
    },
    {
      "cell_type": "code",
      "execution_count": 4,
      "metadata": {},
      "outputs": [
        {
          "name": "stdout",
          "output_type": "stream",
          "text": [
            "✅ Sentiment analysis functions ready!\n"
          ]
        }
      ],
      "source": [
        "def create_sentiment_analysis(df):\n",
        "    \"\"\"Create comprehensive sentiment analysis visualization\"\"\"\n",
        "    \n",
        "    if df is None or df.empty:\n",
        "        print(\"❌ No data available for sentiment analysis\")\n",
        "        return None\n",
        "    \n",
        "    print(\"🔄 Creating sentiment analysis visualization...\")\n",
        "    \n",
        "    # Filter data with sentiment scores\n",
        "    sentiment_data = df[df['sentiment_score'] != 0].copy()\n",
        "    \n",
        "    if sentiment_data.empty:\n",
        "        print(\"⚠️ No sentiment data available\")\n",
        "        return None\n",
        "    \n",
        "    # Create subplots\n",
        "    fig = make_subplots(\n",
        "        rows=2, cols=2,\n",
        "        subplot_titles=['Sentiment Over Time', 'Sentiment Distribution', \n",
        "                       'Sentiment vs Returns', 'Sentiment Confidence'],\n",
        "        specs=[[{\"secondary_y\": False}, {\"type\": \"histogram\"}],\n",
        "               [{\"type\": \"scatter\"}, {\"type\": \"scatter\"}]]\n",
        "    )\n",
        "    \n",
        "    symbols = sentiment_data['symbol'].unique()[:5]\n",
        "    colors = ['blue', 'red', 'green', 'orange', 'purple']\n",
        "    \n",
        "    for i, symbol in enumerate(symbols):\n",
        "        symbol_data = sentiment_data[sentiment_data['symbol'] == symbol].sort_values('date')\n",
        "        color = colors[i % len(colors)]\n",
        "        \n",
        "        # 1. Sentiment over time\n",
        "        fig.add_trace(\n",
        "            go.Scatter(\n",
        "                x=symbol_data['date'],\n",
        "                y=symbol_data['sentiment_score'],\n",
        "                name=f'{symbol}',\n",
        "                line=dict(color=color),\n",
        "                legendgroup=symbol\n",
        "            ),\n",
        "            row=1, col=1\n",
        "        )\n",
        "        \n",
        "        # 2. Sentiment distribution\n",
        "        fig.add_trace(\n",
        "            go.Histogram(\n",
        "                x=symbol_data['sentiment_score'],\n",
        "                name=f'{symbol}',\n",
        "                opacity=0.7,\n",
        "                nbinsx=20,\n",
        "                legendgroup=symbol,\n",
        "                showlegend=False\n",
        "            ),\n",
        "            row=1, col=2\n",
        "        )\n",
        "        \n",
        "        # 3. Sentiment vs Returns scatter\n",
        "        valid_data = symbol_data.dropna(subset=['sentiment_score', 'daily_return'])\n",
        "        if not valid_data.empty:\n",
        "            fig.add_trace(\n",
        "                go.Scatter(\n",
        "                    x=valid_data['sentiment_score'],\n",
        "                    y=valid_data['daily_return'],\n",
        "                    mode='markers',\n",
        "                    name=f'{symbol}',\n",
        "                    marker=dict(color=color, size=6, opacity=0.6),\n",
        "                    legendgroup=symbol,\n",
        "                    showlegend=False\n",
        "                ),\n",
        "                row=2, col=1\n",
        "            )\n",
        "        \n",
        "        # 4. Sentiment confidence\n",
        "        if 'confidence_score' in symbol_data.columns:\n",
        "            fig.add_trace(\n",
        "                go.Scatter(\n",
        "                    x=symbol_data['sentiment_score'],\n",
        "                    y=symbol_data['confidence_score'],\n",
        "                    mode='markers',\n",
        "                    name=f'{symbol}',\n",
        "                    marker=dict(color=color, size=6, opacity=0.6),\n",
        "                    legendgroup=symbol,\n",
        "                    showlegend=False\n",
        "                ),\n",
        "                row=2, col=2\n",
        "            )\n",
        "    \n",
        "    # Update layout\n",
        "    fig.update_layout(\n",
        "        height=800,\n",
        "        title=\"Sentiment Analysis Dashboard\",\n",
        "        showlegend=True\n",
        "    )\n",
        "    \n",
        "    # Update axes\n",
        "    fig.update_xaxes(title_text=\"Date\", row=1, col=1)\n",
        "    fig.update_yaxes(title_text=\"Sentiment Score\", row=1, col=1)\n",
        "    \n",
        "    fig.update_xaxes(title_text=\"Sentiment Score\", row=1, col=2)\n",
        "    fig.update_yaxes(title_text=\"Frequency\", row=1, col=2)\n",
        "    \n",
        "    fig.update_xaxes(title_text=\"Sentiment Score\", row=2, col=1)\n",
        "    fig.update_yaxes(title_text=\"Daily Return\", row=2, col=1)\n",
        "    \n",
        "    fig.update_xaxes(title_text=\"Sentiment Score\", row=2, col=2)\n",
        "    fig.update_yaxes(title_text=\"Confidence Score\", row=2, col=2)\n",
        "    \n",
        "    fig.show()\n",
        "    return fig\n",
        "\n",
        "def calculate_sentiment_correlations(df):\n",
        "    \"\"\"Calculate correlations between sentiment and market metrics\"\"\"\n",
        "    \n",
        "    if df is None or df.empty:\n",
        "        print(\"❌ No data available for correlation analysis\")\n",
        "        return None\n",
        "    \n",
        "    print(\"🔄 Calculating sentiment correlations...\")\n",
        "    \n",
        "    correlations = {}\n",
        "    \n",
        "    for symbol in df['symbol'].unique():\n",
        "        symbol_data = df[df['symbol'] == symbol].copy()\n",
        "        \n",
        "        # Calculate correlations\n",
        "        corr_data = {}\n",
        "        \n",
        "        if 'sentiment_score' in symbol_data.columns and symbol_data['sentiment_score'].notna().sum() > 10:\n",
        "            corr_data['sentiment_vs_return'] = symbol_data['sentiment_score'].corr(symbol_data['daily_return'])\n",
        "            corr_data['sentiment_vs_volume'] = symbol_data['sentiment_score'].corr(symbol_data['volume'])\n",
        "            \n",
        "            # Lagged correlations\n",
        "            if 'sentiment_lag1' in symbol_data.columns:\n",
        "                corr_data['sentiment_lag1_vs_return'] = symbol_data['sentiment_lag1'].corr(symbol_data['daily_return'])\n",
        "            \n",
        "            correlations[symbol] = corr_data\n",
        "    \n",
        "    return correlations\n",
        "\n",
        "def print_sentiment_insights(df, correlations=None):\n",
        "    \"\"\"Print key sentiment insights and statistics\"\"\"\n",
        "    \n",
        "    if df is None or df.empty:\n",
        "        print(\"❌ No data available for sentiment insights\")\n",
        "        return\n",
        "    \n",
        "    print(\"\\n\" + \"=\"*60)\n",
        "    print(\"🎭 SENTIMENT ANALYSIS INSIGHTS\")\n",
        "    print(\"=\"*60)\n",
        "    \n",
        "    # Filter sentiment data\n",
        "    sentiment_data = df[df['sentiment_score'] != 0]\n",
        "    \n",
        "    if sentiment_data.empty:\n",
        "        print(\"⚠️ No sentiment data available\")\n",
        "        return\n",
        "    \n",
        "    # Basic sentiment statistics\n",
        "    print(f\"📊 Sentiment Data Overview:\")\n",
        "    print(f\"   • Records with sentiment: {len(sentiment_data):,}\")\n",
        "    print(f\"   • Coverage: {len(sentiment_data)/len(df)*100:.1f}% of total data\")\n",
        "    print(f\"   • Average sentiment: {sentiment_data['sentiment_score'].mean():.3f}\")\n",
        "    print(f\"   • Sentiment range: {sentiment_data['sentiment_score'].min():.3f} to {sentiment_data['sentiment_score'].max():.3f}\")\n",
        "    \n",
        "    # Sentiment distribution\n",
        "    positive_count = (sentiment_data['sentiment_score'] > 0.1).sum()\n",
        "    negative_count = (sentiment_data['sentiment_score'] < -0.1).sum()\n",
        "    neutral_count = len(sentiment_data) - positive_count - negative_count\n",
        "    \n",
        "    print(f\"\\n📈 Sentiment Distribution:\")\n",
        "    print(f\"   • Positive sentiment: {positive_count:,} ({positive_count/len(sentiment_data)*100:.1f}%)\")\n",
        "    print(f\"   • Negative sentiment: {negative_count:,} ({negative_count/len(sentiment_data)*100:.1f}%)\")\n",
        "    print(f\"   • Neutral sentiment: {neutral_count:,} ({neutral_count/len(sentiment_data)*100:.1f}%)\")\n",
        "    \n",
        "    # Correlation insights\n",
        "    if correlations:\n",
        "        print(f\"\\n🔗 Sentiment-Market Correlations:\")\n",
        "        for symbol, corr_data in correlations.items():\n",
        "            if corr_data:\n",
        "                sent_return_corr = corr_data.get('sentiment_vs_return', 0)\n",
        "                print(f\"   • {symbol}: Sentiment-Return correlation = {sent_return_corr:.3f}\")\n",
        "    \n",
        "    print(\"=\"*60)\n",
        "\n",
        "print(\"✅ Sentiment analysis functions ready!\")\n"
      ]
    },
    {
      "cell_type": "raw",
      "metadata": {
        "vscode": {
          "languageId": "raw"
        }
      },
      "source": [
        "# 4. Trading Strategy Analysis Functions {#strategy}\n"
      ]
    },
    {
      "cell_type": "code",
      "execution_count": 5,
      "metadata": {},
      "outputs": [
        {
          "name": "stdout",
          "output_type": "stream",
          "text": [
            "✅ Trading strategy analysis functions ready!\n"
          ]
        }
      ],
      "source": [
        "def analyze_basic_strategy(df, sentiment_threshold=0.1):\n",
        "    \"\"\"Analyze a basic sentiment-based trading strategy\"\"\"\n",
        "    \n",
        "    if df is None or df.empty:\n",
        "        print(\"❌ No data available for strategy analysis\")\n",
        "        return None\n",
        "    \n",
        "    print(f\"🔄 Running basic strategy analysis with threshold: {sentiment_threshold}\")\n",
        "    \n",
        "    results = []\n",
        "    \n",
        "    for symbol in df['symbol'].unique():\n",
        "        symbol_data = df[df['symbol'] == symbol].copy()\n",
        "        symbol_data = symbol_data.sort_values('date').reset_index(drop=True)\n",
        "        \n",
        "        if len(symbol_data) < 30:  # Need sufficient data\n",
        "            continue\n",
        "        \n",
        "        # Generate trading signals\n",
        "        symbol_data['position'] = 0  # 0 = no position, 1 = long, -1 = short\n",
        "        symbol_data['signal'] = 0    # 1 = buy, -1 = sell, 0 = hold\n",
        "        \n",
        "        # Simple strategy: go long when sentiment > threshold, short when < -threshold\n",
        "        for i in range(1, len(symbol_data)):\n",
        "            current_sentiment = symbol_data.loc[i, 'sentiment_score']\n",
        "            prev_position = symbol_data.loc[i-1, 'position']\n",
        "            \n",
        "            if current_sentiment > sentiment_threshold and prev_position != 1:\n",
        "                symbol_data.loc[i, 'signal'] = 1  # Buy signal\n",
        "                symbol_data.loc[i, 'position'] = 1\n",
        "            elif current_sentiment < -sentiment_threshold and prev_position != -1:\n",
        "                symbol_data.loc[i, 'signal'] = -1  # Sell signal\n",
        "                symbol_data.loc[i, 'position'] = -1\n",
        "            else:\n",
        "                symbol_data.loc[i, 'position'] = prev_position  # Hold position\n",
        "        \n",
        "        # Calculate strategy returns\n",
        "        symbol_data['strategy_return'] = symbol_data['position'].shift(1) * symbol_data['daily_return']\n",
        "        symbol_data['strategy_return'] = symbol_data['strategy_return'].fillna(0)\n",
        "        \n",
        "        # Calculate cumulative returns\n",
        "        symbol_data['cum_return_buy_hold'] = (1 + symbol_data['daily_return']).cumprod() - 1\n",
        "        symbol_data['cum_return_strategy'] = (1 + symbol_data['strategy_return']).cumprod() - 1\n",
        "        \n",
        "        # Get final returns\n",
        "        total_return = symbol_data['cum_return_buy_hold'].iloc[-1]\n",
        "        strategy_return = symbol_data['cum_return_strategy'].iloc[-1]\n",
        "        \n",
        "        # Count signals\n",
        "        signals = symbol_data[symbol_data['signal'] != 0].copy()\n",
        "        signals_list = []\n",
        "        \n",
        "        for idx, row in signals.iterrows():\n",
        "            signals_list.append({\n",
        "                'date': row['date'],\n",
        "                'signal_type': 'BUY' if row['signal'] == 1 else 'SELL',\n",
        "                'price': row['close_price'],\n",
        "                'sentiment_score': row['sentiment_score']\n",
        "            })\n",
        "        \n",
        "        result = {\n",
        "            'symbol': symbol,\n",
        "            'total_return': total_return,\n",
        "            'strategy_return': strategy_return,\n",
        "            'signals_count': len(signals_list),\n",
        "            'signals': signals_list,\n",
        "            'price_data': symbol_data\n",
        "        }\n",
        "        \n",
        "        results.append(result)\n",
        "    \n",
        "    print(f\"✅ Strategy analysis completed for {len(results)} symbols\")\n",
        "    return results\n",
        "\n",
        "def create_strategy_visualization(strategy_results):\n",
        "    \"\"\"Create comprehensive visualizations for strategy analysis results - FIXED VERSION\"\"\"\n",
        "    \n",
        "    if not strategy_results:\n",
        "        print(\"⚠️ No strategy results to visualize\")\n",
        "        return\n",
        "    \n",
        "    print(\"🔄 Creating strategy visualization...\")\n",
        "    \n",
        "    # Create subplots with PROPER specs for table\n",
        "    fig = make_subplots(\n",
        "        rows=2, cols=2,\n",
        "        subplot_titles=['Portfolio Performance', 'Returns Distribution', 'Performance Summary', 'Signal Distribution'],\n",
        "        specs=[[{\"secondary_y\": True}, {\"type\": \"histogram\"}],\n",
        "               [{\"type\": \"table\"}, {\"type\": \"scatter\"}]],  # Fixed: specify table type for position (2,1)\n",
        "        vertical_spacing=0.12,\n",
        "        horizontal_spacing=0.1\n",
        "    )\n",
        "    \n",
        "    # Colors for different symbols\n",
        "    colors = ['blue', 'red', 'green', 'orange', 'purple', 'brown', 'pink', 'gray']\n",
        "    \n",
        "    # 1. Portfolio performance comparison\n",
        "    for i, result in enumerate(strategy_results):\n",
        "        symbol = result['symbol']\n",
        "        color = colors[i % len(colors)]\n",
        "        \n",
        "        # Buy and hold performance\n",
        "        fig.add_trace(\n",
        "            go.Scatter(\n",
        "                x=result['price_data']['date'],\n",
        "                y=result['price_data']['cum_return_buy_hold'],\n",
        "                name=f'{symbol} Buy & Hold',\n",
        "                line=dict(color=color, dash='dash'),\n",
        "                legendgroup=symbol\n",
        "            ),\n",
        "            row=1, col=1\n",
        "        )\n",
        "        \n",
        "        # Strategy performance\n",
        "        fig.add_trace(\n",
        "            go.Scatter(\n",
        "                x=result['price_data']['date'],\n",
        "                y=result['price_data']['cum_return_strategy'],\n",
        "                name=f'{symbol} Strategy',\n",
        "                line=dict(color=color),\n",
        "                legendgroup=symbol\n",
        "            ),\n",
        "            row=1, col=1\n",
        "        )\n",
        "        \n",
        "        # Daily returns distribution\n",
        "        fig.add_trace(\n",
        "            go.Histogram(\n",
        "                x=result['price_data']['daily_return'],\n",
        "                name=f'{symbol} Returns',\n",
        "                opacity=0.7,\n",
        "                nbinsx=30,\n",
        "                legendgroup=symbol,\n",
        "                showlegend=False\n",
        "            ),\n",
        "            row=1, col=2\n",
        "        )\n",
        "    \n",
        "    # 2. Performance summary table (now properly configured)\n",
        "    summary_data = []\n",
        "    for result in strategy_results:\n",
        "        summary_data.append([\n",
        "            result['symbol'],\n",
        "            f\"{result['total_return']*100:.2f}%\",\n",
        "            f\"{result['strategy_return']*100:.2f}%\",\n",
        "            result['signals_count']\n",
        "        ])\n",
        "\n",
        "    fig.add_trace(\n",
        "        go.Table(\n",
        "            header=dict(values=['Symbol', 'Buy-Hold Return', 'Strategy Return', 'Signals'],\n",
        "                       fill_color='lightblue',\n",
        "                       align='center'),\n",
        "            cells=dict(values=[[row[i] for row in summary_data] for i in range(4)],\n",
        "                      fill_color='white',\n",
        "                      align='center')\n",
        "        ),\n",
        "        row=2, col=1  # This will now work because we specified \"type\": \"table\" in specs\n",
        "    )\n",
        "\n",
        "    # 3. Signal distribution\n",
        "    all_signals = []\n",
        "    for result in strategy_results:\n",
        "        all_signals.extend(result['signals'])\n",
        "    \n",
        "    if all_signals:\n",
        "        signal_df = pd.DataFrame(all_signals)\n",
        "        \n",
        "        # Plot signal frequency by sentiment score\n",
        "        sentiment_bins = pd.cut(signal_df['sentiment_score'], bins=10)\n",
        "        sentiment_counts = sentiment_bins.value_counts().sort_index()\n",
        "        \n",
        "        fig.add_trace(\n",
        "            go.Scatter(\n",
        "                x=[interval.mid for interval in sentiment_counts.index],\n",
        "                y=sentiment_counts.values,\n",
        "                mode='lines+markers',\n",
        "                name='Signal Frequency',\n",
        "                line=dict(color='red'),\n",
        "                showlegend=False\n",
        "            ),\n",
        "            row=2, col=2\n",
        "        )\n",
        "    \n",
        "    # Update layout\n",
        "    fig.update_layout(\n",
        "        height=800,\n",
        "        title=\"Trading Strategy Analysis Dashboard\",\n",
        "        showlegend=True,\n",
        "        legend=dict(x=1.05, y=1)\n",
        "    )\n",
        "    \n",
        "    # Update axes\n",
        "    fig.update_xaxes(title_text=\"Date\", row=1, col=1)\n",
        "    fig.update_yaxes(title_text=\"Cumulative Return\", row=1, col=1)\n",
        "    fig.update_xaxes(title_text=\"Daily Return\", row=1, col=2)\n",
        "    fig.update_yaxes(title_text=\"Frequency\", row=1, col=2)\n",
        "    fig.update_xaxes(title_text=\"Sentiment Score\", row=2, col=2)\n",
        "    fig.update_yaxes(title_text=\"Frequency\", row=2, col=2)\n",
        "    \n",
        "    fig.show()\n",
        "    return fig\n",
        "\n",
        "def print_strategy_insights(strategy_results):\n",
        "    \"\"\"Print key insights from strategy analysis\"\"\"\n",
        "    \n",
        "    if not strategy_results:\n",
        "        print(\"❌ No strategy results to analyze\")\n",
        "        return\n",
        "    \n",
        "    print(\"\\n\" + \"=\"*60)\n",
        "    print(\"📈 TRADING STRATEGY INSIGHTS\")\n",
        "    print(\"=\"*60)\n",
        "    \n",
        "    total_symbols = len(strategy_results)\n",
        "    total_signals = sum(result['signals_count'] for result in strategy_results)\n",
        "    \n",
        "    print(f\"🎯 Strategy Overview:\")\n",
        "    print(f\"   • Symbols analyzed: {total_symbols}\")\n",
        "    print(f\"   • Total trading signals: {total_signals}\")\n",
        "    print(f\"   • Average signals per symbol: {total_signals/total_symbols:.1f}\")\n",
        "    \n",
        "    # Performance comparison\n",
        "    print(f\"\\n📊 Performance Comparison:\")\n",
        "    outperforming = 0\n",
        "    total_strategy_return = 0\n",
        "    total_buy_hold_return = 0\n",
        "    \n",
        "    for result in strategy_results:\n",
        "        strategy_ret = result['strategy_return']\n",
        "        buy_hold_ret = result['total_return']\n",
        "        \n",
        "        total_strategy_return += strategy_ret\n",
        "        total_buy_hold_return += buy_hold_ret\n",
        "        \n",
        "        if strategy_ret > buy_hold_ret:\n",
        "            outperforming += 1\n",
        "        \n",
        "        excess_return = (strategy_ret - buy_hold_ret) * 100\n",
        "        print(f\"   • {result['symbol']}: Strategy {strategy_ret*100:.2f}% vs Buy-Hold {buy_hold_ret*100:.2f}% (Excess: {excess_return:.2f}%)\")\n",
        "    \n",
        "    avg_strategy_return = total_strategy_return / total_symbols\n",
        "    avg_buy_hold_return = total_buy_hold_return / total_symbols\n",
        "    \n",
        "    print(f\"\\n🏆 Summary:\")\n",
        "    print(f\"   • Strategy outperformed buy-and-hold in {outperforming}/{total_symbols} cases ({outperforming/total_symbols*100:.1f}%)\")\n",
        "    print(f\"   • Average strategy return: {avg_strategy_return*100:.2f}%\")\n",
        "    print(f\"   • Average buy-and-hold return: {avg_buy_hold_return*100:.2f}%\")\n",
        "    print(f\"   • Average excess return: {(avg_strategy_return-avg_buy_hold_return)*100:.2f}%\")\n",
        "    \n",
        "    print(\"=\"*60)\n",
        "\n",
        "print(\"✅ Trading strategy analysis functions ready!\")\n"
      ]
    },
    {
      "cell_type": "raw",
      "metadata": {
        "vscode": {
          "languageId": "raw"
        }
      },
      "source": [
        "# 5. Dataset Readiness Assessment Functions {#readiness}\n"
      ]
    },
    {
      "cell_type": "code",
      "execution_count": 6,
      "metadata": {},
      "outputs": [
        {
          "name": "stdout",
          "output_type": "stream",
          "text": [
            "✅ Dataset readiness assessment functions ready!\n"
          ]
        }
      ],
      "source": [
        "def analyze_dataset_readiness(df):\n",
        "    \"\"\"Analyze dataset readiness for production trading\"\"\"\n",
        "    \n",
        "    if df is None or df.empty:\n",
        "        print(\"❌ No data available for readiness analysis\")\n",
        "        return None\n",
        "    \n",
        "    print(\"🔄 Analyzing dataset readiness...\")\n",
        "    \n",
        "    criteria_scores = {}\n",
        "    \n",
        "    # 1. Data Completeness (30%)\n",
        "    total_records = len(df)\n",
        "    complete_records = df.dropna(subset=['close_price', 'volume']).shape[0]\n",
        "    completeness_score = (complete_records / total_records) * 100\n",
        "    criteria_scores['Data Completeness'] = completeness_score\n",
        "    \n",
        "    # 2. Sentiment Coverage (25%)\n",
        "    sentiment_records = df[df['sentiment_score'] != 0].shape[0]\n",
        "    sentiment_coverage = (sentiment_records / total_records) * 100\n",
        "    criteria_scores['Sentiment Coverage'] = sentiment_coverage\n",
        "    \n",
        "    # 3. Date Range & Consistency (20%)\n",
        "    date_range_days = (df['date'].max() - df['date'].min()).days\n",
        "    expected_trading_days = date_range_days * 5/7  # Rough estimate\n",
        "    actual_trading_days = df['date'].nunique()\n",
        "    date_consistency = min((actual_trading_days / expected_trading_days) * 100, 100)\n",
        "    criteria_scores['Date Consistency'] = date_consistency\n",
        "    \n",
        "    # 4. Symbol Diversity (15%)\n",
        "    unique_symbols = df['symbol'].nunique()\n",
        "    symbol_diversity = min((unique_symbols / 10) * 100, 100)  # Target: 10+ symbols\n",
        "    criteria_scores['Symbol Diversity'] = symbol_diversity\n",
        "    \n",
        "    # 5. Data Quality (10%)\n",
        "    # Check for anomalies\n",
        "    price_anomalies = 0\n",
        "    for symbol in df['symbol'].unique():\n",
        "        symbol_data = df[df['symbol'] == symbol]\n",
        "        if len(symbol_data) > 1:\n",
        "            # Check for extreme price jumps (>50% in one day)\n",
        "            returns = symbol_data['close_price'].pct_change()\n",
        "            extreme_moves = (abs(returns) > 0.5).sum()\n",
        "            price_anomalies += extreme_moves\n",
        "    \n",
        "    total_price_points = df.shape[0]\n",
        "    quality_score = max(0, (1 - price_anomalies / total_price_points)) * 100\n",
        "    criteria_scores['Data Quality'] = quality_score\n",
        "    \n",
        "    # Calculate overall weighted score\n",
        "    weights = {\n",
        "        'Data Completeness': 0.30,\n",
        "        'Sentiment Coverage': 0.25,\n",
        "        'Date Consistency': 0.20,\n",
        "        'Symbol Diversity': 0.15,\n",
        "        'Data Quality': 0.10\n",
        "    }\n",
        "    \n",
        "    overall_score = sum(criteria_scores[criterion] * weights[criterion] for criterion in criteria_scores)\n",
        "    \n",
        "    return {\n",
        "        'overall_score': overall_score,\n",
        "        'criteria_scores': criteria_scores,\n",
        "        'weights': weights,\n",
        "        'metrics': {\n",
        "            'total_records': total_records,\n",
        "            'complete_records': complete_records,\n",
        "            'sentiment_records': sentiment_records,\n",
        "            'date_range_days': date_range_days,\n",
        "            'unique_symbols': unique_symbols,\n",
        "            'price_anomalies': price_anomalies\n",
        "        }\n",
        "    }\n",
        "\n",
        "def generate_recommendations(overall_score, criteria_scores):\n",
        "    \"\"\"Generate recommendations based on readiness analysis\"\"\"\n",
        "    \n",
        "    recommendations = []\n",
        "    \n",
        "    if overall_score >= 80:\n",
        "        recommendations.append(\"🎉 Dataset is production-ready! Consider launching live trading.\")\n",
        "    elif overall_score >= 65:\n",
        "        recommendations.append(\"⚠️ Dataset is mostly ready but needs minor improvements.\")\n",
        "    else:\n",
        "        recommendations.append(\"🔧 Dataset needs significant improvements before production use.\")\n",
        "    \n",
        "    # Specific recommendations based on criteria\n",
        "    for criterion, score in criteria_scores.items():\n",
        "        if score < 70:\n",
        "            if criterion == 'Data Completeness':\n",
        "                recommendations.append(\"• Improve data collection to reduce missing values\")\n",
        "            elif criterion == 'Sentiment Coverage':\n",
        "                recommendations.append(\"• Enhance news collection and sentiment analysis coverage\")\n",
        "            elif criterion == 'Date Consistency':\n",
        "                recommendations.append(\"• Fill gaps in historical data collection\")\n",
        "            elif criterion == 'Symbol Diversity':\n",
        "                recommendations.append(\"• Add more symbols to diversify the portfolio\")\n",
        "            elif criterion == 'Data Quality':\n",
        "                recommendations.append(\"• Review and clean data anomalies\")\n",
        "    \n",
        "    return recommendations\n",
        "\n",
        "def create_readiness_summary(readiness_analysis):\n",
        "    \"\"\"Create a comprehensive readiness summary visualization\"\"\"\n",
        "    \n",
        "    if not readiness_analysis:\n",
        "        print(\"❌ No readiness analysis available\")\n",
        "        return None\n",
        "    \n",
        "    print(\"🔄 Creating readiness summary visualization...\")\n",
        "    \n",
        "    criteria_scores = readiness_analysis['criteria_scores']\n",
        "    overall_score = readiness_analysis['overall_score']\n",
        "    \n",
        "    # Create radar chart for criteria scores\n",
        "    categories = list(criteria_scores.keys())\n",
        "    values = list(criteria_scores.values())\n",
        "    \n",
        "    fig = go.Figure()\n",
        "    \n",
        "    fig.add_trace(go.Scatterpolar(\n",
        "        r=values,\n",
        "        theta=categories,\n",
        "        fill='toself',\n",
        "        name='Readiness Scores',\n",
        "        line_color='blue'\n",
        "    ))\n",
        "    \n",
        "    fig.update_layout(\n",
        "        polar=dict(\n",
        "            radialaxis=dict(\n",
        "                visible=True,\n",
        "                range=[0, 100]\n",
        "            )),\n",
        "        showlegend=True,\n",
        "        title=f\"Dataset Readiness Assessment (Overall Score: {overall_score:.1f}/100)\",\n",
        "        height=500\n",
        "    )\n",
        "    \n",
        "    fig.show()\n",
        "    return fig\n",
        "\n",
        "print(\"✅ Dataset readiness assessment functions ready!\")\n"
      ]
    },
    {
      "cell_type": "raw",
      "metadata": {
        "vscode": {
          "languageId": "raw"
        }
      },
      "source": [
        "# 6. Main Analysis Execution {#recommendations}\n"
      ]
    },
    {
      "cell_type": "code",
      "execution_count": 7,
      "metadata": {},
      "outputs": [
        {
          "name": "stdout",
          "output_type": "stream",
          "text": [
            "🚀 Starting Comprehensive Analysis Pipeline...\n",
            "============================================================\n",
            "\n",
            "📊 STEP 1: LOADING DATA\n",
            "------------------------------\n",
            "🔄 Connecting to database...\n",
            "📊 Loading market data with sentiment scores...\n",
            "✅ Loaded 819 records across 3 symbols\n",
            "📅 Date range: 2024-05-24 to 2025-06-27\n",
            "🎭 Sentiment coverage: 35 records (4.3%)\n",
            "\n",
            "🔄 STEP 2: PROCESSING COMBINED DATASET\n",
            "----------------------------------------\n",
            "🔄 Processing combined dataset...\n",
            "✅ Combined dataset processed with 819 records\n",
            "\n",
            "📈 STEP 3: MARKET OVERVIEW ANALYSIS\n",
            "----------------------------------------\n",
            "🔄 Creating market overview...\n",
            "🔄 Creating market overview visualization...\n"
          ]
        },
        {
          "data": {
            "application/vnd.plotly.v1+json": {
              "config": {
                "plotlyServerURL": "https://plot.ly"
              },
              "data": [
                {
                  "legendgroup": "AMD",
                  "line": {
                    "color": "blue"
                  },
                  "name": "AMD Price",
                  "type": "scatter",
                  "x": [
                    "2024-05-24T00:00:00.000000000",
                    "2024-05-28T00:00:00.000000000",
                    "2024-05-29T00:00:00.000000000",
                    "2024-05-30T00:00:00.000000000",
                    "2024-05-31T00:00:00.000000000",
                    "2024-06-03T00:00:00.000000000",
                    "2024-06-04T00:00:00.000000000",
                    "2024-06-05T00:00:00.000000000",
                    "2024-06-06T00:00:00.000000000",
                    "2024-06-07T00:00:00.000000000",
                    "2024-06-10T00:00:00.000000000",
                    "2024-06-11T00:00:00.000000000",
                    "2024-06-12T00:00:00.000000000",
                    "2024-06-13T00:00:00.000000000",
                    "2024-06-14T00:00:00.000000000",
                    "2024-06-17T00:00:00.000000000",
                    "2024-06-18T00:00:00.000000000",
                    "2024-06-20T00:00:00.000000000",
                    "2024-06-21T00:00:00.000000000",
                    "2024-06-24T00:00:00.000000000",
                    "2024-06-25T00:00:00.000000000",
                    "2024-06-26T00:00:00.000000000",
                    "2024-06-27T00:00:00.000000000",
                    "2024-06-28T00:00:00.000000000",
                    "2024-07-01T00:00:00.000000000",
                    "2024-07-02T00:00:00.000000000",
                    "2024-07-03T00:00:00.000000000",
                    "2024-07-05T00:00:00.000000000",
                    "2024-07-08T00:00:00.000000000",
                    "2024-07-09T00:00:00.000000000",
                    "2024-07-10T00:00:00.000000000",
                    "2024-07-11T00:00:00.000000000",
                    "2024-07-12T00:00:00.000000000",
                    "2024-07-15T00:00:00.000000000",
                    "2024-07-16T00:00:00.000000000",
                    "2024-07-17T00:00:00.000000000",
                    "2024-07-18T00:00:00.000000000",
                    "2024-07-19T00:00:00.000000000",
                    "2024-07-22T00:00:00.000000000",
                    "2024-07-23T00:00:00.000000000",
                    "2024-07-24T00:00:00.000000000",
                    "2024-07-25T00:00:00.000000000",
                    "2024-07-26T00:00:00.000000000",
                    "2024-07-29T00:00:00.000000000",
                    "2024-07-30T00:00:00.000000000",
                    "2024-07-31T00:00:00.000000000",
                    "2024-08-01T00:00:00.000000000",
                    "2024-08-02T00:00:00.000000000",
                    "2024-08-05T00:00:00.000000000",
                    "2024-08-06T00:00:00.000000000",
                    "2024-08-07T00:00:00.000000000",
                    "2024-08-08T00:00:00.000000000",
                    "2024-08-09T00:00:00.000000000",
                    "2024-08-12T00:00:00.000000000",
                    "2024-08-13T00:00:00.000000000",
                    "2024-08-14T00:00:00.000000000",
                    "2024-08-15T00:00:00.000000000",
                    "2024-08-16T00:00:00.000000000",
                    "2024-08-19T00:00:00.000000000",
                    "2024-08-20T00:00:00.000000000",
                    "2024-08-21T00:00:00.000000000",
                    "2024-08-22T00:00:00.000000000",
                    "2024-08-23T00:00:00.000000000",
                    "2024-08-26T00:00:00.000000000",
                    "2024-08-27T00:00:00.000000000",
                    "2024-08-28T00:00:00.000000000",
                    "2024-08-29T00:00:00.000000000",
                    "2024-08-30T00:00:00.000000000",
                    "2024-09-03T00:00:00.000000000",
                    "2024-09-04T00:00:00.000000000",
                    "2024-09-05T00:00:00.000000000",
                    "2024-09-06T00:00:00.000000000",
                    "2024-09-09T00:00:00.000000000",
                    "2024-09-10T00:00:00.000000000",
                    "2024-09-11T00:00:00.000000000",
                    "2024-09-12T00:00:00.000000000",
                    "2024-09-13T00:00:00.000000000",
                    "2024-09-16T00:00:00.000000000",
                    "2024-09-17T00:00:00.000000000",
                    "2024-09-18T00:00:00.000000000",
                    "2024-09-19T00:00:00.000000000",
                    "2024-09-20T00:00:00.000000000",
                    "2024-09-23T00:00:00.000000000",
                    "2024-09-24T00:00:00.000000000",
                    "2024-09-25T00:00:00.000000000",
                    "2024-09-26T00:00:00.000000000",
                    "2024-09-27T00:00:00.000000000",
                    "2024-09-30T00:00:00.000000000",
                    "2024-10-01T00:00:00.000000000",
                    "2024-10-02T00:00:00.000000000",
                    "2024-10-03T00:00:00.000000000",
                    "2024-10-04T00:00:00.000000000",
                    "2024-10-07T00:00:00.000000000",
                    "2024-10-08T00:00:00.000000000",
                    "2024-10-09T00:00:00.000000000",
                    "2024-10-10T00:00:00.000000000",
                    "2024-10-11T00:00:00.000000000",
                    "2024-10-14T00:00:00.000000000",
                    "2024-10-15T00:00:00.000000000",
                    "2024-10-16T00:00:00.000000000",
                    "2024-10-17T00:00:00.000000000",
                    "2024-10-18T00:00:00.000000000",
                    "2024-10-21T00:00:00.000000000",
                    "2024-10-22T00:00:00.000000000",
                    "2024-10-23T00:00:00.000000000",
                    "2024-10-24T00:00:00.000000000",
                    "2024-10-25T00:00:00.000000000",
                    "2024-10-28T00:00:00.000000000",
                    "2024-10-29T00:00:00.000000000",
                    "2024-10-30T00:00:00.000000000",
                    "2024-10-31T00:00:00.000000000",
                    "2024-11-01T00:00:00.000000000",
                    "2024-11-04T00:00:00.000000000",
                    "2024-11-05T00:00:00.000000000",
                    "2024-11-06T00:00:00.000000000",
                    "2024-11-07T00:00:00.000000000",
                    "2024-11-08T00:00:00.000000000",
                    "2024-11-11T00:00:00.000000000",
                    "2024-11-12T00:00:00.000000000",
                    "2024-11-13T00:00:00.000000000",
                    "2024-11-14T00:00:00.000000000",
                    "2024-11-15T00:00:00.000000000",
                    "2024-11-18T00:00:00.000000000",
                    "2024-11-19T00:00:00.000000000",
                    "2024-11-20T00:00:00.000000000",
                    "2024-11-21T00:00:00.000000000",
                    "2024-11-22T00:00:00.000000000",
                    "2024-11-25T00:00:00.000000000",
                    "2024-11-26T00:00:00.000000000",
                    "2024-11-27T00:00:00.000000000",
                    "2024-11-29T00:00:00.000000000",
                    "2024-12-02T00:00:00.000000000",
                    "2024-12-03T00:00:00.000000000",
                    "2024-12-04T00:00:00.000000000",
                    "2024-12-05T00:00:00.000000000",
                    "2024-12-06T00:00:00.000000000",
                    "2024-12-09T00:00:00.000000000",
                    "2024-12-10T00:00:00.000000000",
                    "2024-12-11T00:00:00.000000000",
                    "2024-12-12T00:00:00.000000000",
                    "2024-12-13T00:00:00.000000000",
                    "2024-12-16T00:00:00.000000000",
                    "2024-12-17T00:00:00.000000000",
                    "2024-12-18T00:00:00.000000000",
                    "2024-12-19T00:00:00.000000000",
                    "2024-12-20T00:00:00.000000000",
                    "2024-12-23T00:00:00.000000000",
                    "2024-12-24T00:00:00.000000000",
                    "2024-12-26T00:00:00.000000000",
                    "2024-12-27T00:00:00.000000000",
                    "2024-12-30T00:00:00.000000000",
                    "2024-12-31T00:00:00.000000000",
                    "2025-01-02T00:00:00.000000000",
                    "2025-01-03T00:00:00.000000000",
                    "2025-01-06T00:00:00.000000000",
                    "2025-01-07T00:00:00.000000000",
                    "2025-01-08T00:00:00.000000000",
                    "2025-01-10T00:00:00.000000000",
                    "2025-01-13T00:00:00.000000000",
                    "2025-01-14T00:00:00.000000000",
                    "2025-01-15T00:00:00.000000000",
                    "2025-01-16T00:00:00.000000000",
                    "2025-01-17T00:00:00.000000000",
                    "2025-01-21T00:00:00.000000000",
                    "2025-01-22T00:00:00.000000000",
                    "2025-01-23T00:00:00.000000000",
                    "2025-01-24T00:00:00.000000000",
                    "2025-01-27T00:00:00.000000000",
                    "2025-01-28T00:00:00.000000000",
                    "2025-01-29T00:00:00.000000000",
                    "2025-01-30T00:00:00.000000000",
                    "2025-01-31T00:00:00.000000000",
                    "2025-02-03T00:00:00.000000000",
                    "2025-02-04T00:00:00.000000000",
                    "2025-02-05T00:00:00.000000000",
                    "2025-02-06T00:00:00.000000000",
                    "2025-02-07T00:00:00.000000000",
                    "2025-02-10T00:00:00.000000000",
                    "2025-02-11T00:00:00.000000000",
                    "2025-02-12T00:00:00.000000000",
                    "2025-02-13T00:00:00.000000000",
                    "2025-02-14T00:00:00.000000000",
                    "2025-02-18T00:00:00.000000000",
                    "2025-02-19T00:00:00.000000000",
                    "2025-02-20T00:00:00.000000000",
                    "2025-02-21T00:00:00.000000000",
                    "2025-02-24T00:00:00.000000000",
                    "2025-02-25T00:00:00.000000000",
                    "2025-02-26T00:00:00.000000000",
                    "2025-02-27T00:00:00.000000000",
                    "2025-02-28T00:00:00.000000000",
                    "2025-03-03T00:00:00.000000000",
                    "2025-03-04T00:00:00.000000000",
                    "2025-03-05T00:00:00.000000000",
                    "2025-03-06T00:00:00.000000000",
                    "2025-03-07T00:00:00.000000000",
                    "2025-03-10T00:00:00.000000000",
                    "2025-03-11T00:00:00.000000000",
                    "2025-03-12T00:00:00.000000000",
                    "2025-03-13T00:00:00.000000000",
                    "2025-03-14T00:00:00.000000000",
                    "2025-03-17T00:00:00.000000000",
                    "2025-03-18T00:00:00.000000000",
                    "2025-03-19T00:00:00.000000000",
                    "2025-03-20T00:00:00.000000000",
                    "2025-03-21T00:00:00.000000000",
                    "2025-03-24T00:00:00.000000000",
                    "2025-03-25T00:00:00.000000000",
                    "2025-03-26T00:00:00.000000000",
                    "2025-03-27T00:00:00.000000000",
                    "2025-03-28T00:00:00.000000000",
                    "2025-03-31T00:00:00.000000000",
                    "2025-04-01T00:00:00.000000000",
                    "2025-04-02T00:00:00.000000000",
                    "2025-04-03T00:00:00.000000000",
                    "2025-04-04T00:00:00.000000000",
                    "2025-04-07T00:00:00.000000000",
                    "2025-04-08T00:00:00.000000000",
                    "2025-04-09T00:00:00.000000000",
                    "2025-04-10T00:00:00.000000000",
                    "2025-04-11T00:00:00.000000000",
                    "2025-04-14T00:00:00.000000000",
                    "2025-04-15T00:00:00.000000000",
                    "2025-04-16T00:00:00.000000000",
                    "2025-04-17T00:00:00.000000000",
                    "2025-04-21T00:00:00.000000000",
                    "2025-04-22T00:00:00.000000000",
                    "2025-04-23T00:00:00.000000000",
                    "2025-04-24T00:00:00.000000000",
                    "2025-04-25T00:00:00.000000000",
                    "2025-04-28T00:00:00.000000000",
                    "2025-04-29T00:00:00.000000000",
                    "2025-04-30T00:00:00.000000000",
                    "2025-05-01T00:00:00.000000000",
                    "2025-05-02T00:00:00.000000000",
                    "2025-05-05T00:00:00.000000000",
                    "2025-05-06T00:00:00.000000000",
                    "2025-05-07T00:00:00.000000000",
                    "2025-05-08T00:00:00.000000000",
                    "2025-05-09T00:00:00.000000000",
                    "2025-05-12T00:00:00.000000000",
                    "2025-05-13T00:00:00.000000000",
                    "2025-05-14T00:00:00.000000000",
                    "2025-05-15T00:00:00.000000000",
                    "2025-05-16T00:00:00.000000000",
                    "2025-05-19T00:00:00.000000000",
                    "2025-05-20T00:00:00.000000000",
                    "2025-05-21T00:00:00.000000000",
                    "2025-05-22T00:00:00.000000000",
                    "2025-05-23T00:00:00.000000000",
                    "2025-05-27T00:00:00.000000000",
                    "2025-05-28T00:00:00.000000000",
                    "2025-05-29T00:00:00.000000000",
                    "2025-05-30T00:00:00.000000000",
                    "2025-06-02T00:00:00.000000000",
                    "2025-06-03T00:00:00.000000000",
                    "2025-06-04T00:00:00.000000000",
                    "2025-06-05T00:00:00.000000000",
                    "2025-06-06T00:00:00.000000000",
                    "2025-06-09T00:00:00.000000000",
                    "2025-06-10T00:00:00.000000000",
                    "2025-06-11T00:00:00.000000000",
                    "2025-06-12T00:00:00.000000000",
                    "2025-06-13T00:00:00.000000000",
                    "2025-06-16T00:00:00.000000000",
                    "2025-06-17T00:00:00.000000000",
                    "2025-06-18T00:00:00.000000000",
                    "2025-06-20T00:00:00.000000000",
                    "2025-06-23T00:00:00.000000000",
                    "2025-06-24T00:00:00.000000000",
                    "2025-06-25T00:00:00.000000000",
                    "2025-06-26T00:00:00.000000000",
                    "2025-06-27T00:00:00.000000000"
                  ],
                  "xaxis": "x",
                  "y": {
                    "bdata": "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",
                    "dtype": "f8"
                  },
                  "yaxis": "y"
                },
                {
                  "legendgroup": "AMD",
                  "line": {
                    "color": "blue",
                    "dash": "dash"
                  },
                  "name": "AMD Volume",
                  "opacity": 0.6,
                  "showlegend": false,
                  "type": "scatter",
                  "x": [
                    "2024-05-24T00:00:00.000000000",
                    "2024-05-28T00:00:00.000000000",
                    "2024-05-29T00:00:00.000000000",
                    "2024-05-30T00:00:00.000000000",
                    "2024-05-31T00:00:00.000000000",
                    "2024-06-03T00:00:00.000000000",
                    "2024-06-04T00:00:00.000000000",
                    "2024-06-05T00:00:00.000000000",
                    "2024-06-06T00:00:00.000000000",
                    "2024-06-07T00:00:00.000000000",
                    "2024-06-10T00:00:00.000000000",
                    "2024-06-11T00:00:00.000000000",
                    "2024-06-12T00:00:00.000000000",
                    "2024-06-13T00:00:00.000000000",
                    "2024-06-14T00:00:00.000000000",
                    "2024-06-17T00:00:00.000000000",
                    "2024-06-18T00:00:00.000000000",
                    "2024-06-20T00:00:00.000000000",
                    "2024-06-21T00:00:00.000000000",
                    "2024-06-24T00:00:00.000000000",
                    "2024-06-25T00:00:00.000000000",
                    "2024-06-26T00:00:00.000000000",
                    "2024-06-27T00:00:00.000000000",
                    "2024-06-28T00:00:00.000000000",
                    "2024-07-01T00:00:00.000000000",
                    "2024-07-02T00:00:00.000000000",
                    "2024-07-03T00:00:00.000000000",
                    "2024-07-05T00:00:00.000000000",
                    "2024-07-08T00:00:00.000000000",
                    "2024-07-09T00:00:00.000000000",
                    "2024-07-10T00:00:00.000000000",
                    "2024-07-11T00:00:00.000000000",
                    "2024-07-12T00:00:00.000000000",
                    "2024-07-15T00:00:00.000000000",
                    "2024-07-16T00:00:00.000000000",
                    "2024-07-17T00:00:00.000000000",
                    "2024-07-18T00:00:00.000000000",
                    "2024-07-19T00:00:00.000000000",
                    "2024-07-22T00:00:00.000000000",
                    "2024-07-23T00:00:00.000000000",
                    "2024-07-24T00:00:00.000000000",
                    "2024-07-25T00:00:00.000000000",
                    "2024-07-26T00:00:00.000000000",
                    "2024-07-29T00:00:00.000000000",
                    "2024-07-30T00:00:00.000000000",
                    "2024-07-31T00:00:00.000000000",
                    "2024-08-01T00:00:00.000000000",
                    "2024-08-02T00:00:00.000000000",
                    "2024-08-05T00:00:00.000000000",
                    "2024-08-06T00:00:00.000000000",
                    "2024-08-07T00:00:00.000000000",
                    "2024-08-08T00:00:00.000000000",
                    "2024-08-09T00:00:00.000000000",
                    "2024-08-12T00:00:00.000000000",
                    "2024-08-13T00:00:00.000000000",
                    "2024-08-14T00:00:00.000000000",
                    "2024-08-15T00:00:00.000000000",
                    "2024-08-16T00:00:00.000000000",
                    "2024-08-19T00:00:00.000000000",
                    "2024-08-20T00:00:00.000000000",
                    "2024-08-21T00:00:00.000000000",
                    "2024-08-22T00:00:00.000000000",
                    "2024-08-23T00:00:00.000000000",
                    "2024-08-26T00:00:00.000000000",
                    "2024-08-27T00:00:00.000000000",
                    "2024-08-28T00:00:00.000000000",
                    "2024-08-29T00:00:00.000000000",
                    "2024-08-30T00:00:00.000000000",
                    "2024-09-03T00:00:00.000000000",
                    "2024-09-04T00:00:00.000000000",
                    "2024-09-05T00:00:00.000000000",
                    "2024-09-06T00:00:00.000000000",
                    "2024-09-09T00:00:00.000000000",
                    "2024-09-10T00:00:00.000000000",
                    "2024-09-11T00:00:00.000000000",
                    "2024-09-12T00:00:00.000000000",
                    "2024-09-13T00:00:00.000000000",
                    "2024-09-16T00:00:00.000000000",
                    "2024-09-17T00:00:00.000000000",
                    "2024-09-18T00:00:00.000000000",
                    "2024-09-19T00:00:00.000000000",
                    "2024-09-20T00:00:00.000000000",
                    "2024-09-23T00:00:00.000000000",
                    "2024-09-24T00:00:00.000000000",
                    "2024-09-25T00:00:00.000000000",
                    "2024-09-26T00:00:00.000000000",
                    "2024-09-27T00:00:00.000000000",
                    "2024-09-30T00:00:00.000000000",
                    "2024-10-01T00:00:00.000000000",
                    "2024-10-02T00:00:00.000000000",
                    "2024-10-03T00:00:00.000000000",
                    "2024-10-04T00:00:00.000000000",
                    "2024-10-07T00:00:00.000000000",
                    "2024-10-08T00:00:00.000000000",
                    "2024-10-09T00:00:00.000000000",
                    "2024-10-10T00:00:00.000000000",
                    "2024-10-11T00:00:00.000000000",
                    "2024-10-14T00:00:00.000000000",
                    "2024-10-15T00:00:00.000000000",
                    "2024-10-16T00:00:00.000000000",
                    "2024-10-17T00:00:00.000000000",
                    "2024-10-18T00:00:00.000000000",
                    "2024-10-21T00:00:00.000000000",
                    "2024-10-22T00:00:00.000000000",
                    "2024-10-23T00:00:00.000000000",
                    "2024-10-24T00:00:00.000000000",
                    "2024-10-25T00:00:00.000000000",
                    "2024-10-28T00:00:00.000000000",
                    "2024-10-29T00:00:00.000000000",
                    "2024-10-30T00:00:00.000000000",
                    "2024-10-31T00:00:00.000000000",
                    "2024-11-01T00:00:00.000000000",
                    "2024-11-04T00:00:00.000000000",
                    "2024-11-05T00:00:00.000000000",
                    "2024-11-06T00:00:00.000000000",
                    "2024-11-07T00:00:00.000000000",
                    "2024-11-08T00:00:00.000000000",
                    "2024-11-11T00:00:00.000000000",
                    "2024-11-12T00:00:00.000000000",
                    "2024-11-13T00:00:00.000000000",
                    "2024-11-14T00:00:00.000000000",
                    "2024-11-15T00:00:00.000000000",
                    "2024-11-18T00:00:00.000000000",
                    "2024-11-19T00:00:00.000000000",
                    "2024-11-20T00:00:00.000000000",
                    "2024-11-21T00:00:00.000000000",
                    "2024-11-22T00:00:00.000000000",
                    "2024-11-25T00:00:00.000000000",
                    "2024-11-26T00:00:00.000000000",
                    "2024-11-27T00:00:00.000000000",
                    "2024-11-29T00:00:00.000000000",
                    "2024-12-02T00:00:00.000000000",
                    "2024-12-03T00:00:00.000000000",
                    "2024-12-04T00:00:00.000000000",
                    "2024-12-05T00:00:00.000000000",
                    "2024-12-06T00:00:00.000000000",
                    "2024-12-09T00:00:00.000000000",
                    "2024-12-10T00:00:00.000000000",
                    "2024-12-11T00:00:00.000000000",
                    "2024-12-12T00:00:00.000000000",
                    "2024-12-13T00:00:00.000000000",
                    "2024-12-16T00:00:00.000000000",
                    "2024-12-17T00:00:00.000000000",
                    "2024-12-18T00:00:00.000000000",
                    "2024-12-19T00:00:00.000000000",
                    "2024-12-20T00:00:00.000000000",
                    "2024-12-23T00:00:00.000000000",
                    "2024-12-24T00:00:00.000000000",
                    "2024-12-26T00:00:00.000000000",
                    "2024-12-27T00:00:00.000000000",
                    "2024-12-30T00:00:00.000000000",
                    "2024-12-31T00:00:00.000000000",
                    "2025-01-02T00:00:00.000000000",
                    "2025-01-03T00:00:00.000000000",
                    "2025-01-06T00:00:00.000000000",
                    "2025-01-07T00:00:00.000000000",
                    "2025-01-08T00:00:00.000000000",
                    "2025-01-10T00:00:00.000000000",
                    "2025-01-13T00:00:00.000000000",
                    "2025-01-14T00:00:00.000000000",
                    "2025-01-15T00:00:00.000000000",
                    "2025-01-16T00:00:00.000000000",
                    "2025-01-17T00:00:00.000000000",
                    "2025-01-21T00:00:00.000000000",
                    "2025-01-22T00:00:00.000000000",
                    "2025-01-23T00:00:00.000000000",
                    "2025-01-24T00:00:00.000000000",
                    "2025-01-27T00:00:00.000000000",
                    "2025-01-28T00:00:00.000000000",
                    "2025-01-29T00:00:00.000000000",
                    "2025-01-30T00:00:00.000000000",
                    "2025-01-31T00:00:00.000000000",
                    "2025-02-03T00:00:00.000000000",
                    "2025-02-04T00:00:00.000000000",
                    "2025-02-05T00:00:00.000000000",
                    "2025-02-06T00:00:00.000000000",
                    "2025-02-07T00:00:00.000000000",
                    "2025-02-10T00:00:00.000000000",
                    "2025-02-11T00:00:00.000000000",
                    "2025-02-12T00:00:00.000000000",
                    "2025-02-13T00:00:00.000000000",
                    "2025-02-14T00:00:00.000000000",
                    "2025-02-18T00:00:00.000000000",
                    "2025-02-19T00:00:00.000000000",
                    "2025-02-20T00:00:00.000000000",
                    "2025-02-21T00:00:00.000000000",
                    "2025-02-24T00:00:00.000000000",
                    "2025-02-25T00:00:00.000000000",
                    "2025-02-26T00:00:00.000000000",
                    "2025-02-27T00:00:00.000000000",
                    "2025-02-28T00:00:00.000000000",
                    "2025-03-03T00:00:00.000000000",
                    "2025-03-04T00:00:00.000000000",
                    "2025-03-05T00:00:00.000000000",
                    "2025-03-06T00:00:00.000000000",
                    "2025-03-07T00:00:00.000000000",
                    "2025-03-10T00:00:00.000000000",
                    "2025-03-11T00:00:00.000000000",
                    "2025-03-12T00:00:00.000000000",
                    "2025-03-13T00:00:00.000000000",
                    "2025-03-14T00:00:00.000000000",
                    "2025-03-17T00:00:00.000000000",
                    "2025-03-18T00:00:00.000000000",
                    "2025-03-19T00:00:00.000000000",
                    "2025-03-20T00:00:00.000000000",
                    "2025-03-21T00:00:00.000000000",
                    "2025-03-24T00:00:00.000000000",
                    "2025-03-25T00:00:00.000000000",
                    "2025-03-26T00:00:00.000000000",
                    "2025-03-27T00:00:00.000000000",
                    "2025-03-28T00:00:00.000000000",
                    "2025-03-31T00:00:00.000000000",
                    "2025-04-01T00:00:00.000000000",
                    "2025-04-02T00:00:00.000000000",
                    "2025-04-03T00:00:00.000000000",
                    "2025-04-04T00:00:00.000000000",
                    "2025-04-07T00:00:00.000000000",
                    "2025-04-08T00:00:00.000000000",
                    "2025-04-09T00:00:00.000000000",
                    "2025-04-10T00:00:00.000000000",
                    "2025-04-11T00:00:00.000000000",
                    "2025-04-14T00:00:00.000000000",
                    "2025-04-15T00:00:00.000000000",
                    "2025-04-16T00:00:00.000000000",
                    "2025-04-17T00:00:00.000000000",
                    "2025-04-21T00:00:00.000000000",
                    "2025-04-22T00:00:00.000000000",
                    "2025-04-23T00:00:00.000000000",
                    "2025-04-24T00:00:00.000000000",
                    "2025-04-25T00:00:00.000000000",
                    "2025-04-28T00:00:00.000000000",
                    "2025-04-29T00:00:00.000000000",
                    "2025-04-30T00:00:00.000000000",
                    "2025-05-01T00:00:00.000000000",
                    "2025-05-02T00:00:00.000000000",
                    "2025-05-05T00:00:00.000000000",
                    "2025-05-06T00:00:00.000000000",
                    "2025-05-07T00:00:00.000000000",
                    "2025-05-08T00:00:00.000000000",
                    "2025-05-09T00:00:00.000000000",
                    "2025-05-12T00:00:00.000000000",
                    "2025-05-13T00:00:00.000000000",
                    "2025-05-14T00:00:00.000000000",
                    "2025-05-15T00:00:00.000000000",
                    "2025-05-16T00:00:00.000000000",
                    "2025-05-19T00:00:00.000000000",
                    "2025-05-20T00:00:00.000000000",
                    "2025-05-21T00:00:00.000000000",
                    "2025-05-22T00:00:00.000000000",
                    "2025-05-23T00:00:00.000000000",
                    "2025-05-27T00:00:00.000000000",
                    "2025-05-28T00:00:00.000000000",
                    "2025-05-29T00:00:00.000000000",
                    "2025-05-30T00:00:00.000000000",
                    "2025-06-02T00:00:00.000000000",
                    "2025-06-03T00:00:00.000000000",
                    "2025-06-04T00:00:00.000000000",
                    "2025-06-05T00:00:00.000000000",
                    "2025-06-06T00:00:00.000000000",
                    "2025-06-09T00:00:00.000000000",
                    "2025-06-10T00:00:00.000000000",
                    "2025-06-11T00:00:00.000000000",
                    "2025-06-12T00:00:00.000000000",
                    "2025-06-13T00:00:00.000000000",
                    "2025-06-16T00:00:00.000000000",
                    "2025-06-17T00:00:00.000000000",
                    "2025-06-18T00:00:00.000000000",
                    "2025-06-20T00:00:00.000000000",
                    "2025-06-23T00:00:00.000000000",
                    "2025-06-24T00:00:00.000000000",
                    "2025-06-25T00:00:00.000000000",
                    "2025-06-26T00:00:00.000000000",
                    "2025-06-27T00:00:00.000000000"
                  ],
                  "xaxis": "x",
                  "y": {
                    "bdata": "iBxEA6ij9gOcsV4DHDrFAnyg1QNgrIYDENLeAmxFmwMkgs8CYIirAjAfBwTM72kCqGThAoQjpgJwnwcCNCKnAuAyFwME0Y4FrOSnAzQ0vQLEO3ECWCs0ApgTBwI4nVkDXJoBAwiMcgMkspsBTN2vA6jvlgMQKpYCWA9hBajMhwOIkAcDTPaDAgwDbAJYOpYEDEUjBAz+1AI0DZ4CCIfnAZzH7gLEWpwDmFTyAqD80wKk1BkE8C7QBnx+pQXQwq4EOAiJBLCD1wMUTEIDvEDsAlg/awIMJV4CEDKEAuDIHQLAA5kCvOnaAbQ6nwMAqJQEIPGMAlTluQIIupoCtE/5AuyfFwKY9AcCtDXiAUya2wEcgYMCqNyCAhjSfQGcQGIChPSeAdzkNwJoNgkDON++ARBCfwFoVKYB6BHIAeSckQEgBKcCiCNmAvSMSwHAF6QBFJ4ZAuSERAKgWqkBAONNAVy35QGA1HcBUKTDAdTgpwJ8oUkC2PARAowhBQKAJHoEiPKCApCT5AGAqAYDuIzSAbwCwgGYgmsB0GOJAZgEFgIcMY4BSBNdASQUxgF0eCUCwAtJBMQ4OgUoSaUCyIJTAthLvAGkA50BjDD2AYC+zgFsiaQBRMDHAewWAAJoSxgCeGvjAZy0ogLAxU8CCPVgAVwcuAGoQb8BfGhMAVzZ1wHwsOkBRHDMAcRy9QBAGvkBVNhZAazaiwHETsMBYFcAAnCZZgNArVEChJ63AtzfCgJ8pgYEPD+CAtTulALwu/YCPFvAAqC8MQNsCNkCoN56AThxfQFgYfYB4GrRAQjezAFItQoClEwxAui63AKwdFYCHPDIAjCcigNED1UC9Kc0AkirRgLU0sABjL4hArDa4QG4axYCDER8AXy54QF80qMDMNFqArxjZQLwiMYBYH5qAvS9DwIEJSMEMFiUBuhyAQPEKb8COJ0UAsiSFgIUWYIBuENwAhCQ7wFsA+QBFJK3AZBWnwHkAXcCSJu7AbCsVQJYOb0B1C/RAmidsQKwc1ICZF46A4wKqQGoRroBAGz7AZAFTwJc/gcCFHsKAuAFtAEkIHkBHKaaAqBRngEMq+wB+AeaARx71QEw7y0D/K+7AYCqXwJEFvQBrBPaAZT31gGA72YBkEo9ATQmAgPYvuwDyPozBLi+KgRIutQF6AjjA/hecwO4XCUCFAatAUi1swMYYRECqJcEAlyrGQIILXMC7PEBAkQGtAF8u9ABuN07AYynxQHMh8MBDB/JAaS2dQLsATwDoH4nBWiBOwPsxOMBKDsDA+xLUQOUmisFgP6cAjSIlgK40z8CkPm6AWgzmQKgWb4BZP/WAUgUQgI0XqMBGGrRAbSqJgLA/gcCHAo3Amhn2QH4LwgCNKGcAYTpTQP8KnwCDEfsAUBZqgKs0F0CNKgEBpzGKQXcP/UCeKbDBIQn4gPg6a4EYGpyBATCdwMgX68D",
                    "dtype": "i4"
                  },
                  "yaxis": "y"
                },
                {
                  "legendgroup": "AMD",
                  "name": "AMD Returns",
                  "nbinsx": 30,
                  "opacity": 0.7,
                  "showlegend": false,
                  "type": "histogram",
                  "x": {
                    "bdata": "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",
                    "dtype": "f8"
                  },
                  "xaxis": "x2",
                  "yaxis": "y3"
                },
                {
                  "legendgroup": "AMD",
                  "line": {
                    "color": "blue"
                  },
                  "name": "AMD Volume",
                  "showlegend": false,
                  "type": "scatter",
                  "x": [
                    "2024-05-24T00:00:00.000000000",
                    "2024-05-28T00:00:00.000000000",
                    "2024-05-29T00:00:00.000000000",
                    "2024-05-30T00:00:00.000000000",
                    "2024-05-31T00:00:00.000000000",
                    "2024-06-03T00:00:00.000000000",
                    "2024-06-04T00:00:00.000000000",
                    "2024-06-05T00:00:00.000000000",
                    "2024-06-06T00:00:00.000000000",
                    "2024-06-07T00:00:00.000000000",
                    "2024-06-10T00:00:00.000000000",
                    "2024-06-11T00:00:00.000000000",
                    "2024-06-12T00:00:00.000000000",
                    "2024-06-13T00:00:00.000000000",
                    "2024-06-14T00:00:00.000000000",
                    "2024-06-17T00:00:00.000000000",
                    "2024-06-18T00:00:00.000000000",
                    "2024-06-20T00:00:00.000000000",
                    "2024-06-21T00:00:00.000000000",
                    "2024-06-24T00:00:00.000000000",
                    "2024-06-25T00:00:00.000000000",
                    "2024-06-26T00:00:00.000000000",
                    "2024-06-27T00:00:00.000000000",
                    "2024-06-28T00:00:00.000000000",
                    "2024-07-01T00:00:00.000000000",
                    "2024-07-02T00:00:00.000000000",
                    "2024-07-03T00:00:00.000000000",
                    "2024-07-05T00:00:00.000000000",
                    "2024-07-08T00:00:00.000000000",
                    "2024-07-09T00:00:00.000000000",
                    "2024-07-10T00:00:00.000000000",
                    "2024-07-11T00:00:00.000000000",
                    "2024-07-12T00:00:00.000000000",
                    "2024-07-15T00:00:00.000000000",
                    "2024-07-16T00:00:00.000000000",
                    "2024-07-17T00:00:00.000000000",
                    "2024-07-18T00:00:00.000000000",
                    "2024-07-19T00:00:00.000000000",
                    "2024-07-22T00:00:00.000000000",
                    "2024-07-23T00:00:00.000000000",
                    "2024-07-24T00:00:00.000000000",
                    "2024-07-25T00:00:00.000000000",
                    "2024-07-26T00:00:00.000000000",
                    "2024-07-29T00:00:00.000000000",
                    "2024-07-30T00:00:00.000000000",
                    "2024-07-31T00:00:00.000000000",
                    "2024-08-01T00:00:00.000000000",
                    "2024-08-02T00:00:00.000000000",
                    "2024-08-05T00:00:00.000000000",
                    "2024-08-06T00:00:00.000000000",
                    "2024-08-07T00:00:00.000000000",
                    "2024-08-08T00:00:00.000000000",
                    "2024-08-09T00:00:00.000000000",
                    "2024-08-12T00:00:00.000000000",
                    "2024-08-13T00:00:00.000000000",
                    "2024-08-14T00:00:00.000000000",
                    "2024-08-15T00:00:00.000000000",
                    "2024-08-16T00:00:00.000000000",
                    "2024-08-19T00:00:00.000000000",
                    "2024-08-20T00:00:00.000000000",
                    "2024-08-21T00:00:00.000000000",
                    "2024-08-22T00:00:00.000000000",
                    "2024-08-23T00:00:00.000000000",
                    "2024-08-26T00:00:00.000000000",
                    "2024-08-27T00:00:00.000000000",
                    "2024-08-28T00:00:00.000000000",
                    "2024-08-29T00:00:00.000000000",
                    "2024-08-30T00:00:00.000000000",
                    "2024-09-03T00:00:00.000000000",
                    "2024-09-04T00:00:00.000000000",
                    "2024-09-05T00:00:00.000000000",
                    "2024-09-06T00:00:00.000000000",
                    "2024-09-09T00:00:00.000000000",
                    "2024-09-10T00:00:00.000000000",
                    "2024-09-11T00:00:00.000000000",
                    "2024-09-12T00:00:00.000000000",
                    "2024-09-13T00:00:00.000000000",
                    "2024-09-16T00:00:00.000000000",
                    "2024-09-17T00:00:00.000000000",
                    "2024-09-18T00:00:00.000000000",
                    "2024-09-19T00:00:00.000000000",
                    "2024-09-20T00:00:00.000000000",
                    "2024-09-23T00:00:00.000000000",
                    "2024-09-24T00:00:00.000000000",
                    "2024-09-25T00:00:00.000000000",
                    "2024-09-26T00:00:00.000000000",
                    "2024-09-27T00:00:00.000000000",
                    "2024-09-30T00:00:00.000000000",
                    "2024-10-01T00:00:00.000000000",
                    "2024-10-02T00:00:00.000000000",
                    "2024-10-03T00:00:00.000000000",
                    "2024-10-04T00:00:00.000000000",
                    "2024-10-07T00:00:00.000000000",
                    "2024-10-08T00:00:00.000000000",
                    "2024-10-09T00:00:00.000000000",
                    "2024-10-10T00:00:00.000000000",
                    "2024-10-11T00:00:00.000000000",
                    "2024-10-14T00:00:00.000000000",
                    "2024-10-15T00:00:00.000000000",
                    "2024-10-16T00:00:00.000000000",
                    "2024-10-17T00:00:00.000000000",
                    "2024-10-18T00:00:00.000000000",
                    "2024-10-21T00:00:00.000000000",
                    "2024-10-22T00:00:00.000000000",
                    "2024-10-23T00:00:00.000000000",
                    "2024-10-24T00:00:00.000000000",
                    "2024-10-25T00:00:00.000000000",
                    "2024-10-28T00:00:00.000000000",
                    "2024-10-29T00:00:00.000000000",
                    "2024-10-30T00:00:00.000000000",
                    "2024-10-31T00:00:00.000000000",
                    "2024-11-01T00:00:00.000000000",
                    "2024-11-04T00:00:00.000000000",
                    "2024-11-05T00:00:00.000000000",
                    "2024-11-06T00:00:00.000000000",
                    "2024-11-07T00:00:00.000000000",
                    "2024-11-08T00:00:00.000000000",
                    "2024-11-11T00:00:00.000000000",
                    "2024-11-12T00:00:00.000000000",
                    "2024-11-13T00:00:00.000000000",
                    "2024-11-14T00:00:00.000000000",
                    "2024-11-15T00:00:00.000000000",
                    "2024-11-18T00:00:00.000000000",
                    "2024-11-19T00:00:00.000000000",
                    "2024-11-20T00:00:00.000000000",
                    "2024-11-21T00:00:00.000000000",
                    "2024-11-22T00:00:00.000000000",
                    "2024-11-25T00:00:00.000000000",
                    "2024-11-26T00:00:00.000000000",
                    "2024-11-27T00:00:00.000000000",
                    "2024-11-29T00:00:00.000000000",
                    "2024-12-02T00:00:00.000000000",
                    "2024-12-03T00:00:00.000000000",
                    "2024-12-04T00:00:00.000000000",
                    "2024-12-05T00:00:00.000000000",
                    "2024-12-06T00:00:00.000000000",
                    "2024-12-09T00:00:00.000000000",
                    "2024-12-10T00:00:00.000000000",
                    "2024-12-11T00:00:00.000000000",
                    "2024-12-12T00:00:00.000000000",
                    "2024-12-13T00:00:00.000000000",
                    "2024-12-16T00:00:00.000000000",
                    "2024-12-17T00:00:00.000000000",
                    "2024-12-18T00:00:00.000000000",
                    "2024-12-19T00:00:00.000000000",
                    "2024-12-20T00:00:00.000000000",
                    "2024-12-23T00:00:00.000000000",
                    "2024-12-24T00:00:00.000000000",
                    "2024-12-26T00:00:00.000000000",
                    "2024-12-27T00:00:00.000000000",
                    "2024-12-30T00:00:00.000000000",
                    "2024-12-31T00:00:00.000000000",
                    "2025-01-02T00:00:00.000000000",
                    "2025-01-03T00:00:00.000000000",
                    "2025-01-06T00:00:00.000000000",
                    "2025-01-07T00:00:00.000000000",
                    "2025-01-08T00:00:00.000000000",
                    "2025-01-10T00:00:00.000000000",
                    "2025-01-13T00:00:00.000000000",
                    "2025-01-14T00:00:00.000000000",
                    "2025-01-15T00:00:00.000000000",
                    "2025-01-16T00:00:00.000000000",
                    "2025-01-17T00:00:00.000000000",
                    "2025-01-21T00:00:00.000000000",
                    "2025-01-22T00:00:00.000000000",
                    "2025-01-23T00:00:00.000000000",
                    "2025-01-24T00:00:00.000000000",
                    "2025-01-27T00:00:00.000000000",
                    "2025-01-28T00:00:00.000000000",
                    "2025-01-29T00:00:00.000000000",
                    "2025-01-30T00:00:00.000000000",
                    "2025-01-31T00:00:00.000000000",
                    "2025-02-03T00:00:00.000000000",
                    "2025-02-04T00:00:00.000000000",
                    "2025-02-05T00:00:00.000000000",
                    "2025-02-06T00:00:00.000000000",
                    "2025-02-07T00:00:00.000000000",
                    "2025-02-10T00:00:00.000000000",
                    "2025-02-11T00:00:00.000000000",
                    "2025-02-12T00:00:00.000000000",
                    "2025-02-13T00:00:00.000000000",
                    "2025-02-14T00:00:00.000000000",
                    "2025-02-18T00:00:00.000000000",
                    "2025-02-19T00:00:00.000000000",
                    "2025-02-20T00:00:00.000000000",
                    "2025-02-21T00:00:00.000000000",
                    "2025-02-24T00:00:00.000000000",
                    "2025-02-25T00:00:00.000000000",
                    "2025-02-26T00:00:00.000000000",
                    "2025-02-27T00:00:00.000000000",
                    "2025-02-28T00:00:00.000000000",
                    "2025-03-03T00:00:00.000000000",
                    "2025-03-04T00:00:00.000000000",
                    "2025-03-05T00:00:00.000000000",
                    "2025-03-06T00:00:00.000000000",
                    "2025-03-07T00:00:00.000000000",
                    "2025-03-10T00:00:00.000000000",
                    "2025-03-11T00:00:00.000000000",
                    "2025-03-12T00:00:00.000000000",
                    "2025-03-13T00:00:00.000000000",
                    "2025-03-14T00:00:00.000000000",
                    "2025-03-17T00:00:00.000000000",
                    "2025-03-18T00:00:00.000000000",
                    "2025-03-19T00:00:00.000000000",
                    "2025-03-20T00:00:00.000000000",
                    "2025-03-21T00:00:00.000000000",
                    "2025-03-24T00:00:00.000000000",
                    "2025-03-25T00:00:00.000000000",
                    "2025-03-26T00:00:00.000000000",
                    "2025-03-27T00:00:00.000000000",
                    "2025-03-28T00:00:00.000000000",
                    "2025-03-31T00:00:00.000000000",
                    "2025-04-01T00:00:00.000000000",
                    "2025-04-02T00:00:00.000000000",
                    "2025-04-03T00:00:00.000000000",
                    "2025-04-04T00:00:00.000000000",
                    "2025-04-07T00:00:00.000000000",
                    "2025-04-08T00:00:00.000000000",
                    "2025-04-09T00:00:00.000000000",
                    "2025-04-10T00:00:00.000000000",
                    "2025-04-11T00:00:00.000000000",
                    "2025-04-14T00:00:00.000000000",
                    "2025-04-15T00:00:00.000000000",
                    "2025-04-16T00:00:00.000000000",
                    "2025-04-17T00:00:00.000000000",
                    "2025-04-21T00:00:00.000000000",
                    "2025-04-22T00:00:00.000000000",
                    "2025-04-23T00:00:00.000000000",
                    "2025-04-24T00:00:00.000000000",
                    "2025-04-25T00:00:00.000000000",
                    "2025-04-28T00:00:00.000000000",
                    "2025-04-29T00:00:00.000000000",
                    "2025-04-30T00:00:00.000000000",
                    "2025-05-01T00:00:00.000000000",
                    "2025-05-02T00:00:00.000000000",
                    "2025-05-05T00:00:00.000000000",
                    "2025-05-06T00:00:00.000000000",
                    "2025-05-07T00:00:00.000000000",
                    "2025-05-08T00:00:00.000000000",
                    "2025-05-09T00:00:00.000000000",
                    "2025-05-12T00:00:00.000000000",
                    "2025-05-13T00:00:00.000000000",
                    "2025-05-14T00:00:00.000000000",
                    "2025-05-15T00:00:00.000000000",
                    "2025-05-16T00:00:00.000000000",
                    "2025-05-19T00:00:00.000000000",
                    "2025-05-20T00:00:00.000000000",
                    "2025-05-21T00:00:00.000000000",
                    "2025-05-22T00:00:00.000000000",
                    "2025-05-23T00:00:00.000000000",
                    "2025-05-27T00:00:00.000000000",
                    "2025-05-28T00:00:00.000000000",
                    "2025-05-29T00:00:00.000000000",
                    "2025-05-30T00:00:00.000000000",
                    "2025-06-02T00:00:00.000000000",
                    "2025-06-03T00:00:00.000000000",
                    "2025-06-04T00:00:00.000000000",
                    "2025-06-05T00:00:00.000000000",
                    "2025-06-06T00:00:00.000000000",
                    "2025-06-09T00:00:00.000000000",
                    "2025-06-10T00:00:00.000000000",
                    "2025-06-11T00:00:00.000000000",
                    "2025-06-12T00:00:00.000000000",
                    "2025-06-13T00:00:00.000000000",
                    "2025-06-16T00:00:00.000000000",
                    "2025-06-17T00:00:00.000000000",
                    "2025-06-18T00:00:00.000000000",
                    "2025-06-20T00:00:00.000000000",
                    "2025-06-23T00:00:00.000000000",
                    "2025-06-24T00:00:00.000000000",
                    "2025-06-25T00:00:00.000000000",
                    "2025-06-26T00:00:00.000000000",
                    "2025-06-27T00:00:00.000000000"
                  ],
                  "xaxis": "x3",
                  "y": {
                    "bdata": "iBxEA6ij9gOcsV4DHDrFAnyg1QNgrIYDENLeAmxFmwMkgs8CYIirAjAfBwTM72kCqGThAoQjpgJwnwcCNCKnAuAyFwME0Y4FrOSnAzQ0vQLEO3ECWCs0ApgTBwI4nVkDXJoBAwiMcgMkspsBTN2vA6jvlgMQKpYCWA9hBajMhwOIkAcDTPaDAgwDbAJYOpYEDEUjBAz+1AI0DZ4CCIfnAZzH7gLEWpwDmFTyAqD80wKk1BkE8C7QBnx+pQXQwq4EOAiJBLCD1wMUTEIDvEDsAlg/awIMJV4CEDKEAuDIHQLAA5kCvOnaAbQ6nwMAqJQEIPGMAlTluQIIupoCtE/5AuyfFwKY9AcCtDXiAUya2wEcgYMCqNyCAhjSfQGcQGIChPSeAdzkNwJoNgkDON++ARBCfwFoVKYB6BHIAeSckQEgBKcCiCNmAvSMSwHAF6QBFJ4ZAuSERAKgWqkBAONNAVy35QGA1HcBUKTDAdTgpwJ8oUkC2PARAowhBQKAJHoEiPKCApCT5AGAqAYDuIzSAbwCwgGYgmsB0GOJAZgEFgIcMY4BSBNdASQUxgF0eCUCwAtJBMQ4OgUoSaUCyIJTAthLvAGkA50BjDD2AYC+zgFsiaQBRMDHAewWAAJoSxgCeGvjAZy0ogLAxU8CCPVgAVwcuAGoQb8BfGhMAVzZ1wHwsOkBRHDMAcRy9QBAGvkBVNhZAazaiwHETsMBYFcAAnCZZgNArVEChJ63AtzfCgJ8pgYEPD+CAtTulALwu/YCPFvAAqC8MQNsCNkCoN56AThxfQFgYfYB4GrRAQjezAFItQoClEwxAui63AKwdFYCHPDIAjCcigNED1UC9Kc0AkirRgLU0sABjL4hArDa4QG4axYCDER8AXy54QF80qMDMNFqArxjZQLwiMYBYH5qAvS9DwIEJSMEMFiUBuhyAQPEKb8COJ0UAsiSFgIUWYIBuENwAhCQ7wFsA+QBFJK3AZBWnwHkAXcCSJu7AbCsVQJYOb0B1C/RAmidsQKwc1ICZF46A4wKqQGoRroBAGz7AZAFTwJc/gcCFHsKAuAFtAEkIHkBHKaaAqBRngEMq+wB+AeaARx71QEw7y0D/K+7AYCqXwJEFvQBrBPaAZT31gGA72YBkEo9ATQmAgPYvuwDyPozBLi+KgRIutQF6AjjA/hecwO4XCUCFAatAUi1swMYYRECqJcEAlyrGQIILXMC7PEBAkQGtAF8u9ABuN07AYynxQHMh8MBDB/JAaS2dQLsATwDoH4nBWiBOwPsxOMBKDsDA+xLUQOUmisFgP6cAjSIlgK40z8CkPm6AWgzmQKgWb4BZP/WAUgUQgI0XqMBGGrRAbSqJgLA/gcCHAo3Amhn2QH4LwgCNKGcAYTpTQP8KnwCDEfsAUBZqgKs0F0CNKgEBpzGKQXcP/UCeKbDBIQn4gPg6a4EYGpyBATCdwMgX68D",
                    "dtype": "i4"
                  },
                  "yaxis": "y4"
                },
                {
                  "legendgroup": "AMD",
                  "line": {
                    "color": "blue"
                  },
                  "mode": "lines",
                  "name": "AMD Volatility",
                  "showlegend": false,
                  "type": "scatter",
                  "x": [
                    "2024-05-24T00:00:00.000000000",
                    "2024-05-28T00:00:00.000000000",
                    "2024-05-29T00:00:00.000000000",
                    "2024-05-30T00:00:00.000000000",
                    "2024-05-31T00:00:00.000000000",
                    "2024-06-03T00:00:00.000000000",
                    "2024-06-04T00:00:00.000000000",
                    "2024-06-05T00:00:00.000000000",
                    "2024-06-06T00:00:00.000000000",
                    "2024-06-07T00:00:00.000000000",
                    "2024-06-10T00:00:00.000000000",
                    "2024-06-11T00:00:00.000000000",
                    "2024-06-12T00:00:00.000000000",
                    "2024-06-13T00:00:00.000000000",
                    "2024-06-14T00:00:00.000000000",
                    "2024-06-17T00:00:00.000000000",
                    "2024-06-18T00:00:00.000000000",
                    "2024-06-20T00:00:00.000000000",
                    "2024-06-21T00:00:00.000000000",
                    "2024-06-24T00:00:00.000000000",
                    "2024-06-25T00:00:00.000000000",
                    "2024-06-26T00:00:00.000000000",
                    "2024-06-27T00:00:00.000000000",
                    "2024-06-28T00:00:00.000000000",
                    "2024-07-01T00:00:00.000000000",
                    "2024-07-02T00:00:00.000000000",
                    "2024-07-03T00:00:00.000000000",
                    "2024-07-05T00:00:00.000000000",
                    "2024-07-08T00:00:00.000000000",
                    "2024-07-09T00:00:00.000000000",
                    "2024-07-10T00:00:00.000000000",
                    "2024-07-11T00:00:00.000000000",
                    "2024-07-12T00:00:00.000000000",
                    "2024-07-15T00:00:00.000000000",
                    "2024-07-16T00:00:00.000000000",
                    "2024-07-17T00:00:00.000000000",
                    "2024-07-18T00:00:00.000000000",
                    "2024-07-19T00:00:00.000000000",
                    "2024-07-22T00:00:00.000000000",
                    "2024-07-23T00:00:00.000000000",
                    "2024-07-24T00:00:00.000000000",
                    "2024-07-25T00:00:00.000000000",
                    "2024-07-26T00:00:00.000000000",
                    "2024-07-29T00:00:00.000000000",
                    "2024-07-30T00:00:00.000000000",
                    "2024-07-31T00:00:00.000000000",
                    "2024-08-01T00:00:00.000000000",
                    "2024-08-02T00:00:00.000000000",
                    "2024-08-05T00:00:00.000000000",
                    "2024-08-06T00:00:00.000000000",
                    "2024-08-07T00:00:00.000000000",
                    "2024-08-08T00:00:00.000000000",
                    "2024-08-09T00:00:00.000000000",
                    "2024-08-12T00:00:00.000000000",
                    "2024-08-13T00:00:00.000000000",
                    "2024-08-14T00:00:00.000000000",
                    "2024-08-15T00:00:00.000000000",
                    "2024-08-16T00:00:00.000000000",
                    "2024-08-19T00:00:00.000000000",
                    "2024-08-20T00:00:00.000000000",
                    "2024-08-21T00:00:00.000000000",
                    "2024-08-22T00:00:00.000000000",
                    "2024-08-23T00:00:00.000000000",
                    "2024-08-26T00:00:00.000000000",
                    "2024-08-27T00:00:00.000000000",
                    "2024-08-28T00:00:00.000000000",
                    "2024-08-29T00:00:00.000000000",
                    "2024-08-30T00:00:00.000000000",
                    "2024-09-03T00:00:00.000000000",
                    "2024-09-04T00:00:00.000000000",
                    "2024-09-05T00:00:00.000000000",
                    "2024-09-06T00:00:00.000000000",
                    "2024-09-09T00:00:00.000000000",
                    "2024-09-10T00:00:00.000000000",
                    "2024-09-11T00:00:00.000000000",
                    "2024-09-12T00:00:00.000000000",
                    "2024-09-13T00:00:00.000000000",
                    "2024-09-16T00:00:00.000000000",
                    "2024-09-17T00:00:00.000000000",
                    "2024-09-18T00:00:00.000000000",
                    "2024-09-19T00:00:00.000000000",
                    "2024-09-20T00:00:00.000000000",
                    "2024-09-23T00:00:00.000000000",
                    "2024-09-24T00:00:00.000000000",
                    "2024-09-25T00:00:00.000000000",
                    "2024-09-26T00:00:00.000000000",
                    "2024-09-27T00:00:00.000000000",
                    "2024-09-30T00:00:00.000000000",
                    "2024-10-01T00:00:00.000000000",
                    "2024-10-02T00:00:00.000000000",
                    "2024-10-03T00:00:00.000000000",
                    "2024-10-04T00:00:00.000000000",
                    "2024-10-07T00:00:00.000000000",
                    "2024-10-08T00:00:00.000000000",
                    "2024-10-09T00:00:00.000000000",
                    "2024-10-10T00:00:00.000000000",
                    "2024-10-11T00:00:00.000000000",
                    "2024-10-14T00:00:00.000000000",
                    "2024-10-15T00:00:00.000000000",
                    "2024-10-16T00:00:00.000000000",
                    "2024-10-17T00:00:00.000000000",
                    "2024-10-18T00:00:00.000000000",
                    "2024-10-21T00:00:00.000000000",
                    "2024-10-22T00:00:00.000000000",
                    "2024-10-23T00:00:00.000000000",
                    "2024-10-24T00:00:00.000000000",
                    "2024-10-25T00:00:00.000000000",
                    "2024-10-28T00:00:00.000000000",
                    "2024-10-29T00:00:00.000000000",
                    "2024-10-30T00:00:00.000000000",
                    "2024-10-31T00:00:00.000000000",
                    "2024-11-01T00:00:00.000000000",
                    "2024-11-04T00:00:00.000000000",
                    "2024-11-05T00:00:00.000000000",
                    "2024-11-06T00:00:00.000000000",
                    "2024-11-07T00:00:00.000000000",
                    "2024-11-08T00:00:00.000000000",
                    "2024-11-11T00:00:00.000000000",
                    "2024-11-12T00:00:00.000000000",
                    "2024-11-13T00:00:00.000000000",
                    "2024-11-14T00:00:00.000000000",
                    "2024-11-15T00:00:00.000000000",
                    "2024-11-18T00:00:00.000000000",
                    "2024-11-19T00:00:00.000000000",
                    "2024-11-20T00:00:00.000000000",
                    "2024-11-21T00:00:00.000000000",
                    "2024-11-22T00:00:00.000000000",
                    "2024-11-25T00:00:00.000000000",
                    "2024-11-26T00:00:00.000000000",
                    "2024-11-27T00:00:00.000000000",
                    "2024-11-29T00:00:00.000000000",
                    "2024-12-02T00:00:00.000000000",
                    "2024-12-03T00:00:00.000000000",
                    "2024-12-04T00:00:00.000000000",
                    "2024-12-05T00:00:00.000000000",
                    "2024-12-06T00:00:00.000000000",
                    "2024-12-09T00:00:00.000000000",
                    "2024-12-10T00:00:00.000000000",
                    "2024-12-11T00:00:00.000000000",
                    "2024-12-12T00:00:00.000000000",
                    "2024-12-13T00:00:00.000000000",
                    "2024-12-16T00:00:00.000000000",
                    "2024-12-17T00:00:00.000000000",
                    "2024-12-18T00:00:00.000000000",
                    "2024-12-19T00:00:00.000000000",
                    "2024-12-20T00:00:00.000000000",
                    "2024-12-23T00:00:00.000000000",
                    "2024-12-24T00:00:00.000000000",
                    "2024-12-26T00:00:00.000000000",
                    "2024-12-27T00:00:00.000000000",
                    "2024-12-30T00:00:00.000000000",
                    "2024-12-31T00:00:00.000000000",
                    "2025-01-02T00:00:00.000000000",
                    "2025-01-03T00:00:00.000000000",
                    "2025-01-06T00:00:00.000000000",
                    "2025-01-07T00:00:00.000000000",
                    "2025-01-08T00:00:00.000000000",
                    "2025-01-10T00:00:00.000000000",
                    "2025-01-13T00:00:00.000000000",
                    "2025-01-14T00:00:00.000000000",
                    "2025-01-15T00:00:00.000000000",
                    "2025-01-16T00:00:00.000000000",
                    "2025-01-17T00:00:00.000000000",
                    "2025-01-21T00:00:00.000000000",
                    "2025-01-22T00:00:00.000000000",
                    "2025-01-23T00:00:00.000000000",
                    "2025-01-24T00:00:00.000000000",
                    "2025-01-27T00:00:00.000000000",
                    "2025-01-28T00:00:00.000000000",
                    "2025-01-29T00:00:00.000000000",
                    "2025-01-30T00:00:00.000000000",
                    "2025-01-31T00:00:00.000000000",
                    "2025-02-03T00:00:00.000000000",
                    "2025-02-04T00:00:00.000000000",
                    "2025-02-05T00:00:00.000000000",
                    "2025-02-06T00:00:00.000000000",
                    "2025-02-07T00:00:00.000000000",
                    "2025-02-10T00:00:00.000000000",
                    "2025-02-11T00:00:00.000000000",
                    "2025-02-12T00:00:00.000000000",
                    "2025-02-13T00:00:00.000000000",
                    "2025-02-14T00:00:00.000000000",
                    "2025-02-18T00:00:00.000000000",
                    "2025-02-19T00:00:00.000000000",
                    "2025-02-20T00:00:00.000000000",
                    "2025-02-21T00:00:00.000000000",
                    "2025-02-24T00:00:00.000000000",
                    "2025-02-25T00:00:00.000000000",
                    "2025-02-26T00:00:00.000000000",
                    "2025-02-27T00:00:00.000000000",
                    "2025-02-28T00:00:00.000000000",
                    "2025-03-03T00:00:00.000000000",
                    "2025-03-04T00:00:00.000000000",
                    "2025-03-05T00:00:00.000000000",
                    "2025-03-06T00:00:00.000000000",
                    "2025-03-07T00:00:00.000000000",
                    "2025-03-10T00:00:00.000000000",
                    "2025-03-11T00:00:00.000000000",
                    "2025-03-12T00:00:00.000000000",
                    "2025-03-13T00:00:00.000000000",
                    "2025-03-14T00:00:00.000000000",
                    "2025-03-17T00:00:00.000000000",
                    "2025-03-18T00:00:00.000000000",
                    "2025-03-19T00:00:00.000000000",
                    "2025-03-20T00:00:00.000000000",
                    "2025-03-21T00:00:00.000000000",
                    "2025-03-24T00:00:00.000000000",
                    "2025-03-25T00:00:00.000000000",
                    "2025-03-26T00:00:00.000000000",
                    "2025-03-27T00:00:00.000000000",
                    "2025-03-28T00:00:00.000000000",
                    "2025-03-31T00:00:00.000000000",
                    "2025-04-01T00:00:00.000000000",
                    "2025-04-02T00:00:00.000000000",
                    "2025-04-03T00:00:00.000000000",
                    "2025-04-04T00:00:00.000000000",
                    "2025-04-07T00:00:00.000000000",
                    "2025-04-08T00:00:00.000000000",
                    "2025-04-09T00:00:00.000000000",
                    "2025-04-10T00:00:00.000000000",
                    "2025-04-11T00:00:00.000000000",
                    "2025-04-14T00:00:00.000000000",
                    "2025-04-15T00:00:00.000000000",
                    "2025-04-16T00:00:00.000000000",
                    "2025-04-17T00:00:00.000000000",
                    "2025-04-21T00:00:00.000000000",
                    "2025-04-22T00:00:00.000000000",
                    "2025-04-23T00:00:00.000000000",
                    "2025-04-24T00:00:00.000000000",
                    "2025-04-25T00:00:00.000000000",
                    "2025-04-28T00:00:00.000000000",
                    "2025-04-29T00:00:00.000000000",
                    "2025-04-30T00:00:00.000000000",
                    "2025-05-01T00:00:00.000000000",
                    "2025-05-02T00:00:00.000000000",
                    "2025-05-05T00:00:00.000000000",
                    "2025-05-06T00:00:00.000000000",
                    "2025-05-07T00:00:00.000000000",
                    "2025-05-08T00:00:00.000000000",
                    "2025-05-09T00:00:00.000000000",
                    "2025-05-12T00:00:00.000000000",
                    "2025-05-13T00:00:00.000000000",
                    "2025-05-14T00:00:00.000000000",
                    "2025-05-15T00:00:00.000000000",
                    "2025-05-16T00:00:00.000000000",
                    "2025-05-19T00:00:00.000000000",
                    "2025-05-20T00:00:00.000000000",
                    "2025-05-21T00:00:00.000000000",
                    "2025-05-22T00:00:00.000000000",
                    "2025-05-23T00:00:00.000000000",
                    "2025-05-27T00:00:00.000000000",
                    "2025-05-28T00:00:00.000000000",
                    "2025-05-29T00:00:00.000000000",
                    "2025-05-30T00:00:00.000000000",
                    "2025-06-02T00:00:00.000000000",
                    "2025-06-03T00:00:00.000000000",
                    "2025-06-04T00:00:00.000000000",
                    "2025-06-05T00:00:00.000000000",
                    "2025-06-06T00:00:00.000000000",
                    "2025-06-09T00:00:00.000000000",
                    "2025-06-10T00:00:00.000000000",
                    "2025-06-11T00:00:00.000000000",
                    "2025-06-12T00:00:00.000000000",
                    "2025-06-13T00:00:00.000000000",
                    "2025-06-16T00:00:00.000000000",
                    "2025-06-17T00:00:00.000000000",
                    "2025-06-18T00:00:00.000000000",
                    "2025-06-20T00:00:00.000000000",
                    "2025-06-23T00:00:00.000000000",
                    "2025-06-24T00:00:00.000000000",
                    "2025-06-25T00:00:00.000000000",
                    "2025-06-26T00:00:00.000000000",
                    "2025-06-27T00:00:00.000000000"
                  ],
                  "xaxis": "x4",
                  "y": {
                    "bdata": "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",
                    "dtype": "f8"
                  },
                  "yaxis": "y6"
                },
                {
                  "legendgroup": "INTC",
                  "line": {
                    "color": "red"
                  },
                  "name": "INTC Price",
                  "type": "scatter",
                  "x": [
                    "2024-05-24T00:00:00.000000000",
                    "2024-05-28T00:00:00.000000000",
                    "2024-05-29T00:00:00.000000000",
                    "2024-05-30T00:00:00.000000000",
                    "2024-05-31T00:00:00.000000000",
                    "2024-06-03T00:00:00.000000000",
                    "2024-06-04T00:00:00.000000000",
                    "2024-06-05T00:00:00.000000000",
                    "2024-06-06T00:00:00.000000000",
                    "2024-06-07T00:00:00.000000000",
                    "2024-06-10T00:00:00.000000000",
                    "2024-06-11T00:00:00.000000000",
                    "2024-06-12T00:00:00.000000000",
                    "2024-06-13T00:00:00.000000000",
                    "2024-06-14T00:00:00.000000000",
                    "2024-06-17T00:00:00.000000000",
                    "2024-06-18T00:00:00.000000000",
                    "2024-06-20T00:00:00.000000000",
                    "2024-06-21T00:00:00.000000000",
                    "2024-06-24T00:00:00.000000000",
                    "2024-06-25T00:00:00.000000000",
                    "2024-06-26T00:00:00.000000000",
                    "2024-06-27T00:00:00.000000000",
                    "2024-06-28T00:00:00.000000000",
                    "2024-07-01T00:00:00.000000000",
                    "2024-07-02T00:00:00.000000000",
                    "2024-07-03T00:00:00.000000000",
                    "2024-07-05T00:00:00.000000000",
                    "2024-07-08T00:00:00.000000000",
                    "2024-07-09T00:00:00.000000000",
                    "2024-07-10T00:00:00.000000000",
                    "2024-07-11T00:00:00.000000000",
                    "2024-07-12T00:00:00.000000000",
                    "2024-07-15T00:00:00.000000000",
                    "2024-07-16T00:00:00.000000000",
                    "2024-07-17T00:00:00.000000000",
                    "2024-07-18T00:00:00.000000000",
                    "2024-07-19T00:00:00.000000000",
                    "2024-07-22T00:00:00.000000000",
                    "2024-07-23T00:00:00.000000000",
                    "2024-07-24T00:00:00.000000000",
                    "2024-07-25T00:00:00.000000000",
                    "2024-07-26T00:00:00.000000000",
                    "2024-07-29T00:00:00.000000000",
                    "2024-07-30T00:00:00.000000000",
                    "2024-07-31T00:00:00.000000000",
                    "2024-08-01T00:00:00.000000000",
                    "2024-08-02T00:00:00.000000000",
                    "2024-08-05T00:00:00.000000000",
                    "2024-08-06T00:00:00.000000000",
                    "2024-08-07T00:00:00.000000000",
                    "2024-08-08T00:00:00.000000000",
                    "2024-08-09T00:00:00.000000000",
                    "2024-08-12T00:00:00.000000000",
                    "2024-08-13T00:00:00.000000000",
                    "2024-08-14T00:00:00.000000000",
                    "2024-08-15T00:00:00.000000000",
                    "2024-08-16T00:00:00.000000000",
                    "2024-08-19T00:00:00.000000000",
                    "2024-08-20T00:00:00.000000000",
                    "2024-08-21T00:00:00.000000000",
                    "2024-08-22T00:00:00.000000000",
                    "2024-08-23T00:00:00.000000000",
                    "2024-08-26T00:00:00.000000000",
                    "2024-08-27T00:00:00.000000000",
                    "2024-08-28T00:00:00.000000000",
                    "2024-08-29T00:00:00.000000000",
                    "2024-08-30T00:00:00.000000000",
                    "2024-09-03T00:00:00.000000000",
                    "2024-09-04T00:00:00.000000000",
                    "2024-09-05T00:00:00.000000000",
                    "2024-09-06T00:00:00.000000000",
                    "2024-09-09T00:00:00.000000000",
                    "2024-09-10T00:00:00.000000000",
                    "2024-09-11T00:00:00.000000000",
                    "2024-09-12T00:00:00.000000000",
                    "2024-09-13T00:00:00.000000000",
                    "2024-09-16T00:00:00.000000000",
                    "2024-09-17T00:00:00.000000000",
                    "2024-09-18T00:00:00.000000000",
                    "2024-09-19T00:00:00.000000000",
                    "2024-09-20T00:00:00.000000000",
                    "2024-09-23T00:00:00.000000000",
                    "2024-09-24T00:00:00.000000000",
                    "2024-09-25T00:00:00.000000000",
                    "2024-09-26T00:00:00.000000000",
                    "2024-09-27T00:00:00.000000000",
                    "2024-09-30T00:00:00.000000000",
                    "2024-10-01T00:00:00.000000000",
                    "2024-10-02T00:00:00.000000000",
                    "2024-10-03T00:00:00.000000000",
                    "2024-10-04T00:00:00.000000000",
                    "2024-10-07T00:00:00.000000000",
                    "2024-10-08T00:00:00.000000000",
                    "2024-10-09T00:00:00.000000000",
                    "2024-10-10T00:00:00.000000000",
                    "2024-10-11T00:00:00.000000000",
                    "2024-10-14T00:00:00.000000000",
                    "2024-10-15T00:00:00.000000000",
                    "2024-10-16T00:00:00.000000000",
                    "2024-10-17T00:00:00.000000000",
                    "2024-10-18T00:00:00.000000000",
                    "2024-10-21T00:00:00.000000000",
                    "2024-10-22T00:00:00.000000000",
                    "2024-10-23T00:00:00.000000000",
                    "2024-10-24T00:00:00.000000000",
                    "2024-10-25T00:00:00.000000000",
                    "2024-10-28T00:00:00.000000000",
                    "2024-10-29T00:00:00.000000000",
                    "2024-10-30T00:00:00.000000000",
                    "2024-10-31T00:00:00.000000000",
                    "2024-11-01T00:00:00.000000000",
                    "2024-11-04T00:00:00.000000000",
                    "2024-11-05T00:00:00.000000000",
                    "2024-11-06T00:00:00.000000000",
                    "2024-11-07T00:00:00.000000000",
                    "2024-11-08T00:00:00.000000000",
                    "2024-11-11T00:00:00.000000000",
                    "2024-11-12T00:00:00.000000000",
                    "2024-11-13T00:00:00.000000000",
                    "2024-11-14T00:00:00.000000000",
                    "2024-11-15T00:00:00.000000000",
                    "2024-11-18T00:00:00.000000000",
                    "2024-11-19T00:00:00.000000000",
                    "2024-11-20T00:00:00.000000000",
                    "2024-11-21T00:00:00.000000000",
                    "2024-11-22T00:00:00.000000000",
                    "2024-11-25T00:00:00.000000000",
                    "2024-11-26T00:00:00.000000000",
                    "2024-11-27T00:00:00.000000000",
                    "2024-11-29T00:00:00.000000000",
                    "2024-12-02T00:00:00.000000000",
                    "2024-12-03T00:00:00.000000000",
                    "2024-12-04T00:00:00.000000000",
                    "2024-12-05T00:00:00.000000000",
                    "2024-12-06T00:00:00.000000000",
                    "2024-12-09T00:00:00.000000000",
                    "2024-12-10T00:00:00.000000000",
                    "2024-12-11T00:00:00.000000000",
                    "2024-12-12T00:00:00.000000000",
                    "2024-12-13T00:00:00.000000000",
                    "2024-12-16T00:00:00.000000000",
                    "2024-12-17T00:00:00.000000000",
                    "2024-12-18T00:00:00.000000000",
                    "2024-12-19T00:00:00.000000000",
                    "2024-12-20T00:00:00.000000000",
                    "2024-12-23T00:00:00.000000000",
                    "2024-12-24T00:00:00.000000000",
                    "2024-12-26T00:00:00.000000000",
                    "2024-12-27T00:00:00.000000000",
                    "2024-12-30T00:00:00.000000000",
                    "2024-12-31T00:00:00.000000000",
                    "2025-01-02T00:00:00.000000000",
                    "2025-01-03T00:00:00.000000000",
                    "2025-01-06T00:00:00.000000000",
                    "2025-01-07T00:00:00.000000000",
                    "2025-01-08T00:00:00.000000000",
                    "2025-01-10T00:00:00.000000000",
                    "2025-01-13T00:00:00.000000000",
                    "2025-01-14T00:00:00.000000000",
                    "2025-01-15T00:00:00.000000000",
                    "2025-01-16T00:00:00.000000000",
                    "2025-01-17T00:00:00.000000000",
                    "2025-01-21T00:00:00.000000000",
                    "2025-01-22T00:00:00.000000000",
                    "2025-01-23T00:00:00.000000000",
                    "2025-01-24T00:00:00.000000000",
                    "2025-01-27T00:00:00.000000000",
                    "2025-01-28T00:00:00.000000000",
                    "2025-01-29T00:00:00.000000000",
                    "2025-01-30T00:00:00.000000000",
                    "2025-01-31T00:00:00.000000000",
                    "2025-02-03T00:00:00.000000000",
                    "2025-02-04T00:00:00.000000000",
                    "2025-02-05T00:00:00.000000000",
                    "2025-02-06T00:00:00.000000000",
                    "2025-02-07T00:00:00.000000000",
                    "2025-02-10T00:00:00.000000000",
                    "2025-02-11T00:00:00.000000000",
                    "2025-02-12T00:00:00.000000000",
                    "2025-02-13T00:00:00.000000000",
                    "2025-02-14T00:00:00.000000000",
                    "2025-02-18T00:00:00.000000000",
                    "2025-02-19T00:00:00.000000000",
                    "2025-02-20T00:00:00.000000000",
                    "2025-02-21T00:00:00.000000000",
                    "2025-02-24T00:00:00.000000000",
                    "2025-02-25T00:00:00.000000000",
                    "2025-02-26T00:00:00.000000000",
                    "2025-02-27T00:00:00.000000000",
                    "2025-02-28T00:00:00.000000000",
                    "2025-03-03T00:00:00.000000000",
                    "2025-03-04T00:00:00.000000000",
                    "2025-03-05T00:00:00.000000000",
                    "2025-03-06T00:00:00.000000000",
                    "2025-03-07T00:00:00.000000000",
                    "2025-03-10T00:00:00.000000000",
                    "2025-03-11T00:00:00.000000000",
                    "2025-03-12T00:00:00.000000000",
                    "2025-03-13T00:00:00.000000000",
                    "2025-03-14T00:00:00.000000000",
                    "2025-03-17T00:00:00.000000000",
                    "2025-03-18T00:00:00.000000000",
                    "2025-03-19T00:00:00.000000000",
                    "2025-03-20T00:00:00.000000000",
                    "2025-03-21T00:00:00.000000000",
                    "2025-03-24T00:00:00.000000000",
                    "2025-03-25T00:00:00.000000000",
                    "2025-03-26T00:00:00.000000000",
                    "2025-03-27T00:00:00.000000000",
                    "2025-03-28T00:00:00.000000000",
                    "2025-03-31T00:00:00.000000000",
                    "2025-04-01T00:00:00.000000000",
                    "2025-04-02T00:00:00.000000000",
                    "2025-04-03T00:00:00.000000000",
                    "2025-04-04T00:00:00.000000000",
                    "2025-04-07T00:00:00.000000000",
                    "2025-04-08T00:00:00.000000000",
                    "2025-04-09T00:00:00.000000000",
                    "2025-04-10T00:00:00.000000000",
                    "2025-04-11T00:00:00.000000000",
                    "2025-04-14T00:00:00.000000000",
                    "2025-04-15T00:00:00.000000000",
                    "2025-04-16T00:00:00.000000000",
                    "2025-04-17T00:00:00.000000000",
                    "2025-04-21T00:00:00.000000000",
                    "2025-04-22T00:00:00.000000000",
                    "2025-04-23T00:00:00.000000000",
                    "2025-04-24T00:00:00.000000000",
                    "2025-04-25T00:00:00.000000000",
                    "2025-04-28T00:00:00.000000000",
                    "2025-04-29T00:00:00.000000000",
                    "2025-04-30T00:00:00.000000000",
                    "2025-05-01T00:00:00.000000000",
                    "2025-05-02T00:00:00.000000000",
                    "2025-05-05T00:00:00.000000000",
                    "2025-05-06T00:00:00.000000000",
                    "2025-05-07T00:00:00.000000000",
                    "2025-05-08T00:00:00.000000000",
                    "2025-05-09T00:00:00.000000000",
                    "2025-05-12T00:00:00.000000000",
                    "2025-05-13T00:00:00.000000000",
                    "2025-05-14T00:00:00.000000000",
                    "2025-05-15T00:00:00.000000000",
                    "2025-05-16T00:00:00.000000000",
                    "2025-05-19T00:00:00.000000000",
                    "2025-05-20T00:00:00.000000000",
                    "2025-05-21T00:00:00.000000000",
                    "2025-05-22T00:00:00.000000000",
                    "2025-05-23T00:00:00.000000000",
                    "2025-05-27T00:00:00.000000000",
                    "2025-05-28T00:00:00.000000000",
                    "2025-05-29T00:00:00.000000000",
                    "2025-05-30T00:00:00.000000000",
                    "2025-06-02T00:00:00.000000000",
                    "2025-06-03T00:00:00.000000000",
                    "2025-06-04T00:00:00.000000000",
                    "2025-06-05T00:00:00.000000000",
                    "2025-06-06T00:00:00.000000000",
                    "2025-06-09T00:00:00.000000000",
                    "2025-06-10T00:00:00.000000000",
                    "2025-06-11T00:00:00.000000000",
                    "2025-06-12T00:00:00.000000000",
                    "2025-06-13T00:00:00.000000000",
                    "2025-06-16T00:00:00.000000000",
                    "2025-06-17T00:00:00.000000000",
                    "2025-06-18T00:00:00.000000000",
                    "2025-06-20T00:00:00.000000000",
                    "2025-06-23T00:00:00.000000000",
                    "2025-06-24T00:00:00.000000000",
                    "2025-06-25T00:00:00.000000000",
                    "2025-06-26T00:00:00.000000000",
                    "2025-06-27T00:00:00.000000000"
                  ],
                  "xaxis": "x",
                  "y": {
                    "bdata": "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",
                    "dtype": "f8"
                  },
                  "yaxis": "y"
                },
                {
                  "legendgroup": "INTC",
                  "line": {
                    "color": "red",
                    "dash": "dash"
                  },
                  "name": "INTC Volume",
                  "opacity": 0.6,
                  "showlegend": false,
                  "type": "scatter",
                  "x": [
                    "2024-05-24T00:00:00.000000000",
                    "2024-05-28T00:00:00.000000000",
                    "2024-05-29T00:00:00.000000000",
                    "2024-05-30T00:00:00.000000000",
                    "2024-05-31T00:00:00.000000000",
                    "2024-06-03T00:00:00.000000000",
                    "2024-06-04T00:00:00.000000000",
                    "2024-06-05T00:00:00.000000000",
                    "2024-06-06T00:00:00.000000000",
                    "2024-06-07T00:00:00.000000000",
                    "2024-06-10T00:00:00.000000000",
                    "2024-06-11T00:00:00.000000000",
                    "2024-06-12T00:00:00.000000000",
                    "2024-06-13T00:00:00.000000000",
                    "2024-06-14T00:00:00.000000000",
                    "2024-06-17T00:00:00.000000000",
                    "2024-06-18T00:00:00.000000000",
                    "2024-06-20T00:00:00.000000000",
                    "2024-06-21T00:00:00.000000000",
                    "2024-06-24T00:00:00.000000000",
                    "2024-06-25T00:00:00.000000000",
                    "2024-06-26T00:00:00.000000000",
                    "2024-06-27T00:00:00.000000000",
                    "2024-06-28T00:00:00.000000000",
                    "2024-07-01T00:00:00.000000000",
                    "2024-07-02T00:00:00.000000000",
                    "2024-07-03T00:00:00.000000000",
                    "2024-07-05T00:00:00.000000000",
                    "2024-07-08T00:00:00.000000000",
                    "2024-07-09T00:00:00.000000000",
                    "2024-07-10T00:00:00.000000000",
                    "2024-07-11T00:00:00.000000000",
                    "2024-07-12T00:00:00.000000000",
                    "2024-07-15T00:00:00.000000000",
                    "2024-07-16T00:00:00.000000000",
                    "2024-07-17T00:00:00.000000000",
                    "2024-07-18T00:00:00.000000000",
                    "2024-07-19T00:00:00.000000000",
                    "2024-07-22T00:00:00.000000000",
                    "2024-07-23T00:00:00.000000000",
                    "2024-07-24T00:00:00.000000000",
                    "2024-07-25T00:00:00.000000000",
                    "2024-07-26T00:00:00.000000000",
                    "2024-07-29T00:00:00.000000000",
                    "2024-07-30T00:00:00.000000000",
                    "2024-07-31T00:00:00.000000000",
                    "2024-08-01T00:00:00.000000000",
                    "2024-08-02T00:00:00.000000000",
                    "2024-08-05T00:00:00.000000000",
                    "2024-08-06T00:00:00.000000000",
                    "2024-08-07T00:00:00.000000000",
                    "2024-08-08T00:00:00.000000000",
                    "2024-08-09T00:00:00.000000000",
                    "2024-08-12T00:00:00.000000000",
                    "2024-08-13T00:00:00.000000000",
                    "2024-08-14T00:00:00.000000000",
                    "2024-08-15T00:00:00.000000000",
                    "2024-08-16T00:00:00.000000000",
                    "2024-08-19T00:00:00.000000000",
                    "2024-08-20T00:00:00.000000000",
                    "2024-08-21T00:00:00.000000000",
                    "2024-08-22T00:00:00.000000000",
                    "2024-08-23T00:00:00.000000000",
                    "2024-08-26T00:00:00.000000000",
                    "2024-08-27T00:00:00.000000000",
                    "2024-08-28T00:00:00.000000000",
                    "2024-08-29T00:00:00.000000000",
                    "2024-08-30T00:00:00.000000000",
                    "2024-09-03T00:00:00.000000000",
                    "2024-09-04T00:00:00.000000000",
                    "2024-09-05T00:00:00.000000000",
                    "2024-09-06T00:00:00.000000000",
                    "2024-09-09T00:00:00.000000000",
                    "2024-09-10T00:00:00.000000000",
                    "2024-09-11T00:00:00.000000000",
                    "2024-09-12T00:00:00.000000000",
                    "2024-09-13T00:00:00.000000000",
                    "2024-09-16T00:00:00.000000000",
                    "2024-09-17T00:00:00.000000000",
                    "2024-09-18T00:00:00.000000000",
                    "2024-09-19T00:00:00.000000000",
                    "2024-09-20T00:00:00.000000000",
                    "2024-09-23T00:00:00.000000000",
                    "2024-09-24T00:00:00.000000000",
                    "2024-09-25T00:00:00.000000000",
                    "2024-09-26T00:00:00.000000000",
                    "2024-09-27T00:00:00.000000000",
                    "2024-09-30T00:00:00.000000000",
                    "2024-10-01T00:00:00.000000000",
                    "2024-10-02T00:00:00.000000000",
                    "2024-10-03T00:00:00.000000000",
                    "2024-10-04T00:00:00.000000000",
                    "2024-10-07T00:00:00.000000000",
                    "2024-10-08T00:00:00.000000000",
                    "2024-10-09T00:00:00.000000000",
                    "2024-10-10T00:00:00.000000000",
                    "2024-10-11T00:00:00.000000000",
                    "2024-10-14T00:00:00.000000000",
                    "2024-10-15T00:00:00.000000000",
                    "2024-10-16T00:00:00.000000000",
                    "2024-10-17T00:00:00.000000000",
                    "2024-10-18T00:00:00.000000000",
                    "2024-10-21T00:00:00.000000000",
                    "2024-10-22T00:00:00.000000000",
                    "2024-10-23T00:00:00.000000000",
                    "2024-10-24T00:00:00.000000000",
                    "2024-10-25T00:00:00.000000000",
                    "2024-10-28T00:00:00.000000000",
                    "2024-10-29T00:00:00.000000000",
                    "2024-10-30T00:00:00.000000000",
                    "2024-10-31T00:00:00.000000000",
                    "2024-11-01T00:00:00.000000000",
                    "2024-11-04T00:00:00.000000000",
                    "2024-11-05T00:00:00.000000000",
                    "2024-11-06T00:00:00.000000000",
                    "2024-11-07T00:00:00.000000000",
                    "2024-11-08T00:00:00.000000000",
                    "2024-11-11T00:00:00.000000000",
                    "2024-11-12T00:00:00.000000000",
                    "2024-11-13T00:00:00.000000000",
                    "2024-11-14T00:00:00.000000000",
                    "2024-11-15T00:00:00.000000000",
                    "2024-11-18T00:00:00.000000000",
                    "2024-11-19T00:00:00.000000000",
                    "2024-11-20T00:00:00.000000000",
                    "2024-11-21T00:00:00.000000000",
                    "2024-11-22T00:00:00.000000000",
                    "2024-11-25T00:00:00.000000000",
                    "2024-11-26T00:00:00.000000000",
                    "2024-11-27T00:00:00.000000000",
                    "2024-11-29T00:00:00.000000000",
                    "2024-12-02T00:00:00.000000000",
                    "2024-12-03T00:00:00.000000000",
                    "2024-12-04T00:00:00.000000000",
                    "2024-12-05T00:00:00.000000000",
                    "2024-12-06T00:00:00.000000000",
                    "2024-12-09T00:00:00.000000000",
                    "2024-12-10T00:00:00.000000000",
                    "2024-12-11T00:00:00.000000000",
                    "2024-12-12T00:00:00.000000000",
                    "2024-12-13T00:00:00.000000000",
                    "2024-12-16T00:00:00.000000000",
                    "2024-12-17T00:00:00.000000000",
                    "2024-12-18T00:00:00.000000000",
                    "2024-12-19T00:00:00.000000000",
                    "2024-12-20T00:00:00.000000000",
                    "2024-12-23T00:00:00.000000000",
                    "2024-12-24T00:00:00.000000000",
                    "2024-12-26T00:00:00.000000000",
                    "2024-12-27T00:00:00.000000000",
                    "2024-12-30T00:00:00.000000000",
                    "2024-12-31T00:00:00.000000000",
                    "2025-01-02T00:00:00.000000000",
                    "2025-01-03T00:00:00.000000000",
                    "2025-01-06T00:00:00.000000000",
                    "2025-01-07T00:00:00.000000000",
                    "2025-01-08T00:00:00.000000000",
                    "2025-01-10T00:00:00.000000000",
                    "2025-01-13T00:00:00.000000000",
                    "2025-01-14T00:00:00.000000000",
                    "2025-01-15T00:00:00.000000000",
                    "2025-01-16T00:00:00.000000000",
                    "2025-01-17T00:00:00.000000000",
                    "2025-01-21T00:00:00.000000000",
                    "2025-01-22T00:00:00.000000000",
                    "2025-01-23T00:00:00.000000000",
                    "2025-01-24T00:00:00.000000000",
                    "2025-01-27T00:00:00.000000000",
                    "2025-01-28T00:00:00.000000000",
                    "2025-01-29T00:00:00.000000000",
                    "2025-01-30T00:00:00.000000000",
                    "2025-01-31T00:00:00.000000000",
                    "2025-02-03T00:00:00.000000000",
                    "2025-02-04T00:00:00.000000000",
                    "2025-02-05T00:00:00.000000000",
                    "2025-02-06T00:00:00.000000000",
                    "2025-02-07T00:00:00.000000000",
                    "2025-02-10T00:00:00.000000000",
                    "2025-02-11T00:00:00.000000000",
                    "2025-02-12T00:00:00.000000000",
                    "2025-02-13T00:00:00.000000000",
                    "2025-02-14T00:00:00.000000000",
                    "2025-02-18T00:00:00.000000000",
                    "2025-02-19T00:00:00.000000000",
                    "2025-02-20T00:00:00.000000000",
                    "2025-02-21T00:00:00.000000000",
                    "2025-02-24T00:00:00.000000000",
                    "2025-02-25T00:00:00.000000000",
                    "2025-02-26T00:00:00.000000000",
                    "2025-02-27T00:00:00.000000000",
                    "2025-02-28T00:00:00.000000000",
                    "2025-03-03T00:00:00.000000000",
                    "2025-03-04T00:00:00.000000000",
                    "2025-03-05T00:00:00.000000000",
                    "2025-03-06T00:00:00.000000000",
                    "2025-03-07T00:00:00.000000000",
                    "2025-03-10T00:00:00.000000000",
                    "2025-03-11T00:00:00.000000000",
                    "2025-03-12T00:00:00.000000000",
                    "2025-03-13T00:00:00.000000000",
                    "2025-03-14T00:00:00.000000000",
                    "2025-03-17T00:00:00.000000000",
                    "2025-03-18T00:00:00.000000000",
                    "2025-03-19T00:00:00.000000000",
                    "2025-03-20T00:00:00.000000000",
                    "2025-03-21T00:00:00.000000000",
                    "2025-03-24T00:00:00.000000000",
                    "2025-03-25T00:00:00.000000000",
                    "2025-03-26T00:00:00.000000000",
                    "2025-03-27T00:00:00.000000000",
                    "2025-03-28T00:00:00.000000000",
                    "2025-03-31T00:00:00.000000000",
                    "2025-04-01T00:00:00.000000000",
                    "2025-04-02T00:00:00.000000000",
                    "2025-04-03T00:00:00.000000000",
                    "2025-04-04T00:00:00.000000000",
                    "2025-04-07T00:00:00.000000000",
                    "2025-04-08T00:00:00.000000000",
                    "2025-04-09T00:00:00.000000000",
                    "2025-04-10T00:00:00.000000000",
                    "2025-04-11T00:00:00.000000000",
                    "2025-04-14T00:00:00.000000000",
                    "2025-04-15T00:00:00.000000000",
                    "2025-04-16T00:00:00.000000000",
                    "2025-04-17T00:00:00.000000000",
                    "2025-04-21T00:00:00.000000000",
                    "2025-04-22T00:00:00.000000000",
                    "2025-04-23T00:00:00.000000000",
                    "2025-04-24T00:00:00.000000000",
                    "2025-04-25T00:00:00.000000000",
                    "2025-04-28T00:00:00.000000000",
                    "2025-04-29T00:00:00.000000000",
                    "2025-04-30T00:00:00.000000000",
                    "2025-05-01T00:00:00.000000000",
                    "2025-05-02T00:00:00.000000000",
                    "2025-05-05T00:00:00.000000000",
                    "2025-05-06T00:00:00.000000000",
                    "2025-05-07T00:00:00.000000000",
                    "2025-05-08T00:00:00.000000000",
                    "2025-05-09T00:00:00.000000000",
                    "2025-05-12T00:00:00.000000000",
                    "2025-05-13T00:00:00.000000000",
                    "2025-05-14T00:00:00.000000000",
                    "2025-05-15T00:00:00.000000000",
                    "2025-05-16T00:00:00.000000000",
                    "2025-05-19T00:00:00.000000000",
                    "2025-05-20T00:00:00.000000000",
                    "2025-05-21T00:00:00.000000000",
                    "2025-05-22T00:00:00.000000000",
                    "2025-05-23T00:00:00.000000000",
                    "2025-05-27T00:00:00.000000000",
                    "2025-05-28T00:00:00.000000000",
                    "2025-05-29T00:00:00.000000000",
                    "2025-05-30T00:00:00.000000000",
                    "2025-06-02T00:00:00.000000000",
                    "2025-06-03T00:00:00.000000000",
                    "2025-06-04T00:00:00.000000000",
                    "2025-06-05T00:00:00.000000000",
                    "2025-06-06T00:00:00.000000000",
                    "2025-06-09T00:00:00.000000000",
                    "2025-06-10T00:00:00.000000000",
                    "2025-06-11T00:00:00.000000000",
                    "2025-06-12T00:00:00.000000000",
                    "2025-06-13T00:00:00.000000000",
                    "2025-06-16T00:00:00.000000000",
                    "2025-06-17T00:00:00.000000000",
                    "2025-06-18T00:00:00.000000000",
                    "2025-06-20T00:00:00.000000000",
                    "2025-06-23T00:00:00.000000000",
                    "2025-06-24T00:00:00.000000000",
                    "2025-06-25T00:00:00.000000000",
                    "2025-06-26T00:00:00.000000000",
                    "2025-06-27T00:00:00.000000000"
                  ],
                  "xaxis": "x",
                  "y": {
                    "bdata": "CBmHAnyCMQKYASMCkGH9AfzAtQVEXx4CAJ0KA6TaoQKklQoCfBoIAqhgOwI0dYIB/CMPA0CNAwLMKq0BJOgoAmwJ/AF8vJwCiC+EBdivawLoHMIB2BnVAWyTzAE0v3gCiGnuAUROJQKkNm8B2F2zAnwK6ASUctAFyF0dA4R+SgOYI74D3AdgAiyAsQFIoLEGuJ0EBRxzJgSUG+QCIJ/BAfxZtQOwffcCdDZJAriA7QFYVuACCC5YA7TzagacTu8RZO3ICECpWwZM8NYFwJzFBQSwjQRgUEIDhLqeBLgPYgM0LA4FLFDlAsxp7gMUMwQFJDFmA1y/2gSA+F8EkCt9A/BHnQKEJv0CJKXYAzjKmAocbN8GHE0eBQDB5QOkSIYFhEnUA7S2UANchkEE1GUTAwz+ogKos+YIyIiyC9ykEwfQRfMFLA2FDzxR/gqEgL0GmHv5BkTyrwWkeR4FaMjzA9CCJQUsyYQDzFD0AvyU+AI8JUYDhO9+A9j3qgJou6wCFA+ZAlA3HAL4VhsEeFy0A3BznAJ062ECmC9eAhBj/QK81roCoM9qApgDBgR4kn8C+Ov4BBBNCQN8ZLQGfPVWCmwkCwWUm4YDtJ/1BpSaDAbgMo4E1IfHBLRHugOQF3gDBIfvAoTVSANkc44D9LKlA4zc/QIQLYMDPEoxAlCCbgUgOCYEbNs3A2C6LgJsavgIdCk8CCjRPAacYAMKXGmuBBgVGgRAXV0FVJp7BBiIoQRk0kgDxJlmBKDnFQNw4iAFaKceBETfdgYw1XQDYP7HATgBYALAZuACJIyNA6yZ+AJkmMQCXG/rAlid9gSU3a0DDNraAjgbPwTIJQUD7GnPAlApWwM0F60CvFfsCTjYvAU4XqIDmBtTA7iq8wOUXPsESCtgBDD9JwVYf3IGVIYAB5zongQYeTkDwPvvA4gYtwIMQHkDxABaBDx6/wggjrEJNEXSDhRmuQ1o9PEQ5IcNCVCaowg0WqcGlANyBeRMTAXUMQUEHGjVBaj0NAZcz2wIuB0SCWQ2lQfg9b8FUHvVBJjT7gQIvtAEfF2rB0jefw7gxvcGkHKUCWCe5QdIbxMIgOcbBOwDnAVobx8ERIoVA/zYiwMYv3ADdJV6A0CE7APwe9EDUGuCA8R1ew4sg24KQD5+CGwtxgnMxFwNxF+xB0ifpwdw2hMGRG7RAwQzVQU4nBcFLONQBOAO+AQE+coF+Jf6BuDkzQgQX8IFHJosBFQiEgQM51MExNvFA8gAowLwPg8DaNOiA3RRRQQY7RUDDCijBeCklAQgeXUFXNj5A5xdUwM80tQD+ALkAnzZvwO8rFcDFL4QBFiOJAR0YL8CaML0A6zNzwa82QsE7NXKBCTqPQSgoFEE4DktBMxyiQXoOTgK9MC/CJzeqATchTkFDKArBYhUNwUYY50FIKL0Bwj/2gS8RMUH/HDfA3TNxAN4LLAF",
                    "dtype": "i4"
                  },
                  "yaxis": "y"
                },
                {
                  "legendgroup": "INTC",
                  "name": "INTC Returns",
                  "nbinsx": 30,
                  "opacity": 0.7,
                  "showlegend": false,
                  "type": "histogram",
                  "x": {
                    "bdata": "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",
                    "dtype": "f8"
                  },
                  "xaxis": "x2",
                  "yaxis": "y3"
                },
                {
                  "legendgroup": "INTC",
                  "line": {
                    "color": "red"
                  },
                  "name": "INTC Volume",
                  "showlegend": false,
                  "type": "scatter",
                  "x": [
                    "2024-05-24T00:00:00.000000000",
                    "2024-05-28T00:00:00.000000000",
                    "2024-05-29T00:00:00.000000000",
                    "2024-05-30T00:00:00.000000000",
                    "2024-05-31T00:00:00.000000000",
                    "2024-06-03T00:00:00.000000000",
                    "2024-06-04T00:00:00.000000000",
                    "2024-06-05T00:00:00.000000000",
                    "2024-06-06T00:00:00.000000000",
                    "2024-06-07T00:00:00.000000000",
                    "2024-06-10T00:00:00.000000000",
                    "2024-06-11T00:00:00.000000000",
                    "2024-06-12T00:00:00.000000000",
                    "2024-06-13T00:00:00.000000000",
                    "2024-06-14T00:00:00.000000000",
                    "2024-06-17T00:00:00.000000000",
                    "2024-06-18T00:00:00.000000000",
                    "2024-06-20T00:00:00.000000000",
                    "2024-06-21T00:00:00.000000000",
                    "2024-06-24T00:00:00.000000000",
                    "2024-06-25T00:00:00.000000000",
                    "2024-06-26T00:00:00.000000000",
                    "2024-06-27T00:00:00.000000000",
                    "2024-06-28T00:00:00.000000000",
                    "2024-07-01T00:00:00.000000000",
                    "2024-07-02T00:00:00.000000000",
                    "2024-07-03T00:00:00.000000000",
                    "2024-07-05T00:00:00.000000000",
                    "2024-07-08T00:00:00.000000000",
                    "2024-07-09T00:00:00.000000000",
                    "2024-07-10T00:00:00.000000000",
                    "2024-07-11T00:00:00.000000000",
                    "2024-07-12T00:00:00.000000000",
                    "2024-07-15T00:00:00.000000000",
                    "2024-07-16T00:00:00.000000000",
                    "2024-07-17T00:00:00.000000000",
                    "2024-07-18T00:00:00.000000000",
                    "2024-07-19T00:00:00.000000000",
                    "2024-07-22T00:00:00.000000000",
                    "2024-07-23T00:00:00.000000000",
                    "2024-07-24T00:00:00.000000000",
                    "2024-07-25T00:00:00.000000000",
                    "2024-07-26T00:00:00.000000000",
                    "2024-07-29T00:00:00.000000000",
                    "2024-07-30T00:00:00.000000000",
                    "2024-07-31T00:00:00.000000000",
                    "2024-08-01T00:00:00.000000000",
                    "2024-08-02T00:00:00.000000000",
                    "2024-08-05T00:00:00.000000000",
                    "2024-08-06T00:00:00.000000000",
                    "2024-08-07T00:00:00.000000000",
                    "2024-08-08T00:00:00.000000000",
                    "2024-08-09T00:00:00.000000000",
                    "2024-08-12T00:00:00.000000000",
                    "2024-08-13T00:00:00.000000000",
                    "2024-08-14T00:00:00.000000000",
                    "2024-08-15T00:00:00.000000000",
                    "2024-08-16T00:00:00.000000000",
                    "2024-08-19T00:00:00.000000000",
                    "2024-08-20T00:00:00.000000000",
                    "2024-08-21T00:00:00.000000000",
                    "2024-08-22T00:00:00.000000000",
                    "2024-08-23T00:00:00.000000000",
                    "2024-08-26T00:00:00.000000000",
                    "2024-08-27T00:00:00.000000000",
                    "2024-08-28T00:00:00.000000000",
                    "2024-08-29T00:00:00.000000000",
                    "2024-08-30T00:00:00.000000000",
                    "2024-09-03T00:00:00.000000000",
                    "2024-09-04T00:00:00.000000000",
                    "2024-09-05T00:00:00.000000000",
                    "2024-09-06T00:00:00.000000000",
                    "2024-09-09T00:00:00.000000000",
                    "2024-09-10T00:00:00.000000000",
                    "2024-09-11T00:00:00.000000000",
                    "2024-09-12T00:00:00.000000000",
                    "2024-09-13T00:00:00.000000000",
                    "2024-09-16T00:00:00.000000000",
                    "2024-09-17T00:00:00.000000000",
                    "2024-09-18T00:00:00.000000000",
                    "2024-09-19T00:00:00.000000000",
                    "2024-09-20T00:00:00.000000000",
                    "2024-09-23T00:00:00.000000000",
                    "2024-09-24T00:00:00.000000000",
                    "2024-09-25T00:00:00.000000000",
                    "2024-09-26T00:00:00.000000000",
                    "2024-09-27T00:00:00.000000000",
                    "2024-09-30T00:00:00.000000000",
                    "2024-10-01T00:00:00.000000000",
                    "2024-10-02T00:00:00.000000000",
                    "2024-10-03T00:00:00.000000000",
                    "2024-10-04T00:00:00.000000000",
                    "2024-10-07T00:00:00.000000000",
                    "2024-10-08T00:00:00.000000000",
                    "2024-10-09T00:00:00.000000000",
                    "2024-10-10T00:00:00.000000000",
                    "2024-10-11T00:00:00.000000000",
                    "2024-10-14T00:00:00.000000000",
                    "2024-10-15T00:00:00.000000000",
                    "2024-10-16T00:00:00.000000000",
                    "2024-10-17T00:00:00.000000000",
                    "2024-10-18T00:00:00.000000000",
                    "2024-10-21T00:00:00.000000000",
                    "2024-10-22T00:00:00.000000000",
                    "2024-10-23T00:00:00.000000000",
                    "2024-10-24T00:00:00.000000000",
                    "2024-10-25T00:00:00.000000000",
                    "2024-10-28T00:00:00.000000000",
                    "2024-10-29T00:00:00.000000000",
                    "2024-10-30T00:00:00.000000000",
                    "2024-10-31T00:00:00.000000000",
                    "2024-11-01T00:00:00.000000000",
                    "2024-11-04T00:00:00.000000000",
                    "2024-11-05T00:00:00.000000000",
                    "2024-11-06T00:00:00.000000000",
                    "2024-11-07T00:00:00.000000000",
                    "2024-11-08T00:00:00.000000000",
                    "2024-11-11T00:00:00.000000000",
                    "2024-11-12T00:00:00.000000000",
                    "2024-11-13T00:00:00.000000000",
                    "2024-11-14T00:00:00.000000000",
                    "2024-11-15T00:00:00.000000000",
                    "2024-11-18T00:00:00.000000000",
                    "2024-11-19T00:00:00.000000000",
                    "2024-11-20T00:00:00.000000000",
                    "2024-11-21T00:00:00.000000000",
                    "2024-11-22T00:00:00.000000000",
                    "2024-11-25T00:00:00.000000000",
                    "2024-11-26T00:00:00.000000000",
                    "2024-11-27T00:00:00.000000000",
                    "2024-11-29T00:00:00.000000000",
                    "2024-12-02T00:00:00.000000000",
                    "2024-12-03T00:00:00.000000000",
                    "2024-12-04T00:00:00.000000000",
                    "2024-12-05T00:00:00.000000000",
                    "2024-12-06T00:00:00.000000000",
                    "2024-12-09T00:00:00.000000000",
                    "2024-12-10T00:00:00.000000000",
                    "2024-12-11T00:00:00.000000000",
                    "2024-12-12T00:00:00.000000000",
                    "2024-12-13T00:00:00.000000000",
                    "2024-12-16T00:00:00.000000000",
                    "2024-12-17T00:00:00.000000000",
                    "2024-12-18T00:00:00.000000000",
                    "2024-12-19T00:00:00.000000000",
                    "2024-12-20T00:00:00.000000000",
                    "2024-12-23T00:00:00.000000000",
                    "2024-12-24T00:00:00.000000000",
                    "2024-12-26T00:00:00.000000000",
                    "2024-12-27T00:00:00.000000000",
                    "2024-12-30T00:00:00.000000000",
                    "2024-12-31T00:00:00.000000000",
                    "2025-01-02T00:00:00.000000000",
                    "2025-01-03T00:00:00.000000000",
                    "2025-01-06T00:00:00.000000000",
                    "2025-01-07T00:00:00.000000000",
                    "2025-01-08T00:00:00.000000000",
                    "2025-01-10T00:00:00.000000000",
                    "2025-01-13T00:00:00.000000000",
                    "2025-01-14T00:00:00.000000000",
                    "2025-01-15T00:00:00.000000000",
                    "2025-01-16T00:00:00.000000000",
                    "2025-01-17T00:00:00.000000000",
                    "2025-01-21T00:00:00.000000000",
                    "2025-01-22T00:00:00.000000000",
                    "2025-01-23T00:00:00.000000000",
                    "2025-01-24T00:00:00.000000000",
                    "2025-01-27T00:00:00.000000000",
                    "2025-01-28T00:00:00.000000000",
                    "2025-01-29T00:00:00.000000000",
                    "2025-01-30T00:00:00.000000000",
                    "2025-01-31T00:00:00.000000000",
                    "2025-02-03T00:00:00.000000000",
                    "2025-02-04T00:00:00.000000000",
                    "2025-02-05T00:00:00.000000000",
                    "2025-02-06T00:00:00.000000000",
                    "2025-02-07T00:00:00.000000000",
                    "2025-02-10T00:00:00.000000000",
                    "2025-02-11T00:00:00.000000000",
                    "2025-02-12T00:00:00.000000000",
                    "2025-02-13T00:00:00.000000000",
                    "2025-02-14T00:00:00.000000000",
                    "2025-02-18T00:00:00.000000000",
                    "2025-02-19T00:00:00.000000000",
                    "2025-02-20T00:00:00.000000000",
                    "2025-02-21T00:00:00.000000000",
                    "2025-02-24T00:00:00.000000000",
                    "2025-02-25T00:00:00.000000000",
                    "2025-02-26T00:00:00.000000000",
                    "2025-02-27T00:00:00.000000000",
                    "2025-02-28T00:00:00.000000000",
                    "2025-03-03T00:00:00.000000000",
                    "2025-03-04T00:00:00.000000000",
                    "2025-03-05T00:00:00.000000000",
                    "2025-03-06T00:00:00.000000000",
                    "2025-03-07T00:00:00.000000000",
                    "2025-03-10T00:00:00.000000000",
                    "2025-03-11T00:00:00.000000000",
                    "2025-03-12T00:00:00.000000000",
                    "2025-03-13T00:00:00.000000000",
                    "2025-03-14T00:00:00.000000000",
                    "2025-03-17T00:00:00.000000000",
                    "2025-03-18T00:00:00.000000000",
                    "2025-03-19T00:00:00.000000000",
                    "2025-03-20T00:00:00.000000000",
                    "2025-03-21T00:00:00.000000000",
                    "2025-03-24T00:00:00.000000000",
                    "2025-03-25T00:00:00.000000000",
                    "2025-03-26T00:00:00.000000000",
                    "2025-03-27T00:00:00.000000000",
                    "2025-03-28T00:00:00.000000000",
                    "2025-03-31T00:00:00.000000000",
                    "2025-04-01T00:00:00.000000000",
                    "2025-04-02T00:00:00.000000000",
                    "2025-04-03T00:00:00.000000000",
                    "2025-04-04T00:00:00.000000000",
                    "2025-04-07T00:00:00.000000000",
                    "2025-04-08T00:00:00.000000000",
                    "2025-04-09T00:00:00.000000000",
                    "2025-04-10T00:00:00.000000000",
                    "2025-04-11T00:00:00.000000000",
                    "2025-04-14T00:00:00.000000000",
                    "2025-04-15T00:00:00.000000000",
                    "2025-04-16T00:00:00.000000000",
                    "2025-04-17T00:00:00.000000000",
                    "2025-04-21T00:00:00.000000000",
                    "2025-04-22T00:00:00.000000000",
                    "2025-04-23T00:00:00.000000000",
                    "2025-04-24T00:00:00.000000000",
                    "2025-04-25T00:00:00.000000000",
                    "2025-04-28T00:00:00.000000000",
                    "2025-04-29T00:00:00.000000000",
                    "2025-04-30T00:00:00.000000000",
                    "2025-05-01T00:00:00.000000000",
                    "2025-05-02T00:00:00.000000000",
                    "2025-05-05T00:00:00.000000000",
                    "2025-05-06T00:00:00.000000000",
                    "2025-05-07T00:00:00.000000000",
                    "2025-05-08T00:00:00.000000000",
                    "2025-05-09T00:00:00.000000000",
                    "2025-05-12T00:00:00.000000000",
                    "2025-05-13T00:00:00.000000000",
                    "2025-05-14T00:00:00.000000000",
                    "2025-05-15T00:00:00.000000000",
                    "2025-05-16T00:00:00.000000000",
                    "2025-05-19T00:00:00.000000000",
                    "2025-05-20T00:00:00.000000000",
                    "2025-05-21T00:00:00.000000000",
                    "2025-05-22T00:00:00.000000000",
                    "2025-05-23T00:00:00.000000000",
                    "2025-05-27T00:00:00.000000000",
                    "2025-05-28T00:00:00.000000000",
                    "2025-05-29T00:00:00.000000000",
                    "2025-05-30T00:00:00.000000000",
                    "2025-06-02T00:00:00.000000000",
                    "2025-06-03T00:00:00.000000000",
                    "2025-06-04T00:00:00.000000000",
                    "2025-06-05T00:00:00.000000000",
                    "2025-06-06T00:00:00.000000000",
                    "2025-06-09T00:00:00.000000000",
                    "2025-06-10T00:00:00.000000000",
                    "2025-06-11T00:00:00.000000000",
                    "2025-06-12T00:00:00.000000000",
                    "2025-06-13T00:00:00.000000000",
                    "2025-06-16T00:00:00.000000000",
                    "2025-06-17T00:00:00.000000000",
                    "2025-06-18T00:00:00.000000000",
                    "2025-06-20T00:00:00.000000000",
                    "2025-06-23T00:00:00.000000000",
                    "2025-06-24T00:00:00.000000000",
                    "2025-06-25T00:00:00.000000000",
                    "2025-06-26T00:00:00.000000000",
                    "2025-06-27T00:00:00.000000000"
                  ],
                  "xaxis": "x3",
                  "y": {
                    "bdata": "CBmHAnyCMQKYASMCkGH9AfzAtQVEXx4CAJ0KA6TaoQKklQoCfBoIAqhgOwI0dYIB/CMPA0CNAwLMKq0BJOgoAmwJ/AF8vJwCiC+EBdivawLoHMIB2BnVAWyTzAE0v3gCiGnuAUROJQKkNm8B2F2zAnwK6ASUctAFyF0dA4R+SgOYI74D3AdgAiyAsQFIoLEGuJ0EBRxzJgSUG+QCIJ/BAfxZtQOwffcCdDZJAriA7QFYVuACCC5YA7TzagacTu8RZO3ICECpWwZM8NYFwJzFBQSwjQRgUEIDhLqeBLgPYgM0LA4FLFDlAsxp7gMUMwQFJDFmA1y/2gSA+F8EkCt9A/BHnQKEJv0CJKXYAzjKmAocbN8GHE0eBQDB5QOkSIYFhEnUA7S2UANchkEE1GUTAwz+ogKos+YIyIiyC9ykEwfQRfMFLA2FDzxR/gqEgL0GmHv5BkTyrwWkeR4FaMjzA9CCJQUsyYQDzFD0AvyU+AI8JUYDhO9+A9j3qgJou6wCFA+ZAlA3HAL4VhsEeFy0A3BznAJ062ECmC9eAhBj/QK81roCoM9qApgDBgR4kn8C+Ov4BBBNCQN8ZLQGfPVWCmwkCwWUm4YDtJ/1BpSaDAbgMo4E1IfHBLRHugOQF3gDBIfvAoTVSANkc44D9LKlA4zc/QIQLYMDPEoxAlCCbgUgOCYEbNs3A2C6LgJsavgIdCk8CCjRPAacYAMKXGmuBBgVGgRAXV0FVJp7BBiIoQRk0kgDxJlmBKDnFQNw4iAFaKceBETfdgYw1XQDYP7HATgBYALAZuACJIyNA6yZ+AJkmMQCXG/rAlid9gSU3a0DDNraAjgbPwTIJQUD7GnPAlApWwM0F60CvFfsCTjYvAU4XqIDmBtTA7iq8wOUXPsESCtgBDD9JwVYf3IGVIYAB5zongQYeTkDwPvvA4gYtwIMQHkDxABaBDx6/wggjrEJNEXSDhRmuQ1o9PEQ5IcNCVCaowg0WqcGlANyBeRMTAXUMQUEHGjVBaj0NAZcz2wIuB0SCWQ2lQfg9b8FUHvVBJjT7gQIvtAEfF2rB0jefw7gxvcGkHKUCWCe5QdIbxMIgOcbBOwDnAVobx8ERIoVA/zYiwMYv3ADdJV6A0CE7APwe9EDUGuCA8R1ew4sg24KQD5+CGwtxgnMxFwNxF+xB0ifpwdw2hMGRG7RAwQzVQU4nBcFLONQBOAO+AQE+coF+Jf6BuDkzQgQX8IFHJosBFQiEgQM51MExNvFA8gAowLwPg8DaNOiA3RRRQQY7RUDDCijBeCklAQgeXUFXNj5A5xdUwM80tQD+ALkAnzZvwO8rFcDFL4QBFiOJAR0YL8CaML0A6zNzwa82QsE7NXKBCTqPQSgoFEE4DktBMxyiQXoOTgK9MC/CJzeqATchTkFDKArBYhUNwUYY50FIKL0Bwj/2gS8RMUH/HDfA3TNxAN4LLAF",
                    "dtype": "i4"
                  },
                  "yaxis": "y4"
                },
                {
                  "legendgroup": "INTC",
                  "line": {
                    "color": "red"
                  },
                  "mode": "lines",
                  "name": "INTC Volatility",
                  "showlegend": false,
                  "type": "scatter",
                  "x": [
                    "2024-05-24T00:00:00.000000000",
                    "2024-05-28T00:00:00.000000000",
                    "2024-05-29T00:00:00.000000000",
                    "2024-05-30T00:00:00.000000000",
                    "2024-05-31T00:00:00.000000000",
                    "2024-06-03T00:00:00.000000000",
                    "2024-06-04T00:00:00.000000000",
                    "2024-06-05T00:00:00.000000000",
                    "2024-06-06T00:00:00.000000000",
                    "2024-06-07T00:00:00.000000000",
                    "2024-06-10T00:00:00.000000000",
                    "2024-06-11T00:00:00.000000000",
                    "2024-06-12T00:00:00.000000000",
                    "2024-06-13T00:00:00.000000000",
                    "2024-06-14T00:00:00.000000000",
                    "2024-06-17T00:00:00.000000000",
                    "2024-06-18T00:00:00.000000000",
                    "2024-06-20T00:00:00.000000000",
                    "2024-06-21T00:00:00.000000000",
                    "2024-06-24T00:00:00.000000000",
                    "2024-06-25T00:00:00.000000000",
                    "2024-06-26T00:00:00.000000000",
                    "2024-06-27T00:00:00.000000000",
                    "2024-06-28T00:00:00.000000000",
                    "2024-07-01T00:00:00.000000000",
                    "2024-07-02T00:00:00.000000000",
                    "2024-07-03T00:00:00.000000000",
                    "2024-07-05T00:00:00.000000000",
                    "2024-07-08T00:00:00.000000000",
                    "2024-07-09T00:00:00.000000000",
                    "2024-07-10T00:00:00.000000000",
                    "2024-07-11T00:00:00.000000000",
                    "2024-07-12T00:00:00.000000000",
                    "2024-07-15T00:00:00.000000000",
                    "2024-07-16T00:00:00.000000000",
                    "2024-07-17T00:00:00.000000000",
                    "2024-07-18T00:00:00.000000000",
                    "2024-07-19T00:00:00.000000000",
                    "2024-07-22T00:00:00.000000000",
                    "2024-07-23T00:00:00.000000000",
                    "2024-07-24T00:00:00.000000000",
                    "2024-07-25T00:00:00.000000000",
                    "2024-07-26T00:00:00.000000000",
                    "2024-07-29T00:00:00.000000000",
                    "2024-07-30T00:00:00.000000000",
                    "2024-07-31T00:00:00.000000000",
                    "2024-08-01T00:00:00.000000000",
                    "2024-08-02T00:00:00.000000000",
                    "2024-08-05T00:00:00.000000000",
                    "2024-08-06T00:00:00.000000000",
                    "2024-08-07T00:00:00.000000000",
                    "2024-08-08T00:00:00.000000000",
                    "2024-08-09T00:00:00.000000000",
                    "2024-08-12T00:00:00.000000000",
                    "2024-08-13T00:00:00.000000000",
                    "2024-08-14T00:00:00.000000000",
                    "2024-08-15T00:00:00.000000000",
                    "2024-08-16T00:00:00.000000000",
                    "2024-08-19T00:00:00.000000000",
                    "2024-08-20T00:00:00.000000000",
                    "2024-08-21T00:00:00.000000000",
                    "2024-08-22T00:00:00.000000000",
                    "2024-08-23T00:00:00.000000000",
                    "2024-08-26T00:00:00.000000000",
                    "2024-08-27T00:00:00.000000000",
                    "2024-08-28T00:00:00.000000000",
                    "2024-08-29T00:00:00.000000000",
                    "2024-08-30T00:00:00.000000000",
                    "2024-09-03T00:00:00.000000000",
                    "2024-09-04T00:00:00.000000000",
                    "2024-09-05T00:00:00.000000000",
                    "2024-09-06T00:00:00.000000000",
                    "2024-09-09T00:00:00.000000000",
                    "2024-09-10T00:00:00.000000000",
                    "2024-09-11T00:00:00.000000000",
                    "2024-09-12T00:00:00.000000000",
                    "2024-09-13T00:00:00.000000000",
                    "2024-09-16T00:00:00.000000000",
                    "2024-09-17T00:00:00.000000000",
                    "2024-09-18T00:00:00.000000000",
                    "2024-09-19T00:00:00.000000000",
                    "2024-09-20T00:00:00.000000000",
                    "2024-09-23T00:00:00.000000000",
                    "2024-09-24T00:00:00.000000000",
                    "2024-09-25T00:00:00.000000000",
                    "2024-09-26T00:00:00.000000000",
                    "2024-09-27T00:00:00.000000000",
                    "2024-09-30T00:00:00.000000000",
                    "2024-10-01T00:00:00.000000000",
                    "2024-10-02T00:00:00.000000000",
                    "2024-10-03T00:00:00.000000000",
                    "2024-10-04T00:00:00.000000000",
                    "2024-10-07T00:00:00.000000000",
                    "2024-10-08T00:00:00.000000000",
                    "2024-10-09T00:00:00.000000000",
                    "2024-10-10T00:00:00.000000000",
                    "2024-10-11T00:00:00.000000000",
                    "2024-10-14T00:00:00.000000000",
                    "2024-10-15T00:00:00.000000000",
                    "2024-10-16T00:00:00.000000000",
                    "2024-10-17T00:00:00.000000000",
                    "2024-10-18T00:00:00.000000000",
                    "2024-10-21T00:00:00.000000000",
                    "2024-10-22T00:00:00.000000000",
                    "2024-10-23T00:00:00.000000000",
                    "2024-10-24T00:00:00.000000000",
                    "2024-10-25T00:00:00.000000000",
                    "2024-10-28T00:00:00.000000000",
                    "2024-10-29T00:00:00.000000000",
                    "2024-10-30T00:00:00.000000000",
                    "2024-10-31T00:00:00.000000000",
                    "2024-11-01T00:00:00.000000000",
                    "2024-11-04T00:00:00.000000000",
                    "2024-11-05T00:00:00.000000000",
                    "2024-11-06T00:00:00.000000000",
                    "2024-11-07T00:00:00.000000000",
                    "2024-11-08T00:00:00.000000000",
                    "2024-11-11T00:00:00.000000000",
                    "2024-11-12T00:00:00.000000000",
                    "2024-11-13T00:00:00.000000000",
                    "2024-11-14T00:00:00.000000000",
                    "2024-11-15T00:00:00.000000000",
                    "2024-11-18T00:00:00.000000000",
                    "2024-11-19T00:00:00.000000000",
                    "2024-11-20T00:00:00.000000000",
                    "2024-11-21T00:00:00.000000000",
                    "2024-11-22T00:00:00.000000000",
                    "2024-11-25T00:00:00.000000000",
                    "2024-11-26T00:00:00.000000000",
                    "2024-11-27T00:00:00.000000000",
                    "2024-11-29T00:00:00.000000000",
                    "2024-12-02T00:00:00.000000000",
                    "2024-12-03T00:00:00.000000000",
                    "2024-12-04T00:00:00.000000000",
                    "2024-12-05T00:00:00.000000000",
                    "2024-12-06T00:00:00.000000000",
                    "2024-12-09T00:00:00.000000000",
                    "2024-12-10T00:00:00.000000000",
                    "2024-12-11T00:00:00.000000000",
                    "2024-12-12T00:00:00.000000000",
                    "2024-12-13T00:00:00.000000000",
                    "2024-12-16T00:00:00.000000000",
                    "2024-12-17T00:00:00.000000000",
                    "2024-12-18T00:00:00.000000000",
                    "2024-12-19T00:00:00.000000000",
                    "2024-12-20T00:00:00.000000000",
                    "2024-12-23T00:00:00.000000000",
                    "2024-12-24T00:00:00.000000000",
                    "2024-12-26T00:00:00.000000000",
                    "2024-12-27T00:00:00.000000000",
                    "2024-12-30T00:00:00.000000000",
                    "2024-12-31T00:00:00.000000000",
                    "2025-01-02T00:00:00.000000000",
                    "2025-01-03T00:00:00.000000000",
                    "2025-01-06T00:00:00.000000000",
                    "2025-01-07T00:00:00.000000000",
                    "2025-01-08T00:00:00.000000000",
                    "2025-01-10T00:00:00.000000000",
                    "2025-01-13T00:00:00.000000000",
                    "2025-01-14T00:00:00.000000000",
                    "2025-01-15T00:00:00.000000000",
                    "2025-01-16T00:00:00.000000000",
                    "2025-01-17T00:00:00.000000000",
                    "2025-01-21T00:00:00.000000000",
                    "2025-01-22T00:00:00.000000000",
                    "2025-01-23T00:00:00.000000000",
                    "2025-01-24T00:00:00.000000000",
                    "2025-01-27T00:00:00.000000000",
                    "2025-01-28T00:00:00.000000000",
                    "2025-01-29T00:00:00.000000000",
                    "2025-01-30T00:00:00.000000000",
                    "2025-01-31T00:00:00.000000000",
                    "2025-02-03T00:00:00.000000000",
                    "2025-02-04T00:00:00.000000000",
                    "2025-02-05T00:00:00.000000000",
                    "2025-02-06T00:00:00.000000000",
                    "2025-02-07T00:00:00.000000000",
                    "2025-02-10T00:00:00.000000000",
                    "2025-02-11T00:00:00.000000000",
                    "2025-02-12T00:00:00.000000000",
                    "2025-02-13T00:00:00.000000000",
                    "2025-02-14T00:00:00.000000000",
                    "2025-02-18T00:00:00.000000000",
                    "2025-02-19T00:00:00.000000000",
                    "2025-02-20T00:00:00.000000000",
                    "2025-02-21T00:00:00.000000000",
                    "2025-02-24T00:00:00.000000000",
                    "2025-02-25T00:00:00.000000000",
                    "2025-02-26T00:00:00.000000000",
                    "2025-02-27T00:00:00.000000000",
                    "2025-02-28T00:00:00.000000000",
                    "2025-03-03T00:00:00.000000000",
                    "2025-03-04T00:00:00.000000000",
                    "2025-03-05T00:00:00.000000000",
                    "2025-03-06T00:00:00.000000000",
                    "2025-03-07T00:00:00.000000000",
                    "2025-03-10T00:00:00.000000000",
                    "2025-03-11T00:00:00.000000000",
                    "2025-03-12T00:00:00.000000000",
                    "2025-03-13T00:00:00.000000000",
                    "2025-03-14T00:00:00.000000000",
                    "2025-03-17T00:00:00.000000000",
                    "2025-03-18T00:00:00.000000000",
                    "2025-03-19T00:00:00.000000000",
                    "2025-03-20T00:00:00.000000000",
                    "2025-03-21T00:00:00.000000000",
                    "2025-03-24T00:00:00.000000000",
                    "2025-03-25T00:00:00.000000000",
                    "2025-03-26T00:00:00.000000000",
                    "2025-03-27T00:00:00.000000000",
                    "2025-03-28T00:00:00.000000000",
                    "2025-03-31T00:00:00.000000000",
                    "2025-04-01T00:00:00.000000000",
                    "2025-04-02T00:00:00.000000000",
                    "2025-04-03T00:00:00.000000000",
                    "2025-04-04T00:00:00.000000000",
                    "2025-04-07T00:00:00.000000000",
                    "2025-04-08T00:00:00.000000000",
                    "2025-04-09T00:00:00.000000000",
                    "2025-04-10T00:00:00.000000000",
                    "2025-04-11T00:00:00.000000000",
                    "2025-04-14T00:00:00.000000000",
                    "2025-04-15T00:00:00.000000000",
                    "2025-04-16T00:00:00.000000000",
                    "2025-04-17T00:00:00.000000000",
                    "2025-04-21T00:00:00.000000000",
                    "2025-04-22T00:00:00.000000000",
                    "2025-04-23T00:00:00.000000000",
                    "2025-04-24T00:00:00.000000000",
                    "2025-04-25T00:00:00.000000000",
                    "2025-04-28T00:00:00.000000000",
                    "2025-04-29T00:00:00.000000000",
                    "2025-04-30T00:00:00.000000000",
                    "2025-05-01T00:00:00.000000000",
                    "2025-05-02T00:00:00.000000000",
                    "2025-05-05T00:00:00.000000000",
                    "2025-05-06T00:00:00.000000000",
                    "2025-05-07T00:00:00.000000000",
                    "2025-05-08T00:00:00.000000000",
                    "2025-05-09T00:00:00.000000000",
                    "2025-05-12T00:00:00.000000000",
                    "2025-05-13T00:00:00.000000000",
                    "2025-05-14T00:00:00.000000000",
                    "2025-05-15T00:00:00.000000000",
                    "2025-05-16T00:00:00.000000000",
                    "2025-05-19T00:00:00.000000000",
                    "2025-05-20T00:00:00.000000000",
                    "2025-05-21T00:00:00.000000000",
                    "2025-05-22T00:00:00.000000000",
                    "2025-05-23T00:00:00.000000000",
                    "2025-05-27T00:00:00.000000000",
                    "2025-05-28T00:00:00.000000000",
                    "2025-05-29T00:00:00.000000000",
                    "2025-05-30T00:00:00.000000000",
                    "2025-06-02T00:00:00.000000000",
                    "2025-06-03T00:00:00.000000000",
                    "2025-06-04T00:00:00.000000000",
                    "2025-06-05T00:00:00.000000000",
                    "2025-06-06T00:00:00.000000000",
                    "2025-06-09T00:00:00.000000000",
                    "2025-06-10T00:00:00.000000000",
                    "2025-06-11T00:00:00.000000000",
                    "2025-06-12T00:00:00.000000000",
                    "2025-06-13T00:00:00.000000000",
                    "2025-06-16T00:00:00.000000000",
                    "2025-06-17T00:00:00.000000000",
                    "2025-06-18T00:00:00.000000000",
                    "2025-06-20T00:00:00.000000000",
                    "2025-06-23T00:00:00.000000000",
                    "2025-06-24T00:00:00.000000000",
                    "2025-06-25T00:00:00.000000000",
                    "2025-06-26T00:00:00.000000000",
                    "2025-06-27T00:00:00.000000000"
                  ],
                  "xaxis": "x4",
                  "y": {
                    "bdata": "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",
                    "dtype": "f8"
                  },
                  "yaxis": "y6"
                },
                {
                  "legendgroup": "NVDA",
                  "line": {
                    "color": "green"
                  },
                  "name": "NVDA Price",
                  "type": "scatter",
                  "x": [
                    "2024-05-24T00:00:00.000000000",
                    "2024-05-28T00:00:00.000000000",
                    "2024-05-29T00:00:00.000000000",
                    "2024-05-30T00:00:00.000000000",
                    "2024-05-31T00:00:00.000000000",
                    "2024-06-03T00:00:00.000000000",
                    "2024-06-04T00:00:00.000000000",
                    "2024-06-05T00:00:00.000000000",
                    "2024-06-06T00:00:00.000000000",
                    "2024-06-07T00:00:00.000000000",
                    "2024-06-10T00:00:00.000000000",
                    "2024-06-11T00:00:00.000000000",
                    "2024-06-12T00:00:00.000000000",
                    "2024-06-13T00:00:00.000000000",
                    "2024-06-14T00:00:00.000000000",
                    "2024-06-17T00:00:00.000000000",
                    "2024-06-18T00:00:00.000000000",
                    "2024-06-20T00:00:00.000000000",
                    "2024-06-21T00:00:00.000000000",
                    "2024-06-24T00:00:00.000000000",
                    "2024-06-25T00:00:00.000000000",
                    "2024-06-26T00:00:00.000000000",
                    "2024-06-27T00:00:00.000000000",
                    "2024-06-28T00:00:00.000000000",
                    "2024-07-01T00:00:00.000000000",
                    "2024-07-02T00:00:00.000000000",
                    "2024-07-03T00:00:00.000000000",
                    "2024-07-05T00:00:00.000000000",
                    "2024-07-08T00:00:00.000000000",
                    "2024-07-09T00:00:00.000000000",
                    "2024-07-10T00:00:00.000000000",
                    "2024-07-11T00:00:00.000000000",
                    "2024-07-12T00:00:00.000000000",
                    "2024-07-15T00:00:00.000000000",
                    "2024-07-16T00:00:00.000000000",
                    "2024-07-17T00:00:00.000000000",
                    "2024-07-18T00:00:00.000000000",
                    "2024-07-19T00:00:00.000000000",
                    "2024-07-22T00:00:00.000000000",
                    "2024-07-23T00:00:00.000000000",
                    "2024-07-24T00:00:00.000000000",
                    "2024-07-25T00:00:00.000000000",
                    "2024-07-26T00:00:00.000000000",
                    "2024-07-29T00:00:00.000000000",
                    "2024-07-30T00:00:00.000000000",
                    "2024-07-31T00:00:00.000000000",
                    "2024-08-01T00:00:00.000000000",
                    "2024-08-02T00:00:00.000000000",
                    "2024-08-05T00:00:00.000000000",
                    "2024-08-06T00:00:00.000000000",
                    "2024-08-07T00:00:00.000000000",
                    "2024-08-08T00:00:00.000000000",
                    "2024-08-09T00:00:00.000000000",
                    "2024-08-12T00:00:00.000000000",
                    "2024-08-13T00:00:00.000000000",
                    "2024-08-14T00:00:00.000000000",
                    "2024-08-15T00:00:00.000000000",
                    "2024-08-16T00:00:00.000000000",
                    "2024-08-19T00:00:00.000000000",
                    "2024-08-20T00:00:00.000000000",
                    "2024-08-21T00:00:00.000000000",
                    "2024-08-22T00:00:00.000000000",
                    "2024-08-23T00:00:00.000000000",
                    "2024-08-26T00:00:00.000000000",
                    "2024-08-27T00:00:00.000000000",
                    "2024-08-28T00:00:00.000000000",
                    "2024-08-29T00:00:00.000000000",
                    "2024-08-30T00:00:00.000000000",
                    "2024-09-03T00:00:00.000000000",
                    "2024-09-04T00:00:00.000000000",
                    "2024-09-05T00:00:00.000000000",
                    "2024-09-06T00:00:00.000000000",
                    "2024-09-09T00:00:00.000000000",
                    "2024-09-10T00:00:00.000000000",
                    "2024-09-11T00:00:00.000000000",
                    "2024-09-12T00:00:00.000000000",
                    "2024-09-13T00:00:00.000000000",
                    "2024-09-16T00:00:00.000000000",
                    "2024-09-17T00:00:00.000000000",
                    "2024-09-18T00:00:00.000000000",
                    "2024-09-19T00:00:00.000000000",
                    "2024-09-20T00:00:00.000000000",
                    "2024-09-23T00:00:00.000000000",
                    "2024-09-24T00:00:00.000000000",
                    "2024-09-25T00:00:00.000000000",
                    "2024-09-26T00:00:00.000000000",
                    "2024-09-27T00:00:00.000000000",
                    "2024-09-30T00:00:00.000000000",
                    "2024-10-01T00:00:00.000000000",
                    "2024-10-02T00:00:00.000000000",
                    "2024-10-03T00:00:00.000000000",
                    "2024-10-04T00:00:00.000000000",
                    "2024-10-07T00:00:00.000000000",
                    "2024-10-08T00:00:00.000000000",
                    "2024-10-09T00:00:00.000000000",
                    "2024-10-10T00:00:00.000000000",
                    "2024-10-11T00:00:00.000000000",
                    "2024-10-14T00:00:00.000000000",
                    "2024-10-15T00:00:00.000000000",
                    "2024-10-16T00:00:00.000000000",
                    "2024-10-17T00:00:00.000000000",
                    "2024-10-18T00:00:00.000000000",
                    "2024-10-21T00:00:00.000000000",
                    "2024-10-22T00:00:00.000000000",
                    "2024-10-23T00:00:00.000000000",
                    "2024-10-24T00:00:00.000000000",
                    "2024-10-25T00:00:00.000000000",
                    "2024-10-28T00:00:00.000000000",
                    "2024-10-29T00:00:00.000000000",
                    "2024-10-30T00:00:00.000000000",
                    "2024-10-31T00:00:00.000000000",
                    "2024-11-01T00:00:00.000000000",
                    "2024-11-04T00:00:00.000000000",
                    "2024-11-05T00:00:00.000000000",
                    "2024-11-06T00:00:00.000000000",
                    "2024-11-07T00:00:00.000000000",
                    "2024-11-08T00:00:00.000000000",
                    "2024-11-11T00:00:00.000000000",
                    "2024-11-12T00:00:00.000000000",
                    "2024-11-13T00:00:00.000000000",
                    "2024-11-14T00:00:00.000000000",
                    "2024-11-15T00:00:00.000000000",
                    "2024-11-18T00:00:00.000000000",
                    "2024-11-19T00:00:00.000000000",
                    "2024-11-20T00:00:00.000000000",
                    "2024-11-21T00:00:00.000000000",
                    "2024-11-22T00:00:00.000000000",
                    "2024-11-25T00:00:00.000000000",
                    "2024-11-26T00:00:00.000000000",
                    "2024-11-27T00:00:00.000000000",
                    "2024-11-29T00:00:00.000000000",
                    "2024-12-02T00:00:00.000000000",
                    "2024-12-03T00:00:00.000000000",
                    "2024-12-04T00:00:00.000000000",
                    "2024-12-05T00:00:00.000000000",
                    "2024-12-06T00:00:00.000000000",
                    "2024-12-09T00:00:00.000000000",
                    "2024-12-10T00:00:00.000000000",
                    "2024-12-11T00:00:00.000000000",
                    "2024-12-12T00:00:00.000000000",
                    "2024-12-13T00:00:00.000000000",
                    "2024-12-16T00:00:00.000000000",
                    "2024-12-17T00:00:00.000000000",
                    "2024-12-18T00:00:00.000000000",
                    "2024-12-19T00:00:00.000000000",
                    "2024-12-20T00:00:00.000000000",
                    "2024-12-23T00:00:00.000000000",
                    "2024-12-24T00:00:00.000000000",
                    "2024-12-26T00:00:00.000000000",
                    "2024-12-27T00:00:00.000000000",
                    "2024-12-30T00:00:00.000000000",
                    "2024-12-31T00:00:00.000000000",
                    "2025-01-02T00:00:00.000000000",
                    "2025-01-03T00:00:00.000000000",
                    "2025-01-06T00:00:00.000000000",
                    "2025-01-07T00:00:00.000000000",
                    "2025-01-08T00:00:00.000000000",
                    "2025-01-10T00:00:00.000000000",
                    "2025-01-13T00:00:00.000000000",
                    "2025-01-14T00:00:00.000000000",
                    "2025-01-15T00:00:00.000000000",
                    "2025-01-16T00:00:00.000000000",
                    "2025-01-17T00:00:00.000000000",
                    "2025-01-21T00:00:00.000000000",
                    "2025-01-22T00:00:00.000000000",
                    "2025-01-23T00:00:00.000000000",
                    "2025-01-24T00:00:00.000000000",
                    "2025-01-27T00:00:00.000000000",
                    "2025-01-28T00:00:00.000000000",
                    "2025-01-29T00:00:00.000000000",
                    "2025-01-30T00:00:00.000000000",
                    "2025-01-31T00:00:00.000000000",
                    "2025-02-03T00:00:00.000000000",
                    "2025-02-04T00:00:00.000000000",
                    "2025-02-05T00:00:00.000000000",
                    "2025-02-06T00:00:00.000000000",
                    "2025-02-07T00:00:00.000000000",
                    "2025-02-10T00:00:00.000000000",
                    "2025-02-11T00:00:00.000000000",
                    "2025-02-12T00:00:00.000000000",
                    "2025-02-13T00:00:00.000000000",
                    "2025-02-14T00:00:00.000000000",
                    "2025-02-18T00:00:00.000000000",
                    "2025-02-19T00:00:00.000000000",
                    "2025-02-20T00:00:00.000000000",
                    "2025-02-21T00:00:00.000000000",
                    "2025-02-24T00:00:00.000000000",
                    "2025-02-25T00:00:00.000000000",
                    "2025-02-26T00:00:00.000000000",
                    "2025-02-27T00:00:00.000000000",
                    "2025-02-28T00:00:00.000000000",
                    "2025-03-03T00:00:00.000000000",
                    "2025-03-04T00:00:00.000000000",
                    "2025-03-05T00:00:00.000000000",
                    "2025-03-06T00:00:00.000000000",
                    "2025-03-07T00:00:00.000000000",
                    "2025-03-10T00:00:00.000000000",
                    "2025-03-11T00:00:00.000000000",
                    "2025-03-12T00:00:00.000000000",
                    "2025-03-13T00:00:00.000000000",
                    "2025-03-14T00:00:00.000000000",
                    "2025-03-17T00:00:00.000000000",
                    "2025-03-18T00:00:00.000000000",
                    "2025-03-19T00:00:00.000000000",
                    "2025-03-20T00:00:00.000000000",
                    "2025-03-21T00:00:00.000000000",
                    "2025-03-24T00:00:00.000000000",
                    "2025-03-25T00:00:00.000000000",
                    "2025-03-26T00:00:00.000000000",
                    "2025-03-27T00:00:00.000000000",
                    "2025-03-28T00:00:00.000000000",
                    "2025-03-31T00:00:00.000000000",
                    "2025-04-01T00:00:00.000000000",
                    "2025-04-02T00:00:00.000000000",
                    "2025-04-03T00:00:00.000000000",
                    "2025-04-04T00:00:00.000000000",
                    "2025-04-07T00:00:00.000000000",
                    "2025-04-08T00:00:00.000000000",
                    "2025-04-09T00:00:00.000000000",
                    "2025-04-10T00:00:00.000000000",
                    "2025-04-11T00:00:00.000000000",
                    "2025-04-14T00:00:00.000000000",
                    "2025-04-15T00:00:00.000000000",
                    "2025-04-16T00:00:00.000000000",
                    "2025-04-17T00:00:00.000000000",
                    "2025-04-21T00:00:00.000000000",
                    "2025-04-22T00:00:00.000000000",
                    "2025-04-23T00:00:00.000000000",
                    "2025-04-24T00:00:00.000000000",
                    "2025-04-25T00:00:00.000000000",
                    "2025-04-28T00:00:00.000000000",
                    "2025-04-29T00:00:00.000000000",
                    "2025-04-30T00:00:00.000000000",
                    "2025-05-01T00:00:00.000000000",
                    "2025-05-02T00:00:00.000000000",
                    "2025-05-05T00:00:00.000000000",
                    "2025-05-06T00:00:00.000000000",
                    "2025-05-07T00:00:00.000000000",
                    "2025-05-08T00:00:00.000000000",
                    "2025-05-09T00:00:00.000000000",
                    "2025-05-12T00:00:00.000000000",
                    "2025-05-13T00:00:00.000000000",
                    "2025-05-14T00:00:00.000000000",
                    "2025-05-15T00:00:00.000000000",
                    "2025-05-16T00:00:00.000000000",
                    "2025-05-19T00:00:00.000000000",
                    "2025-05-20T00:00:00.000000000",
                    "2025-05-21T00:00:00.000000000",
                    "2025-05-22T00:00:00.000000000",
                    "2025-05-23T00:00:00.000000000",
                    "2025-05-27T00:00:00.000000000",
                    "2025-05-28T00:00:00.000000000",
                    "2025-05-29T00:00:00.000000000",
                    "2025-05-30T00:00:00.000000000",
                    "2025-06-02T00:00:00.000000000",
                    "2025-06-03T00:00:00.000000000",
                    "2025-06-04T00:00:00.000000000",
                    "2025-06-05T00:00:00.000000000",
                    "2025-06-06T00:00:00.000000000",
                    "2025-06-09T00:00:00.000000000",
                    "2025-06-10T00:00:00.000000000",
                    "2025-06-11T00:00:00.000000000",
                    "2025-06-12T00:00:00.000000000",
                    "2025-06-13T00:00:00.000000000",
                    "2025-06-16T00:00:00.000000000",
                    "2025-06-17T00:00:00.000000000",
                    "2025-06-18T00:00:00.000000000",
                    "2025-06-20T00:00:00.000000000",
                    "2025-06-23T00:00:00.000000000",
                    "2025-06-24T00:00:00.000000000",
                    "2025-06-25T00:00:00.000000000",
                    "2025-06-26T00:00:00.000000000",
                    "2025-06-27T00:00:00.000000000"
                  ],
                  "xaxis": "x",
                  "y": {
                    "bdata": "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",
                    "dtype": "f8"
                  },
                  "yaxis": "y"
                },
                {
                  "legendgroup": "NVDA",
                  "line": {
                    "color": "green",
                    "dash": "dash"
                  },
                  "name": "NVDA Volume",
                  "opacity": 0.6,
                  "showlegend": false,
                  "type": "scatter",
                  "x": [
                    "2024-05-24T00:00:00.000000000",
                    "2024-05-28T00:00:00.000000000",
                    "2024-05-29T00:00:00.000000000",
                    "2024-05-30T00:00:00.000000000",
                    "2024-05-31T00:00:00.000000000",
                    "2024-06-03T00:00:00.000000000",
                    "2024-06-04T00:00:00.000000000",
                    "2024-06-05T00:00:00.000000000",
                    "2024-06-06T00:00:00.000000000",
                    "2024-06-07T00:00:00.000000000",
                    "2024-06-10T00:00:00.000000000",
                    "2024-06-11T00:00:00.000000000",
                    "2024-06-12T00:00:00.000000000",
                    "2024-06-13T00:00:00.000000000",
                    "2024-06-14T00:00:00.000000000",
                    "2024-06-17T00:00:00.000000000",
                    "2024-06-18T00:00:00.000000000",
                    "2024-06-20T00:00:00.000000000",
                    "2024-06-21T00:00:00.000000000",
                    "2024-06-24T00:00:00.000000000",
                    "2024-06-25T00:00:00.000000000",
                    "2024-06-26T00:00:00.000000000",
                    "2024-06-27T00:00:00.000000000",
                    "2024-06-28T00:00:00.000000000",
                    "2024-07-01T00:00:00.000000000",
                    "2024-07-02T00:00:00.000000000",
                    "2024-07-03T00:00:00.000000000",
                    "2024-07-05T00:00:00.000000000",
                    "2024-07-08T00:00:00.000000000",
                    "2024-07-09T00:00:00.000000000",
                    "2024-07-10T00:00:00.000000000",
                    "2024-07-11T00:00:00.000000000",
                    "2024-07-12T00:00:00.000000000",
                    "2024-07-15T00:00:00.000000000",
                    "2024-07-16T00:00:00.000000000",
                    "2024-07-17T00:00:00.000000000",
                    "2024-07-18T00:00:00.000000000",
                    "2024-07-19T00:00:00.000000000",
                    "2024-07-22T00:00:00.000000000",
                    "2024-07-23T00:00:00.000000000",
                    "2024-07-24T00:00:00.000000000",
                    "2024-07-25T00:00:00.000000000",
                    "2024-07-26T00:00:00.000000000",
                    "2024-07-29T00:00:00.000000000",
                    "2024-07-30T00:00:00.000000000",
                    "2024-07-31T00:00:00.000000000",
                    "2024-08-01T00:00:00.000000000",
                    "2024-08-02T00:00:00.000000000",
                    "2024-08-05T00:00:00.000000000",
                    "2024-08-06T00:00:00.000000000",
                    "2024-08-07T00:00:00.000000000",
                    "2024-08-08T00:00:00.000000000",
                    "2024-08-09T00:00:00.000000000",
                    "2024-08-12T00:00:00.000000000",
                    "2024-08-13T00:00:00.000000000",
                    "2024-08-14T00:00:00.000000000",
                    "2024-08-15T00:00:00.000000000",
                    "2024-08-16T00:00:00.000000000",
                    "2024-08-19T00:00:00.000000000",
                    "2024-08-20T00:00:00.000000000",
                    "2024-08-21T00:00:00.000000000",
                    "2024-08-22T00:00:00.000000000",
                    "2024-08-23T00:00:00.000000000",
                    "2024-08-26T00:00:00.000000000",
                    "2024-08-27T00:00:00.000000000",
                    "2024-08-28T00:00:00.000000000",
                    "2024-08-29T00:00:00.000000000",
                    "2024-08-30T00:00:00.000000000",
                    "2024-09-03T00:00:00.000000000",
                    "2024-09-04T00:00:00.000000000",
                    "2024-09-05T00:00:00.000000000",
                    "2024-09-06T00:00:00.000000000",
                    "2024-09-09T00:00:00.000000000",
                    "2024-09-10T00:00:00.000000000",
                    "2024-09-11T00:00:00.000000000",
                    "2024-09-12T00:00:00.000000000",
                    "2024-09-13T00:00:00.000000000",
                    "2024-09-16T00:00:00.000000000",
                    "2024-09-17T00:00:00.000000000",
                    "2024-09-18T00:00:00.000000000",
                    "2024-09-19T00:00:00.000000000",
                    "2024-09-20T00:00:00.000000000",
                    "2024-09-23T00:00:00.000000000",
                    "2024-09-24T00:00:00.000000000",
                    "2024-09-25T00:00:00.000000000",
                    "2024-09-26T00:00:00.000000000",
                    "2024-09-27T00:00:00.000000000",
                    "2024-09-30T00:00:00.000000000",
                    "2024-10-01T00:00:00.000000000",
                    "2024-10-02T00:00:00.000000000",
                    "2024-10-03T00:00:00.000000000",
                    "2024-10-04T00:00:00.000000000",
                    "2024-10-07T00:00:00.000000000",
                    "2024-10-08T00:00:00.000000000",
                    "2024-10-09T00:00:00.000000000",
                    "2024-10-10T00:00:00.000000000",
                    "2024-10-11T00:00:00.000000000",
                    "2024-10-14T00:00:00.000000000",
                    "2024-10-15T00:00:00.000000000",
                    "2024-10-16T00:00:00.000000000",
                    "2024-10-17T00:00:00.000000000",
                    "2024-10-18T00:00:00.000000000",
                    "2024-10-21T00:00:00.000000000",
                    "2024-10-22T00:00:00.000000000",
                    "2024-10-23T00:00:00.000000000",
                    "2024-10-24T00:00:00.000000000",
                    "2024-10-25T00:00:00.000000000",
                    "2024-10-28T00:00:00.000000000",
                    "2024-10-29T00:00:00.000000000",
                    "2024-10-30T00:00:00.000000000",
                    "2024-10-31T00:00:00.000000000",
                    "2024-11-01T00:00:00.000000000",
                    "2024-11-04T00:00:00.000000000",
                    "2024-11-05T00:00:00.000000000",
                    "2024-11-06T00:00:00.000000000",
                    "2024-11-07T00:00:00.000000000",
                    "2024-11-08T00:00:00.000000000",
                    "2024-11-11T00:00:00.000000000",
                    "2024-11-12T00:00:00.000000000",
                    "2024-11-13T00:00:00.000000000",
                    "2024-11-14T00:00:00.000000000",
                    "2024-11-15T00:00:00.000000000",
                    "2024-11-18T00:00:00.000000000",
                    "2024-11-19T00:00:00.000000000",
                    "2024-11-20T00:00:00.000000000",
                    "2024-11-21T00:00:00.000000000",
                    "2024-11-22T00:00:00.000000000",
                    "2024-11-25T00:00:00.000000000",
                    "2024-11-26T00:00:00.000000000",
                    "2024-11-27T00:00:00.000000000",
                    "2024-11-29T00:00:00.000000000",
                    "2024-12-02T00:00:00.000000000",
                    "2024-12-03T00:00:00.000000000",
                    "2024-12-04T00:00:00.000000000",
                    "2024-12-05T00:00:00.000000000",
                    "2024-12-06T00:00:00.000000000",
                    "2024-12-09T00:00:00.000000000",
                    "2024-12-10T00:00:00.000000000",
                    "2024-12-11T00:00:00.000000000",
                    "2024-12-12T00:00:00.000000000",
                    "2024-12-13T00:00:00.000000000",
                    "2024-12-16T00:00:00.000000000",
                    "2024-12-17T00:00:00.000000000",
                    "2024-12-18T00:00:00.000000000",
                    "2024-12-19T00:00:00.000000000",
                    "2024-12-20T00:00:00.000000000",
                    "2024-12-23T00:00:00.000000000",
                    "2024-12-24T00:00:00.000000000",
                    "2024-12-26T00:00:00.000000000",
                    "2024-12-27T00:00:00.000000000",
                    "2024-12-30T00:00:00.000000000",
                    "2024-12-31T00:00:00.000000000",
                    "2025-01-02T00:00:00.000000000",
                    "2025-01-03T00:00:00.000000000",
                    "2025-01-06T00:00:00.000000000",
                    "2025-01-07T00:00:00.000000000",
                    "2025-01-08T00:00:00.000000000",
                    "2025-01-10T00:00:00.000000000",
                    "2025-01-13T00:00:00.000000000",
                    "2025-01-14T00:00:00.000000000",
                    "2025-01-15T00:00:00.000000000",
                    "2025-01-16T00:00:00.000000000",
                    "2025-01-17T00:00:00.000000000",
                    "2025-01-21T00:00:00.000000000",
                    "2025-01-22T00:00:00.000000000",
                    "2025-01-23T00:00:00.000000000",
                    "2025-01-24T00:00:00.000000000",
                    "2025-01-27T00:00:00.000000000",
                    "2025-01-28T00:00:00.000000000",
                    "2025-01-29T00:00:00.000000000",
                    "2025-01-30T00:00:00.000000000",
                    "2025-01-31T00:00:00.000000000",
                    "2025-02-03T00:00:00.000000000",
                    "2025-02-04T00:00:00.000000000",
                    "2025-02-05T00:00:00.000000000",
                    "2025-02-06T00:00:00.000000000",
                    "2025-02-07T00:00:00.000000000",
                    "2025-02-10T00:00:00.000000000",
                    "2025-02-11T00:00:00.000000000",
                    "2025-02-12T00:00:00.000000000",
                    "2025-02-13T00:00:00.000000000",
                    "2025-02-14T00:00:00.000000000",
                    "2025-02-18T00:00:00.000000000",
                    "2025-02-19T00:00:00.000000000",
                    "2025-02-20T00:00:00.000000000",
                    "2025-02-21T00:00:00.000000000",
                    "2025-02-24T00:00:00.000000000",
                    "2025-02-25T00:00:00.000000000",
                    "2025-02-26T00:00:00.000000000",
                    "2025-02-27T00:00:00.000000000",
                    "2025-02-28T00:00:00.000000000",
                    "2025-03-03T00:00:00.000000000",
                    "2025-03-04T00:00:00.000000000",
                    "2025-03-05T00:00:00.000000000",
                    "2025-03-06T00:00:00.000000000",
                    "2025-03-07T00:00:00.000000000",
                    "2025-03-10T00:00:00.000000000",
                    "2025-03-11T00:00:00.000000000",
                    "2025-03-12T00:00:00.000000000",
                    "2025-03-13T00:00:00.000000000",
                    "2025-03-14T00:00:00.000000000",
                    "2025-03-17T00:00:00.000000000",
                    "2025-03-18T00:00:00.000000000",
                    "2025-03-19T00:00:00.000000000",
                    "2025-03-20T00:00:00.000000000",
                    "2025-03-21T00:00:00.000000000",
                    "2025-03-24T00:00:00.000000000",
                    "2025-03-25T00:00:00.000000000",
                    "2025-03-26T00:00:00.000000000",
                    "2025-03-27T00:00:00.000000000",
                    "2025-03-28T00:00:00.000000000",
                    "2025-03-31T00:00:00.000000000",
                    "2025-04-01T00:00:00.000000000",
                    "2025-04-02T00:00:00.000000000",
                    "2025-04-03T00:00:00.000000000",
                    "2025-04-04T00:00:00.000000000",
                    "2025-04-07T00:00:00.000000000",
                    "2025-04-08T00:00:00.000000000",
                    "2025-04-09T00:00:00.000000000",
                    "2025-04-10T00:00:00.000000000",
                    "2025-04-11T00:00:00.000000000",
                    "2025-04-14T00:00:00.000000000",
                    "2025-04-15T00:00:00.000000000",
                    "2025-04-16T00:00:00.000000000",
                    "2025-04-17T00:00:00.000000000",
                    "2025-04-21T00:00:00.000000000",
                    "2025-04-22T00:00:00.000000000",
                    "2025-04-23T00:00:00.000000000",
                    "2025-04-24T00:00:00.000000000",
                    "2025-04-25T00:00:00.000000000",
                    "2025-04-28T00:00:00.000000000",
                    "2025-04-29T00:00:00.000000000",
                    "2025-04-30T00:00:00.000000000",
                    "2025-05-01T00:00:00.000000000",
                    "2025-05-02T00:00:00.000000000",
                    "2025-05-05T00:00:00.000000000",
                    "2025-05-06T00:00:00.000000000",
                    "2025-05-07T00:00:00.000000000",
                    "2025-05-08T00:00:00.000000000",
                    "2025-05-09T00:00:00.000000000",
                    "2025-05-12T00:00:00.000000000",
                    "2025-05-13T00:00:00.000000000",
                    "2025-05-14T00:00:00.000000000",
                    "2025-05-15T00:00:00.000000000",
                    "2025-05-16T00:00:00.000000000",
                    "2025-05-19T00:00:00.000000000",
                    "2025-05-20T00:00:00.000000000",
                    "2025-05-21T00:00:00.000000000",
                    "2025-05-22T00:00:00.000000000",
                    "2025-05-23T00:00:00.000000000",
                    "2025-05-27T00:00:00.000000000",
                    "2025-05-28T00:00:00.000000000",
                    "2025-05-29T00:00:00.000000000",
                    "2025-05-30T00:00:00.000000000",
                    "2025-06-02T00:00:00.000000000",
                    "2025-06-03T00:00:00.000000000",
                    "2025-06-04T00:00:00.000000000",
                    "2025-06-05T00:00:00.000000000",
                    "2025-06-06T00:00:00.000000000",
                    "2025-06-09T00:00:00.000000000",
                    "2025-06-10T00:00:00.000000000",
                    "2025-06-11T00:00:00.000000000",
                    "2025-06-12T00:00:00.000000000",
                    "2025-06-13T00:00:00.000000000",
                    "2025-06-16T00:00:00.000000000",
                    "2025-06-17T00:00:00.000000000",
                    "2025-06-18T00:00:00.000000000",
                    "2025-06-20T00:00:00.000000000",
                    "2025-06-23T00:00:00.000000000",
                    "2025-06-24T00:00:00.000000000",
                    "2025-06-25T00:00:00.000000000",
                    "2025-06-26T00:00:00.000000000",
                    "2025-06-27T00:00:00.000000000"
                  ],
                  "xaxis": "x",
                  "y": {
                    "bdata": "8I6ZGcDW5ybQ4zkh8F4MHZimjSTAVCEaYDwKGFDGfh/AdJ4n0IKUGAy+uRKg3EMN+HTbEfQIig/Q2m8SUDoyEXwyixHQhNweHOcRJ+QcYBxsAGEZnJKiFTTwDQ8cZ84S/AH7EHAfBA2IEdwMvBPEDPSqKg5IWQIRqBzXDuy6VhY0mQ8POM5qDFwfzQw4PkAXLMIhE3iS8gyk0WEP2KtdCoR6iRO4EGwbPOp8ESSAyg6UfAQduBA0HJxmMx/sJ7scoLTzIIQHYRgQFYYYcBJcFyjuVRFcpmcTLJyiEkB9OBQsnvUSzCcJEqBi+RJo+OIR0P1eD6wwbBZcGkQTHGHJE4h3ERLserUaRJYAGzCl5BMcz3AcHHIzFowrShLUnacYwJBTEDSv/Q9Akk8aVILhFRwPNQ7M9tMOjOjSDTQXfxJgjX4RwOnLFhTMSgwQXSgVpBH4EHQMCRKwRScQZO+ADaSYARKMGTkNMHyEEJQ7hg7YW6MUhMcHEfCVrA6EYHEO3DAlCjRY2Q1YPoUWVL7JDzzXQxJY7H4KBMjED7A9fQ0Q8goRVO1FCjTqOQwMuVgKALBkCfSzsQowehgQ+IRYDAh0LQs4m5EJ/EttDqSAWwyIcngKYBHeCszs1gtENnALREaXC6S56A4QaDkNFHyUDVREeBKo9eUXuEUXDkxljxRUj1cLVCV+DSCpdAjwqzsKMMLMCewzyA2Q/UkKAF48C7ieSAskqoQM8G0FC4hffQkUo8wNfNguDnxJdg+Ud4kQoA+ADFhBRRL8XH4KiJFEBiAo7QZI4ioKrG3/CcArRwkgA9ELBC+rDXhW0Q84xfcUjBWNDUTDXwzEIjUMZHmoCxQxCguQrngMwOX9CwhpyQvIRSoO7BRLCUCX/A00Xs4w4AGNItix1xs8kWsXJJ5EF3SbIBZwpEoPEFOhD9BV/Q682JkNrP3uDIDVqQpIqI0J8IrECzDIpguYXhANgGX8CXDLkwgAU5oNbMX7DlysLRDIxzkTeFNqGhwPMReYLoUYZH27F+ym8hDM2CQTbMZeFGgn2BUk0iYVXKxNEwzi0hGcvYsQvKQ6D/Tb3BEYJ0wQBNfUDsRx4g+U6J0NoAr7CQTlfRHU1h4OdJOzDZyf1RHw0UQNcBsmDfg1MRSI2rkfFMBrJMjlYhwcZIgksHwYGlRerhLoE8cP9MGlDUT/qRf4w1URbC0yEQBxXQ5w8sAOmF4pDXzx9g5UYWEMDMYoCvh+Ag6c7RIOcCRWC8Do7weg6HIJkONSDMTF0wuo/uwHRJVpDZT2sROAesIQmCOCDaTDgA0oToML2IKgCTwpIRCApCoLtMXZCwA9gAts/h4SLC8CFtTI2xN8GcgLMA9yDaAP9gkM2soNmKQtCYSfCAuskUoJsM7+CUh+rQl4GscKBGbqCqCeSghUNKAJqDd7DiSRMgkUCC4LhNkKEKR2zwsUQ2wP",
                    "dtype": "i4"
                  },
                  "yaxis": "y"
                },
                {
                  "legendgroup": "NVDA",
                  "name": "NVDA Returns",
                  "nbinsx": 30,
                  "opacity": 0.7,
                  "showlegend": false,
                  "type": "histogram",
                  "x": {
                    "bdata": "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",
                    "dtype": "f8"
                  },
                  "xaxis": "x2",
                  "yaxis": "y3"
                },
                {
                  "legendgroup": "NVDA",
                  "line": {
                    "color": "green"
                  },
                  "name": "NVDA Volume",
                  "showlegend": false,
                  "type": "scatter",
                  "x": [
                    "2024-05-24T00:00:00.000000000",
                    "2024-05-28T00:00:00.000000000",
                    "2024-05-29T00:00:00.000000000",
                    "2024-05-30T00:00:00.000000000",
                    "2024-05-31T00:00:00.000000000",
                    "2024-06-03T00:00:00.000000000",
                    "2024-06-04T00:00:00.000000000",
                    "2024-06-05T00:00:00.000000000",
                    "2024-06-06T00:00:00.000000000",
                    "2024-06-07T00:00:00.000000000",
                    "2024-06-10T00:00:00.000000000",
                    "2024-06-11T00:00:00.000000000",
                    "2024-06-12T00:00:00.000000000",
                    "2024-06-13T00:00:00.000000000",
                    "2024-06-14T00:00:00.000000000",
                    "2024-06-17T00:00:00.000000000",
                    "2024-06-18T00:00:00.000000000",
                    "2024-06-20T00:00:00.000000000",
                    "2024-06-21T00:00:00.000000000",
                    "2024-06-24T00:00:00.000000000",
                    "2024-06-25T00:00:00.000000000",
                    "2024-06-26T00:00:00.000000000",
                    "2024-06-27T00:00:00.000000000",
                    "2024-06-28T00:00:00.000000000",
                    "2024-07-01T00:00:00.000000000",
                    "2024-07-02T00:00:00.000000000",
                    "2024-07-03T00:00:00.000000000",
                    "2024-07-05T00:00:00.000000000",
                    "2024-07-08T00:00:00.000000000",
                    "2024-07-09T00:00:00.000000000",
                    "2024-07-10T00:00:00.000000000",
                    "2024-07-11T00:00:00.000000000",
                    "2024-07-12T00:00:00.000000000",
                    "2024-07-15T00:00:00.000000000",
                    "2024-07-16T00:00:00.000000000",
                    "2024-07-17T00:00:00.000000000",
                    "2024-07-18T00:00:00.000000000",
                    "2024-07-19T00:00:00.000000000",
                    "2024-07-22T00:00:00.000000000",
                    "2024-07-23T00:00:00.000000000",
                    "2024-07-24T00:00:00.000000000",
                    "2024-07-25T00:00:00.000000000",
                    "2024-07-26T00:00:00.000000000",
                    "2024-07-29T00:00:00.000000000",
                    "2024-07-30T00:00:00.000000000",
                    "2024-07-31T00:00:00.000000000",
                    "2024-08-01T00:00:00.000000000",
                    "2024-08-02T00:00:00.000000000",
                    "2024-08-05T00:00:00.000000000",
                    "2024-08-06T00:00:00.000000000",
                    "2024-08-07T00:00:00.000000000",
                    "2024-08-08T00:00:00.000000000",
                    "2024-08-09T00:00:00.000000000",
                    "2024-08-12T00:00:00.000000000",
                    "2024-08-13T00:00:00.000000000",
                    "2024-08-14T00:00:00.000000000",
                    "2024-08-15T00:00:00.000000000",
                    "2024-08-16T00:00:00.000000000",
                    "2024-08-19T00:00:00.000000000",
                    "2024-08-20T00:00:00.000000000",
                    "2024-08-21T00:00:00.000000000",
                    "2024-08-22T00:00:00.000000000",
                    "2024-08-23T00:00:00.000000000",
                    "2024-08-26T00:00:00.000000000",
                    "2024-08-27T00:00:00.000000000",
                    "2024-08-28T00:00:00.000000000",
                    "2024-08-29T00:00:00.000000000",
                    "2024-08-30T00:00:00.000000000",
                    "2024-09-03T00:00:00.000000000",
                    "2024-09-04T00:00:00.000000000",
                    "2024-09-05T00:00:00.000000000",
                    "2024-09-06T00:00:00.000000000",
                    "2024-09-09T00:00:00.000000000",
                    "2024-09-10T00:00:00.000000000",
                    "2024-09-11T00:00:00.000000000",
                    "2024-09-12T00:00:00.000000000",
                    "2024-09-13T00:00:00.000000000",
                    "2024-09-16T00:00:00.000000000",
                    "2024-09-17T00:00:00.000000000",
                    "2024-09-18T00:00:00.000000000",
                    "2024-09-19T00:00:00.000000000",
                    "2024-09-20T00:00:00.000000000",
                    "2024-09-23T00:00:00.000000000",
                    "2024-09-24T00:00:00.000000000",
                    "2024-09-25T00:00:00.000000000",
                    "2024-09-26T00:00:00.000000000",
                    "2024-09-27T00:00:00.000000000",
                    "2024-09-30T00:00:00.000000000",
                    "2024-10-01T00:00:00.000000000",
                    "2024-10-02T00:00:00.000000000",
                    "2024-10-03T00:00:00.000000000",
                    "2024-10-04T00:00:00.000000000",
                    "2024-10-07T00:00:00.000000000",
                    "2024-10-08T00:00:00.000000000",
                    "2024-10-09T00:00:00.000000000",
                    "2024-10-10T00:00:00.000000000",
                    "2024-10-11T00:00:00.000000000",
                    "2024-10-14T00:00:00.000000000",
                    "2024-10-15T00:00:00.000000000",
                    "2024-10-16T00:00:00.000000000",
                    "2024-10-17T00:00:00.000000000",
                    "2024-10-18T00:00:00.000000000",
                    "2024-10-21T00:00:00.000000000",
                    "2024-10-22T00:00:00.000000000",
                    "2024-10-23T00:00:00.000000000",
                    "2024-10-24T00:00:00.000000000",
                    "2024-10-25T00:00:00.000000000",
                    "2024-10-28T00:00:00.000000000",
                    "2024-10-29T00:00:00.000000000",
                    "2024-10-30T00:00:00.000000000",
                    "2024-10-31T00:00:00.000000000",
                    "2024-11-01T00:00:00.000000000",
                    "2024-11-04T00:00:00.000000000",
                    "2024-11-05T00:00:00.000000000",
                    "2024-11-06T00:00:00.000000000",
                    "2024-11-07T00:00:00.000000000",
                    "2024-11-08T00:00:00.000000000",
                    "2024-11-11T00:00:00.000000000",
                    "2024-11-12T00:00:00.000000000",
                    "2024-11-13T00:00:00.000000000",
                    "2024-11-14T00:00:00.000000000",
                    "2024-11-15T00:00:00.000000000",
                    "2024-11-18T00:00:00.000000000",
                    "2024-11-19T00:00:00.000000000",
                    "2024-11-20T00:00:00.000000000",
                    "2024-11-21T00:00:00.000000000",
                    "2024-11-22T00:00:00.000000000",
                    "2024-11-25T00:00:00.000000000",
                    "2024-11-26T00:00:00.000000000",
                    "2024-11-27T00:00:00.000000000",
                    "2024-11-29T00:00:00.000000000",
                    "2024-12-02T00:00:00.000000000",
                    "2024-12-03T00:00:00.000000000",
                    "2024-12-04T00:00:00.000000000",
                    "2024-12-05T00:00:00.000000000",
                    "2024-12-06T00:00:00.000000000",
                    "2024-12-09T00:00:00.000000000",
                    "2024-12-10T00:00:00.000000000",
                    "2024-12-11T00:00:00.000000000",
                    "2024-12-12T00:00:00.000000000",
                    "2024-12-13T00:00:00.000000000",
                    "2024-12-16T00:00:00.000000000",
                    "2024-12-17T00:00:00.000000000",
                    "2024-12-18T00:00:00.000000000",
                    "2024-12-19T00:00:00.000000000",
                    "2024-12-20T00:00:00.000000000",
                    "2024-12-23T00:00:00.000000000",
                    "2024-12-24T00:00:00.000000000",
                    "2024-12-26T00:00:00.000000000",
                    "2024-12-27T00:00:00.000000000",
                    "2024-12-30T00:00:00.000000000",
                    "2024-12-31T00:00:00.000000000",
                    "2025-01-02T00:00:00.000000000",
                    "2025-01-03T00:00:00.000000000",
                    "2025-01-06T00:00:00.000000000",
                    "2025-01-07T00:00:00.000000000",
                    "2025-01-08T00:00:00.000000000",
                    "2025-01-10T00:00:00.000000000",
                    "2025-01-13T00:00:00.000000000",
                    "2025-01-14T00:00:00.000000000",
                    "2025-01-15T00:00:00.000000000",
                    "2025-01-16T00:00:00.000000000",
                    "2025-01-17T00:00:00.000000000",
                    "2025-01-21T00:00:00.000000000",
                    "2025-01-22T00:00:00.000000000",
                    "2025-01-23T00:00:00.000000000",
                    "2025-01-24T00:00:00.000000000",
                    "2025-01-27T00:00:00.000000000",
                    "2025-01-28T00:00:00.000000000",
                    "2025-01-29T00:00:00.000000000",
                    "2025-01-30T00:00:00.000000000",
                    "2025-01-31T00:00:00.000000000",
                    "2025-02-03T00:00:00.000000000",
                    "2025-02-04T00:00:00.000000000",
                    "2025-02-05T00:00:00.000000000",
                    "2025-02-06T00:00:00.000000000",
                    "2025-02-07T00:00:00.000000000",
                    "2025-02-10T00:00:00.000000000",
                    "2025-02-11T00:00:00.000000000",
                    "2025-02-12T00:00:00.000000000",
                    "2025-02-13T00:00:00.000000000",
                    "2025-02-14T00:00:00.000000000",
                    "2025-02-18T00:00:00.000000000",
                    "2025-02-19T00:00:00.000000000",
                    "2025-02-20T00:00:00.000000000",
                    "2025-02-21T00:00:00.000000000",
                    "2025-02-24T00:00:00.000000000",
                    "2025-02-25T00:00:00.000000000",
                    "2025-02-26T00:00:00.000000000",
                    "2025-02-27T00:00:00.000000000",
                    "2025-02-28T00:00:00.000000000",
                    "2025-03-03T00:00:00.000000000",
                    "2025-03-04T00:00:00.000000000",
                    "2025-03-05T00:00:00.000000000",
                    "2025-03-06T00:00:00.000000000",
                    "2025-03-07T00:00:00.000000000",
                    "2025-03-10T00:00:00.000000000",
                    "2025-03-11T00:00:00.000000000",
                    "2025-03-12T00:00:00.000000000",
                    "2025-03-13T00:00:00.000000000",
                    "2025-03-14T00:00:00.000000000",
                    "2025-03-17T00:00:00.000000000",
                    "2025-03-18T00:00:00.000000000",
                    "2025-03-19T00:00:00.000000000",
                    "2025-03-20T00:00:00.000000000",
                    "2025-03-21T00:00:00.000000000",
                    "2025-03-24T00:00:00.000000000",
                    "2025-03-25T00:00:00.000000000",
                    "2025-03-26T00:00:00.000000000",
                    "2025-03-27T00:00:00.000000000",
                    "2025-03-28T00:00:00.000000000",
                    "2025-03-31T00:00:00.000000000",
                    "2025-04-01T00:00:00.000000000",
                    "2025-04-02T00:00:00.000000000",
                    "2025-04-03T00:00:00.000000000",
                    "2025-04-04T00:00:00.000000000",
                    "2025-04-07T00:00:00.000000000",
                    "2025-04-08T00:00:00.000000000",
                    "2025-04-09T00:00:00.000000000",
                    "2025-04-10T00:00:00.000000000",
                    "2025-04-11T00:00:00.000000000",
                    "2025-04-14T00:00:00.000000000",
                    "2025-04-15T00:00:00.000000000",
                    "2025-04-16T00:00:00.000000000",
                    "2025-04-17T00:00:00.000000000",
                    "2025-04-21T00:00:00.000000000",
                    "2025-04-22T00:00:00.000000000",
                    "2025-04-23T00:00:00.000000000",
                    "2025-04-24T00:00:00.000000000",
                    "2025-04-25T00:00:00.000000000",
                    "2025-04-28T00:00:00.000000000",
                    "2025-04-29T00:00:00.000000000",
                    "2025-04-30T00:00:00.000000000",
                    "2025-05-01T00:00:00.000000000",
                    "2025-05-02T00:00:00.000000000",
                    "2025-05-05T00:00:00.000000000",
                    "2025-05-06T00:00:00.000000000",
                    "2025-05-07T00:00:00.000000000",
                    "2025-05-08T00:00:00.000000000",
                    "2025-05-09T00:00:00.000000000",
                    "2025-05-12T00:00:00.000000000",
                    "2025-05-13T00:00:00.000000000",
                    "2025-05-14T00:00:00.000000000",
                    "2025-05-15T00:00:00.000000000",
                    "2025-05-16T00:00:00.000000000",
                    "2025-05-19T00:00:00.000000000",
                    "2025-05-20T00:00:00.000000000",
                    "2025-05-21T00:00:00.000000000",
                    "2025-05-22T00:00:00.000000000",
                    "2025-05-23T00:00:00.000000000",
                    "2025-05-27T00:00:00.000000000",
                    "2025-05-28T00:00:00.000000000",
                    "2025-05-29T00:00:00.000000000",
                    "2025-05-30T00:00:00.000000000",
                    "2025-06-02T00:00:00.000000000",
                    "2025-06-03T00:00:00.000000000",
                    "2025-06-04T00:00:00.000000000",
                    "2025-06-05T00:00:00.000000000",
                    "2025-06-06T00:00:00.000000000",
                    "2025-06-09T00:00:00.000000000",
                    "2025-06-10T00:00:00.000000000",
                    "2025-06-11T00:00:00.000000000",
                    "2025-06-12T00:00:00.000000000",
                    "2025-06-13T00:00:00.000000000",
                    "2025-06-16T00:00:00.000000000",
                    "2025-06-17T00:00:00.000000000",
                    "2025-06-18T00:00:00.000000000",
                    "2025-06-20T00:00:00.000000000",
                    "2025-06-23T00:00:00.000000000",
                    "2025-06-24T00:00:00.000000000",
                    "2025-06-25T00:00:00.000000000",
                    "2025-06-26T00:00:00.000000000",
                    "2025-06-27T00:00:00.000000000"
                  ],
                  "xaxis": "x3",
                  "y": {
                    "bdata": "8I6ZGcDW5ybQ4zkh8F4MHZimjSTAVCEaYDwKGFDGfh/AdJ4n0IKUGAy+uRKg3EMN+HTbEfQIig/Q2m8SUDoyEXwyixHQhNweHOcRJ+QcYBxsAGEZnJKiFTTwDQ8cZ84S/AH7EHAfBA2IEdwMvBPEDPSqKg5IWQIRqBzXDuy6VhY0mQ8POM5qDFwfzQw4PkAXLMIhE3iS8gyk0WEP2KtdCoR6iRO4EGwbPOp8ESSAyg6UfAQduBA0HJxmMx/sJ7scoLTzIIQHYRgQFYYYcBJcFyjuVRFcpmcTLJyiEkB9OBQsnvUSzCcJEqBi+RJo+OIR0P1eD6wwbBZcGkQTHGHJE4h3ERLserUaRJYAGzCl5BMcz3AcHHIzFowrShLUnacYwJBTEDSv/Q9Akk8aVILhFRwPNQ7M9tMOjOjSDTQXfxJgjX4RwOnLFhTMSgwQXSgVpBH4EHQMCRKwRScQZO+ADaSYARKMGTkNMHyEEJQ7hg7YW6MUhMcHEfCVrA6EYHEO3DAlCjRY2Q1YPoUWVL7JDzzXQxJY7H4KBMjED7A9fQ0Q8goRVO1FCjTqOQwMuVgKALBkCfSzsQowehgQ+IRYDAh0LQs4m5EJ/EttDqSAWwyIcngKYBHeCszs1gtENnALREaXC6S56A4QaDkNFHyUDVREeBKo9eUXuEUXDkxljxRUj1cLVCV+DSCpdAjwqzsKMMLMCewzyA2Q/UkKAF48C7ieSAskqoQM8G0FC4hffQkUo8wNfNguDnxJdg+Ud4kQoA+ADFhBRRL8XH4KiJFEBiAo7QZI4ioKrG3/CcArRwkgA9ELBC+rDXhW0Q84xfcUjBWNDUTDXwzEIjUMZHmoCxQxCguQrngMwOX9CwhpyQvIRSoO7BRLCUCX/A00Xs4w4AGNItix1xs8kWsXJJ5EF3SbIBZwpEoPEFOhD9BV/Q682JkNrP3uDIDVqQpIqI0J8IrECzDIpguYXhANgGX8CXDLkwgAU5oNbMX7DlysLRDIxzkTeFNqGhwPMReYLoUYZH27F+ym8hDM2CQTbMZeFGgn2BUk0iYVXKxNEwzi0hGcvYsQvKQ6D/Tb3BEYJ0wQBNfUDsRx4g+U6J0NoAr7CQTlfRHU1h4OdJOzDZyf1RHw0UQNcBsmDfg1MRSI2rkfFMBrJMjlYhwcZIgksHwYGlRerhLoE8cP9MGlDUT/qRf4w1URbC0yEQBxXQ5w8sAOmF4pDXzx9g5UYWEMDMYoCvh+Ag6c7RIOcCRWC8Do7weg6HIJkONSDMTF0wuo/uwHRJVpDZT2sROAesIQmCOCDaTDgA0oToML2IKgCTwpIRCApCoLtMXZCwA9gAts/h4SLC8CFtTI2xN8GcgLMA9yDaAP9gkM2soNmKQtCYSfCAuskUoJsM7+CUh+rQl4GscKBGbqCqCeSghUNKAJqDd7DiSRMgkUCC4LhNkKEKR2zwsUQ2wP",
                    "dtype": "i4"
                  },
                  "yaxis": "y4"
                },
                {
                  "legendgroup": "NVDA",
                  "line": {
                    "color": "green"
                  },
                  "mode": "lines",
                  "name": "NVDA Volatility",
                  "showlegend": false,
                  "type": "scatter",
                  "x": [
                    "2024-05-24T00:00:00.000000000",
                    "2024-05-28T00:00:00.000000000",
                    "2024-05-29T00:00:00.000000000",
                    "2024-05-30T00:00:00.000000000",
                    "2024-05-31T00:00:00.000000000",
                    "2024-06-03T00:00:00.000000000",
                    "2024-06-04T00:00:00.000000000",
                    "2024-06-05T00:00:00.000000000",
                    "2024-06-06T00:00:00.000000000",
                    "2024-06-07T00:00:00.000000000",
                    "2024-06-10T00:00:00.000000000",
                    "2024-06-11T00:00:00.000000000",
                    "2024-06-12T00:00:00.000000000",
                    "2024-06-13T00:00:00.000000000",
                    "2024-06-14T00:00:00.000000000",
                    "2024-06-17T00:00:00.000000000",
                    "2024-06-18T00:00:00.000000000",
                    "2024-06-20T00:00:00.000000000",
                    "2024-06-21T00:00:00.000000000",
                    "2024-06-24T00:00:00.000000000",
                    "2024-06-25T00:00:00.000000000",
                    "2024-06-26T00:00:00.000000000",
                    "2024-06-27T00:00:00.000000000",
                    "2024-06-28T00:00:00.000000000",
                    "2024-07-01T00:00:00.000000000",
                    "2024-07-02T00:00:00.000000000",
                    "2024-07-03T00:00:00.000000000",
                    "2024-07-05T00:00:00.000000000",
                    "2024-07-08T00:00:00.000000000",
                    "2024-07-09T00:00:00.000000000",
                    "2024-07-10T00:00:00.000000000",
                    "2024-07-11T00:00:00.000000000",
                    "2024-07-12T00:00:00.000000000",
                    "2024-07-15T00:00:00.000000000",
                    "2024-07-16T00:00:00.000000000",
                    "2024-07-17T00:00:00.000000000",
                    "2024-07-18T00:00:00.000000000",
                    "2024-07-19T00:00:00.000000000",
                    "2024-07-22T00:00:00.000000000",
                    "2024-07-23T00:00:00.000000000",
                    "2024-07-24T00:00:00.000000000",
                    "2024-07-25T00:00:00.000000000",
                    "2024-07-26T00:00:00.000000000",
                    "2024-07-29T00:00:00.000000000",
                    "2024-07-30T00:00:00.000000000",
                    "2024-07-31T00:00:00.000000000",
                    "2024-08-01T00:00:00.000000000",
                    "2024-08-02T00:00:00.000000000",
                    "2024-08-05T00:00:00.000000000",
                    "2024-08-06T00:00:00.000000000",
                    "2024-08-07T00:00:00.000000000",
                    "2024-08-08T00:00:00.000000000",
                    "2024-08-09T00:00:00.000000000",
                    "2024-08-12T00:00:00.000000000",
                    "2024-08-13T00:00:00.000000000",
                    "2024-08-14T00:00:00.000000000",
                    "2024-08-15T00:00:00.000000000",
                    "2024-08-16T00:00:00.000000000",
                    "2024-08-19T00:00:00.000000000",
                    "2024-08-20T00:00:00.000000000",
                    "2024-08-21T00:00:00.000000000",
                    "2024-08-22T00:00:00.000000000",
                    "2024-08-23T00:00:00.000000000",
                    "2024-08-26T00:00:00.000000000",
                    "2024-08-27T00:00:00.000000000",
                    "2024-08-28T00:00:00.000000000",
                    "2024-08-29T00:00:00.000000000",
                    "2024-08-30T00:00:00.000000000",
                    "2024-09-03T00:00:00.000000000",
                    "2024-09-04T00:00:00.000000000",
                    "2024-09-05T00:00:00.000000000",
                    "2024-09-06T00:00:00.000000000",
                    "2024-09-09T00:00:00.000000000",
                    "2024-09-10T00:00:00.000000000",
                    "2024-09-11T00:00:00.000000000",
                    "2024-09-12T00:00:00.000000000",
                    "2024-09-13T00:00:00.000000000",
                    "2024-09-16T00:00:00.000000000",
                    "2024-09-17T00:00:00.000000000",
                    "2024-09-18T00:00:00.000000000",
                    "2024-09-19T00:00:00.000000000",
                    "2024-09-20T00:00:00.000000000",
                    "2024-09-23T00:00:00.000000000",
                    "2024-09-24T00:00:00.000000000",
                    "2024-09-25T00:00:00.000000000",
                    "2024-09-26T00:00:00.000000000",
                    "2024-09-27T00:00:00.000000000",
                    "2024-09-30T00:00:00.000000000",
                    "2024-10-01T00:00:00.000000000",
                    "2024-10-02T00:00:00.000000000",
                    "2024-10-03T00:00:00.000000000",
                    "2024-10-04T00:00:00.000000000",
                    "2024-10-07T00:00:00.000000000",
                    "2024-10-08T00:00:00.000000000",
                    "2024-10-09T00:00:00.000000000",
                    "2024-10-10T00:00:00.000000000",
                    "2024-10-11T00:00:00.000000000",
                    "2024-10-14T00:00:00.000000000",
                    "2024-10-15T00:00:00.000000000",
                    "2024-10-16T00:00:00.000000000",
                    "2024-10-17T00:00:00.000000000",
                    "2024-10-18T00:00:00.000000000",
                    "2024-10-21T00:00:00.000000000",
                    "2024-10-22T00:00:00.000000000",
                    "2024-10-23T00:00:00.000000000",
                    "2024-10-24T00:00:00.000000000",
                    "2024-10-25T00:00:00.000000000",
                    "2024-10-28T00:00:00.000000000",
                    "2024-10-29T00:00:00.000000000",
                    "2024-10-30T00:00:00.000000000",
                    "2024-10-31T00:00:00.000000000",
                    "2024-11-01T00:00:00.000000000",
                    "2024-11-04T00:00:00.000000000",
                    "2024-11-05T00:00:00.000000000",
                    "2024-11-06T00:00:00.000000000",
                    "2024-11-07T00:00:00.000000000",
                    "2024-11-08T00:00:00.000000000",
                    "2024-11-11T00:00:00.000000000",
                    "2024-11-12T00:00:00.000000000",
                    "2024-11-13T00:00:00.000000000",
                    "2024-11-14T00:00:00.000000000",
                    "2024-11-15T00:00:00.000000000",
                    "2024-11-18T00:00:00.000000000",
                    "2024-11-19T00:00:00.000000000",
                    "2024-11-20T00:00:00.000000000",
                    "2024-11-21T00:00:00.000000000",
                    "2024-11-22T00:00:00.000000000",
                    "2024-11-25T00:00:00.000000000",
                    "2024-11-26T00:00:00.000000000",
                    "2024-11-27T00:00:00.000000000",
                    "2024-11-29T00:00:00.000000000",
                    "2024-12-02T00:00:00.000000000",
                    "2024-12-03T00:00:00.000000000",
                    "2024-12-04T00:00:00.000000000",
                    "2024-12-05T00:00:00.000000000",
                    "2024-12-06T00:00:00.000000000",
                    "2024-12-09T00:00:00.000000000",
                    "2024-12-10T00:00:00.000000000",
                    "2024-12-11T00:00:00.000000000",
                    "2024-12-12T00:00:00.000000000",
                    "2024-12-13T00:00:00.000000000",
                    "2024-12-16T00:00:00.000000000",
                    "2024-12-17T00:00:00.000000000",
                    "2024-12-18T00:00:00.000000000",
                    "2024-12-19T00:00:00.000000000",
                    "2024-12-20T00:00:00.000000000",
                    "2024-12-23T00:00:00.000000000",
                    "2024-12-24T00:00:00.000000000",
                    "2024-12-26T00:00:00.000000000",
                    "2024-12-27T00:00:00.000000000",
                    "2024-12-30T00:00:00.000000000",
                    "2024-12-31T00:00:00.000000000",
                    "2025-01-02T00:00:00.000000000",
                    "2025-01-03T00:00:00.000000000",
                    "2025-01-06T00:00:00.000000000",
                    "2025-01-07T00:00:00.000000000",
                    "2025-01-08T00:00:00.000000000",
                    "2025-01-10T00:00:00.000000000",
                    "2025-01-13T00:00:00.000000000",
                    "2025-01-14T00:00:00.000000000",
                    "2025-01-15T00:00:00.000000000",
                    "2025-01-16T00:00:00.000000000",
                    "2025-01-17T00:00:00.000000000",
                    "2025-01-21T00:00:00.000000000",
                    "2025-01-22T00:00:00.000000000",
                    "2025-01-23T00:00:00.000000000",
                    "2025-01-24T00:00:00.000000000",
                    "2025-01-27T00:00:00.000000000",
                    "2025-01-28T00:00:00.000000000",
                    "2025-01-29T00:00:00.000000000",
                    "2025-01-30T00:00:00.000000000",
                    "2025-01-31T00:00:00.000000000",
                    "2025-02-03T00:00:00.000000000",
                    "2025-02-04T00:00:00.000000000",
                    "2025-02-05T00:00:00.000000000",
                    "2025-02-06T00:00:00.000000000",
                    "2025-02-07T00:00:00.000000000",
                    "2025-02-10T00:00:00.000000000",
                    "2025-02-11T00:00:00.000000000",
                    "2025-02-12T00:00:00.000000000",
                    "2025-02-13T00:00:00.000000000",
                    "2025-02-14T00:00:00.000000000",
                    "2025-02-18T00:00:00.000000000",
                    "2025-02-19T00:00:00.000000000",
                    "2025-02-20T00:00:00.000000000",
                    "2025-02-21T00:00:00.000000000",
                    "2025-02-24T00:00:00.000000000",
                    "2025-02-25T00:00:00.000000000",
                    "2025-02-26T00:00:00.000000000",
                    "2025-02-27T00:00:00.000000000",
                    "2025-02-28T00:00:00.000000000",
                    "2025-03-03T00:00:00.000000000",
                    "2025-03-04T00:00:00.000000000",
                    "2025-03-05T00:00:00.000000000",
                    "2025-03-06T00:00:00.000000000",
                    "2025-03-07T00:00:00.000000000",
                    "2025-03-10T00:00:00.000000000",
                    "2025-03-11T00:00:00.000000000",
                    "2025-03-12T00:00:00.000000000",
                    "2025-03-13T00:00:00.000000000",
                    "2025-03-14T00:00:00.000000000",
                    "2025-03-17T00:00:00.000000000",
                    "2025-03-18T00:00:00.000000000",
                    "2025-03-19T00:00:00.000000000",
                    "2025-03-20T00:00:00.000000000",
                    "2025-03-21T00:00:00.000000000",
                    "2025-03-24T00:00:00.000000000",
                    "2025-03-25T00:00:00.000000000",
                    "2025-03-26T00:00:00.000000000",
                    "2025-03-27T00:00:00.000000000",
                    "2025-03-28T00:00:00.000000000",
                    "2025-03-31T00:00:00.000000000",
                    "2025-04-01T00:00:00.000000000",
                    "2025-04-02T00:00:00.000000000",
                    "2025-04-03T00:00:00.000000000",
                    "2025-04-04T00:00:00.000000000",
                    "2025-04-07T00:00:00.000000000",
                    "2025-04-08T00:00:00.000000000",
                    "2025-04-09T00:00:00.000000000",
                    "2025-04-10T00:00:00.000000000",
                    "2025-04-11T00:00:00.000000000",
                    "2025-04-14T00:00:00.000000000",
                    "2025-04-15T00:00:00.000000000",
                    "2025-04-16T00:00:00.000000000",
                    "2025-04-17T00:00:00.000000000",
                    "2025-04-21T00:00:00.000000000",
                    "2025-04-22T00:00:00.000000000",
                    "2025-04-23T00:00:00.000000000",
                    "2025-04-24T00:00:00.000000000",
                    "2025-04-25T00:00:00.000000000",
                    "2025-04-28T00:00:00.000000000",
                    "2025-04-29T00:00:00.000000000",
                    "2025-04-30T00:00:00.000000000",
                    "2025-05-01T00:00:00.000000000",
                    "2025-05-02T00:00:00.000000000",
                    "2025-05-05T00:00:00.000000000",
                    "2025-05-06T00:00:00.000000000",
                    "2025-05-07T00:00:00.000000000",
                    "2025-05-08T00:00:00.000000000",
                    "2025-05-09T00:00:00.000000000",
                    "2025-05-12T00:00:00.000000000",
                    "2025-05-13T00:00:00.000000000",
                    "2025-05-14T00:00:00.000000000",
                    "2025-05-15T00:00:00.000000000",
                    "2025-05-16T00:00:00.000000000",
                    "2025-05-19T00:00:00.000000000",
                    "2025-05-20T00:00:00.000000000",
                    "2025-05-21T00:00:00.000000000",
                    "2025-05-22T00:00:00.000000000",
                    "2025-05-23T00:00:00.000000000",
                    "2025-05-27T00:00:00.000000000",
                    "2025-05-28T00:00:00.000000000",
                    "2025-05-29T00:00:00.000000000",
                    "2025-05-30T00:00:00.000000000",
                    "2025-06-02T00:00:00.000000000",
                    "2025-06-03T00:00:00.000000000",
                    "2025-06-04T00:00:00.000000000",
                    "2025-06-05T00:00:00.000000000",
                    "2025-06-06T00:00:00.000000000",
                    "2025-06-09T00:00:00.000000000",
                    "2025-06-10T00:00:00.000000000",
                    "2025-06-11T00:00:00.000000000",
                    "2025-06-12T00:00:00.000000000",
                    "2025-06-13T00:00:00.000000000",
                    "2025-06-16T00:00:00.000000000",
                    "2025-06-17T00:00:00.000000000",
                    "2025-06-18T00:00:00.000000000",
                    "2025-06-20T00:00:00.000000000",
                    "2025-06-23T00:00:00.000000000",
                    "2025-06-24T00:00:00.000000000",
                    "2025-06-25T00:00:00.000000000",
                    "2025-06-26T00:00:00.000000000",
                    "2025-06-27T00:00:00.000000000"
                  ],
                  "xaxis": "x4",
                  "y": {
                    "bdata": "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",
                    "dtype": "f8"
                  },
                  "yaxis": "y6"
                }
              ],
              "layout": {
                "annotations": [
                  {
                    "font": {
                      "size": 16
                    },
                    "showarrow": false,
                    "text": "Price Trends by Symbol",
                    "x": 0.185,
                    "xanchor": "center",
                    "xref": "paper",
                    "y": 1,
                    "yanchor": "bottom",
                    "yref": "paper"
                  },
                  {
                    "font": {
                      "size": 16
                    },
                    "showarrow": false,
                    "text": "Daily Returns Distribution",
                    "x": 0.7550000000000001,
                    "xanchor": "center",
                    "xref": "paper",
                    "y": 1,
                    "yanchor": "bottom",
                    "yref": "paper"
                  },
                  {
                    "font": {
                      "size": 16
                    },
                    "showarrow": false,
                    "text": "Volume Patterns",
                    "x": 0.185,
                    "xanchor": "center",
                    "xref": "paper",
                    "y": 0.375,
                    "yanchor": "bottom",
                    "yref": "paper"
                  },
                  {
                    "font": {
                      "size": 16
                    },
                    "showarrow": false,
                    "text": "Volatility Analysis",
                    "x": 0.7550000000000001,
                    "xanchor": "center",
                    "xref": "paper",
                    "y": 0.375,
                    "yanchor": "bottom",
                    "yref": "paper"
                  }
                ],
                "height": 800,
                "showlegend": true,
                "template": {
                  "data": {
                    "bar": [
                      {
                        "error_x": {
                          "color": "#f2f5fa"
                        },
                        "error_y": {
                          "color": "#f2f5fa"
                        },
                        "marker": {
                          "line": {
                            "color": "rgb(17,17,17)",
                            "width": 0.5
                          },
                          "pattern": {
                            "fillmode": "overlay",
                            "size": 10,
                            "solidity": 0.2
                          }
                        },
                        "type": "bar"
                      }
                    ],
                    "barpolar": [
                      {
                        "marker": {
                          "line": {
                            "color": "rgb(17,17,17)",
                            "width": 0.5
                          },
                          "pattern": {
                            "fillmode": "overlay",
                            "size": 10,
                            "solidity": 0.2
                          }
                        },
                        "type": "barpolar"
                      }
                    ],
                    "carpet": [
                      {
                        "aaxis": {
                          "endlinecolor": "#A2B1C6",
                          "gridcolor": "#506784",
                          "linecolor": "#506784",
                          "minorgridcolor": "#506784",
                          "startlinecolor": "#A2B1C6"
                        },
                        "baxis": {
                          "endlinecolor": "#A2B1C6",
                          "gridcolor": "#506784",
                          "linecolor": "#506784",
                          "minorgridcolor": "#506784",
                          "startlinecolor": "#A2B1C6"
                        },
                        "type": "carpet"
                      }
                    ],
                    "choropleth": [
                      {
                        "colorbar": {
                          "outlinewidth": 0,
                          "ticks": ""
                        },
                        "type": "choropleth"
                      }
                    ],
                    "contour": [
                      {
                        "colorbar": {
                          "outlinewidth": 0,
                          "ticks": ""
                        },
                        "colorscale": [
                          [
                            0,
                            "#0d0887"
                          ],
                          [
                            0.1111111111111111,
                            "#46039f"
                          ],
                          [
                            0.2222222222222222,
                            "#7201a8"
                          ],
                          [
                            0.3333333333333333,
                            "#9c179e"
                          ],
                          [
                            0.4444444444444444,
                            "#bd3786"
                          ],
                          [
                            0.5555555555555556,
                            "#d8576b"
                          ],
                          [
                            0.6666666666666666,
                            "#ed7953"
                          ],
                          [
                            0.7777777777777778,
                            "#fb9f3a"
                          ],
                          [
                            0.8888888888888888,
                            "#fdca26"
                          ],
                          [
                            1,
                            "#f0f921"
                          ]
                        ],
                        "type": "contour"
                      }
                    ],
                    "contourcarpet": [
                      {
                        "colorbar": {
                          "outlinewidth": 0,
                          "ticks": ""
                        },
                        "type": "contourcarpet"
                      }
                    ],
                    "heatmap": [
                      {
                        "colorbar": {
                          "outlinewidth": 0,
                          "ticks": ""
                        },
                        "colorscale": [
                          [
                            0,
                            "#0d0887"
                          ],
                          [
                            0.1111111111111111,
                            "#46039f"
                          ],
                          [
                            0.2222222222222222,
                            "#7201a8"
                          ],
                          [
                            0.3333333333333333,
                            "#9c179e"
                          ],
                          [
                            0.4444444444444444,
                            "#bd3786"
                          ],
                          [
                            0.5555555555555556,
                            "#d8576b"
                          ],
                          [
                            0.6666666666666666,
                            "#ed7953"
                          ],
                          [
                            0.7777777777777778,
                            "#fb9f3a"
                          ],
                          [
                            0.8888888888888888,
                            "#fdca26"
                          ],
                          [
                            1,
                            "#f0f921"
                          ]
                        ],
                        "type": "heatmap"
                      }
                    ],
                    "histogram": [
                      {
                        "marker": {
                          "pattern": {
                            "fillmode": "overlay",
                            "size": 10,
                            "solidity": 0.2
                          }
                        },
                        "type": "histogram"
                      }
                    ],
                    "histogram2d": [
                      {
                        "colorbar": {
                          "outlinewidth": 0,
                          "ticks": ""
                        },
                        "colorscale": [
                          [
                            0,
                            "#0d0887"
                          ],
                          [
                            0.1111111111111111,
                            "#46039f"
                          ],
                          [
                            0.2222222222222222,
                            "#7201a8"
                          ],
                          [
                            0.3333333333333333,
                            "#9c179e"
                          ],
                          [
                            0.4444444444444444,
                            "#bd3786"
                          ],
                          [
                            0.5555555555555556,
                            "#d8576b"
                          ],
                          [
                            0.6666666666666666,
                            "#ed7953"
                          ],
                          [
                            0.7777777777777778,
                            "#fb9f3a"
                          ],
                          [
                            0.8888888888888888,
                            "#fdca26"
                          ],
                          [
                            1,
                            "#f0f921"
                          ]
                        ],
                        "type": "histogram2d"
                      }
                    ],
                    "histogram2dcontour": [
                      {
                        "colorbar": {
                          "outlinewidth": 0,
                          "ticks": ""
                        },
                        "colorscale": [
                          [
                            0,
                            "#0d0887"
                          ],
                          [
                            0.1111111111111111,
                            "#46039f"
                          ],
                          [
                            0.2222222222222222,
                            "#7201a8"
                          ],
                          [
                            0.3333333333333333,
                            "#9c179e"
                          ],
                          [
                            0.4444444444444444,
                            "#bd3786"
                          ],
                          [
                            0.5555555555555556,
                            "#d8576b"
                          ],
                          [
                            0.6666666666666666,
                            "#ed7953"
                          ],
                          [
                            0.7777777777777778,
                            "#fb9f3a"
                          ],
                          [
                            0.8888888888888888,
                            "#fdca26"
                          ],
                          [
                            1,
                            "#f0f921"
                          ]
                        ],
                        "type": "histogram2dcontour"
                      }
                    ],
                    "mesh3d": [
                      {
                        "colorbar": {
                          "outlinewidth": 0,
                          "ticks": ""
                        },
                        "type": "mesh3d"
                      }
                    ],
                    "parcoords": [
                      {
                        "line": {
                          "colorbar": {
                            "outlinewidth": 0,
                            "ticks": ""
                          }
                        },
                        "type": "parcoords"
                      }
                    ],
                    "pie": [
                      {
                        "automargin": true,
                        "type": "pie"
                      }
                    ],
                    "scatter": [
                      {
                        "marker": {
                          "line": {
                            "color": "#283442"
                          }
                        },
                        "type": "scatter"
                      }
                    ],
                    "scatter3d": [
                      {
                        "line": {
                          "colorbar": {
                            "outlinewidth": 0,
                            "ticks": ""
                          }
                        },
                        "marker": {
                          "colorbar": {
                            "outlinewidth": 0,
                            "ticks": ""
                          }
                        },
                        "type": "scatter3d"
                      }
                    ],
                    "scattercarpet": [
                      {
                        "marker": {
                          "colorbar": {
                            "outlinewidth": 0,
                            "ticks": ""
                          }
                        },
                        "type": "scattercarpet"
                      }
                    ],
                    "scattergeo": [
                      {
                        "marker": {
                          "colorbar": {
                            "outlinewidth": 0,
                            "ticks": ""
                          }
                        },
                        "type": "scattergeo"
                      }
                    ],
                    "scattergl": [
                      {
                        "marker": {
                          "line": {
                            "color": "#283442"
                          }
                        },
                        "type": "scattergl"
                      }
                    ],
                    "scattermap": [
                      {
                        "marker": {
                          "colorbar": {
                            "outlinewidth": 0,
                            "ticks": ""
                          }
                        },
                        "type": "scattermap"
                      }
                    ],
                    "scattermapbox": [
                      {
                        "marker": {
                          "colorbar": {
                            "outlinewidth": 0,
                            "ticks": ""
                          }
                        },
                        "type": "scattermapbox"
                      }
                    ],
                    "scatterpolar": [
                      {
                        "marker": {
                          "colorbar": {
                            "outlinewidth": 0,
                            "ticks": ""
                          }
                        },
                        "type": "scatterpolar"
                      }
                    ],
                    "scatterpolargl": [
                      {
                        "marker": {
                          "colorbar": {
                            "outlinewidth": 0,
                            "ticks": ""
                          }
                        },
                        "type": "scatterpolargl"
                      }
                    ],
                    "scatterternary": [
                      {
                        "marker": {
                          "colorbar": {
                            "outlinewidth": 0,
                            "ticks": ""
                          }
                        },
                        "type": "scatterternary"
                      }
                    ],
                    "surface": [
                      {
                        "colorbar": {
                          "outlinewidth": 0,
                          "ticks": ""
                        },
                        "colorscale": [
                          [
                            0,
                            "#0d0887"
                          ],
                          [
                            0.1111111111111111,
                            "#46039f"
                          ],
                          [
                            0.2222222222222222,
                            "#7201a8"
                          ],
                          [
                            0.3333333333333333,
                            "#9c179e"
                          ],
                          [
                            0.4444444444444444,
                            "#bd3786"
                          ],
                          [
                            0.5555555555555556,
                            "#d8576b"
                          ],
                          [
                            0.6666666666666666,
                            "#ed7953"
                          ],
                          [
                            0.7777777777777778,
                            "#fb9f3a"
                          ],
                          [
                            0.8888888888888888,
                            "#fdca26"
                          ],
                          [
                            1,
                            "#f0f921"
                          ]
                        ],
                        "type": "surface"
                      }
                    ],
                    "table": [
                      {
                        "cells": {
                          "fill": {
                            "color": "#506784"
                          },
                          "line": {
                            "color": "rgb(17,17,17)"
                          }
                        },
                        "header": {
                          "fill": {
                            "color": "#2a3f5f"
                          },
                          "line": {
                            "color": "rgb(17,17,17)"
                          }
                        },
                        "type": "table"
                      }
                    ]
                  },
                  "layout": {
                    "annotationdefaults": {
                      "arrowcolor": "#f2f5fa",
                      "arrowhead": 0,
                      "arrowwidth": 1
                    },
                    "autotypenumbers": "strict",
                    "coloraxis": {
                      "colorbar": {
                        "outlinewidth": 0,
                        "ticks": ""
                      }
                    },
                    "colorscale": {
                      "diverging": [
                        [
                          0,
                          "#8e0152"
                        ],
                        [
                          0.1,
                          "#c51b7d"
                        ],
                        [
                          0.2,
                          "#de77ae"
                        ],
                        [
                          0.3,
                          "#f1b6da"
                        ],
                        [
                          0.4,
                          "#fde0ef"
                        ],
                        [
                          0.5,
                          "#f7f7f7"
                        ],
                        [
                          0.6,
                          "#e6f5d0"
                        ],
                        [
                          0.7,
                          "#b8e186"
                        ],
                        [
                          0.8,
                          "#7fbc41"
                        ],
                        [
                          0.9,
                          "#4d9221"
                        ],
                        [
                          1,
                          "#276419"
                        ]
                      ],
                      "sequential": [
                        [
                          0,
                          "#0d0887"
                        ],
                        [
                          0.1111111111111111,
                          "#46039f"
                        ],
                        [
                          0.2222222222222222,
                          "#7201a8"
                        ],
                        [
                          0.3333333333333333,
                          "#9c179e"
                        ],
                        [
                          0.4444444444444444,
                          "#bd3786"
                        ],
                        [
                          0.5555555555555556,
                          "#d8576b"
                        ],
                        [
                          0.6666666666666666,
                          "#ed7953"
                        ],
                        [
                          0.7777777777777778,
                          "#fb9f3a"
                        ],
                        [
                          0.8888888888888888,
                          "#fdca26"
                        ],
                        [
                          1,
                          "#f0f921"
                        ]
                      ],
                      "sequentialminus": [
                        [
                          0,
                          "#0d0887"
                        ],
                        [
                          0.1111111111111111,
                          "#46039f"
                        ],
                        [
                          0.2222222222222222,
                          "#7201a8"
                        ],
                        [
                          0.3333333333333333,
                          "#9c179e"
                        ],
                        [
                          0.4444444444444444,
                          "#bd3786"
                        ],
                        [
                          0.5555555555555556,
                          "#d8576b"
                        ],
                        [
                          0.6666666666666666,
                          "#ed7953"
                        ],
                        [
                          0.7777777777777778,
                          "#fb9f3a"
                        ],
                        [
                          0.8888888888888888,
                          "#fdca26"
                        ],
                        [
                          1,
                          "#f0f921"
                        ]
                      ]
                    },
                    "colorway": [
                      "#636efa",
                      "#EF553B",
                      "#00cc96",
                      "#ab63fa",
                      "#FFA15A",
                      "#19d3f3",
                      "#FF6692",
                      "#B6E880",
                      "#FF97FF",
                      "#FECB52"
                    ],
                    "font": {
                      "color": "#f2f5fa"
                    },
                    "geo": {
                      "bgcolor": "rgb(17,17,17)",
                      "lakecolor": "rgb(17,17,17)",
                      "landcolor": "rgb(17,17,17)",
                      "showlakes": true,
                      "showland": true,
                      "subunitcolor": "#506784"
                    },
                    "hoverlabel": {
                      "align": "left"
                    },
                    "hovermode": "closest",
                    "mapbox": {
                      "style": "dark"
                    },
                    "paper_bgcolor": "rgb(17,17,17)",
                    "plot_bgcolor": "rgb(17,17,17)",
                    "polar": {
                      "angularaxis": {
                        "gridcolor": "#506784",
                        "linecolor": "#506784",
                        "ticks": ""
                      },
                      "bgcolor": "rgb(17,17,17)",
                      "radialaxis": {
                        "gridcolor": "#506784",
                        "linecolor": "#506784",
                        "ticks": ""
                      }
                    },
                    "scene": {
                      "xaxis": {
                        "backgroundcolor": "rgb(17,17,17)",
                        "gridcolor": "#506784",
                        "gridwidth": 2,
                        "linecolor": "#506784",
                        "showbackground": true,
                        "ticks": "",
                        "zerolinecolor": "#C8D4E3"
                      },
                      "yaxis": {
                        "backgroundcolor": "rgb(17,17,17)",
                        "gridcolor": "#506784",
                        "gridwidth": 2,
                        "linecolor": "#506784",
                        "showbackground": true,
                        "ticks": "",
                        "zerolinecolor": "#C8D4E3"
                      },
                      "zaxis": {
                        "backgroundcolor": "rgb(17,17,17)",
                        "gridcolor": "#506784",
                        "gridwidth": 2,
                        "linecolor": "#506784",
                        "showbackground": true,
                        "ticks": "",
                        "zerolinecolor": "#C8D4E3"
                      }
                    },
                    "shapedefaults": {
                      "line": {
                        "color": "#f2f5fa"
                      }
                    },
                    "sliderdefaults": {
                      "bgcolor": "#C8D4E3",
                      "bordercolor": "rgb(17,17,17)",
                      "borderwidth": 1,
                      "tickwidth": 0
                    },
                    "ternary": {
                      "aaxis": {
                        "gridcolor": "#506784",
                        "linecolor": "#506784",
                        "ticks": ""
                      },
                      "baxis": {
                        "gridcolor": "#506784",
                        "linecolor": "#506784",
                        "ticks": ""
                      },
                      "bgcolor": "rgb(17,17,17)",
                      "caxis": {
                        "gridcolor": "#506784",
                        "linecolor": "#506784",
                        "ticks": ""
                      }
                    },
                    "title": {
                      "x": 0.05
                    },
                    "updatemenudefaults": {
                      "bgcolor": "#506784",
                      "borderwidth": 0
                    },
                    "xaxis": {
                      "automargin": true,
                      "gridcolor": "#283442",
                      "linecolor": "#506784",
                      "ticks": "",
                      "title": {
                        "standoff": 15
                      },
                      "zerolinecolor": "#283442",
                      "zerolinewidth": 2
                    },
                    "yaxis": {
                      "automargin": true,
                      "gridcolor": "#283442",
                      "linecolor": "#506784",
                      "ticks": "",
                      "title": {
                        "standoff": 15
                      },
                      "zerolinecolor": "#283442",
                      "zerolinewidth": 2
                    }
                  }
                },
                "title": {
                  "text": "Market Overview Dashboard"
                },
                "xaxis": {
                  "anchor": "y",
                  "domain": [
                    0,
                    0.37
                  ],
                  "title": {
                    "text": "Date"
                  }
                },
                "xaxis2": {
                  "anchor": "y3",
                  "domain": [
                    0.5700000000000001,
                    0.9400000000000001
                  ],
                  "title": {
                    "text": "Daily Return"
                  }
                },
                "xaxis3": {
                  "anchor": "y4",
                  "domain": [
                    0,
                    0.37
                  ],
                  "title": {
                    "text": "Date"
                  }
                },
                "xaxis4": {
                  "anchor": "y6",
                  "domain": [
                    0.5700000000000001,
                    0.9400000000000001
                  ],
                  "title": {
                    "text": "Date"
                  }
                },
                "yaxis": {
                  "anchor": "x",
                  "domain": [
                    0.625,
                    1
                  ],
                  "title": {
                    "text": "Price ($)"
                  }
                },
                "yaxis2": {
                  "anchor": "x",
                  "overlaying": "y",
                  "side": "right",
                  "title": {
                    "text": "Volume"
                  }
                },
                "yaxis3": {
                  "anchor": "x2",
                  "domain": [
                    0.625,
                    1
                  ],
                  "title": {
                    "text": "Frequency"
                  }
                },
                "yaxis4": {
                  "anchor": "x3",
                  "domain": [
                    0,
                    0.375
                  ],
                  "title": {
                    "text": "Volume"
                  }
                },
                "yaxis5": {
                  "anchor": "x3",
                  "overlaying": "y4",
                  "side": "right",
                  "title": {
                    "text": "Volume"
                  }
                },
                "yaxis6": {
                  "anchor": "x4",
                  "domain": [
                    0,
                    0.375
                  ],
                  "title": {
                    "text": "5-day Volatility"
                  }
                }
              }
            }
          },
          "metadata": {},
          "output_type": "display_data"
        },
        {
          "name": "stdout",
          "output_type": "stream",
          "text": [
            "\n",
            "============================================================\n",
            "📊 MARKET INSIGHTS SUMMARY\n",
            "============================================================\n",
            "📈 Dataset Overview:\n",
            "   • Total records: 819\n",
            "   • Number of symbols: 3\n",
            "   • Date range: 399 days\n",
            "   • Period: 2024-05-24 to 2025-06-27\n",
            "\n",
            "💰 Price & Returns Analysis:\n",
            "   • Average daily return: 0.060%\n",
            "   • Daily volatility: 3.622%\n",
            "   • Best single day return: 23.82%\n",
            "   • Worst single day return: -26.06%\n",
            "\n",
            "📊 Volume Analysis:\n",
            "   • Average daily volume: 135,915,602\n",
            "   • Peak volume: 818,830,900\n",
            "\n",
            "🏆 Top Performing Symbols (by avg return):\n",
            "   • NVDA: 0.210% daily avg\n",
            "   • AMD: 0.001% daily avg\n",
            "   • INTC: -0.032% daily avg\n",
            "============================================================\n",
            "\n",
            "🎭 STEP 4: SENTIMENT ANALYSIS\n",
            "-----------------------------------\n",
            "🔄 Creating sentiment analysis...\n",
            "🔄 Creating sentiment analysis visualization...\n"
          ]
        },
        {
          "data": {
            "application/vnd.plotly.v1+json": {
              "config": {
                "plotlyServerURL": "https://plot.ly"
              },
              "data": [
                {
                  "legendgroup": "AMD",
                  "line": {
                    "color": "blue"
                  },
                  "name": "AMD",
                  "type": "scatter",
                  "x": [
                    "2025-05-15T00:00:00.000000000",
                    "2025-05-16T00:00:00.000000000",
                    "2025-05-19T00:00:00.000000000",
                    "2025-05-20T00:00:00.000000000",
                    "2025-05-21T00:00:00.000000000",
                    "2025-05-22T00:00:00.000000000",
                    "2025-06-20T00:00:00.000000000",
                    "2025-06-23T00:00:00.000000000",
                    "2025-06-24T00:00:00.000000000",
                    "2025-06-25T00:00:00.000000000",
                    "2025-06-26T00:00:00.000000000",
                    "2025-06-27T00:00:00.000000000"
                  ],
                  "xaxis": "x",
                  "y": {
                    "bdata": "mpmZmZmZ6T8AAAAAAADgP6RwPQrXo+A/ZmZmZmZm5j+amZmZmZnZv2ZmZmZmZuY/MzMzMzMz4z9mZmZmZmbmP2ZmZmZmZuY/MzMzMzMz4z9mZmZmZmbmPzMzMzMzM+M/",
                    "dtype": "f8"
                  },
                  "yaxis": "y"
                },
                {
                  "legendgroup": "AMD",
                  "name": "AMD",
                  "nbinsx": 20,
                  "opacity": 0.7,
                  "showlegend": false,
                  "type": "histogram",
                  "x": {
                    "bdata": "mpmZmZmZ6T8AAAAAAADgP6RwPQrXo+A/ZmZmZmZm5j+amZmZmZnZv2ZmZmZmZuY/MzMzMzMz4z9mZmZmZmbmP2ZmZmZmZuY/MzMzMzMz4z9mZmZmZmbmPzMzMzMzM+M/",
                    "dtype": "f8"
                  },
                  "xaxis": "x2",
                  "yaxis": "y2"
                },
                {
                  "legendgroup": "AMD",
                  "marker": {
                    "color": "blue",
                    "opacity": 0.6,
                    "size": 6
                  },
                  "mode": "markers",
                  "name": "AMD",
                  "showlegend": false,
                  "type": "scatter",
                  "x": {
                    "bdata": "mpmZmZmZ6T8AAAAAAADgP6RwPQrXo+A/ZmZmZmZm5j+amZmZmZnZv2ZmZmZmZuY/MzMzMzMz4z9mZmZmZmbmP2ZmZmZmZuY/MzMzMzMz4z9mZmZmZmbmPzMzMzMzM+M/",
                    "dtype": "f8"
                  },
                  "xaxis": "x3",
                  "y": {
                    "bdata": "AHwRSUi/l7+A2k1FxWmTP2CVHT6hPJW/wCpAEk/0hb9AtcTCXCmKv4D5W8EorIi/gIunOuFrhz+APCw5XmaFP+C5sTLze7E/QL/tGNRhoj8AfDYFt/1fPwD4hVXqpU0/",
                    "dtype": "f8"
                  },
                  "yaxis": "y3"
                },
                {
                  "legendgroup": "AMD",
                  "marker": {
                    "color": "blue",
                    "opacity": 0.6,
                    "size": 6
                  },
                  "mode": "markers",
                  "name": "AMD",
                  "showlegend": false,
                  "type": "scatter",
                  "x": {
                    "bdata": "mpmZmZmZ6T8AAAAAAADgP6RwPQrXo+A/ZmZmZmZm5j+amZmZmZnZv2ZmZmZmZuY/MzMzMzMz4z9mZmZmZmbmP2ZmZmZmZuY/MzMzMzMz4z9mZmZmZmbmPzMzMzMzM+M/",
                    "dtype": "f8"
                  },
                  "xaxis": "x4",
                  "y": {
                    "bdata": "mpmZmZmZ6T+amZmZmZnpP/YoXI/C9eg/mpmZmZmZ6T8AAAAAAADoPzMzMzMzM+s/MzMzMzMz6z8zMzMzMzPrPzMzMzMzM+s/MzMzMzMz6z8zMzMzMzPrPzMzMzMzM+s/",
                    "dtype": "f8"
                  },
                  "yaxis": "y4"
                },
                {
                  "legendgroup": "INTC",
                  "line": {
                    "color": "red"
                  },
                  "name": "INTC",
                  "type": "scatter",
                  "x": [
                    "2025-05-15T00:00:00.000000000",
                    "2025-05-16T00:00:00.000000000",
                    "2025-05-19T00:00:00.000000000",
                    "2025-05-20T00:00:00.000000000",
                    "2025-05-21T00:00:00.000000000",
                    "2025-05-22T00:00:00.000000000",
                    "2025-06-16T00:00:00.000000000",
                    "2025-06-17T00:00:00.000000000",
                    "2025-06-18T00:00:00.000000000",
                    "2025-06-20T00:00:00.000000000",
                    "2025-06-23T00:00:00.000000000",
                    "2025-06-24T00:00:00.000000000",
                    "2025-06-25T00:00:00.000000000",
                    "2025-06-26T00:00:00.000000000",
                    "2025-06-27T00:00:00.000000000"
                  ],
                  "xaxis": "x",
                  "y": {
                    "bdata": "mpmZmZmZ2T9mZmZmZmbmv65H4XoUrtc/MzMzMzMz47+amZmZmZnZvzMzMzMzM9M/mpmZmZmZuT+amZmZmZnJP5qZmZmZmck/AAAAAAAA4L+amZmZmZm5PzMzMzMzM+M/AAAAAAAA4L8zMzMzMzPjP5qZmZmZmck/",
                    "dtype": "f8"
                  },
                  "yaxis": "y"
                },
                {
                  "legendgroup": "INTC",
                  "name": "INTC",
                  "nbinsx": 20,
                  "opacity": 0.7,
                  "showlegend": false,
                  "type": "histogram",
                  "x": {
                    "bdata": "mpmZmZmZ2T9mZmZmZmbmv65H4XoUrtc/MzMzMzMz47+amZmZmZnZvzMzMzMzM9M/mpmZmZmZuT+amZmZmZnJP5qZmZmZmck/AAAAAAAA4L+amZmZmZm5PzMzMzMzM+M/AAAAAAAA4L8zMzMzMzPjP5qZmZmZmck/",
                    "dtype": "f8"
                  },
                  "xaxis": "x2",
                  "yaxis": "y2"
                },
                {
                  "legendgroup": "INTC",
                  "marker": {
                    "color": "red",
                    "opacity": 0.6,
                    "size": 6
                  },
                  "mode": "markers",
                  "name": "INTC",
                  "showlegend": false,
                  "type": "scatter",
                  "x": {
                    "bdata": "mpmZmZmZ2T9mZmZmZmbmv65H4XoUrtc/MzMzMzMz47+amZmZmZnZvzMzMzMzM9M/mpmZmZmZuT+amZmZmZnJP5qZmZmZmck/AAAAAAAA4L+amZmZmZm5PzMzMzMzM+M/AAAAAAAA4L8zMzMzMzPjP5qZmZmZmck/",
                    "dtype": "f8"
                  },
                  "xaxis": "x3",
                  "y": {
                    "bdata": "AHwx/BPXVj8AzwovXOh0P4BJvuF/eYq/gCRjKusSdb+AnS3rQuybv4D3rfo+t3u/gNnYBaeBnj8ACHRS+rJnP8AP/MAP/KA/oIOD8FmJk78AFuxGsl91PwAKayYubrA/ACCY/IHJj78Au8EU+ayLP4AzxiVSS4E/",
                    "dtype": "f8"
                  },
                  "yaxis": "y3"
                },
                {
                  "legendgroup": "INTC",
                  "marker": {
                    "color": "red",
                    "opacity": 0.6,
                    "size": 6
                  },
                  "mode": "markers",
                  "name": "INTC",
                  "showlegend": false,
                  "type": "scatter",
                  "x": {
                    "bdata": "mpmZmZmZ2T9mZmZmZmbmv65H4XoUrtc/MzMzMzMz47+amZmZmZnZvzMzMzMzM9M/mpmZmZmZuT+amZmZmZnJP5qZmZmZmck/AAAAAAAA4L+amZmZmZm5PzMzMzMzM+M/AAAAAAAA4L8zMzMzMzPjP5qZmZmZmck/",
                    "dtype": "f8"
                  },
                  "xaxis": "x4",
                  "y": {
                    "bdata": "zczMzMzM5D+amZmZmZnpP3E9CtejcOU/mpmZmZmZ6T9mZmZmZmbmPzMzMzMzM+M/AAAAAAAA6D8zMzMzMzPrPwAAAAAAAOg/mpmZmZmZ6T+amZmZmZnpPzMzMzMzM+s/AAAAAAAA6D+amZmZmZnpP5qZmZmZmek/",
                    "dtype": "f8"
                  },
                  "yaxis": "y4"
                },
                {
                  "legendgroup": "NVDA",
                  "line": {
                    "color": "green"
                  },
                  "name": "NVDA",
                  "type": "scatter",
                  "x": [
                    "2025-05-15T00:00:00.000000000",
                    "2025-05-16T00:00:00.000000000",
                    "2025-05-19T00:00:00.000000000",
                    "2025-05-20T00:00:00.000000000",
                    "2025-05-21T00:00:00.000000000",
                    "2025-05-22T00:00:00.000000000",
                    "2025-06-26T00:00:00.000000000",
                    "2025-06-27T00:00:00.000000000"
                  ],
                  "xaxis": "x",
                  "y": {
                    "bdata": "uB6F61G43j+amZmZmZnpPylcj8L1KOQ/zczMzMzM7D8zMzMzMzPjvzMzMzMzM9O/ZmZmZmZm5j9mZmZmZmbmPw==",
                    "dtype": "f8"
                  },
                  "yaxis": "y"
                },
                {
                  "legendgroup": "NVDA",
                  "name": "NVDA",
                  "nbinsx": 20,
                  "opacity": 0.7,
                  "showlegend": false,
                  "type": "histogram",
                  "x": {
                    "bdata": "uB6F61G43j+amZmZmZnpPylcj8L1KOQ/zczMzMzM7D8zMzMzMzPjvzMzMzMzM9O/ZmZmZmZm5j9mZmZmZmbmPw==",
                    "dtype": "f8"
                  },
                  "xaxis": "x2",
                  "yaxis": "y2"
                },
                {
                  "legendgroup": "NVDA",
                  "marker": {
                    "color": "green",
                    "opacity": 0.6,
                    "size": 6
                  },
                  "mode": "markers",
                  "name": "NVDA",
                  "showlegend": false,
                  "type": "scatter",
                  "x": {
                    "bdata": "uB6F61G43j+amZmZmZnpPylcj8L1KOQ/zczMzMzM7D8zMzMzMzPjvzMzMzMzM9O/ZmZmZmZm5j9mZmZmZmbmPw==",
                    "dtype": "f8"
                  },
                  "xaxis": "x3",
                  "y": {
                    "bdata": "AB5pWTjfbr8As35ONlFxPwDsCX16klQ/QFA2xgD6gb+g3I16IamTvwBMCXSHAYA/AFAWyaHYcj/A/t9uhQiSPw==",
                    "dtype": "f8"
                  },
                  "yaxis": "y3"
                },
                {
                  "legendgroup": "NVDA",
                  "marker": {
                    "color": "green",
                    "opacity": 0.6,
                    "size": 6
                  },
                  "mode": "markers",
                  "name": "NVDA",
                  "showlegend": false,
                  "type": "scatter",
                  "x": {
                    "bdata": "uB6F61G43j+amZmZmZnpPylcj8L1KOQ/zczMzMzM7D8zMzMzMzPjvzMzMzMzM9O/ZmZmZmZm5j9mZmZmZmbmPw==",
                    "dtype": "f8"
                  },
                  "xaxis": "x4",
                  "y": {
                    "bdata": "AAAAAAAA6D/NzMzMzMzsP+xRuB6F6+k/zczMzMzM7D+amZmZmZnpP5qZmZmZmek/MzMzMzMz6z8zMzMzMzPrPw==",
                    "dtype": "f8"
                  },
                  "yaxis": "y4"
                }
              ],
              "layout": {
                "annotations": [
                  {
                    "font": {
                      "size": 16
                    },
                    "showarrow": false,
                    "text": "Sentiment Over Time",
                    "x": 0.225,
                    "xanchor": "center",
                    "xref": "paper",
                    "y": 1,
                    "yanchor": "bottom",
                    "yref": "paper"
                  },
                  {
                    "font": {
                      "size": 16
                    },
                    "showarrow": false,
                    "text": "Sentiment Distribution",
                    "x": 0.775,
                    "xanchor": "center",
                    "xref": "paper",
                    "y": 1,
                    "yanchor": "bottom",
                    "yref": "paper"
                  },
                  {
                    "font": {
                      "size": 16
                    },
                    "showarrow": false,
                    "text": "Sentiment vs Returns",
                    "x": 0.225,
                    "xanchor": "center",
                    "xref": "paper",
                    "y": 0.375,
                    "yanchor": "bottom",
                    "yref": "paper"
                  },
                  {
                    "font": {
                      "size": 16
                    },
                    "showarrow": false,
                    "text": "Sentiment Confidence",
                    "x": 0.775,
                    "xanchor": "center",
                    "xref": "paper",
                    "y": 0.375,
                    "yanchor": "bottom",
                    "yref": "paper"
                  }
                ],
                "height": 800,
                "showlegend": true,
                "template": {
                  "data": {
                    "bar": [
                      {
                        "error_x": {
                          "color": "#f2f5fa"
                        },
                        "error_y": {
                          "color": "#f2f5fa"
                        },
                        "marker": {
                          "line": {
                            "color": "rgb(17,17,17)",
                            "width": 0.5
                          },
                          "pattern": {
                            "fillmode": "overlay",
                            "size": 10,
                            "solidity": 0.2
                          }
                        },
                        "type": "bar"
                      }
                    ],
                    "barpolar": [
                      {
                        "marker": {
                          "line": {
                            "color": "rgb(17,17,17)",
                            "width": 0.5
                          },
                          "pattern": {
                            "fillmode": "overlay",
                            "size": 10,
                            "solidity": 0.2
                          }
                        },
                        "type": "barpolar"
                      }
                    ],
                    "carpet": [
                      {
                        "aaxis": {
                          "endlinecolor": "#A2B1C6",
                          "gridcolor": "#506784",
                          "linecolor": "#506784",
                          "minorgridcolor": "#506784",
                          "startlinecolor": "#A2B1C6"
                        },
                        "baxis": {
                          "endlinecolor": "#A2B1C6",
                          "gridcolor": "#506784",
                          "linecolor": "#506784",
                          "minorgridcolor": "#506784",
                          "startlinecolor": "#A2B1C6"
                        },
                        "type": "carpet"
                      }
                    ],
                    "choropleth": [
                      {
                        "colorbar": {
                          "outlinewidth": 0,
                          "ticks": ""
                        },
                        "type": "choropleth"
                      }
                    ],
                    "contour": [
                      {
                        "colorbar": {
                          "outlinewidth": 0,
                          "ticks": ""
                        },
                        "colorscale": [
                          [
                            0,
                            "#0d0887"
                          ],
                          [
                            0.1111111111111111,
                            "#46039f"
                          ],
                          [
                            0.2222222222222222,
                            "#7201a8"
                          ],
                          [
                            0.3333333333333333,
                            "#9c179e"
                          ],
                          [
                            0.4444444444444444,
                            "#bd3786"
                          ],
                          [
                            0.5555555555555556,
                            "#d8576b"
                          ],
                          [
                            0.6666666666666666,
                            "#ed7953"
                          ],
                          [
                            0.7777777777777778,
                            "#fb9f3a"
                          ],
                          [
                            0.8888888888888888,
                            "#fdca26"
                          ],
                          [
                            1,
                            "#f0f921"
                          ]
                        ],
                        "type": "contour"
                      }
                    ],
                    "contourcarpet": [
                      {
                        "colorbar": {
                          "outlinewidth": 0,
                          "ticks": ""
                        },
                        "type": "contourcarpet"
                      }
                    ],
                    "heatmap": [
                      {
                        "colorbar": {
                          "outlinewidth": 0,
                          "ticks": ""
                        },
                        "colorscale": [
                          [
                            0,
                            "#0d0887"
                          ],
                          [
                            0.1111111111111111,
                            "#46039f"
                          ],
                          [
                            0.2222222222222222,
                            "#7201a8"
                          ],
                          [
                            0.3333333333333333,
                            "#9c179e"
                          ],
                          [
                            0.4444444444444444,
                            "#bd3786"
                          ],
                          [
                            0.5555555555555556,
                            "#d8576b"
                          ],
                          [
                            0.6666666666666666,
                            "#ed7953"
                          ],
                          [
                            0.7777777777777778,
                            "#fb9f3a"
                          ],
                          [
                            0.8888888888888888,
                            "#fdca26"
                          ],
                          [
                            1,
                            "#f0f921"
                          ]
                        ],
                        "type": "heatmap"
                      }
                    ],
                    "histogram": [
                      {
                        "marker": {
                          "pattern": {
                            "fillmode": "overlay",
                            "size": 10,
                            "solidity": 0.2
                          }
                        },
                        "type": "histogram"
                      }
                    ],
                    "histogram2d": [
                      {
                        "colorbar": {
                          "outlinewidth": 0,
                          "ticks": ""
                        },
                        "colorscale": [
                          [
                            0,
                            "#0d0887"
                          ],
                          [
                            0.1111111111111111,
                            "#46039f"
                          ],
                          [
                            0.2222222222222222,
                            "#7201a8"
                          ],
                          [
                            0.3333333333333333,
                            "#9c179e"
                          ],
                          [
                            0.4444444444444444,
                            "#bd3786"
                          ],
                          [
                            0.5555555555555556,
                            "#d8576b"
                          ],
                          [
                            0.6666666666666666,
                            "#ed7953"
                          ],
                          [
                            0.7777777777777778,
                            "#fb9f3a"
                          ],
                          [
                            0.8888888888888888,
                            "#fdca26"
                          ],
                          [
                            1,
                            "#f0f921"
                          ]
                        ],
                        "type": "histogram2d"
                      }
                    ],
                    "histogram2dcontour": [
                      {
                        "colorbar": {
                          "outlinewidth": 0,
                          "ticks": ""
                        },
                        "colorscale": [
                          [
                            0,
                            "#0d0887"
                          ],
                          [
                            0.1111111111111111,
                            "#46039f"
                          ],
                          [
                            0.2222222222222222,
                            "#7201a8"
                          ],
                          [
                            0.3333333333333333,
                            "#9c179e"
                          ],
                          [
                            0.4444444444444444,
                            "#bd3786"
                          ],
                          [
                            0.5555555555555556,
                            "#d8576b"
                          ],
                          [
                            0.6666666666666666,
                            "#ed7953"
                          ],
                          [
                            0.7777777777777778,
                            "#fb9f3a"
                          ],
                          [
                            0.8888888888888888,
                            "#fdca26"
                          ],
                          [
                            1,
                            "#f0f921"
                          ]
                        ],
                        "type": "histogram2dcontour"
                      }
                    ],
                    "mesh3d": [
                      {
                        "colorbar": {
                          "outlinewidth": 0,
                          "ticks": ""
                        },
                        "type": "mesh3d"
                      }
                    ],
                    "parcoords": [
                      {
                        "line": {
                          "colorbar": {
                            "outlinewidth": 0,
                            "ticks": ""
                          }
                        },
                        "type": "parcoords"
                      }
                    ],
                    "pie": [
                      {
                        "automargin": true,
                        "type": "pie"
                      }
                    ],
                    "scatter": [
                      {
                        "marker": {
                          "line": {
                            "color": "#283442"
                          }
                        },
                        "type": "scatter"
                      }
                    ],
                    "scatter3d": [
                      {
                        "line": {
                          "colorbar": {
                            "outlinewidth": 0,
                            "ticks": ""
                          }
                        },
                        "marker": {
                          "colorbar": {
                            "outlinewidth": 0,
                            "ticks": ""
                          }
                        },
                        "type": "scatter3d"
                      }
                    ],
                    "scattercarpet": [
                      {
                        "marker": {
                          "colorbar": {
                            "outlinewidth": 0,
                            "ticks": ""
                          }
                        },
                        "type": "scattercarpet"
                      }
                    ],
                    "scattergeo": [
                      {
                        "marker": {
                          "colorbar": {
                            "outlinewidth": 0,
                            "ticks": ""
                          }
                        },
                        "type": "scattergeo"
                      }
                    ],
                    "scattergl": [
                      {
                        "marker": {
                          "line": {
                            "color": "#283442"
                          }
                        },
                        "type": "scattergl"
                      }
                    ],
                    "scattermap": [
                      {
                        "marker": {
                          "colorbar": {
                            "outlinewidth": 0,
                            "ticks": ""
                          }
                        },
                        "type": "scattermap"
                      }
                    ],
                    "scattermapbox": [
                      {
                        "marker": {
                          "colorbar": {
                            "outlinewidth": 0,
                            "ticks": ""
                          }
                        },
                        "type": "scattermapbox"
                      }
                    ],
                    "scatterpolar": [
                      {
                        "marker": {
                          "colorbar": {
                            "outlinewidth": 0,
                            "ticks": ""
                          }
                        },
                        "type": "scatterpolar"
                      }
                    ],
                    "scatterpolargl": [
                      {
                        "marker": {
                          "colorbar": {
                            "outlinewidth": 0,
                            "ticks": ""
                          }
                        },
                        "type": "scatterpolargl"
                      }
                    ],
                    "scatterternary": [
                      {
                        "marker": {
                          "colorbar": {
                            "outlinewidth": 0,
                            "ticks": ""
                          }
                        },
                        "type": "scatterternary"
                      }
                    ],
                    "surface": [
                      {
                        "colorbar": {
                          "outlinewidth": 0,
                          "ticks": ""
                        },
                        "colorscale": [
                          [
                            0,
                            "#0d0887"
                          ],
                          [
                            0.1111111111111111,
                            "#46039f"
                          ],
                          [
                            0.2222222222222222,
                            "#7201a8"
                          ],
                          [
                            0.3333333333333333,
                            "#9c179e"
                          ],
                          [
                            0.4444444444444444,
                            "#bd3786"
                          ],
                          [
                            0.5555555555555556,
                            "#d8576b"
                          ],
                          [
                            0.6666666666666666,
                            "#ed7953"
                          ],
                          [
                            0.7777777777777778,
                            "#fb9f3a"
                          ],
                          [
                            0.8888888888888888,
                            "#fdca26"
                          ],
                          [
                            1,
                            "#f0f921"
                          ]
                        ],
                        "type": "surface"
                      }
                    ],
                    "table": [
                      {
                        "cells": {
                          "fill": {
                            "color": "#506784"
                          },
                          "line": {
                            "color": "rgb(17,17,17)"
                          }
                        },
                        "header": {
                          "fill": {
                            "color": "#2a3f5f"
                          },
                          "line": {
                            "color": "rgb(17,17,17)"
                          }
                        },
                        "type": "table"
                      }
                    ]
                  },
                  "layout": {
                    "annotationdefaults": {
                      "arrowcolor": "#f2f5fa",
                      "arrowhead": 0,
                      "arrowwidth": 1
                    },
                    "autotypenumbers": "strict",
                    "coloraxis": {
                      "colorbar": {
                        "outlinewidth": 0,
                        "ticks": ""
                      }
                    },
                    "colorscale": {
                      "diverging": [
                        [
                          0,
                          "#8e0152"
                        ],
                        [
                          0.1,
                          "#c51b7d"
                        ],
                        [
                          0.2,
                          "#de77ae"
                        ],
                        [
                          0.3,
                          "#f1b6da"
                        ],
                        [
                          0.4,
                          "#fde0ef"
                        ],
                        [
                          0.5,
                          "#f7f7f7"
                        ],
                        [
                          0.6,
                          "#e6f5d0"
                        ],
                        [
                          0.7,
                          "#b8e186"
                        ],
                        [
                          0.8,
                          "#7fbc41"
                        ],
                        [
                          0.9,
                          "#4d9221"
                        ],
                        [
                          1,
                          "#276419"
                        ]
                      ],
                      "sequential": [
                        [
                          0,
                          "#0d0887"
                        ],
                        [
                          0.1111111111111111,
                          "#46039f"
                        ],
                        [
                          0.2222222222222222,
                          "#7201a8"
                        ],
                        [
                          0.3333333333333333,
                          "#9c179e"
                        ],
                        [
                          0.4444444444444444,
                          "#bd3786"
                        ],
                        [
                          0.5555555555555556,
                          "#d8576b"
                        ],
                        [
                          0.6666666666666666,
                          "#ed7953"
                        ],
                        [
                          0.7777777777777778,
                          "#fb9f3a"
                        ],
                        [
                          0.8888888888888888,
                          "#fdca26"
                        ],
                        [
                          1,
                          "#f0f921"
                        ]
                      ],
                      "sequentialminus": [
                        [
                          0,
                          "#0d0887"
                        ],
                        [
                          0.1111111111111111,
                          "#46039f"
                        ],
                        [
                          0.2222222222222222,
                          "#7201a8"
                        ],
                        [
                          0.3333333333333333,
                          "#9c179e"
                        ],
                        [
                          0.4444444444444444,
                          "#bd3786"
                        ],
                        [
                          0.5555555555555556,
                          "#d8576b"
                        ],
                        [
                          0.6666666666666666,
                          "#ed7953"
                        ],
                        [
                          0.7777777777777778,
                          "#fb9f3a"
                        ],
                        [
                          0.8888888888888888,
                          "#fdca26"
                        ],
                        [
                          1,
                          "#f0f921"
                        ]
                      ]
                    },
                    "colorway": [
                      "#636efa",
                      "#EF553B",
                      "#00cc96",
                      "#ab63fa",
                      "#FFA15A",
                      "#19d3f3",
                      "#FF6692",
                      "#B6E880",
                      "#FF97FF",
                      "#FECB52"
                    ],
                    "font": {
                      "color": "#f2f5fa"
                    },
                    "geo": {
                      "bgcolor": "rgb(17,17,17)",
                      "lakecolor": "rgb(17,17,17)",
                      "landcolor": "rgb(17,17,17)",
                      "showlakes": true,
                      "showland": true,
                      "subunitcolor": "#506784"
                    },
                    "hoverlabel": {
                      "align": "left"
                    },
                    "hovermode": "closest",
                    "mapbox": {
                      "style": "dark"
                    },
                    "paper_bgcolor": "rgb(17,17,17)",
                    "plot_bgcolor": "rgb(17,17,17)",
                    "polar": {
                      "angularaxis": {
                        "gridcolor": "#506784",
                        "linecolor": "#506784",
                        "ticks": ""
                      },
                      "bgcolor": "rgb(17,17,17)",
                      "radialaxis": {
                        "gridcolor": "#506784",
                        "linecolor": "#506784",
                        "ticks": ""
                      }
                    },
                    "scene": {
                      "xaxis": {
                        "backgroundcolor": "rgb(17,17,17)",
                        "gridcolor": "#506784",
                        "gridwidth": 2,
                        "linecolor": "#506784",
                        "showbackground": true,
                        "ticks": "",
                        "zerolinecolor": "#C8D4E3"
                      },
                      "yaxis": {
                        "backgroundcolor": "rgb(17,17,17)",
                        "gridcolor": "#506784",
                        "gridwidth": 2,
                        "linecolor": "#506784",
                        "showbackground": true,
                        "ticks": "",
                        "zerolinecolor": "#C8D4E3"
                      },
                      "zaxis": {
                        "backgroundcolor": "rgb(17,17,17)",
                        "gridcolor": "#506784",
                        "gridwidth": 2,
                        "linecolor": "#506784",
                        "showbackground": true,
                        "ticks": "",
                        "zerolinecolor": "#C8D4E3"
                      }
                    },
                    "shapedefaults": {
                      "line": {
                        "color": "#f2f5fa"
                      }
                    },
                    "sliderdefaults": {
                      "bgcolor": "#C8D4E3",
                      "bordercolor": "rgb(17,17,17)",
                      "borderwidth": 1,
                      "tickwidth": 0
                    },
                    "ternary": {
                      "aaxis": {
                        "gridcolor": "#506784",
                        "linecolor": "#506784",
                        "ticks": ""
                      },
                      "baxis": {
                        "gridcolor": "#506784",
                        "linecolor": "#506784",
                        "ticks": ""
                      },
                      "bgcolor": "rgb(17,17,17)",
                      "caxis": {
                        "gridcolor": "#506784",
                        "linecolor": "#506784",
                        "ticks": ""
                      }
                    },
                    "title": {
                      "x": 0.05
                    },
                    "updatemenudefaults": {
                      "bgcolor": "#506784",
                      "borderwidth": 0
                    },
                    "xaxis": {
                      "automargin": true,
                      "gridcolor": "#283442",
                      "linecolor": "#506784",
                      "ticks": "",
                      "title": {
                        "standoff": 15
                      },
                      "zerolinecolor": "#283442",
                      "zerolinewidth": 2
                    },
                    "yaxis": {
                      "automargin": true,
                      "gridcolor": "#283442",
                      "linecolor": "#506784",
                      "ticks": "",
                      "title": {
                        "standoff": 15
                      },
                      "zerolinecolor": "#283442",
                      "zerolinewidth": 2
                    }
                  }
                },
                "title": {
                  "text": "Sentiment Analysis Dashboard"
                },
                "xaxis": {
                  "anchor": "y",
                  "domain": [
                    0,
                    0.45
                  ],
                  "title": {
                    "text": "Date"
                  }
                },
                "xaxis2": {
                  "anchor": "y2",
                  "domain": [
                    0.55,
                    1
                  ],
                  "title": {
                    "text": "Sentiment Score"
                  }
                },
                "xaxis3": {
                  "anchor": "y3",
                  "domain": [
                    0,
                    0.45
                  ],
                  "title": {
                    "text": "Sentiment Score"
                  }
                },
                "xaxis4": {
                  "anchor": "y4",
                  "domain": [
                    0.55,
                    1
                  ],
                  "title": {
                    "text": "Sentiment Score"
                  }
                },
                "yaxis": {
                  "anchor": "x",
                  "domain": [
                    0.625,
                    1
                  ],
                  "title": {
                    "text": "Sentiment Score"
                  }
                },
                "yaxis2": {
                  "anchor": "x2",
                  "domain": [
                    0.625,
                    1
                  ],
                  "title": {
                    "text": "Frequency"
                  }
                },
                "yaxis3": {
                  "anchor": "x3",
                  "domain": [
                    0,
                    0.375
                  ],
                  "title": {
                    "text": "Daily Return"
                  }
                },
                "yaxis4": {
                  "anchor": "x4",
                  "domain": [
                    0,
                    0.375
                  ],
                  "title": {
                    "text": "Confidence Score"
                  }
                }
              }
            }
          },
          "metadata": {},
          "output_type": "display_data"
        },
        {
          "name": "stdout",
          "output_type": "stream",
          "text": [
            "🔄 Calculating sentiment correlations...\n",
            "\n",
            "============================================================\n",
            "🎭 SENTIMENT ANALYSIS INSIGHTS\n",
            "============================================================\n",
            "📊 Sentiment Data Overview:\n",
            "   • Records with sentiment: 35\n",
            "   • Coverage: 4.3% of total data\n",
            "   • Average sentiment: 0.297\n",
            "   • Sentiment range: -0.700 to 0.900\n",
            "\n",
            "📈 Sentiment Distribution:\n",
            "   • Positive sentiment: 25 (71.4%)\n",
            "   • Negative sentiment: 8 (22.9%)\n",
            "   • Neutral sentiment: 2 (5.7%)\n",
            "\n",
            "🔗 Sentiment-Market Correlations:\n",
            "   • AMD: Sentiment-Return correlation = 0.046\n",
            "   • INTC: Sentiment-Return correlation = 0.075\n",
            "   • NVDA: Sentiment-Return correlation = 0.011\n",
            "============================================================\n",
            "\n",
            "📈 STEP 5: TRADING STRATEGY ANALYSIS\n",
            "----------------------------------------\n",
            "🔄 Running basic strategy analysis...\n",
            "🔄 Running basic strategy analysis with threshold: 0.1\n",
            "✅ Strategy analysis completed for 3 symbols\n",
            "🔄 Creating strategy visualization...\n"
          ]
        },
        {
          "data": {
            "application/vnd.plotly.v1+json": {
              "config": {
                "plotlyServerURL": "https://plot.ly"
              },
              "data": [
                {
                  "legendgroup": "AMD",
                  "line": {
                    "color": "blue",
                    "dash": "dash"
                  },
                  "name": "AMD Buy & Hold",
                  "type": "scatter",
                  "x": [
                    "2024-05-24T00:00:00.000000000",
                    "2024-05-28T00:00:00.000000000",
                    "2024-05-29T00:00:00.000000000",
                    "2024-05-30T00:00:00.000000000",
                    "2024-05-31T00:00:00.000000000",
                    "2024-06-03T00:00:00.000000000",
                    "2024-06-04T00:00:00.000000000",
                    "2024-06-05T00:00:00.000000000",
                    "2024-06-06T00:00:00.000000000",
                    "2024-06-07T00:00:00.000000000",
                    "2024-06-10T00:00:00.000000000",
                    "2024-06-11T00:00:00.000000000",
                    "2024-06-12T00:00:00.000000000",
                    "2024-06-13T00:00:00.000000000",
                    "2024-06-14T00:00:00.000000000",
                    "2024-06-17T00:00:00.000000000",
                    "2024-06-18T00:00:00.000000000",
                    "2024-06-20T00:00:00.000000000",
                    "2024-06-21T00:00:00.000000000",
                    "2024-06-24T00:00:00.000000000",
                    "2024-06-25T00:00:00.000000000",
                    "2024-06-26T00:00:00.000000000",
                    "2024-06-27T00:00:00.000000000",
                    "2024-06-28T00:00:00.000000000",
                    "2024-07-01T00:00:00.000000000",
                    "2024-07-02T00:00:00.000000000",
                    "2024-07-03T00:00:00.000000000",
                    "2024-07-05T00:00:00.000000000",
                    "2024-07-08T00:00:00.000000000",
                    "2024-07-09T00:00:00.000000000",
                    "2024-07-10T00:00:00.000000000",
                    "2024-07-11T00:00:00.000000000",
                    "2024-07-12T00:00:00.000000000",
                    "2024-07-15T00:00:00.000000000",
                    "2024-07-16T00:00:00.000000000",
                    "2024-07-17T00:00:00.000000000",
                    "2024-07-18T00:00:00.000000000",
                    "2024-07-19T00:00:00.000000000",
                    "2024-07-22T00:00:00.000000000",
                    "2024-07-23T00:00:00.000000000",
                    "2024-07-24T00:00:00.000000000",
                    "2024-07-25T00:00:00.000000000",
                    "2024-07-26T00:00:00.000000000",
                    "2024-07-29T00:00:00.000000000",
                    "2024-07-30T00:00:00.000000000",
                    "2024-07-31T00:00:00.000000000",
                    "2024-08-01T00:00:00.000000000",
                    "2024-08-02T00:00:00.000000000",
                    "2024-08-05T00:00:00.000000000",
                    "2024-08-06T00:00:00.000000000",
                    "2024-08-07T00:00:00.000000000",
                    "2024-08-08T00:00:00.000000000",
                    "2024-08-09T00:00:00.000000000",
                    "2024-08-12T00:00:00.000000000",
                    "2024-08-13T00:00:00.000000000",
                    "2024-08-14T00:00:00.000000000",
                    "2024-08-15T00:00:00.000000000",
                    "2024-08-16T00:00:00.000000000",
                    "2024-08-19T00:00:00.000000000",
                    "2024-08-20T00:00:00.000000000",
                    "2024-08-21T00:00:00.000000000",
                    "2024-08-22T00:00:00.000000000",
                    "2024-08-23T00:00:00.000000000",
                    "2024-08-26T00:00:00.000000000",
                    "2024-08-27T00:00:00.000000000",
                    "2024-08-28T00:00:00.000000000",
                    "2024-08-29T00:00:00.000000000",
                    "2024-08-30T00:00:00.000000000",
                    "2024-09-03T00:00:00.000000000",
                    "2024-09-04T00:00:00.000000000",
                    "2024-09-05T00:00:00.000000000",
                    "2024-09-06T00:00:00.000000000",
                    "2024-09-09T00:00:00.000000000",
                    "2024-09-10T00:00:00.000000000",
                    "2024-09-11T00:00:00.000000000",
                    "2024-09-12T00:00:00.000000000",
                    "2024-09-13T00:00:00.000000000",
                    "2024-09-16T00:00:00.000000000",
                    "2024-09-17T00:00:00.000000000",
                    "2024-09-18T00:00:00.000000000",
                    "2024-09-19T00:00:00.000000000",
                    "2024-09-20T00:00:00.000000000",
                    "2024-09-23T00:00:00.000000000",
                    "2024-09-24T00:00:00.000000000",
                    "2024-09-25T00:00:00.000000000",
                    "2024-09-26T00:00:00.000000000",
                    "2024-09-27T00:00:00.000000000",
                    "2024-09-30T00:00:00.000000000",
                    "2024-10-01T00:00:00.000000000",
                    "2024-10-02T00:00:00.000000000",
                    "2024-10-03T00:00:00.000000000",
                    "2024-10-04T00:00:00.000000000",
                    "2024-10-07T00:00:00.000000000",
                    "2024-10-08T00:00:00.000000000",
                    "2024-10-09T00:00:00.000000000",
                    "2024-10-10T00:00:00.000000000",
                    "2024-10-11T00:00:00.000000000",
                    "2024-10-14T00:00:00.000000000",
                    "2024-10-15T00:00:00.000000000",
                    "2024-10-16T00:00:00.000000000",
                    "2024-10-17T00:00:00.000000000",
                    "2024-10-18T00:00:00.000000000",
                    "2024-10-21T00:00:00.000000000",
                    "2024-10-22T00:00:00.000000000",
                    "2024-10-23T00:00:00.000000000",
                    "2024-10-24T00:00:00.000000000",
                    "2024-10-25T00:00:00.000000000",
                    "2024-10-28T00:00:00.000000000",
                    "2024-10-29T00:00:00.000000000",
                    "2024-10-30T00:00:00.000000000",
                    "2024-10-31T00:00:00.000000000",
                    "2024-11-01T00:00:00.000000000",
                    "2024-11-04T00:00:00.000000000",
                    "2024-11-05T00:00:00.000000000",
                    "2024-11-06T00:00:00.000000000",
                    "2024-11-07T00:00:00.000000000",
                    "2024-11-08T00:00:00.000000000",
                    "2024-11-11T00:00:00.000000000",
                    "2024-11-12T00:00:00.000000000",
                    "2024-11-13T00:00:00.000000000",
                    "2024-11-14T00:00:00.000000000",
                    "2024-11-15T00:00:00.000000000",
                    "2024-11-18T00:00:00.000000000",
                    "2024-11-19T00:00:00.000000000",
                    "2024-11-20T00:00:00.000000000",
                    "2024-11-21T00:00:00.000000000",
                    "2024-11-22T00:00:00.000000000",
                    "2024-11-25T00:00:00.000000000",
                    "2024-11-26T00:00:00.000000000",
                    "2024-11-27T00:00:00.000000000",
                    "2024-11-29T00:00:00.000000000",
                    "2024-12-02T00:00:00.000000000",
                    "2024-12-03T00:00:00.000000000",
                    "2024-12-04T00:00:00.000000000",
                    "2024-12-05T00:00:00.000000000",
                    "2024-12-06T00:00:00.000000000",
                    "2024-12-09T00:00:00.000000000",
                    "2024-12-10T00:00:00.000000000",
                    "2024-12-11T00:00:00.000000000",
                    "2024-12-12T00:00:00.000000000",
                    "2024-12-13T00:00:00.000000000",
                    "2024-12-16T00:00:00.000000000",
                    "2024-12-17T00:00:00.000000000",
                    "2024-12-18T00:00:00.000000000",
                    "2024-12-19T00:00:00.000000000",
                    "2024-12-20T00:00:00.000000000",
                    "2024-12-23T00:00:00.000000000",
                    "2024-12-24T00:00:00.000000000",
                    "2024-12-26T00:00:00.000000000",
                    "2024-12-27T00:00:00.000000000",
                    "2024-12-30T00:00:00.000000000",
                    "2024-12-31T00:00:00.000000000",
                    "2025-01-02T00:00:00.000000000",
                    "2025-01-03T00:00:00.000000000",
                    "2025-01-06T00:00:00.000000000",
                    "2025-01-07T00:00:00.000000000",
                    "2025-01-08T00:00:00.000000000",
                    "2025-01-10T00:00:00.000000000",
                    "2025-01-13T00:00:00.000000000",
                    "2025-01-14T00:00:00.000000000",
                    "2025-01-15T00:00:00.000000000",
                    "2025-01-16T00:00:00.000000000",
                    "2025-01-17T00:00:00.000000000",
                    "2025-01-21T00:00:00.000000000",
                    "2025-01-22T00:00:00.000000000",
                    "2025-01-23T00:00:00.000000000",
                    "2025-01-24T00:00:00.000000000",
                    "2025-01-27T00:00:00.000000000",
                    "2025-01-28T00:00:00.000000000",
                    "2025-01-29T00:00:00.000000000",
                    "2025-01-30T00:00:00.000000000",
                    "2025-01-31T00:00:00.000000000",
                    "2025-02-03T00:00:00.000000000",
                    "2025-02-04T00:00:00.000000000",
                    "2025-02-05T00:00:00.000000000",
                    "2025-02-06T00:00:00.000000000",
                    "2025-02-07T00:00:00.000000000",
                    "2025-02-10T00:00:00.000000000",
                    "2025-02-11T00:00:00.000000000",
                    "2025-02-12T00:00:00.000000000",
                    "2025-02-13T00:00:00.000000000",
                    "2025-02-14T00:00:00.000000000",
                    "2025-02-18T00:00:00.000000000",
                    "2025-02-19T00:00:00.000000000",
                    "2025-02-20T00:00:00.000000000",
                    "2025-02-21T00:00:00.000000000",
                    "2025-02-24T00:00:00.000000000",
                    "2025-02-25T00:00:00.000000000",
                    "2025-02-26T00:00:00.000000000",
                    "2025-02-27T00:00:00.000000000",
                    "2025-02-28T00:00:00.000000000",
                    "2025-03-03T00:00:00.000000000",
                    "2025-03-04T00:00:00.000000000",
                    "2025-03-05T00:00:00.000000000",
                    "2025-03-06T00:00:00.000000000",
                    "2025-03-07T00:00:00.000000000",
                    "2025-03-10T00:00:00.000000000",
                    "2025-03-11T00:00:00.000000000",
                    "2025-03-12T00:00:00.000000000",
                    "2025-03-13T00:00:00.000000000",
                    "2025-03-14T00:00:00.000000000",
                    "2025-03-17T00:00:00.000000000",
                    "2025-03-18T00:00:00.000000000",
                    "2025-03-19T00:00:00.000000000",
                    "2025-03-20T00:00:00.000000000",
                    "2025-03-21T00:00:00.000000000",
                    "2025-03-24T00:00:00.000000000",
                    "2025-03-25T00:00:00.000000000",
                    "2025-03-26T00:00:00.000000000",
                    "2025-03-27T00:00:00.000000000",
                    "2025-03-28T00:00:00.000000000",
                    "2025-03-31T00:00:00.000000000",
                    "2025-04-01T00:00:00.000000000",
                    "2025-04-02T00:00:00.000000000",
                    "2025-04-03T00:00:00.000000000",
                    "2025-04-04T00:00:00.000000000",
                    "2025-04-07T00:00:00.000000000",
                    "2025-04-08T00:00:00.000000000",
                    "2025-04-09T00:00:00.000000000",
                    "2025-04-10T00:00:00.000000000",
                    "2025-04-11T00:00:00.000000000",
                    "2025-04-14T00:00:00.000000000",
                    "2025-04-15T00:00:00.000000000",
                    "2025-04-16T00:00:00.000000000",
                    "2025-04-17T00:00:00.000000000",
                    "2025-04-21T00:00:00.000000000",
                    "2025-04-22T00:00:00.000000000",
                    "2025-04-23T00:00:00.000000000",
                    "2025-04-24T00:00:00.000000000",
                    "2025-04-25T00:00:00.000000000",
                    "2025-04-28T00:00:00.000000000",
                    "2025-04-29T00:00:00.000000000",
                    "2025-04-30T00:00:00.000000000",
                    "2025-05-01T00:00:00.000000000",
                    "2025-05-02T00:00:00.000000000",
                    "2025-05-05T00:00:00.000000000",
                    "2025-05-06T00:00:00.000000000",
                    "2025-05-07T00:00:00.000000000",
                    "2025-05-08T00:00:00.000000000",
                    "2025-05-09T00:00:00.000000000",
                    "2025-05-12T00:00:00.000000000",
                    "2025-05-13T00:00:00.000000000",
                    "2025-05-14T00:00:00.000000000",
                    "2025-05-15T00:00:00.000000000",
                    "2025-05-16T00:00:00.000000000",
                    "2025-05-19T00:00:00.000000000",
                    "2025-05-20T00:00:00.000000000",
                    "2025-05-21T00:00:00.000000000",
                    "2025-05-22T00:00:00.000000000",
                    "2025-05-23T00:00:00.000000000",
                    "2025-05-27T00:00:00.000000000",
                    "2025-05-28T00:00:00.000000000",
                    "2025-05-29T00:00:00.000000000",
                    "2025-05-30T00:00:00.000000000",
                    "2025-06-02T00:00:00.000000000",
                    "2025-06-03T00:00:00.000000000",
                    "2025-06-04T00:00:00.000000000",
                    "2025-06-05T00:00:00.000000000",
                    "2025-06-06T00:00:00.000000000",
                    "2025-06-09T00:00:00.000000000",
                    "2025-06-10T00:00:00.000000000",
                    "2025-06-11T00:00:00.000000000",
                    "2025-06-12T00:00:00.000000000",
                    "2025-06-13T00:00:00.000000000",
                    "2025-06-16T00:00:00.000000000",
                    "2025-06-17T00:00:00.000000000",
                    "2025-06-18T00:00:00.000000000",
                    "2025-06-20T00:00:00.000000000",
                    "2025-06-23T00:00:00.000000000",
                    "2025-06-24T00:00:00.000000000",
                    "2025-06-25T00:00:00.000000000",
                    "2025-06-26T00:00:00.000000000",
                    "2025-06-27T00:00:00.000000000"
                  ],
                  "xaxis": "x",
                  "y": {
                    "bdata": "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",
                    "dtype": "f8"
                  },
                  "yaxis": "y"
                },
                {
                  "legendgroup": "AMD",
                  "line": {
                    "color": "blue"
                  },
                  "name": "AMD Strategy",
                  "type": "scatter",
                  "x": [
                    "2024-05-24T00:00:00.000000000",
                    "2024-05-28T00:00:00.000000000",
                    "2024-05-29T00:00:00.000000000",
                    "2024-05-30T00:00:00.000000000",
                    "2024-05-31T00:00:00.000000000",
                    "2024-06-03T00:00:00.000000000",
                    "2024-06-04T00:00:00.000000000",
                    "2024-06-05T00:00:00.000000000",
                    "2024-06-06T00:00:00.000000000",
                    "2024-06-07T00:00:00.000000000",
                    "2024-06-10T00:00:00.000000000",
                    "2024-06-11T00:00:00.000000000",
                    "2024-06-12T00:00:00.000000000",
                    "2024-06-13T00:00:00.000000000",
                    "2024-06-14T00:00:00.000000000",
                    "2024-06-17T00:00:00.000000000",
                    "2024-06-18T00:00:00.000000000",
                    "2024-06-20T00:00:00.000000000",
                    "2024-06-21T00:00:00.000000000",
                    "2024-06-24T00:00:00.000000000",
                    "2024-06-25T00:00:00.000000000",
                    "2024-06-26T00:00:00.000000000",
                    "2024-06-27T00:00:00.000000000",
                    "2024-06-28T00:00:00.000000000",
                    "2024-07-01T00:00:00.000000000",
                    "2024-07-02T00:00:00.000000000",
                    "2024-07-03T00:00:00.000000000",
                    "2024-07-05T00:00:00.000000000",
                    "2024-07-08T00:00:00.000000000",
                    "2024-07-09T00:00:00.000000000",
                    "2024-07-10T00:00:00.000000000",
                    "2024-07-11T00:00:00.000000000",
                    "2024-07-12T00:00:00.000000000",
                    "2024-07-15T00:00:00.000000000",
                    "2024-07-16T00:00:00.000000000",
                    "2024-07-17T00:00:00.000000000",
                    "2024-07-18T00:00:00.000000000",
                    "2024-07-19T00:00:00.000000000",
                    "2024-07-22T00:00:00.000000000",
                    "2024-07-23T00:00:00.000000000",
                    "2024-07-24T00:00:00.000000000",
                    "2024-07-25T00:00:00.000000000",
                    "2024-07-26T00:00:00.000000000",
                    "2024-07-29T00:00:00.000000000",
                    "2024-07-30T00:00:00.000000000",
                    "2024-07-31T00:00:00.000000000",
                    "2024-08-01T00:00:00.000000000",
                    "2024-08-02T00:00:00.000000000",
                    "2024-08-05T00:00:00.000000000",
                    "2024-08-06T00:00:00.000000000",
                    "2024-08-07T00:00:00.000000000",
                    "2024-08-08T00:00:00.000000000",
                    "2024-08-09T00:00:00.000000000",
                    "2024-08-12T00:00:00.000000000",
                    "2024-08-13T00:00:00.000000000",
                    "2024-08-14T00:00:00.000000000",
                    "2024-08-15T00:00:00.000000000",
                    "2024-08-16T00:00:00.000000000",
                    "2024-08-19T00:00:00.000000000",
                    "2024-08-20T00:00:00.000000000",
                    "2024-08-21T00:00:00.000000000",
                    "2024-08-22T00:00:00.000000000",
                    "2024-08-23T00:00:00.000000000",
                    "2024-08-26T00:00:00.000000000",
                    "2024-08-27T00:00:00.000000000",
                    "2024-08-28T00:00:00.000000000",
                    "2024-08-29T00:00:00.000000000",
                    "2024-08-30T00:00:00.000000000",
                    "2024-09-03T00:00:00.000000000",
                    "2024-09-04T00:00:00.000000000",
                    "2024-09-05T00:00:00.000000000",
                    "2024-09-06T00:00:00.000000000",
                    "2024-09-09T00:00:00.000000000",
                    "2024-09-10T00:00:00.000000000",
                    "2024-09-11T00:00:00.000000000",
                    "2024-09-12T00:00:00.000000000",
                    "2024-09-13T00:00:00.000000000",
                    "2024-09-16T00:00:00.000000000",
                    "2024-09-17T00:00:00.000000000",
                    "2024-09-18T00:00:00.000000000",
                    "2024-09-19T00:00:00.000000000",
                    "2024-09-20T00:00:00.000000000",
                    "2024-09-23T00:00:00.000000000",
                    "2024-09-24T00:00:00.000000000",
                    "2024-09-25T00:00:00.000000000",
                    "2024-09-26T00:00:00.000000000",
                    "2024-09-27T00:00:00.000000000",
                    "2024-09-30T00:00:00.000000000",
                    "2024-10-01T00:00:00.000000000",
                    "2024-10-02T00:00:00.000000000",
                    "2024-10-03T00:00:00.000000000",
                    "2024-10-04T00:00:00.000000000",
                    "2024-10-07T00:00:00.000000000",
                    "2024-10-08T00:00:00.000000000",
                    "2024-10-09T00:00:00.000000000",
                    "2024-10-10T00:00:00.000000000",
                    "2024-10-11T00:00:00.000000000",
                    "2024-10-14T00:00:00.000000000",
                    "2024-10-15T00:00:00.000000000",
                    "2024-10-16T00:00:00.000000000",
                    "2024-10-17T00:00:00.000000000",
                    "2024-10-18T00:00:00.000000000",
                    "2024-10-21T00:00:00.000000000",
                    "2024-10-22T00:00:00.000000000",
                    "2024-10-23T00:00:00.000000000",
                    "2024-10-24T00:00:00.000000000",
                    "2024-10-25T00:00:00.000000000",
                    "2024-10-28T00:00:00.000000000",
                    "2024-10-29T00:00:00.000000000",
                    "2024-10-30T00:00:00.000000000",
                    "2024-10-31T00:00:00.000000000",
                    "2024-11-01T00:00:00.000000000",
                    "2024-11-04T00:00:00.000000000",
                    "2024-11-05T00:00:00.000000000",
                    "2024-11-06T00:00:00.000000000",
                    "2024-11-07T00:00:00.000000000",
                    "2024-11-08T00:00:00.000000000",
                    "2024-11-11T00:00:00.000000000",
                    "2024-11-12T00:00:00.000000000",
                    "2024-11-13T00:00:00.000000000",
                    "2024-11-14T00:00:00.000000000",
                    "2024-11-15T00:00:00.000000000",
                    "2024-11-18T00:00:00.000000000",
                    "2024-11-19T00:00:00.000000000",
                    "2024-11-20T00:00:00.000000000",
                    "2024-11-21T00:00:00.000000000",
                    "2024-11-22T00:00:00.000000000",
                    "2024-11-25T00:00:00.000000000",
                    "2024-11-26T00:00:00.000000000",
                    "2024-11-27T00:00:00.000000000",
                    "2024-11-29T00:00:00.000000000",
                    "2024-12-02T00:00:00.000000000",
                    "2024-12-03T00:00:00.000000000",
                    "2024-12-04T00:00:00.000000000",
                    "2024-12-05T00:00:00.000000000",
                    "2024-12-06T00:00:00.000000000",
                    "2024-12-09T00:00:00.000000000",
                    "2024-12-10T00:00:00.000000000",
                    "2024-12-11T00:00:00.000000000",
                    "2024-12-12T00:00:00.000000000",
                    "2024-12-13T00:00:00.000000000",
                    "2024-12-16T00:00:00.000000000",
                    "2024-12-17T00:00:00.000000000",
                    "2024-12-18T00:00:00.000000000",
                    "2024-12-19T00:00:00.000000000",
                    "2024-12-20T00:00:00.000000000",
                    "2024-12-23T00:00:00.000000000",
                    "2024-12-24T00:00:00.000000000",
                    "2024-12-26T00:00:00.000000000",
                    "2024-12-27T00:00:00.000000000",
                    "2024-12-30T00:00:00.000000000",
                    "2024-12-31T00:00:00.000000000",
                    "2025-01-02T00:00:00.000000000",
                    "2025-01-03T00:00:00.000000000",
                    "2025-01-06T00:00:00.000000000",
                    "2025-01-07T00:00:00.000000000",
                    "2025-01-08T00:00:00.000000000",
                    "2025-01-10T00:00:00.000000000",
                    "2025-01-13T00:00:00.000000000",
                    "2025-01-14T00:00:00.000000000",
                    "2025-01-15T00:00:00.000000000",
                    "2025-01-16T00:00:00.000000000",
                    "2025-01-17T00:00:00.000000000",
                    "2025-01-21T00:00:00.000000000",
                    "2025-01-22T00:00:00.000000000",
                    "2025-01-23T00:00:00.000000000",
                    "2025-01-24T00:00:00.000000000",
                    "2025-01-27T00:00:00.000000000",
                    "2025-01-28T00:00:00.000000000",
                    "2025-01-29T00:00:00.000000000",
                    "2025-01-30T00:00:00.000000000",
                    "2025-01-31T00:00:00.000000000",
                    "2025-02-03T00:00:00.000000000",
                    "2025-02-04T00:00:00.000000000",
                    "2025-02-05T00:00:00.000000000",
                    "2025-02-06T00:00:00.000000000",
                    "2025-02-07T00:00:00.000000000",
                    "2025-02-10T00:00:00.000000000",
                    "2025-02-11T00:00:00.000000000",
                    "2025-02-12T00:00:00.000000000",
                    "2025-02-13T00:00:00.000000000",
                    "2025-02-14T00:00:00.000000000",
                    "2025-02-18T00:00:00.000000000",
                    "2025-02-19T00:00:00.000000000",
                    "2025-02-20T00:00:00.000000000",
                    "2025-02-21T00:00:00.000000000",
                    "2025-02-24T00:00:00.000000000",
                    "2025-02-25T00:00:00.000000000",
                    "2025-02-26T00:00:00.000000000",
                    "2025-02-27T00:00:00.000000000",
                    "2025-02-28T00:00:00.000000000",
                    "2025-03-03T00:00:00.000000000",
                    "2025-03-04T00:00:00.000000000",
                    "2025-03-05T00:00:00.000000000",
                    "2025-03-06T00:00:00.000000000",
                    "2025-03-07T00:00:00.000000000",
                    "2025-03-10T00:00:00.000000000",
                    "2025-03-11T00:00:00.000000000",
                    "2025-03-12T00:00:00.000000000",
                    "2025-03-13T00:00:00.000000000",
                    "2025-03-14T00:00:00.000000000",
                    "2025-03-17T00:00:00.000000000",
                    "2025-03-18T00:00:00.000000000",
                    "2025-03-19T00:00:00.000000000",
                    "2025-03-20T00:00:00.000000000",
                    "2025-03-21T00:00:00.000000000",
                    "2025-03-24T00:00:00.000000000",
                    "2025-03-25T00:00:00.000000000",
                    "2025-03-26T00:00:00.000000000",
                    "2025-03-27T00:00:00.000000000",
                    "2025-03-28T00:00:00.000000000",
                    "2025-03-31T00:00:00.000000000",
                    "2025-04-01T00:00:00.000000000",
                    "2025-04-02T00:00:00.000000000",
                    "2025-04-03T00:00:00.000000000",
                    "2025-04-04T00:00:00.000000000",
                    "2025-04-07T00:00:00.000000000",
                    "2025-04-08T00:00:00.000000000",
                    "2025-04-09T00:00:00.000000000",
                    "2025-04-10T00:00:00.000000000",
                    "2025-04-11T00:00:00.000000000",
                    "2025-04-14T00:00:00.000000000",
                    "2025-04-15T00:00:00.000000000",
                    "2025-04-16T00:00:00.000000000",
                    "2025-04-17T00:00:00.000000000",
                    "2025-04-21T00:00:00.000000000",
                    "2025-04-22T00:00:00.000000000",
                    "2025-04-23T00:00:00.000000000",
                    "2025-04-24T00:00:00.000000000",
                    "2025-04-25T00:00:00.000000000",
                    "2025-04-28T00:00:00.000000000",
                    "2025-04-29T00:00:00.000000000",
                    "2025-04-30T00:00:00.000000000",
                    "2025-05-01T00:00:00.000000000",
                    "2025-05-02T00:00:00.000000000",
                    "2025-05-05T00:00:00.000000000",
                    "2025-05-06T00:00:00.000000000",
                    "2025-05-07T00:00:00.000000000",
                    "2025-05-08T00:00:00.000000000",
                    "2025-05-09T00:00:00.000000000",
                    "2025-05-12T00:00:00.000000000",
                    "2025-05-13T00:00:00.000000000",
                    "2025-05-14T00:00:00.000000000",
                    "2025-05-15T00:00:00.000000000",
                    "2025-05-16T00:00:00.000000000",
                    "2025-05-19T00:00:00.000000000",
                    "2025-05-20T00:00:00.000000000",
                    "2025-05-21T00:00:00.000000000",
                    "2025-05-22T00:00:00.000000000",
                    "2025-05-23T00:00:00.000000000",
                    "2025-05-27T00:00:00.000000000",
                    "2025-05-28T00:00:00.000000000",
                    "2025-05-29T00:00:00.000000000",
                    "2025-05-30T00:00:00.000000000",
                    "2025-06-02T00:00:00.000000000",
                    "2025-06-03T00:00:00.000000000",
                    "2025-06-04T00:00:00.000000000",
                    "2025-06-05T00:00:00.000000000",
                    "2025-06-06T00:00:00.000000000",
                    "2025-06-09T00:00:00.000000000",
                    "2025-06-10T00:00:00.000000000",
                    "2025-06-11T00:00:00.000000000",
                    "2025-06-12T00:00:00.000000000",
                    "2025-06-13T00:00:00.000000000",
                    "2025-06-16T00:00:00.000000000",
                    "2025-06-17T00:00:00.000000000",
                    "2025-06-18T00:00:00.000000000",
                    "2025-06-20T00:00:00.000000000",
                    "2025-06-23T00:00:00.000000000",
                    "2025-06-24T00:00:00.000000000",
                    "2025-06-25T00:00:00.000000000",
                    "2025-06-26T00:00:00.000000000",
                    "2025-06-27T00:00:00.000000000"
                  ],
                  "xaxis": "x",
                  "y": {
                    "bdata": "AAAAAAAAAAAAAAAAAAAAAAAAAAAAAAAAAAAAAAAAAAAAAAAAAAAAAAAAAAAAAAAAAAAAAAAAAAAAAAAAAAAAAAAAAAAAAAAAAAAAAAAAAAAAAAAAAAAAAAAAAAAAAAAAAAAAAAAAAAAAAAAAAAAAAAAAAAAAAAAAAAAAAAAAAAAAAAAAAAAAAAAAAAAAAAAAAAAAAAAAAAAAAAAAAAAAAAAAAAAAAAAAAAAAAAAAAAAAAAAAAAAAAAAAAAAAAAAAAAAAAAAAAAAAAAAAAAAAAAAAAAAAAAAAAAAAAAAAAAAAAAAAAAAAAAAAAAAAAAAAAAAAAAAAAAAAAAAAAAAAAAAAAAAAAAAAAAAAAAAAAAAAAAAAAAAAAAAAAAAAAAAAAAAAAAAAAAAAAAAAAAAAAAAAAAAAAAAAAAAAAAAAAAAAAAAAAAAAAAAAAAAAAAAAAAAAAAAAAAAAAAAAAAAAAAAAAAAAAAAAAAAAAAAAAAAAAAAAAAAAAAAAAAAAAAAAAAAAAAAAAAAAAAAAAAAAAAAAAAAAAAAAAAAAAAAAAAAAAAAAAAAAAAAAAAAAAAAAAAAAAAAAAAAAAAAAAAAAAAAAAAAAAAAAAAAAAAAAAAAAAAAAAAAAAAAAAAAAAAAAAAAAAAAAAAAAAAAAAAAAAAAAAAAAAAAAAAAAAAAAAAAAAAAAAAAAAAAAAAAAAAAAAAAAAAAAAAAAAAAAAAAAAAAAAAAAAAAAAAAAAAAAAAAAAAAAAAAAAAAAAAAAAAAAAAAAAAAAAAAAAAAAAAAAAAAAAAAAAAAAAAAAAAAAAAAAAAAAAAAAAAAAAAAAAAAAAAAAAAAAAAAAAAAAAAAAAAAAAAAAAAAAAAAAAAAAAAAAAAAAAAAAAAAAAAAAAAAAAAAAAAAAAAAAAAAAAAAAAAAAAAAAAAAAAAAAAAAAAAAAAAAAAAAAAAAAAAAAAAAAAAAAAAAAAAAAAAAAAAAAAAAAAAAAAAAAAAAAAAAAAAAAAAAAAAAAAAAAAAAAAAAAAAAAAAAAAAAAAAAAAAAAAAAAAAAAAAAAAAAAAAAAAAAAAAAAAAAAAAAAAAAAAAAAAAAAAAAAAAAAAAAAAAAAAAAAAAAAAAAAAAAAAAAAAAAAAAAAAAAAAAAAAAAAAAAAAAAAAAAAAAAAAAAAAAAAAAAAAAAAAAAAAAAAAAAAAAAAAAAAAAAAAAAAAAAAAAAAAAAAAAAAAAAAAAAAAAAAAAAAAAAAAAAAAAAAAAAAAAAAAAAAAAAAAAAAAAAAAAAAAAAAAAAAAAAAAAAAAAAAAAAAAAAAAAAAAAAAAAAAAAAAAAAAAAAAAAAAAAAAAAAAAAAAAAAAAAAAAAAAAAAAAAAAAAAAAAAAAAAAAAAAAAAAAAAAAAAAAAAAAAAAAAAAAAAAAAAAAAAAAAAAAAAAAAAAAAAAAAAAAAAAAAAAAAAAAAAAAAAAAAAAAAAAAAAAAAAAAAAAAAAAAAAAAAAAAAAAAAAAAAAAAAAAAAAAAAAAAAAAAAAAAAAAAAAAAAAAAAAAAAAAAAAAAAAAAAAAAAAAAAAAAAAAAAAAAAAAAAAAAAAAAAAAAAAAAAAAAAAAAAAAAAAAAAAAAAAAAAAAAAAAAAAAAAAAAAAAAAAAAAAAAAAAAAAAAAAAAAAAAAAAAAAAAAAAAAAAAAAAAAAAAAAAAAAAAAAAAAAAAAAAAAAAAAAAAAAAAAAAAAAAAAAAAAAAAAAAAAAAAAAAAAAAAAAAAAAAAAAAAAAAAAAAAAAAAAAAAAAAAAAAAAAAAAAAAAAAAAAAAAAAAAAAAAAAAAAAAAAAAAAAAAAAAAAAAAAAAAAAAAAAAAAAAAAAAAAAAAAAAAAAAAAAAAAAAAAAAAAAAAAAAAAAAAAAAAAAAAAAAAAAAAAAAAAAAAAAAAAAAAAAAAAAAAAAAAAAAAAAAAAAAAAAAAAAAAAAAAAAAAAAAAAAAAAAAAAAAAAAAAAAAAAAAAAAAAAAAAAAAAAAAAAAAAAAAAAAAAAAAAAAAAAAAAAAAAAAAAAAAAAAAAAAAAAAAAAAAAAAAAAAAAAAAAAAAAAAAAAAAAAAAAAAAAAAAAAAAAAAAAAAAAAAAAAAAAAAAAAAAAAAAAAAAAAAAAAAAAAAAAAAAAAAAAAAAAAAAAAAAAAAAAAAAAAAAAAAAAAAAAAAAAAAAAAAAAAAAAAAAAAAAAAAAAAAAAAAAAAAAAAAAAAAAAAAAAAAAAAAAAAAAAAAAAAAAAAAAAAAAAAAAAAAAAAAAAAAAAAAAAAAAAAAAAAAAAAAAAAAAAAAAAAAAAAAAAAAAAAAAAAAAAAAAAAAAAAAAAAAAAAAAAAAAAAAAAAAAAAAAAAAAAAAAAAAAAAAAAAAAAAAAAAAAAAAAAAAAAAAAAAAAAAAAAAAAAAAAAAAAAAAAAAAAAAAAAAAAAAAAAAAAAAAAAAAAAAAAAAAAAAAAAAAAAAAAAAAAAAAAAAAAAAAAAAAAAAAAAAAAAAAAAAAAAAAAAAAAAAAAAAAAAAAAAAAAAAAAAAAAAAAAAAAAAAAAAAAAAAAAAAAAAAAAAAAAAAAAAAAAAAAAAAAAAAAAAAAAAAAAACA2k1FxWmTPwDzyixsz2G/QHHaBPJbir9g9RnWjReav0BWiDzjI4y/oGnBQRG4kb9AUFHn/gyVPwAX9MHhK3Y/AJviV+RffD9AAy+secaLv0Ch7aN3sJU/YC+nNYwRpz8ANjEJeNysP4C6LBXlW58/gKTEUMb1oT+ALndOSp21P3AuwpDeDrk/MMwtCtVEtD8g49d4Dn+sP2Alo7q+0qE/6GBQbfYewD84kZalOO7AP8AIwGG6k8A/KMnUtwA7wj8A1UrEKsLDP1A2cUSa2c0/OEQu5zTC0T+QWFUWE+vRP2x9p4cM/tE/",
                    "dtype": "f8"
                  },
                  "yaxis": "y"
                },
                {
                  "legendgroup": "AMD",
                  "name": "AMD Returns",
                  "nbinsx": 30,
                  "opacity": 0.7,
                  "showlegend": false,
                  "type": "histogram",
                  "x": {
                    "bdata": "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",
                    "dtype": "f8"
                  },
                  "xaxis": "x2",
                  "yaxis": "y3"
                },
                {
                  "legendgroup": "INTC",
                  "line": {
                    "color": "red",
                    "dash": "dash"
                  },
                  "name": "INTC Buy & Hold",
                  "type": "scatter",
                  "x": [
                    "2024-05-24T00:00:00.000000000",
                    "2024-05-28T00:00:00.000000000",
                    "2024-05-29T00:00:00.000000000",
                    "2024-05-30T00:00:00.000000000",
                    "2024-05-31T00:00:00.000000000",
                    "2024-06-03T00:00:00.000000000",
                    "2024-06-04T00:00:00.000000000",
                    "2024-06-05T00:00:00.000000000",
                    "2024-06-06T00:00:00.000000000",
                    "2024-06-07T00:00:00.000000000",
                    "2024-06-10T00:00:00.000000000",
                    "2024-06-11T00:00:00.000000000",
                    "2024-06-12T00:00:00.000000000",
                    "2024-06-13T00:00:00.000000000",
                    "2024-06-14T00:00:00.000000000",
                    "2024-06-17T00:00:00.000000000",
                    "2024-06-18T00:00:00.000000000",
                    "2024-06-20T00:00:00.000000000",
                    "2024-06-21T00:00:00.000000000",
                    "2024-06-24T00:00:00.000000000",
                    "2024-06-25T00:00:00.000000000",
                    "2024-06-26T00:00:00.000000000",
                    "2024-06-27T00:00:00.000000000",
                    "2024-06-28T00:00:00.000000000",
                    "2024-07-01T00:00:00.000000000",
                    "2024-07-02T00:00:00.000000000",
                    "2024-07-03T00:00:00.000000000",
                    "2024-07-05T00:00:00.000000000",
                    "2024-07-08T00:00:00.000000000",
                    "2024-07-09T00:00:00.000000000",
                    "2024-07-10T00:00:00.000000000",
                    "2024-07-11T00:00:00.000000000",
                    "2024-07-12T00:00:00.000000000",
                    "2024-07-15T00:00:00.000000000",
                    "2024-07-16T00:00:00.000000000",
                    "2024-07-17T00:00:00.000000000",
                    "2024-07-18T00:00:00.000000000",
                    "2024-07-19T00:00:00.000000000",
                    "2024-07-22T00:00:00.000000000",
                    "2024-07-23T00:00:00.000000000",
                    "2024-07-24T00:00:00.000000000",
                    "2024-07-25T00:00:00.000000000",
                    "2024-07-26T00:00:00.000000000",
                    "2024-07-29T00:00:00.000000000",
                    "2024-07-30T00:00:00.000000000",
                    "2024-07-31T00:00:00.000000000",
                    "2024-08-01T00:00:00.000000000",
                    "2024-08-02T00:00:00.000000000",
                    "2024-08-05T00:00:00.000000000",
                    "2024-08-06T00:00:00.000000000",
                    "2024-08-07T00:00:00.000000000",
                    "2024-08-08T00:00:00.000000000",
                    "2024-08-09T00:00:00.000000000",
                    "2024-08-12T00:00:00.000000000",
                    "2024-08-13T00:00:00.000000000",
                    "2024-08-14T00:00:00.000000000",
                    "2024-08-15T00:00:00.000000000",
                    "2024-08-16T00:00:00.000000000",
                    "2024-08-19T00:00:00.000000000",
                    "2024-08-20T00:00:00.000000000",
                    "2024-08-21T00:00:00.000000000",
                    "2024-08-22T00:00:00.000000000",
                    "2024-08-23T00:00:00.000000000",
                    "2024-08-26T00:00:00.000000000",
                    "2024-08-27T00:00:00.000000000",
                    "2024-08-28T00:00:00.000000000",
                    "2024-08-29T00:00:00.000000000",
                    "2024-08-30T00:00:00.000000000",
                    "2024-09-03T00:00:00.000000000",
                    "2024-09-04T00:00:00.000000000",
                    "2024-09-05T00:00:00.000000000",
                    "2024-09-06T00:00:00.000000000",
                    "2024-09-09T00:00:00.000000000",
                    "2024-09-10T00:00:00.000000000",
                    "2024-09-11T00:00:00.000000000",
                    "2024-09-12T00:00:00.000000000",
                    "2024-09-13T00:00:00.000000000",
                    "2024-09-16T00:00:00.000000000",
                    "2024-09-17T00:00:00.000000000",
                    "2024-09-18T00:00:00.000000000",
                    "2024-09-19T00:00:00.000000000",
                    "2024-09-20T00:00:00.000000000",
                    "2024-09-23T00:00:00.000000000",
                    "2024-09-24T00:00:00.000000000",
                    "2024-09-25T00:00:00.000000000",
                    "2024-09-26T00:00:00.000000000",
                    "2024-09-27T00:00:00.000000000",
                    "2024-09-30T00:00:00.000000000",
                    "2024-10-01T00:00:00.000000000",
                    "2024-10-02T00:00:00.000000000",
                    "2024-10-03T00:00:00.000000000",
                    "2024-10-04T00:00:00.000000000",
                    "2024-10-07T00:00:00.000000000",
                    "2024-10-08T00:00:00.000000000",
                    "2024-10-09T00:00:00.000000000",
                    "2024-10-10T00:00:00.000000000",
                    "2024-10-11T00:00:00.000000000",
                    "2024-10-14T00:00:00.000000000",
                    "2024-10-15T00:00:00.000000000",
                    "2024-10-16T00:00:00.000000000",
                    "2024-10-17T00:00:00.000000000",
                    "2024-10-18T00:00:00.000000000",
                    "2024-10-21T00:00:00.000000000",
                    "2024-10-22T00:00:00.000000000",
                    "2024-10-23T00:00:00.000000000",
                    "2024-10-24T00:00:00.000000000",
                    "2024-10-25T00:00:00.000000000",
                    "2024-10-28T00:00:00.000000000",
                    "2024-10-29T00:00:00.000000000",
                    "2024-10-30T00:00:00.000000000",
                    "2024-10-31T00:00:00.000000000",
                    "2024-11-01T00:00:00.000000000",
                    "2024-11-04T00:00:00.000000000",
                    "2024-11-05T00:00:00.000000000",
                    "2024-11-06T00:00:00.000000000",
                    "2024-11-07T00:00:00.000000000",
                    "2024-11-08T00:00:00.000000000",
                    "2024-11-11T00:00:00.000000000",
                    "2024-11-12T00:00:00.000000000",
                    "2024-11-13T00:00:00.000000000",
                    "2024-11-14T00:00:00.000000000",
                    "2024-11-15T00:00:00.000000000",
                    "2024-11-18T00:00:00.000000000",
                    "2024-11-19T00:00:00.000000000",
                    "2024-11-20T00:00:00.000000000",
                    "2024-11-21T00:00:00.000000000",
                    "2024-11-22T00:00:00.000000000",
                    "2024-11-25T00:00:00.000000000",
                    "2024-11-26T00:00:00.000000000",
                    "2024-11-27T00:00:00.000000000",
                    "2024-11-29T00:00:00.000000000",
                    "2024-12-02T00:00:00.000000000",
                    "2024-12-03T00:00:00.000000000",
                    "2024-12-04T00:00:00.000000000",
                    "2024-12-05T00:00:00.000000000",
                    "2024-12-06T00:00:00.000000000",
                    "2024-12-09T00:00:00.000000000",
                    "2024-12-10T00:00:00.000000000",
                    "2024-12-11T00:00:00.000000000",
                    "2024-12-12T00:00:00.000000000",
                    "2024-12-13T00:00:00.000000000",
                    "2024-12-16T00:00:00.000000000",
                    "2024-12-17T00:00:00.000000000",
                    "2024-12-18T00:00:00.000000000",
                    "2024-12-19T00:00:00.000000000",
                    "2024-12-20T00:00:00.000000000",
                    "2024-12-23T00:00:00.000000000",
                    "2024-12-24T00:00:00.000000000",
                    "2024-12-26T00:00:00.000000000",
                    "2024-12-27T00:00:00.000000000",
                    "2024-12-30T00:00:00.000000000",
                    "2024-12-31T00:00:00.000000000",
                    "2025-01-02T00:00:00.000000000",
                    "2025-01-03T00:00:00.000000000",
                    "2025-01-06T00:00:00.000000000",
                    "2025-01-07T00:00:00.000000000",
                    "2025-01-08T00:00:00.000000000",
                    "2025-01-10T00:00:00.000000000",
                    "2025-01-13T00:00:00.000000000",
                    "2025-01-14T00:00:00.000000000",
                    "2025-01-15T00:00:00.000000000",
                    "2025-01-16T00:00:00.000000000",
                    "2025-01-17T00:00:00.000000000",
                    "2025-01-21T00:00:00.000000000",
                    "2025-01-22T00:00:00.000000000",
                    "2025-01-23T00:00:00.000000000",
                    "2025-01-24T00:00:00.000000000",
                    "2025-01-27T00:00:00.000000000",
                    "2025-01-28T00:00:00.000000000",
                    "2025-01-29T00:00:00.000000000",
                    "2025-01-30T00:00:00.000000000",
                    "2025-01-31T00:00:00.000000000",
                    "2025-02-03T00:00:00.000000000",
                    "2025-02-04T00:00:00.000000000",
                    "2025-02-05T00:00:00.000000000",
                    "2025-02-06T00:00:00.000000000",
                    "2025-02-07T00:00:00.000000000",
                    "2025-02-10T00:00:00.000000000",
                    "2025-02-11T00:00:00.000000000",
                    "2025-02-12T00:00:00.000000000",
                    "2025-02-13T00:00:00.000000000",
                    "2025-02-14T00:00:00.000000000",
                    "2025-02-18T00:00:00.000000000",
                    "2025-02-19T00:00:00.000000000",
                    "2025-02-20T00:00:00.000000000",
                    "2025-02-21T00:00:00.000000000",
                    "2025-02-24T00:00:00.000000000",
                    "2025-02-25T00:00:00.000000000",
                    "2025-02-26T00:00:00.000000000",
                    "2025-02-27T00:00:00.000000000",
                    "2025-02-28T00:00:00.000000000",
                    "2025-03-03T00:00:00.000000000",
                    "2025-03-04T00:00:00.000000000",
                    "2025-03-05T00:00:00.000000000",
                    "2025-03-06T00:00:00.000000000",
                    "2025-03-07T00:00:00.000000000",
                    "2025-03-10T00:00:00.000000000",
                    "2025-03-11T00:00:00.000000000",
                    "2025-03-12T00:00:00.000000000",
                    "2025-03-13T00:00:00.000000000",
                    "2025-03-14T00:00:00.000000000",
                    "2025-03-17T00:00:00.000000000",
                    "2025-03-18T00:00:00.000000000",
                    "2025-03-19T00:00:00.000000000",
                    "2025-03-20T00:00:00.000000000",
                    "2025-03-21T00:00:00.000000000",
                    "2025-03-24T00:00:00.000000000",
                    "2025-03-25T00:00:00.000000000",
                    "2025-03-26T00:00:00.000000000",
                    "2025-03-27T00:00:00.000000000",
                    "2025-03-28T00:00:00.000000000",
                    "2025-03-31T00:00:00.000000000",
                    "2025-04-01T00:00:00.000000000",
                    "2025-04-02T00:00:00.000000000",
                    "2025-04-03T00:00:00.000000000",
                    "2025-04-04T00:00:00.000000000",
                    "2025-04-07T00:00:00.000000000",
                    "2025-04-08T00:00:00.000000000",
                    "2025-04-09T00:00:00.000000000",
                    "2025-04-10T00:00:00.000000000",
                    "2025-04-11T00:00:00.000000000",
                    "2025-04-14T00:00:00.000000000",
                    "2025-04-15T00:00:00.000000000",
                    "2025-04-16T00:00:00.000000000",
                    "2025-04-17T00:00:00.000000000",
                    "2025-04-21T00:00:00.000000000",
                    "2025-04-22T00:00:00.000000000",
                    "2025-04-23T00:00:00.000000000",
                    "2025-04-24T00:00:00.000000000",
                    "2025-04-25T00:00:00.000000000",
                    "2025-04-28T00:00:00.000000000",
                    "2025-04-29T00:00:00.000000000",
                    "2025-04-30T00:00:00.000000000",
                    "2025-05-01T00:00:00.000000000",
                    "2025-05-02T00:00:00.000000000",
                    "2025-05-05T00:00:00.000000000",
                    "2025-05-06T00:00:00.000000000",
                    "2025-05-07T00:00:00.000000000",
                    "2025-05-08T00:00:00.000000000",
                    "2025-05-09T00:00:00.000000000",
                    "2025-05-12T00:00:00.000000000",
                    "2025-05-13T00:00:00.000000000",
                    "2025-05-14T00:00:00.000000000",
                    "2025-05-15T00:00:00.000000000",
                    "2025-05-16T00:00:00.000000000",
                    "2025-05-19T00:00:00.000000000",
                    "2025-05-20T00:00:00.000000000",
                    "2025-05-21T00:00:00.000000000",
                    "2025-05-22T00:00:00.000000000",
                    "2025-05-23T00:00:00.000000000",
                    "2025-05-27T00:00:00.000000000",
                    "2025-05-28T00:00:00.000000000",
                    "2025-05-29T00:00:00.000000000",
                    "2025-05-30T00:00:00.000000000",
                    "2025-06-02T00:00:00.000000000",
                    "2025-06-03T00:00:00.000000000",
                    "2025-06-04T00:00:00.000000000",
                    "2025-06-05T00:00:00.000000000",
                    "2025-06-06T00:00:00.000000000",
                    "2025-06-09T00:00:00.000000000",
                    "2025-06-10T00:00:00.000000000",
                    "2025-06-11T00:00:00.000000000",
                    "2025-06-12T00:00:00.000000000",
                    "2025-06-13T00:00:00.000000000",
                    "2025-06-16T00:00:00.000000000",
                    "2025-06-17T00:00:00.000000000",
                    "2025-06-18T00:00:00.000000000",
                    "2025-06-20T00:00:00.000000000",
                    "2025-06-23T00:00:00.000000000",
                    "2025-06-24T00:00:00.000000000",
                    "2025-06-25T00:00:00.000000000",
                    "2025-06-26T00:00:00.000000000",
                    "2025-06-27T00:00:00.000000000"
                  ],
                  "xaxis": "x",
                  "y": {
                    "bdata": "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",
                    "dtype": "f8"
                  },
                  "yaxis": "y"
                },
                {
                  "legendgroup": "INTC",
                  "line": {
                    "color": "red"
                  },
                  "name": "INTC Strategy",
                  "type": "scatter",
                  "x": [
                    "2024-05-24T00:00:00.000000000",
                    "2024-05-28T00:00:00.000000000",
                    "2024-05-29T00:00:00.000000000",
                    "2024-05-30T00:00:00.000000000",
                    "2024-05-31T00:00:00.000000000",
                    "2024-06-03T00:00:00.000000000",
                    "2024-06-04T00:00:00.000000000",
                    "2024-06-05T00:00:00.000000000",
                    "2024-06-06T00:00:00.000000000",
                    "2024-06-07T00:00:00.000000000",
                    "2024-06-10T00:00:00.000000000",
                    "2024-06-11T00:00:00.000000000",
                    "2024-06-12T00:00:00.000000000",
                    "2024-06-13T00:00:00.000000000",
                    "2024-06-14T00:00:00.000000000",
                    "2024-06-17T00:00:00.000000000",
                    "2024-06-18T00:00:00.000000000",
                    "2024-06-20T00:00:00.000000000",
                    "2024-06-21T00:00:00.000000000",
                    "2024-06-24T00:00:00.000000000",
                    "2024-06-25T00:00:00.000000000",
                    "2024-06-26T00:00:00.000000000",
                    "2024-06-27T00:00:00.000000000",
                    "2024-06-28T00:00:00.000000000",
                    "2024-07-01T00:00:00.000000000",
                    "2024-07-02T00:00:00.000000000",
                    "2024-07-03T00:00:00.000000000",
                    "2024-07-05T00:00:00.000000000",
                    "2024-07-08T00:00:00.000000000",
                    "2024-07-09T00:00:00.000000000",
                    "2024-07-10T00:00:00.000000000",
                    "2024-07-11T00:00:00.000000000",
                    "2024-07-12T00:00:00.000000000",
                    "2024-07-15T00:00:00.000000000",
                    "2024-07-16T00:00:00.000000000",
                    "2024-07-17T00:00:00.000000000",
                    "2024-07-18T00:00:00.000000000",
                    "2024-07-19T00:00:00.000000000",
                    "2024-07-22T00:00:00.000000000",
                    "2024-07-23T00:00:00.000000000",
                    "2024-07-24T00:00:00.000000000",
                    "2024-07-25T00:00:00.000000000",
                    "2024-07-26T00:00:00.000000000",
                    "2024-07-29T00:00:00.000000000",
                    "2024-07-30T00:00:00.000000000",
                    "2024-07-31T00:00:00.000000000",
                    "2024-08-01T00:00:00.000000000",
                    "2024-08-02T00:00:00.000000000",
                    "2024-08-05T00:00:00.000000000",
                    "2024-08-06T00:00:00.000000000",
                    "2024-08-07T00:00:00.000000000",
                    "2024-08-08T00:00:00.000000000",
                    "2024-08-09T00:00:00.000000000",
                    "2024-08-12T00:00:00.000000000",
                    "2024-08-13T00:00:00.000000000",
                    "2024-08-14T00:00:00.000000000",
                    "2024-08-15T00:00:00.000000000",
                    "2024-08-16T00:00:00.000000000",
                    "2024-08-19T00:00:00.000000000",
                    "2024-08-20T00:00:00.000000000",
                    "2024-08-21T00:00:00.000000000",
                    "2024-08-22T00:00:00.000000000",
                    "2024-08-23T00:00:00.000000000",
                    "2024-08-26T00:00:00.000000000",
                    "2024-08-27T00:00:00.000000000",
                    "2024-08-28T00:00:00.000000000",
                    "2024-08-29T00:00:00.000000000",
                    "2024-08-30T00:00:00.000000000",
                    "2024-09-03T00:00:00.000000000",
                    "2024-09-04T00:00:00.000000000",
                    "2024-09-05T00:00:00.000000000",
                    "2024-09-06T00:00:00.000000000",
                    "2024-09-09T00:00:00.000000000",
                    "2024-09-10T00:00:00.000000000",
                    "2024-09-11T00:00:00.000000000",
                    "2024-09-12T00:00:00.000000000",
                    "2024-09-13T00:00:00.000000000",
                    "2024-09-16T00:00:00.000000000",
                    "2024-09-17T00:00:00.000000000",
                    "2024-09-18T00:00:00.000000000",
                    "2024-09-19T00:00:00.000000000",
                    "2024-09-20T00:00:00.000000000",
                    "2024-09-23T00:00:00.000000000",
                    "2024-09-24T00:00:00.000000000",
                    "2024-09-25T00:00:00.000000000",
                    "2024-09-26T00:00:00.000000000",
                    "2024-09-27T00:00:00.000000000",
                    "2024-09-30T00:00:00.000000000",
                    "2024-10-01T00:00:00.000000000",
                    "2024-10-02T00:00:00.000000000",
                    "2024-10-03T00:00:00.000000000",
                    "2024-10-04T00:00:00.000000000",
                    "2024-10-07T00:00:00.000000000",
                    "2024-10-08T00:00:00.000000000",
                    "2024-10-09T00:00:00.000000000",
                    "2024-10-10T00:00:00.000000000",
                    "2024-10-11T00:00:00.000000000",
                    "2024-10-14T00:00:00.000000000",
                    "2024-10-15T00:00:00.000000000",
                    "2024-10-16T00:00:00.000000000",
                    "2024-10-17T00:00:00.000000000",
                    "2024-10-18T00:00:00.000000000",
                    "2024-10-21T00:00:00.000000000",
                    "2024-10-22T00:00:00.000000000",
                    "2024-10-23T00:00:00.000000000",
                    "2024-10-24T00:00:00.000000000",
                    "2024-10-25T00:00:00.000000000",
                    "2024-10-28T00:00:00.000000000",
                    "2024-10-29T00:00:00.000000000",
                    "2024-10-30T00:00:00.000000000",
                    "2024-10-31T00:00:00.000000000",
                    "2024-11-01T00:00:00.000000000",
                    "2024-11-04T00:00:00.000000000",
                    "2024-11-05T00:00:00.000000000",
                    "2024-11-06T00:00:00.000000000",
                    "2024-11-07T00:00:00.000000000",
                    "2024-11-08T00:00:00.000000000",
                    "2024-11-11T00:00:00.000000000",
                    "2024-11-12T00:00:00.000000000",
                    "2024-11-13T00:00:00.000000000",
                    "2024-11-14T00:00:00.000000000",
                    "2024-11-15T00:00:00.000000000",
                    "2024-11-18T00:00:00.000000000",
                    "2024-11-19T00:00:00.000000000",
                    "2024-11-20T00:00:00.000000000",
                    "2024-11-21T00:00:00.000000000",
                    "2024-11-22T00:00:00.000000000",
                    "2024-11-25T00:00:00.000000000",
                    "2024-11-26T00:00:00.000000000",
                    "2024-11-27T00:00:00.000000000",
                    "2024-11-29T00:00:00.000000000",
                    "2024-12-02T00:00:00.000000000",
                    "2024-12-03T00:00:00.000000000",
                    "2024-12-04T00:00:00.000000000",
                    "2024-12-05T00:00:00.000000000",
                    "2024-12-06T00:00:00.000000000",
                    "2024-12-09T00:00:00.000000000",
                    "2024-12-10T00:00:00.000000000",
                    "2024-12-11T00:00:00.000000000",
                    "2024-12-12T00:00:00.000000000",
                    "2024-12-13T00:00:00.000000000",
                    "2024-12-16T00:00:00.000000000",
                    "2024-12-17T00:00:00.000000000",
                    "2024-12-18T00:00:00.000000000",
                    "2024-12-19T00:00:00.000000000",
                    "2024-12-20T00:00:00.000000000",
                    "2024-12-23T00:00:00.000000000",
                    "2024-12-24T00:00:00.000000000",
                    "2024-12-26T00:00:00.000000000",
                    "2024-12-27T00:00:00.000000000",
                    "2024-12-30T00:00:00.000000000",
                    "2024-12-31T00:00:00.000000000",
                    "2025-01-02T00:00:00.000000000",
                    "2025-01-03T00:00:00.000000000",
                    "2025-01-06T00:00:00.000000000",
                    "2025-01-07T00:00:00.000000000",
                    "2025-01-08T00:00:00.000000000",
                    "2025-01-10T00:00:00.000000000",
                    "2025-01-13T00:00:00.000000000",
                    "2025-01-14T00:00:00.000000000",
                    "2025-01-15T00:00:00.000000000",
                    "2025-01-16T00:00:00.000000000",
                    "2025-01-17T00:00:00.000000000",
                    "2025-01-21T00:00:00.000000000",
                    "2025-01-22T00:00:00.000000000",
                    "2025-01-23T00:00:00.000000000",
                    "2025-01-24T00:00:00.000000000",
                    "2025-01-27T00:00:00.000000000",
                    "2025-01-28T00:00:00.000000000",
                    "2025-01-29T00:00:00.000000000",
                    "2025-01-30T00:00:00.000000000",
                    "2025-01-31T00:00:00.000000000",
                    "2025-02-03T00:00:00.000000000",
                    "2025-02-04T00:00:00.000000000",
                    "2025-02-05T00:00:00.000000000",
                    "2025-02-06T00:00:00.000000000",
                    "2025-02-07T00:00:00.000000000",
                    "2025-02-10T00:00:00.000000000",
                    "2025-02-11T00:00:00.000000000",
                    "2025-02-12T00:00:00.000000000",
                    "2025-02-13T00:00:00.000000000",
                    "2025-02-14T00:00:00.000000000",
                    "2025-02-18T00:00:00.000000000",
                    "2025-02-19T00:00:00.000000000",
                    "2025-02-20T00:00:00.000000000",
                    "2025-02-21T00:00:00.000000000",
                    "2025-02-24T00:00:00.000000000",
                    "2025-02-25T00:00:00.000000000",
                    "2025-02-26T00:00:00.000000000",
                    "2025-02-27T00:00:00.000000000",
                    "2025-02-28T00:00:00.000000000",
                    "2025-03-03T00:00:00.000000000",
                    "2025-03-04T00:00:00.000000000",
                    "2025-03-05T00:00:00.000000000",
                    "2025-03-06T00:00:00.000000000",
                    "2025-03-07T00:00:00.000000000",
                    "2025-03-10T00:00:00.000000000",
                    "2025-03-11T00:00:00.000000000",
                    "2025-03-12T00:00:00.000000000",
                    "2025-03-13T00:00:00.000000000",
                    "2025-03-14T00:00:00.000000000",
                    "2025-03-17T00:00:00.000000000",
                    "2025-03-18T00:00:00.000000000",
                    "2025-03-19T00:00:00.000000000",
                    "2025-03-20T00:00:00.000000000",
                    "2025-03-21T00:00:00.000000000",
                    "2025-03-24T00:00:00.000000000",
                    "2025-03-25T00:00:00.000000000",
                    "2025-03-26T00:00:00.000000000",
                    "2025-03-27T00:00:00.000000000",
                    "2025-03-28T00:00:00.000000000",
                    "2025-03-31T00:00:00.000000000",
                    "2025-04-01T00:00:00.000000000",
                    "2025-04-02T00:00:00.000000000",
                    "2025-04-03T00:00:00.000000000",
                    "2025-04-04T00:00:00.000000000",
                    "2025-04-07T00:00:00.000000000",
                    "2025-04-08T00:00:00.000000000",
                    "2025-04-09T00:00:00.000000000",
                    "2025-04-10T00:00:00.000000000",
                    "2025-04-11T00:00:00.000000000",
                    "2025-04-14T00:00:00.000000000",
                    "2025-04-15T00:00:00.000000000",
                    "2025-04-16T00:00:00.000000000",
                    "2025-04-17T00:00:00.000000000",
                    "2025-04-21T00:00:00.000000000",
                    "2025-04-22T00:00:00.000000000",
                    "2025-04-23T00:00:00.000000000",
                    "2025-04-24T00:00:00.000000000",
                    "2025-04-25T00:00:00.000000000",
                    "2025-04-28T00:00:00.000000000",
                    "2025-04-29T00:00:00.000000000",
                    "2025-04-30T00:00:00.000000000",
                    "2025-05-01T00:00:00.000000000",
                    "2025-05-02T00:00:00.000000000",
                    "2025-05-05T00:00:00.000000000",
                    "2025-05-06T00:00:00.000000000",
                    "2025-05-07T00:00:00.000000000",
                    "2025-05-08T00:00:00.000000000",
                    "2025-05-09T00:00:00.000000000",
                    "2025-05-12T00:00:00.000000000",
                    "2025-05-13T00:00:00.000000000",
                    "2025-05-14T00:00:00.000000000",
                    "2025-05-15T00:00:00.000000000",
                    "2025-05-16T00:00:00.000000000",
                    "2025-05-19T00:00:00.000000000",
                    "2025-05-20T00:00:00.000000000",
                    "2025-05-21T00:00:00.000000000",
                    "2025-05-22T00:00:00.000000000",
                    "2025-05-23T00:00:00.000000000",
                    "2025-05-27T00:00:00.000000000",
                    "2025-05-28T00:00:00.000000000",
                    "2025-05-29T00:00:00.000000000",
                    "2025-05-30T00:00:00.000000000",
                    "2025-06-02T00:00:00.000000000",
                    "2025-06-03T00:00:00.000000000",
                    "2025-06-04T00:00:00.000000000",
                    "2025-06-05T00:00:00.000000000",
                    "2025-06-06T00:00:00.000000000",
                    "2025-06-09T00:00:00.000000000",
                    "2025-06-10T00:00:00.000000000",
                    "2025-06-11T00:00:00.000000000",
                    "2025-06-12T00:00:00.000000000",
                    "2025-06-13T00:00:00.000000000",
                    "2025-06-16T00:00:00.000000000",
                    "2025-06-17T00:00:00.000000000",
                    "2025-06-18T00:00:00.000000000",
                    "2025-06-20T00:00:00.000000000",
                    "2025-06-23T00:00:00.000000000",
                    "2025-06-24T00:00:00.000000000",
                    "2025-06-25T00:00:00.000000000",
                    "2025-06-26T00:00:00.000000000",
                    "2025-06-27T00:00:00.000000000"
                  ],
                  "xaxis": "x",
                  "y": {
                    "bdata": "AAAAAAAAAAAAAAAAAAAAAAAAAAAAAAAAAAAAAAAAAAAAAAAAAAAAAAAAAAAAAAAAAAAAAAAAAAAAAAAAAAAAAAAAAAAAAAAAAAAAAAAAAAAAAAAAAAAAAAAAAAAAAAAAAAAAAAAAAAAAAAAAAAAAAAAAAAAAAAAAAAAAAAAAAAAAAAAAAAAAAAAAAAAAAAAAAAAAAAAAAAAAAAAAAAAAAAAAAAAAAAAAAAAAAAAAAAAAAAAAAAAAAAAAAAAAAAAAAAAAAAAAAAAAAAAAAAAAAAAAAAAAAAAAAAAAAAAAAAAAAAAAAAAAAAAAAAAAAAAAAAAAAAAAAAAAAAAAAAAAAAAAAAAAAAAAAAAAAAAAAAAAAAAAAAAAAAAAAAAAAAAAAAAAAAAAAAAAAAAAAAAAAAAAAAAAAAAAAAAAAAAAAAAAAAAAAAAAAAAAAAAAAAAAAAAAAAAAAAAAAAAAAAAAAAAAAAAAAAAAAAAAAAAAAAAAAAAAAAAAAAAAAAAAAAAAAAAAAAAAAAAAAAAAAAAAAAAAAAAAAAAAAAAAAAAAAAAAAAAAAAAAAAAAAAAAAAAAAAAAAAAAAAAAAAAAAAAAAAAAAAAAAAAAAAAAAAAAAAAAAAAAAAAAAAAAAAAAAAAAAAAAAAAAAAAAAAAAAAAAAAAAAAAAAAAAAAAAAAAAAAAAAAAAAAAAAAAAAAAAAAAAAAAAAAAAAAAAAAAAAAAAAAAAAAAAAAAAAAAAAAAAAAAAAAAAAAAAAAAAAAAAAAAAAAAAAAAAAAAAAAAAAAAAAAAAAAAAAAAAAAAAAAAAAAAAAAAAAAAAAAAAAAAAAAAAAAAAAAAAAAAAAAAAAAAAAAAAAAAAAAAAAAAAAAAAAAAAAAAAAAAAAAAAAAAAAAAAAAAAAAAAAAAAAAAAAAAAAAAAAAAAAAAAAAAAAAAAAAAAAAAAAAAAAAAAAAAAAAAAAAAAAAAAAAAAAAAAAAAAAAAAAAAAAAAAAAAAAAAAAAAAAAAAAAAAAAAAAAAAAAAAAAAAAAAAAAAAAAAAAAAAAAAAAAAAAAAAAAAAAAAAAAAAAAAAAAAAAAAAAAAAAAAAAAAAAAAAAAAAAAAAAAAAAAAAAAAAAAAAAAAAAAAAAAAAAAAAAAAAAAAAAAAAAAAAAAAAAAAAAAAAAAAAAAAAAAAAAAAAAAAAAAAAAAAAAAAAAAAAAAAAAAAAAAAAAAAAAAAAAAAAAAAAAAAAAAAAAAAAAAAAAAAAAAAAAAAAAAAAAAAAAAAAAAAAAAAAAAAAAAAAAAAAAAAAAAAAAAAAAAAAAAAAAAAAAAAAAAAAAAAAAAAAAAAAAAAAAAAAAAAAAAAAAAAAAAAAAAAAAAAAAAAAAAAAAAAAAAAAAAAAAAAAAAAAAAAAAAAAAAAAAAAAAAAAAAAAAAAAAAAAAAAAAAAAAAAAAAAAAAAAAAAAAAAAAAAAAAAAAAAAAAAAAAAAAAAAAAAAAAAAAAAAAAAAAAAAAAAAAAAAAAAAAAAAAAAAAAAAAAAAAAAAAAAAAAAAAAAAAAAAAAAAAAAAAAAAAAAAAAAAAAAAAAAAAAAAAAAAAAAAAAAAAAAAAAAAAAAAAAAAAAAAAAAAAAAAAAAAAAAAAAAAAAAAAAAAAAAAAAAAAAAAAAAAAAAAAAAAAAAAAAAAAAAAAAAAAAAAAAAAAAAAAAAAAAAAAAAAAAAAAAAAAAAAAAAAAAAAAAAAAAAAAAAAAAAAAAAAAAAAAAAAAAAAAAAAAAAAAAAAAAAAAAAAAAAAAAAAAAAAAAAAAAAAAAAAAAAAAAAAAAAAAAAAAAAAAAAAAAAAAAAAAAAAAAAAAAAAAAAAAAAAAAAAAAAAAAAAAAAAAAAAAAAAAAAAAAAAAAAAAAAAAAAAAAAAAAAAAAAAAAAAAAAAAAAAAAAAAAAAAAAAAAAAAAAAAAAAAAAAAAAAAAAAAAAAAAAAAAAAAAAAAAAAAAAAAAAAAAAAAAAAAAAAAAAAAAAAAAAAAAAAAAAAAAAAAAAAAAAAAAAAAAAAAAAAAAAAAAAAAAAAAAAAAAAAAAAAAAAAAAAAAAAAAAAAAAAAAAAAAAAAAAAAAAAAAAAAAAAAAAAAAAAAAAAAAAAAAAAAAAAAAAAAAAAAAAAAAAAAAAAAAAAAAAAAAAAAAAAAAAAAAAAAAAAAAAAAAAAAAAAAAAAAAAAAAAAAAAAAAAAAAAAAAAAAAAAAAAAAAAAAAAAAAAAAAAAAAAAAAAAAAAAAAAAAAAAAAAAAAAAAAAAAAAAAAAAAAAAAAAAAAAAAAAAAAAAAAAAAAAAAAAAAAAAAAAAAAAAAAAAAAAAAAAAAAAAAAAAAAAAAAAAAAAAAAAAAAAAAAAAAAAAAAAAAAAAAAAAAAAAAAAAAAAAAAAAAAAAAAAAAAAAAAAAAAAAAAAAAAAAAAAAAAAAAAAAAAAAAAAAAAAAAAAAAAAAAAAAAAAAAAAAAAAAAAAAAAAAAAAAAAAAAAAAAAAAAAAAAAAAAAAAAAAAAAAAAAAAAAAAAAAAAAAAAAAAAAAAAAAAAAAAAAAAAAAAAAAAAAAAAAAAAAAAAAAAAAAAAAAAAAAAAAAAAAAAAAAAAzwovXOh0PwBPsikjiJI/gEDVjv9Vij/geSxbl7mkP4AWM8ZlVKg/gBD2s4KPlj+AFjPGZVSoP6DJmS7EoaM/AEHeHgOAoD8AYtAjMU5svwDlCeB0hHk/IBlyeUOLoT8AQd4eA4CgP4CHOqTBbZM/QPw/4SIVlz8gXLAntYCmP9iIstOwEMA/IJWT7Pa4qz+AO2C4RxKuP4Bdj0skQps/YFlxdNdJrT/AHU/8t9quP3C3Ygtnbrg/gAMtO70Usz8wuqG+RKWxPwDQZ2oaKjU/AJtF69Eij78Avb8iCjKdvyBDUEZ+y5S/",
                    "dtype": "f8"
                  },
                  "yaxis": "y"
                },
                {
                  "legendgroup": "INTC",
                  "name": "INTC Returns",
                  "nbinsx": 30,
                  "opacity": 0.7,
                  "showlegend": false,
                  "type": "histogram",
                  "x": {
                    "bdata": "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",
                    "dtype": "f8"
                  },
                  "xaxis": "x2",
                  "yaxis": "y3"
                },
                {
                  "legendgroup": "NVDA",
                  "line": {
                    "color": "green",
                    "dash": "dash"
                  },
                  "name": "NVDA Buy & Hold",
                  "type": "scatter",
                  "x": [
                    "2024-05-24T00:00:00.000000000",
                    "2024-05-28T00:00:00.000000000",
                    "2024-05-29T00:00:00.000000000",
                    "2024-05-30T00:00:00.000000000",
                    "2024-05-31T00:00:00.000000000",
                    "2024-06-03T00:00:00.000000000",
                    "2024-06-04T00:00:00.000000000",
                    "2024-06-05T00:00:00.000000000",
                    "2024-06-06T00:00:00.000000000",
                    "2024-06-07T00:00:00.000000000",
                    "2024-06-10T00:00:00.000000000",
                    "2024-06-11T00:00:00.000000000",
                    "2024-06-12T00:00:00.000000000",
                    "2024-06-13T00:00:00.000000000",
                    "2024-06-14T00:00:00.000000000",
                    "2024-06-17T00:00:00.000000000",
                    "2024-06-18T00:00:00.000000000",
                    "2024-06-20T00:00:00.000000000",
                    "2024-06-21T00:00:00.000000000",
                    "2024-06-24T00:00:00.000000000",
                    "2024-06-25T00:00:00.000000000",
                    "2024-06-26T00:00:00.000000000",
                    "2024-06-27T00:00:00.000000000",
                    "2024-06-28T00:00:00.000000000",
                    "2024-07-01T00:00:00.000000000",
                    "2024-07-02T00:00:00.000000000",
                    "2024-07-03T00:00:00.000000000",
                    "2024-07-05T00:00:00.000000000",
                    "2024-07-08T00:00:00.000000000",
                    "2024-07-09T00:00:00.000000000",
                    "2024-07-10T00:00:00.000000000",
                    "2024-07-11T00:00:00.000000000",
                    "2024-07-12T00:00:00.000000000",
                    "2024-07-15T00:00:00.000000000",
                    "2024-07-16T00:00:00.000000000",
                    "2024-07-17T00:00:00.000000000",
                    "2024-07-18T00:00:00.000000000",
                    "2024-07-19T00:00:00.000000000",
                    "2024-07-22T00:00:00.000000000",
                    "2024-07-23T00:00:00.000000000",
                    "2024-07-24T00:00:00.000000000",
                    "2024-07-25T00:00:00.000000000",
                    "2024-07-26T00:00:00.000000000",
                    "2024-07-29T00:00:00.000000000",
                    "2024-07-30T00:00:00.000000000",
                    "2024-07-31T00:00:00.000000000",
                    "2024-08-01T00:00:00.000000000",
                    "2024-08-02T00:00:00.000000000",
                    "2024-08-05T00:00:00.000000000",
                    "2024-08-06T00:00:00.000000000",
                    "2024-08-07T00:00:00.000000000",
                    "2024-08-08T00:00:00.000000000",
                    "2024-08-09T00:00:00.000000000",
                    "2024-08-12T00:00:00.000000000",
                    "2024-08-13T00:00:00.000000000",
                    "2024-08-14T00:00:00.000000000",
                    "2024-08-15T00:00:00.000000000",
                    "2024-08-16T00:00:00.000000000",
                    "2024-08-19T00:00:00.000000000",
                    "2024-08-20T00:00:00.000000000",
                    "2024-08-21T00:00:00.000000000",
                    "2024-08-22T00:00:00.000000000",
                    "2024-08-23T00:00:00.000000000",
                    "2024-08-26T00:00:00.000000000",
                    "2024-08-27T00:00:00.000000000",
                    "2024-08-28T00:00:00.000000000",
                    "2024-08-29T00:00:00.000000000",
                    "2024-08-30T00:00:00.000000000",
                    "2024-09-03T00:00:00.000000000",
                    "2024-09-04T00:00:00.000000000",
                    "2024-09-05T00:00:00.000000000",
                    "2024-09-06T00:00:00.000000000",
                    "2024-09-09T00:00:00.000000000",
                    "2024-09-10T00:00:00.000000000",
                    "2024-09-11T00:00:00.000000000",
                    "2024-09-12T00:00:00.000000000",
                    "2024-09-13T00:00:00.000000000",
                    "2024-09-16T00:00:00.000000000",
                    "2024-09-17T00:00:00.000000000",
                    "2024-09-18T00:00:00.000000000",
                    "2024-09-19T00:00:00.000000000",
                    "2024-09-20T00:00:00.000000000",
                    "2024-09-23T00:00:00.000000000",
                    "2024-09-24T00:00:00.000000000",
                    "2024-09-25T00:00:00.000000000",
                    "2024-09-26T00:00:00.000000000",
                    "2024-09-27T00:00:00.000000000",
                    "2024-09-30T00:00:00.000000000",
                    "2024-10-01T00:00:00.000000000",
                    "2024-10-02T00:00:00.000000000",
                    "2024-10-03T00:00:00.000000000",
                    "2024-10-04T00:00:00.000000000",
                    "2024-10-07T00:00:00.000000000",
                    "2024-10-08T00:00:00.000000000",
                    "2024-10-09T00:00:00.000000000",
                    "2024-10-10T00:00:00.000000000",
                    "2024-10-11T00:00:00.000000000",
                    "2024-10-14T00:00:00.000000000",
                    "2024-10-15T00:00:00.000000000",
                    "2024-10-16T00:00:00.000000000",
                    "2024-10-17T00:00:00.000000000",
                    "2024-10-18T00:00:00.000000000",
                    "2024-10-21T00:00:00.000000000",
                    "2024-10-22T00:00:00.000000000",
                    "2024-10-23T00:00:00.000000000",
                    "2024-10-24T00:00:00.000000000",
                    "2024-10-25T00:00:00.000000000",
                    "2024-10-28T00:00:00.000000000",
                    "2024-10-29T00:00:00.000000000",
                    "2024-10-30T00:00:00.000000000",
                    "2024-10-31T00:00:00.000000000",
                    "2024-11-01T00:00:00.000000000",
                    "2024-11-04T00:00:00.000000000",
                    "2024-11-05T00:00:00.000000000",
                    "2024-11-06T00:00:00.000000000",
                    "2024-11-07T00:00:00.000000000",
                    "2024-11-08T00:00:00.000000000",
                    "2024-11-11T00:00:00.000000000",
                    "2024-11-12T00:00:00.000000000",
                    "2024-11-13T00:00:00.000000000",
                    "2024-11-14T00:00:00.000000000",
                    "2024-11-15T00:00:00.000000000",
                    "2024-11-18T00:00:00.000000000",
                    "2024-11-19T00:00:00.000000000",
                    "2024-11-20T00:00:00.000000000",
                    "2024-11-21T00:00:00.000000000",
                    "2024-11-22T00:00:00.000000000",
                    "2024-11-25T00:00:00.000000000",
                    "2024-11-26T00:00:00.000000000",
                    "2024-11-27T00:00:00.000000000",
                    "2024-11-29T00:00:00.000000000",
                    "2024-12-02T00:00:00.000000000",
                    "2024-12-03T00:00:00.000000000",
                    "2024-12-04T00:00:00.000000000",
                    "2024-12-05T00:00:00.000000000",
                    "2024-12-06T00:00:00.000000000",
                    "2024-12-09T00:00:00.000000000",
                    "2024-12-10T00:00:00.000000000",
                    "2024-12-11T00:00:00.000000000",
                    "2024-12-12T00:00:00.000000000",
                    "2024-12-13T00:00:00.000000000",
                    "2024-12-16T00:00:00.000000000",
                    "2024-12-17T00:00:00.000000000",
                    "2024-12-18T00:00:00.000000000",
                    "2024-12-19T00:00:00.000000000",
                    "2024-12-20T00:00:00.000000000",
                    "2024-12-23T00:00:00.000000000",
                    "2024-12-24T00:00:00.000000000",
                    "2024-12-26T00:00:00.000000000",
                    "2024-12-27T00:00:00.000000000",
                    "2024-12-30T00:00:00.000000000",
                    "2024-12-31T00:00:00.000000000",
                    "2025-01-02T00:00:00.000000000",
                    "2025-01-03T00:00:00.000000000",
                    "2025-01-06T00:00:00.000000000",
                    "2025-01-07T00:00:00.000000000",
                    "2025-01-08T00:00:00.000000000",
                    "2025-01-10T00:00:00.000000000",
                    "2025-01-13T00:00:00.000000000",
                    "2025-01-14T00:00:00.000000000",
                    "2025-01-15T00:00:00.000000000",
                    "2025-01-16T00:00:00.000000000",
                    "2025-01-17T00:00:00.000000000",
                    "2025-01-21T00:00:00.000000000",
                    "2025-01-22T00:00:00.000000000",
                    "2025-01-23T00:00:00.000000000",
                    "2025-01-24T00:00:00.000000000",
                    "2025-01-27T00:00:00.000000000",
                    "2025-01-28T00:00:00.000000000",
                    "2025-01-29T00:00:00.000000000",
                    "2025-01-30T00:00:00.000000000",
                    "2025-01-31T00:00:00.000000000",
                    "2025-02-03T00:00:00.000000000",
                    "2025-02-04T00:00:00.000000000",
                    "2025-02-05T00:00:00.000000000",
                    "2025-02-06T00:00:00.000000000",
                    "2025-02-07T00:00:00.000000000",
                    "2025-02-10T00:00:00.000000000",
                    "2025-02-11T00:00:00.000000000",
                    "2025-02-12T00:00:00.000000000",
                    "2025-02-13T00:00:00.000000000",
                    "2025-02-14T00:00:00.000000000",
                    "2025-02-18T00:00:00.000000000",
                    "2025-02-19T00:00:00.000000000",
                    "2025-02-20T00:00:00.000000000",
                    "2025-02-21T00:00:00.000000000",
                    "2025-02-24T00:00:00.000000000",
                    "2025-02-25T00:00:00.000000000",
                    "2025-02-26T00:00:00.000000000",
                    "2025-02-27T00:00:00.000000000",
                    "2025-02-28T00:00:00.000000000",
                    "2025-03-03T00:00:00.000000000",
                    "2025-03-04T00:00:00.000000000",
                    "2025-03-05T00:00:00.000000000",
                    "2025-03-06T00:00:00.000000000",
                    "2025-03-07T00:00:00.000000000",
                    "2025-03-10T00:00:00.000000000",
                    "2025-03-11T00:00:00.000000000",
                    "2025-03-12T00:00:00.000000000",
                    "2025-03-13T00:00:00.000000000",
                    "2025-03-14T00:00:00.000000000",
                    "2025-03-17T00:00:00.000000000",
                    "2025-03-18T00:00:00.000000000",
                    "2025-03-19T00:00:00.000000000",
                    "2025-03-20T00:00:00.000000000",
                    "2025-03-21T00:00:00.000000000",
                    "2025-03-24T00:00:00.000000000",
                    "2025-03-25T00:00:00.000000000",
                    "2025-03-26T00:00:00.000000000",
                    "2025-03-27T00:00:00.000000000",
                    "2025-03-28T00:00:00.000000000",
                    "2025-03-31T00:00:00.000000000",
                    "2025-04-01T00:00:00.000000000",
                    "2025-04-02T00:00:00.000000000",
                    "2025-04-03T00:00:00.000000000",
                    "2025-04-04T00:00:00.000000000",
                    "2025-04-07T00:00:00.000000000",
                    "2025-04-08T00:00:00.000000000",
                    "2025-04-09T00:00:00.000000000",
                    "2025-04-10T00:00:00.000000000",
                    "2025-04-11T00:00:00.000000000",
                    "2025-04-14T00:00:00.000000000",
                    "2025-04-15T00:00:00.000000000",
                    "2025-04-16T00:00:00.000000000",
                    "2025-04-17T00:00:00.000000000",
                    "2025-04-21T00:00:00.000000000",
                    "2025-04-22T00:00:00.000000000",
                    "2025-04-23T00:00:00.000000000",
                    "2025-04-24T00:00:00.000000000",
                    "2025-04-25T00:00:00.000000000",
                    "2025-04-28T00:00:00.000000000",
                    "2025-04-29T00:00:00.000000000",
                    "2025-04-30T00:00:00.000000000",
                    "2025-05-01T00:00:00.000000000",
                    "2025-05-02T00:00:00.000000000",
                    "2025-05-05T00:00:00.000000000",
                    "2025-05-06T00:00:00.000000000",
                    "2025-05-07T00:00:00.000000000",
                    "2025-05-08T00:00:00.000000000",
                    "2025-05-09T00:00:00.000000000",
                    "2025-05-12T00:00:00.000000000",
                    "2025-05-13T00:00:00.000000000",
                    "2025-05-14T00:00:00.000000000",
                    "2025-05-15T00:00:00.000000000",
                    "2025-05-16T00:00:00.000000000",
                    "2025-05-19T00:00:00.000000000",
                    "2025-05-20T00:00:00.000000000",
                    "2025-05-21T00:00:00.000000000",
                    "2025-05-22T00:00:00.000000000",
                    "2025-05-23T00:00:00.000000000",
                    "2025-05-27T00:00:00.000000000",
                    "2025-05-28T00:00:00.000000000",
                    "2025-05-29T00:00:00.000000000",
                    "2025-05-30T00:00:00.000000000",
                    "2025-06-02T00:00:00.000000000",
                    "2025-06-03T00:00:00.000000000",
                    "2025-06-04T00:00:00.000000000",
                    "2025-06-05T00:00:00.000000000",
                    "2025-06-06T00:00:00.000000000",
                    "2025-06-09T00:00:00.000000000",
                    "2025-06-10T00:00:00.000000000",
                    "2025-06-11T00:00:00.000000000",
                    "2025-06-12T00:00:00.000000000",
                    "2025-06-13T00:00:00.000000000",
                    "2025-06-16T00:00:00.000000000",
                    "2025-06-17T00:00:00.000000000",
                    "2025-06-18T00:00:00.000000000",
                    "2025-06-20T00:00:00.000000000",
                    "2025-06-23T00:00:00.000000000",
                    "2025-06-24T00:00:00.000000000",
                    "2025-06-25T00:00:00.000000000",
                    "2025-06-26T00:00:00.000000000",
                    "2025-06-27T00:00:00.000000000"
                  ],
                  "xaxis": "x",
                  "y": {
                    "bdata": "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",
                    "dtype": "f8"
                  },
                  "yaxis": "y"
                },
                {
                  "legendgroup": "NVDA",
                  "line": {
                    "color": "green"
                  },
                  "name": "NVDA Strategy",
                  "type": "scatter",
                  "x": [
                    "2024-05-24T00:00:00.000000000",
                    "2024-05-28T00:00:00.000000000",
                    "2024-05-29T00:00:00.000000000",
                    "2024-05-30T00:00:00.000000000",
                    "2024-05-31T00:00:00.000000000",
                    "2024-06-03T00:00:00.000000000",
                    "2024-06-04T00:00:00.000000000",
                    "2024-06-05T00:00:00.000000000",
                    "2024-06-06T00:00:00.000000000",
                    "2024-06-07T00:00:00.000000000",
                    "2024-06-10T00:00:00.000000000",
                    "2024-06-11T00:00:00.000000000",
                    "2024-06-12T00:00:00.000000000",
                    "2024-06-13T00:00:00.000000000",
                    "2024-06-14T00:00:00.000000000",
                    "2024-06-17T00:00:00.000000000",
                    "2024-06-18T00:00:00.000000000",
                    "2024-06-20T00:00:00.000000000",
                    "2024-06-21T00:00:00.000000000",
                    "2024-06-24T00:00:00.000000000",
                    "2024-06-25T00:00:00.000000000",
                    "2024-06-26T00:00:00.000000000",
                    "2024-06-27T00:00:00.000000000",
                    "2024-06-28T00:00:00.000000000",
                    "2024-07-01T00:00:00.000000000",
                    "2024-07-02T00:00:00.000000000",
                    "2024-07-03T00:00:00.000000000",
                    "2024-07-05T00:00:00.000000000",
                    "2024-07-08T00:00:00.000000000",
                    "2024-07-09T00:00:00.000000000",
                    "2024-07-10T00:00:00.000000000",
                    "2024-07-11T00:00:00.000000000",
                    "2024-07-12T00:00:00.000000000",
                    "2024-07-15T00:00:00.000000000",
                    "2024-07-16T00:00:00.000000000",
                    "2024-07-17T00:00:00.000000000",
                    "2024-07-18T00:00:00.000000000",
                    "2024-07-19T00:00:00.000000000",
                    "2024-07-22T00:00:00.000000000",
                    "2024-07-23T00:00:00.000000000",
                    "2024-07-24T00:00:00.000000000",
                    "2024-07-25T00:00:00.000000000",
                    "2024-07-26T00:00:00.000000000",
                    "2024-07-29T00:00:00.000000000",
                    "2024-07-30T00:00:00.000000000",
                    "2024-07-31T00:00:00.000000000",
                    "2024-08-01T00:00:00.000000000",
                    "2024-08-02T00:00:00.000000000",
                    "2024-08-05T00:00:00.000000000",
                    "2024-08-06T00:00:00.000000000",
                    "2024-08-07T00:00:00.000000000",
                    "2024-08-08T00:00:00.000000000",
                    "2024-08-09T00:00:00.000000000",
                    "2024-08-12T00:00:00.000000000",
                    "2024-08-13T00:00:00.000000000",
                    "2024-08-14T00:00:00.000000000",
                    "2024-08-15T00:00:00.000000000",
                    "2024-08-16T00:00:00.000000000",
                    "2024-08-19T00:00:00.000000000",
                    "2024-08-20T00:00:00.000000000",
                    "2024-08-21T00:00:00.000000000",
                    "2024-08-22T00:00:00.000000000",
                    "2024-08-23T00:00:00.000000000",
                    "2024-08-26T00:00:00.000000000",
                    "2024-08-27T00:00:00.000000000",
                    "2024-08-28T00:00:00.000000000",
                    "2024-08-29T00:00:00.000000000",
                    "2024-08-30T00:00:00.000000000",
                    "2024-09-03T00:00:00.000000000",
                    "2024-09-04T00:00:00.000000000",
                    "2024-09-05T00:00:00.000000000",
                    "2024-09-06T00:00:00.000000000",
                    "2024-09-09T00:00:00.000000000",
                    "2024-09-10T00:00:00.000000000",
                    "2024-09-11T00:00:00.000000000",
                    "2024-09-12T00:00:00.000000000",
                    "2024-09-13T00:00:00.000000000",
                    "2024-09-16T00:00:00.000000000",
                    "2024-09-17T00:00:00.000000000",
                    "2024-09-18T00:00:00.000000000",
                    "2024-09-19T00:00:00.000000000",
                    "2024-09-20T00:00:00.000000000",
                    "2024-09-23T00:00:00.000000000",
                    "2024-09-24T00:00:00.000000000",
                    "2024-09-25T00:00:00.000000000",
                    "2024-09-26T00:00:00.000000000",
                    "2024-09-27T00:00:00.000000000",
                    "2024-09-30T00:00:00.000000000",
                    "2024-10-01T00:00:00.000000000",
                    "2024-10-02T00:00:00.000000000",
                    "2024-10-03T00:00:00.000000000",
                    "2024-10-04T00:00:00.000000000",
                    "2024-10-07T00:00:00.000000000",
                    "2024-10-08T00:00:00.000000000",
                    "2024-10-09T00:00:00.000000000",
                    "2024-10-10T00:00:00.000000000",
                    "2024-10-11T00:00:00.000000000",
                    "2024-10-14T00:00:00.000000000",
                    "2024-10-15T00:00:00.000000000",
                    "2024-10-16T00:00:00.000000000",
                    "2024-10-17T00:00:00.000000000",
                    "2024-10-18T00:00:00.000000000",
                    "2024-10-21T00:00:00.000000000",
                    "2024-10-22T00:00:00.000000000",
                    "2024-10-23T00:00:00.000000000",
                    "2024-10-24T00:00:00.000000000",
                    "2024-10-25T00:00:00.000000000",
                    "2024-10-28T00:00:00.000000000",
                    "2024-10-29T00:00:00.000000000",
                    "2024-10-30T00:00:00.000000000",
                    "2024-10-31T00:00:00.000000000",
                    "2024-11-01T00:00:00.000000000",
                    "2024-11-04T00:00:00.000000000",
                    "2024-11-05T00:00:00.000000000",
                    "2024-11-06T00:00:00.000000000",
                    "2024-11-07T00:00:00.000000000",
                    "2024-11-08T00:00:00.000000000",
                    "2024-11-11T00:00:00.000000000",
                    "2024-11-12T00:00:00.000000000",
                    "2024-11-13T00:00:00.000000000",
                    "2024-11-14T00:00:00.000000000",
                    "2024-11-15T00:00:00.000000000",
                    "2024-11-18T00:00:00.000000000",
                    "2024-11-19T00:00:00.000000000",
                    "2024-11-20T00:00:00.000000000",
                    "2024-11-21T00:00:00.000000000",
                    "2024-11-22T00:00:00.000000000",
                    "2024-11-25T00:00:00.000000000",
                    "2024-11-26T00:00:00.000000000",
                    "2024-11-27T00:00:00.000000000",
                    "2024-11-29T00:00:00.000000000",
                    "2024-12-02T00:00:00.000000000",
                    "2024-12-03T00:00:00.000000000",
                    "2024-12-04T00:00:00.000000000",
                    "2024-12-05T00:00:00.000000000",
                    "2024-12-06T00:00:00.000000000",
                    "2024-12-09T00:00:00.000000000",
                    "2024-12-10T00:00:00.000000000",
                    "2024-12-11T00:00:00.000000000",
                    "2024-12-12T00:00:00.000000000",
                    "2024-12-13T00:00:00.000000000",
                    "2024-12-16T00:00:00.000000000",
                    "2024-12-17T00:00:00.000000000",
                    "2024-12-18T00:00:00.000000000",
                    "2024-12-19T00:00:00.000000000",
                    "2024-12-20T00:00:00.000000000",
                    "2024-12-23T00:00:00.000000000",
                    "2024-12-24T00:00:00.000000000",
                    "2024-12-26T00:00:00.000000000",
                    "2024-12-27T00:00:00.000000000",
                    "2024-12-30T00:00:00.000000000",
                    "2024-12-31T00:00:00.000000000",
                    "2025-01-02T00:00:00.000000000",
                    "2025-01-03T00:00:00.000000000",
                    "2025-01-06T00:00:00.000000000",
                    "2025-01-07T00:00:00.000000000",
                    "2025-01-08T00:00:00.000000000",
                    "2025-01-10T00:00:00.000000000",
                    "2025-01-13T00:00:00.000000000",
                    "2025-01-14T00:00:00.000000000",
                    "2025-01-15T00:00:00.000000000",
                    "2025-01-16T00:00:00.000000000",
                    "2025-01-17T00:00:00.000000000",
                    "2025-01-21T00:00:00.000000000",
                    "2025-01-22T00:00:00.000000000",
                    "2025-01-23T00:00:00.000000000",
                    "2025-01-24T00:00:00.000000000",
                    "2025-01-27T00:00:00.000000000",
                    "2025-01-28T00:00:00.000000000",
                    "2025-01-29T00:00:00.000000000",
                    "2025-01-30T00:00:00.000000000",
                    "2025-01-31T00:00:00.000000000",
                    "2025-02-03T00:00:00.000000000",
                    "2025-02-04T00:00:00.000000000",
                    "2025-02-05T00:00:00.000000000",
                    "2025-02-06T00:00:00.000000000",
                    "2025-02-07T00:00:00.000000000",
                    "2025-02-10T00:00:00.000000000",
                    "2025-02-11T00:00:00.000000000",
                    "2025-02-12T00:00:00.000000000",
                    "2025-02-13T00:00:00.000000000",
                    "2025-02-14T00:00:00.000000000",
                    "2025-02-18T00:00:00.000000000",
                    "2025-02-19T00:00:00.000000000",
                    "2025-02-20T00:00:00.000000000",
                    "2025-02-21T00:00:00.000000000",
                    "2025-02-24T00:00:00.000000000",
                    "2025-02-25T00:00:00.000000000",
                    "2025-02-26T00:00:00.000000000",
                    "2025-02-27T00:00:00.000000000",
                    "2025-02-28T00:00:00.000000000",
                    "2025-03-03T00:00:00.000000000",
                    "2025-03-04T00:00:00.000000000",
                    "2025-03-05T00:00:00.000000000",
                    "2025-03-06T00:00:00.000000000",
                    "2025-03-07T00:00:00.000000000",
                    "2025-03-10T00:00:00.000000000",
                    "2025-03-11T00:00:00.000000000",
                    "2025-03-12T00:00:00.000000000",
                    "2025-03-13T00:00:00.000000000",
                    "2025-03-14T00:00:00.000000000",
                    "2025-03-17T00:00:00.000000000",
                    "2025-03-18T00:00:00.000000000",
                    "2025-03-19T00:00:00.000000000",
                    "2025-03-20T00:00:00.000000000",
                    "2025-03-21T00:00:00.000000000",
                    "2025-03-24T00:00:00.000000000",
                    "2025-03-25T00:00:00.000000000",
                    "2025-03-26T00:00:00.000000000",
                    "2025-03-27T00:00:00.000000000",
                    "2025-03-28T00:00:00.000000000",
                    "2025-03-31T00:00:00.000000000",
                    "2025-04-01T00:00:00.000000000",
                    "2025-04-02T00:00:00.000000000",
                    "2025-04-03T00:00:00.000000000",
                    "2025-04-04T00:00:00.000000000",
                    "2025-04-07T00:00:00.000000000",
                    "2025-04-08T00:00:00.000000000",
                    "2025-04-09T00:00:00.000000000",
                    "2025-04-10T00:00:00.000000000",
                    "2025-04-11T00:00:00.000000000",
                    "2025-04-14T00:00:00.000000000",
                    "2025-04-15T00:00:00.000000000",
                    "2025-04-16T00:00:00.000000000",
                    "2025-04-17T00:00:00.000000000",
                    "2025-04-21T00:00:00.000000000",
                    "2025-04-22T00:00:00.000000000",
                    "2025-04-23T00:00:00.000000000",
                    "2025-04-24T00:00:00.000000000",
                    "2025-04-25T00:00:00.000000000",
                    "2025-04-28T00:00:00.000000000",
                    "2025-04-29T00:00:00.000000000",
                    "2025-04-30T00:00:00.000000000",
                    "2025-05-01T00:00:00.000000000",
                    "2025-05-02T00:00:00.000000000",
                    "2025-05-05T00:00:00.000000000",
                    "2025-05-06T00:00:00.000000000",
                    "2025-05-07T00:00:00.000000000",
                    "2025-05-08T00:00:00.000000000",
                    "2025-05-09T00:00:00.000000000",
                    "2025-05-12T00:00:00.000000000",
                    "2025-05-13T00:00:00.000000000",
                    "2025-05-14T00:00:00.000000000",
                    "2025-05-15T00:00:00.000000000",
                    "2025-05-16T00:00:00.000000000",
                    "2025-05-19T00:00:00.000000000",
                    "2025-05-20T00:00:00.000000000",
                    "2025-05-21T00:00:00.000000000",
                    "2025-05-22T00:00:00.000000000",
                    "2025-05-23T00:00:00.000000000",
                    "2025-05-27T00:00:00.000000000",
                    "2025-05-28T00:00:00.000000000",
                    "2025-05-29T00:00:00.000000000",
                    "2025-05-30T00:00:00.000000000",
                    "2025-06-02T00:00:00.000000000",
                    "2025-06-03T00:00:00.000000000",
                    "2025-06-04T00:00:00.000000000",
                    "2025-06-05T00:00:00.000000000",
                    "2025-06-06T00:00:00.000000000",
                    "2025-06-09T00:00:00.000000000",
                    "2025-06-10T00:00:00.000000000",
                    "2025-06-11T00:00:00.000000000",
                    "2025-06-12T00:00:00.000000000",
                    "2025-06-13T00:00:00.000000000",
                    "2025-06-16T00:00:00.000000000",
                    "2025-06-17T00:00:00.000000000",
                    "2025-06-18T00:00:00.000000000",
                    "2025-06-20T00:00:00.000000000",
                    "2025-06-23T00:00:00.000000000",
                    "2025-06-24T00:00:00.000000000",
                    "2025-06-25T00:00:00.000000000",
                    "2025-06-26T00:00:00.000000000",
                    "2025-06-27T00:00:00.000000000"
                  ],
                  "xaxis": "x",
                  "y": {
                    "bdata": "AAAAAAAAAAAAAAAAAAAAAAAAAAAAAAAAAAAAAAAAAAAAAAAAAAAAAAAAAAAAAAAAAAAAAAAAAAAAAAAAAAAAAAAAAAAAAAAAAAAAAAAAAAAAAAAAAAAAAAAAAAAAAAAAAAAAAAAAAAAAAAAAAAAAAAAAAAAAAAAAAAAAAAAAAAAAAAAAAAAAAAAAAAAAAAAAAAAAAAAAAAAAAAAAAAAAAAAAAAAAAAAAAAAAAAAAAAAAAAAAAAAAAAAAAAAAAAAAAAAAAAAAAAAAAAAAAAAAAAAAAAAAAAAAAAAAAAAAAAAAAAAAAAAAAAAAAAAAAAAAAAAAAAAAAAAAAAAAAAAAAAAAAAAAAAAAAAAAAAAAAAAAAAAAAAAAAAAAAAAAAAAAAAAAAAAAAAAAAAAAAAAAAAAAAAAAAAAAAAAAAAAAAAAAAAAAAAAAAAAAAAAAAAAAAAAAAAAAAAAAAAAAAAAAAAAAAAAAAAAAAAAAAAAAAAAAAAAAAAAAAAAAAAAAAAAAAAAAAAAAAAAAAAAAAAAAAAAAAAAAAAAAAAAAAAAAAAAAAAAAAAAAAAAAAAAAAAAAAAAAAAAAAAAAAAAAAAAAAAAAAAAAAAAAAAAAAAAAAAAAAAAAAAAAAAAAAAAAAAAAAAAAAAAAAAAAAAAAAAAAAAAAAAAAAAAAAAAAAAAAAAAAAAAAAAAAAAAAAAAAAAAAAAAAAAAAAAAAAAAAAAAAAAAAAAAAAAAAAAAAAAAAAAAAAAAAAAAAAAAAAAAAAAAAAAAAAAAAAAAAAAAAAAAAAAAAAAAAAAAAAAAAAAAAAAAAAAAAAAAAAAAAAAAAAAAAAAAAAAAAAAAAAAAAAAAAAAAAAAAAAAAAAAAAAAAAAAAAAAAAAAAAAAAAAAAAAAAAAAAAAAAAAAAAAAAAAAAAAAAAAAAAAAAAAAAAAAAAAAAAAAAAAAAAAAAAAAAAAAAAAAAAAAAAAAAAAAAAAAAAAAAAAAAAAAAAAAAAAAAAAAAAAAAAAAAAAAAAAAAAAAAAAAAAAAAAAAAAAAAAAAAAAAAAAAAAAAAAAAAAAAAAAAAAAAAAAAAAAAAAAAAAAAAAAAAAAAAAAAAAAAAAAAAAAAAAAAAAAAAAAAAAAAAAAAAAAAAAAAAAAAAAAAAAAAAAAAAAAAAAAAAAAAAAAAAAAAAAAAAAAAAAAAAAAAAAAAAAAAAAAAAAAAAAAAAAAAAAAAAAAAAAAAAAAAAAAAAAAAAAAAAAAAAAAAAAAAAAAAAAAAAAAAAAAAAAAAAAAAAAAAAAAAAAAAAAAAAAAAAAAAAAAAAAAAAAAAAAAAAAAAAAAAAAAAAAAAAAAAAAAAAAAAAAAAAAAAAAAAAAAAAAAAAAAAAAAAAAAAAAAAAAAAAAAAAAAAAAAAAAAAAAAAAAAAAAAAAAAAAAAAAAAAAAAAAAAAAAAAAAAAAAAAAAAAAAAAAAAAAAAAAAAAAAAAAAAAAAAAAAAAAAAAAAAAAAAAAAAAAAAAAAAAAAAAAAAAAAAAAAAAAAAAAAAAAAAAAAAAAAAAAAAAAAAAAAAAAAAAAAAAAAAAAAAAAAAAAAAAAAAAAAAAAAAAAAAAAAAAAAAAAAAAAAAAAAAAAAAAAAAAAAAAAAAAAAAAAAAAAAAAAAAAAAAAAAAAAAAAAAAAAAAAAAAAAAAAAAAAAAAAAAAAAAAAAAAAAAAAAAAAAAAAAAAAAAAAAAAAAAAAAAAAAAAAAAAAAAAAAAAAAAAAAAAAAAAAAAAAAAAAAAAAAAAAAAAAAAAAAAAAAAAAAAAAAAAAAAAAAAAAAAAAAAAAAAAAAAAAAAAAAAAAAAAAAAAAAAAAAAAAAAAAAAAAAAAAAAAAAAAAAAAAAAAAAAAAAAAAAAAAAAAAAAAAAAAAAAAAAAAAAAAAAAAAAAAAAAAAAAAAAAAAAAAAAAAAAAAAAAAAAAAAAAAAAAAAAAAAAAAAAAAAAAAAAAAAAAAAAAAAAAAAAAAAAAAAAAAAAAAAAAAAAAAAAAAAAAAAAAAAAAAAAAAAAAAAAAAAAAAAAAAAAAAAAAAAAAAAAAAAAAAAAAAAAAAAAAAAAAAAAAAAAAAAAAAAAAAAAAAAAAAAAAAAAAAAAAAAAAAAAAAAAAAAAAAAAAAAAAAAAAAAAAAAAAAAAAAAAAAAAAAAAAAAAAAAAAAAAAAAAAAAAAAAAAAAAAAAAAAAAAAAAAAAAAAAAAAAAAAAAAAAAAAAAAAAAAAAAAAAAAAAAAAAAAAAAAAAAAAAAAAAAAAAAAAAAAAAAAAAAAAAAAAAAAAAAAAAAAAAAAAAAAAAAAAAAAAAAAAAAAAAAAAAAAAAAAAAAAAAAAAAAAAAAAAAAAAAAAAAAAAAAAAAAAAAAAAAAAAAAAAAAAAAAAAAAAAAAAAAAAAAAAAAAAAAAAAAAAAAAAAAAAAAAAAAAAAAAAAAAAAAAAAAAAAAAAAAAAAAAAAAAAAAAAAAAAAAAAAAAAAAAAAAAAAAAAAAAAAAAAAAAAAAAAAAAAAAAAAAAAAAAAAAAAAAAAAAAAAAAAAAAAAAAAAAAAAAAAAAAAAAAAAAAAAAAAAAAAAAAAAAAAAAAAAAAAAAAAAAAAs35ONlFxPwA9IvFle3Y/AAWTzEBWa7/A6IbhHQOXv6BkwvnW1Z6/gFbBKRxSk78gcdYlwcSpv2BwYvDZSqe/iDtURtaVs78g/yDI+WCpv7jN9vCjvbC/6MXgt6xtt78An5vaxZS4vzjX15Yjb7W/yL2rnztVuL8g5bVkCNK5vyDdKwiB97u/OOWvkU4xur9YcSduHa+9v6ghmxBv9Li/0O5QBqRhvb8o7Dx9GH28v3ANWaO1or6/QOnrFUwcvL9IrYaAE568v7RmLmkMQMG/lElUItMMxr9o4f02n4nGv5RqqNgprsS/",
                    "dtype": "f8"
                  },
                  "yaxis": "y"
                },
                {
                  "legendgroup": "NVDA",
                  "name": "NVDA Returns",
                  "nbinsx": 30,
                  "opacity": 0.7,
                  "showlegend": false,
                  "type": "histogram",
                  "x": {
                    "bdata": "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",
                    "dtype": "f8"
                  },
                  "xaxis": "x2",
                  "yaxis": "y3"
                },
                {
                  "cells": {
                    "align": "center",
                    "fill": {
                      "color": "white"
                    },
                    "values": [
                      [
                        "AMD",
                        "INTC",
                        "NVDA"
                      ],
                      [
                        "-13.55%",
                        "-25.67%",
                        "48.22%"
                      ],
                      [
                        "28.11%",
                        "-2.03%",
                        "-16.16%"
                      ],
                      [
                        3,
                        9,
                        3
                      ]
                    ]
                  },
                  "domain": {
                    "x": [
                      0,
                      0.42
                    ],
                    "y": [
                      0,
                      0.44
                    ]
                  },
                  "header": {
                    "align": "center",
                    "fill": {
                      "color": "lightblue"
                    },
                    "values": [
                      "Symbol",
                      "Buy-Hold Return",
                      "Strategy Return",
                      "Signals"
                    ]
                  },
                  "type": "table"
                },
                {
                  "line": {
                    "color": "red"
                  },
                  "mode": "lines+markers",
                  "name": "Signal Frequency",
                  "showlegend": false,
                  "type": "scatter",
                  "x": [
                    -0.6255,
                    -0.47500000000000003,
                    -0.325,
                    -0.175,
                    -0.025,
                    0.125,
                    0.275,
                    0.425,
                    0.575,
                    0.7250000000000001
                  ],
                  "xaxis": "x3",
                  "y": {
                    "bdata": "AwMAAAAAAQMCAw==",
                    "dtype": "i1"
                  },
                  "yaxis": "y4"
                }
              ],
              "layout": {
                "annotations": [
                  {
                    "font": {
                      "size": 16
                    },
                    "showarrow": false,
                    "text": "Portfolio Performance",
                    "x": 0.21,
                    "xanchor": "center",
                    "xref": "paper",
                    "y": 1,
                    "yanchor": "bottom",
                    "yref": "paper"
                  },
                  {
                    "font": {
                      "size": 16
                    },
                    "showarrow": false,
                    "text": "Returns Distribution",
                    "x": 0.73,
                    "xanchor": "center",
                    "xref": "paper",
                    "y": 1,
                    "yanchor": "bottom",
                    "yref": "paper"
                  },
                  {
                    "font": {
                      "size": 16
                    },
                    "showarrow": false,
                    "text": "Performance Summary",
                    "x": 0.21,
                    "xanchor": "center",
                    "xref": "paper",
                    "y": 0.44,
                    "yanchor": "bottom",
                    "yref": "paper"
                  },
                  {
                    "font": {
                      "size": 16
                    },
                    "showarrow": false,
                    "text": "Signal Distribution",
                    "x": 0.73,
                    "xanchor": "center",
                    "xref": "paper",
                    "y": 0.44,
                    "yanchor": "bottom",
                    "yref": "paper"
                  }
                ],
                "height": 800,
                "legend": {
                  "x": 1.05,
                  "y": 1
                },
                "showlegend": true,
                "template": {
                  "data": {
                    "bar": [
                      {
                        "error_x": {
                          "color": "#f2f5fa"
                        },
                        "error_y": {
                          "color": "#f2f5fa"
                        },
                        "marker": {
                          "line": {
                            "color": "rgb(17,17,17)",
                            "width": 0.5
                          },
                          "pattern": {
                            "fillmode": "overlay",
                            "size": 10,
                            "solidity": 0.2
                          }
                        },
                        "type": "bar"
                      }
                    ],
                    "barpolar": [
                      {
                        "marker": {
                          "line": {
                            "color": "rgb(17,17,17)",
                            "width": 0.5
                          },
                          "pattern": {
                            "fillmode": "overlay",
                            "size": 10,
                            "solidity": 0.2
                          }
                        },
                        "type": "barpolar"
                      }
                    ],
                    "carpet": [
                      {
                        "aaxis": {
                          "endlinecolor": "#A2B1C6",
                          "gridcolor": "#506784",
                          "linecolor": "#506784",
                          "minorgridcolor": "#506784",
                          "startlinecolor": "#A2B1C6"
                        },
                        "baxis": {
                          "endlinecolor": "#A2B1C6",
                          "gridcolor": "#506784",
                          "linecolor": "#506784",
                          "minorgridcolor": "#506784",
                          "startlinecolor": "#A2B1C6"
                        },
                        "type": "carpet"
                      }
                    ],
                    "choropleth": [
                      {
                        "colorbar": {
                          "outlinewidth": 0,
                          "ticks": ""
                        },
                        "type": "choropleth"
                      }
                    ],
                    "contour": [
                      {
                        "colorbar": {
                          "outlinewidth": 0,
                          "ticks": ""
                        },
                        "colorscale": [
                          [
                            0,
                            "#0d0887"
                          ],
                          [
                            0.1111111111111111,
                            "#46039f"
                          ],
                          [
                            0.2222222222222222,
                            "#7201a8"
                          ],
                          [
                            0.3333333333333333,
                            "#9c179e"
                          ],
                          [
                            0.4444444444444444,
                            "#bd3786"
                          ],
                          [
                            0.5555555555555556,
                            "#d8576b"
                          ],
                          [
                            0.6666666666666666,
                            "#ed7953"
                          ],
                          [
                            0.7777777777777778,
                            "#fb9f3a"
                          ],
                          [
                            0.8888888888888888,
                            "#fdca26"
                          ],
                          [
                            1,
                            "#f0f921"
                          ]
                        ],
                        "type": "contour"
                      }
                    ],
                    "contourcarpet": [
                      {
                        "colorbar": {
                          "outlinewidth": 0,
                          "ticks": ""
                        },
                        "type": "contourcarpet"
                      }
                    ],
                    "heatmap": [
                      {
                        "colorbar": {
                          "outlinewidth": 0,
                          "ticks": ""
                        },
                        "colorscale": [
                          [
                            0,
                            "#0d0887"
                          ],
                          [
                            0.1111111111111111,
                            "#46039f"
                          ],
                          [
                            0.2222222222222222,
                            "#7201a8"
                          ],
                          [
                            0.3333333333333333,
                            "#9c179e"
                          ],
                          [
                            0.4444444444444444,
                            "#bd3786"
                          ],
                          [
                            0.5555555555555556,
                            "#d8576b"
                          ],
                          [
                            0.6666666666666666,
                            "#ed7953"
                          ],
                          [
                            0.7777777777777778,
                            "#fb9f3a"
                          ],
                          [
                            0.8888888888888888,
                            "#fdca26"
                          ],
                          [
                            1,
                            "#f0f921"
                          ]
                        ],
                        "type": "heatmap"
                      }
                    ],
                    "histogram": [
                      {
                        "marker": {
                          "pattern": {
                            "fillmode": "overlay",
                            "size": 10,
                            "solidity": 0.2
                          }
                        },
                        "type": "histogram"
                      }
                    ],
                    "histogram2d": [
                      {
                        "colorbar": {
                          "outlinewidth": 0,
                          "ticks": ""
                        },
                        "colorscale": [
                          [
                            0,
                            "#0d0887"
                          ],
                          [
                            0.1111111111111111,
                            "#46039f"
                          ],
                          [
                            0.2222222222222222,
                            "#7201a8"
                          ],
                          [
                            0.3333333333333333,
                            "#9c179e"
                          ],
                          [
                            0.4444444444444444,
                            "#bd3786"
                          ],
                          [
                            0.5555555555555556,
                            "#d8576b"
                          ],
                          [
                            0.6666666666666666,
                            "#ed7953"
                          ],
                          [
                            0.7777777777777778,
                            "#fb9f3a"
                          ],
                          [
                            0.8888888888888888,
                            "#fdca26"
                          ],
                          [
                            1,
                            "#f0f921"
                          ]
                        ],
                        "type": "histogram2d"
                      }
                    ],
                    "histogram2dcontour": [
                      {
                        "colorbar": {
                          "outlinewidth": 0,
                          "ticks": ""
                        },
                        "colorscale": [
                          [
                            0,
                            "#0d0887"
                          ],
                          [
                            0.1111111111111111,
                            "#46039f"
                          ],
                          [
                            0.2222222222222222,
                            "#7201a8"
                          ],
                          [
                            0.3333333333333333,
                            "#9c179e"
                          ],
                          [
                            0.4444444444444444,
                            "#bd3786"
                          ],
                          [
                            0.5555555555555556,
                            "#d8576b"
                          ],
                          [
                            0.6666666666666666,
                            "#ed7953"
                          ],
                          [
                            0.7777777777777778,
                            "#fb9f3a"
                          ],
                          [
                            0.8888888888888888,
                            "#fdca26"
                          ],
                          [
                            1,
                            "#f0f921"
                          ]
                        ],
                        "type": "histogram2dcontour"
                      }
                    ],
                    "mesh3d": [
                      {
                        "colorbar": {
                          "outlinewidth": 0,
                          "ticks": ""
                        },
                        "type": "mesh3d"
                      }
                    ],
                    "parcoords": [
                      {
                        "line": {
                          "colorbar": {
                            "outlinewidth": 0,
                            "ticks": ""
                          }
                        },
                        "type": "parcoords"
                      }
                    ],
                    "pie": [
                      {
                        "automargin": true,
                        "type": "pie"
                      }
                    ],
                    "scatter": [
                      {
                        "marker": {
                          "line": {
                            "color": "#283442"
                          }
                        },
                        "type": "scatter"
                      }
                    ],
                    "scatter3d": [
                      {
                        "line": {
                          "colorbar": {
                            "outlinewidth": 0,
                            "ticks": ""
                          }
                        },
                        "marker": {
                          "colorbar": {
                            "outlinewidth": 0,
                            "ticks": ""
                          }
                        },
                        "type": "scatter3d"
                      }
                    ],
                    "scattercarpet": [
                      {
                        "marker": {
                          "colorbar": {
                            "outlinewidth": 0,
                            "ticks": ""
                          }
                        },
                        "type": "scattercarpet"
                      }
                    ],
                    "scattergeo": [
                      {
                        "marker": {
                          "colorbar": {
                            "outlinewidth": 0,
                            "ticks": ""
                          }
                        },
                        "type": "scattergeo"
                      }
                    ],
                    "scattergl": [
                      {
                        "marker": {
                          "line": {
                            "color": "#283442"
                          }
                        },
                        "type": "scattergl"
                      }
                    ],
                    "scattermap": [
                      {
                        "marker": {
                          "colorbar": {
                            "outlinewidth": 0,
                            "ticks": ""
                          }
                        },
                        "type": "scattermap"
                      }
                    ],
                    "scattermapbox": [
                      {
                        "marker": {
                          "colorbar": {
                            "outlinewidth": 0,
                            "ticks": ""
                          }
                        },
                        "type": "scattermapbox"
                      }
                    ],
                    "scatterpolar": [
                      {
                        "marker": {
                          "colorbar": {
                            "outlinewidth": 0,
                            "ticks": ""
                          }
                        },
                        "type": "scatterpolar"
                      }
                    ],
                    "scatterpolargl": [
                      {
                        "marker": {
                          "colorbar": {
                            "outlinewidth": 0,
                            "ticks": ""
                          }
                        },
                        "type": "scatterpolargl"
                      }
                    ],
                    "scatterternary": [
                      {
                        "marker": {
                          "colorbar": {
                            "outlinewidth": 0,
                            "ticks": ""
                          }
                        },
                        "type": "scatterternary"
                      }
                    ],
                    "surface": [
                      {
                        "colorbar": {
                          "outlinewidth": 0,
                          "ticks": ""
                        },
                        "colorscale": [
                          [
                            0,
                            "#0d0887"
                          ],
                          [
                            0.1111111111111111,
                            "#46039f"
                          ],
                          [
                            0.2222222222222222,
                            "#7201a8"
                          ],
                          [
                            0.3333333333333333,
                            "#9c179e"
                          ],
                          [
                            0.4444444444444444,
                            "#bd3786"
                          ],
                          [
                            0.5555555555555556,
                            "#d8576b"
                          ],
                          [
                            0.6666666666666666,
                            "#ed7953"
                          ],
                          [
                            0.7777777777777778,
                            "#fb9f3a"
                          ],
                          [
                            0.8888888888888888,
                            "#fdca26"
                          ],
                          [
                            1,
                            "#f0f921"
                          ]
                        ],
                        "type": "surface"
                      }
                    ],
                    "table": [
                      {
                        "cells": {
                          "fill": {
                            "color": "#506784"
                          },
                          "line": {
                            "color": "rgb(17,17,17)"
                          }
                        },
                        "header": {
                          "fill": {
                            "color": "#2a3f5f"
                          },
                          "line": {
                            "color": "rgb(17,17,17)"
                          }
                        },
                        "type": "table"
                      }
                    ]
                  },
                  "layout": {
                    "annotationdefaults": {
                      "arrowcolor": "#f2f5fa",
                      "arrowhead": 0,
                      "arrowwidth": 1
                    },
                    "autotypenumbers": "strict",
                    "coloraxis": {
                      "colorbar": {
                        "outlinewidth": 0,
                        "ticks": ""
                      }
                    },
                    "colorscale": {
                      "diverging": [
                        [
                          0,
                          "#8e0152"
                        ],
                        [
                          0.1,
                          "#c51b7d"
                        ],
                        [
                          0.2,
                          "#de77ae"
                        ],
                        [
                          0.3,
                          "#f1b6da"
                        ],
                        [
                          0.4,
                          "#fde0ef"
                        ],
                        [
                          0.5,
                          "#f7f7f7"
                        ],
                        [
                          0.6,
                          "#e6f5d0"
                        ],
                        [
                          0.7,
                          "#b8e186"
                        ],
                        [
                          0.8,
                          "#7fbc41"
                        ],
                        [
                          0.9,
                          "#4d9221"
                        ],
                        [
                          1,
                          "#276419"
                        ]
                      ],
                      "sequential": [
                        [
                          0,
                          "#0d0887"
                        ],
                        [
                          0.1111111111111111,
                          "#46039f"
                        ],
                        [
                          0.2222222222222222,
                          "#7201a8"
                        ],
                        [
                          0.3333333333333333,
                          "#9c179e"
                        ],
                        [
                          0.4444444444444444,
                          "#bd3786"
                        ],
                        [
                          0.5555555555555556,
                          "#d8576b"
                        ],
                        [
                          0.6666666666666666,
                          "#ed7953"
                        ],
                        [
                          0.7777777777777778,
                          "#fb9f3a"
                        ],
                        [
                          0.8888888888888888,
                          "#fdca26"
                        ],
                        [
                          1,
                          "#f0f921"
                        ]
                      ],
                      "sequentialminus": [
                        [
                          0,
                          "#0d0887"
                        ],
                        [
                          0.1111111111111111,
                          "#46039f"
                        ],
                        [
                          0.2222222222222222,
                          "#7201a8"
                        ],
                        [
                          0.3333333333333333,
                          "#9c179e"
                        ],
                        [
                          0.4444444444444444,
                          "#bd3786"
                        ],
                        [
                          0.5555555555555556,
                          "#d8576b"
                        ],
                        [
                          0.6666666666666666,
                          "#ed7953"
                        ],
                        [
                          0.7777777777777778,
                          "#fb9f3a"
                        ],
                        [
                          0.8888888888888888,
                          "#fdca26"
                        ],
                        [
                          1,
                          "#f0f921"
                        ]
                      ]
                    },
                    "colorway": [
                      "#636efa",
                      "#EF553B",
                      "#00cc96",
                      "#ab63fa",
                      "#FFA15A",
                      "#19d3f3",
                      "#FF6692",
                      "#B6E880",
                      "#FF97FF",
                      "#FECB52"
                    ],
                    "font": {
                      "color": "#f2f5fa"
                    },
                    "geo": {
                      "bgcolor": "rgb(17,17,17)",
                      "lakecolor": "rgb(17,17,17)",
                      "landcolor": "rgb(17,17,17)",
                      "showlakes": true,
                      "showland": true,
                      "subunitcolor": "#506784"
                    },
                    "hoverlabel": {
                      "align": "left"
                    },
                    "hovermode": "closest",
                    "mapbox": {
                      "style": "dark"
                    },
                    "paper_bgcolor": "rgb(17,17,17)",
                    "plot_bgcolor": "rgb(17,17,17)",
                    "polar": {
                      "angularaxis": {
                        "gridcolor": "#506784",
                        "linecolor": "#506784",
                        "ticks": ""
                      },
                      "bgcolor": "rgb(17,17,17)",
                      "radialaxis": {
                        "gridcolor": "#506784",
                        "linecolor": "#506784",
                        "ticks": ""
                      }
                    },
                    "scene": {
                      "xaxis": {
                        "backgroundcolor": "rgb(17,17,17)",
                        "gridcolor": "#506784",
                        "gridwidth": 2,
                        "linecolor": "#506784",
                        "showbackground": true,
                        "ticks": "",
                        "zerolinecolor": "#C8D4E3"
                      },
                      "yaxis": {
                        "backgroundcolor": "rgb(17,17,17)",
                        "gridcolor": "#506784",
                        "gridwidth": 2,
                        "linecolor": "#506784",
                        "showbackground": true,
                        "ticks": "",
                        "zerolinecolor": "#C8D4E3"
                      },
                      "zaxis": {
                        "backgroundcolor": "rgb(17,17,17)",
                        "gridcolor": "#506784",
                        "gridwidth": 2,
                        "linecolor": "#506784",
                        "showbackground": true,
                        "ticks": "",
                        "zerolinecolor": "#C8D4E3"
                      }
                    },
                    "shapedefaults": {
                      "line": {
                        "color": "#f2f5fa"
                      }
                    },
                    "sliderdefaults": {
                      "bgcolor": "#C8D4E3",
                      "bordercolor": "rgb(17,17,17)",
                      "borderwidth": 1,
                      "tickwidth": 0
                    },
                    "ternary": {
                      "aaxis": {
                        "gridcolor": "#506784",
                        "linecolor": "#506784",
                        "ticks": ""
                      },
                      "baxis": {
                        "gridcolor": "#506784",
                        "linecolor": "#506784",
                        "ticks": ""
                      },
                      "bgcolor": "rgb(17,17,17)",
                      "caxis": {
                        "gridcolor": "#506784",
                        "linecolor": "#506784",
                        "ticks": ""
                      }
                    },
                    "title": {
                      "x": 0.05
                    },
                    "updatemenudefaults": {
                      "bgcolor": "#506784",
                      "borderwidth": 0
                    },
                    "xaxis": {
                      "automargin": true,
                      "gridcolor": "#283442",
                      "linecolor": "#506784",
                      "ticks": "",
                      "title": {
                        "standoff": 15
                      },
                      "zerolinecolor": "#283442",
                      "zerolinewidth": 2
                    },
                    "yaxis": {
                      "automargin": true,
                      "gridcolor": "#283442",
                      "linecolor": "#506784",
                      "ticks": "",
                      "title": {
                        "standoff": 15
                      },
                      "zerolinecolor": "#283442",
                      "zerolinewidth": 2
                    }
                  }
                },
                "title": {
                  "text": "Trading Strategy Analysis Dashboard"
                },
                "xaxis": {
                  "anchor": "y",
                  "domain": [
                    0,
                    0.42
                  ],
                  "title": {
                    "text": "Date"
                  }
                },
                "xaxis2": {
                  "anchor": "y3",
                  "domain": [
                    0.52,
                    0.94
                  ],
                  "title": {
                    "text": "Daily Return"
                  }
                },
                "xaxis3": {
                  "anchor": "y4",
                  "domain": [
                    0.52,
                    0.94
                  ],
                  "title": {
                    "text": "Sentiment Score"
                  }
                },
                "yaxis": {
                  "anchor": "x",
                  "domain": [
                    0.56,
                    1
                  ],
                  "title": {
                    "text": "Cumulative Return"
                  }
                },
                "yaxis2": {
                  "anchor": "x",
                  "overlaying": "y",
                  "side": "right",
                  "title": {
                    "text": "Cumulative Return"
                  }
                },
                "yaxis3": {
                  "anchor": "x2",
                  "domain": [
                    0.56,
                    1
                  ],
                  "title": {
                    "text": "Frequency"
                  }
                },
                "yaxis4": {
                  "anchor": "x3",
                  "domain": [
                    0,
                    0.44
                  ],
                  "title": {
                    "text": "Frequency"
                  }
                }
              }
            }
          },
          "metadata": {},
          "output_type": "display_data"
        },
        {
          "name": "stdout",
          "output_type": "stream",
          "text": [
            "\n",
            "============================================================\n",
            "📈 TRADING STRATEGY INSIGHTS\n",
            "============================================================\n",
            "🎯 Strategy Overview:\n",
            "   • Symbols analyzed: 3\n",
            "   • Total trading signals: 15\n",
            "   • Average signals per symbol: 5.0\n",
            "\n",
            "📊 Performance Comparison:\n",
            "   • AMD: Strategy 28.11% vs Buy-Hold -13.55% (Excess: 41.67%)\n",
            "   • INTC: Strategy -2.03% vs Buy-Hold -25.67% (Excess: 23.64%)\n",
            "   • NVDA: Strategy -16.16% vs Buy-Hold 48.22% (Excess: -64.38%)\n",
            "\n",
            "🏆 Summary:\n",
            "   • Strategy outperformed buy-and-hold in 2/3 cases (66.7%)\n",
            "   • Average strategy return: 3.31%\n",
            "   • Average buy-and-hold return: 3.00%\n",
            "   • Average excess return: 0.31%\n",
            "============================================================\n",
            "\n",
            "🎯 STEP 6: DATASET READINESS ASSESSMENT\n",
            "---------------------------------------------\n",
            "🔄 Analyzing dataset readiness...\n",
            "🔄 Creating readiness summary visualization...\n"
          ]
        },
        {
          "data": {
            "application/vnd.plotly.v1+json": {
              "config": {
                "plotlyServerURL": "https://plot.ly"
              },
              "data": [
                {
                  "fill": "toself",
                  "line": {
                    "color": "blue"
                  },
                  "name": "Readiness Scores",
                  "r": [
                    100,
                    4.273504273504273,
                    95.78947368421052,
                    30,
                    100
                  ],
                  "theta": [
                    "Data Completeness",
                    "Sentiment Coverage",
                    "Date Consistency",
                    "Symbol Diversity",
                    "Data Quality"
                  ],
                  "type": "scatterpolar"
                }
              ],
              "layout": {
                "height": 500,
                "polar": {
                  "radialaxis": {
                    "range": [
                      0,
                      100
                    ],
                    "visible": true
                  }
                },
                "showlegend": true,
                "template": {
                  "data": {
                    "bar": [
                      {
                        "error_x": {
                          "color": "#f2f5fa"
                        },
                        "error_y": {
                          "color": "#f2f5fa"
                        },
                        "marker": {
                          "line": {
                            "color": "rgb(17,17,17)",
                            "width": 0.5
                          },
                          "pattern": {
                            "fillmode": "overlay",
                            "size": 10,
                            "solidity": 0.2
                          }
                        },
                        "type": "bar"
                      }
                    ],
                    "barpolar": [
                      {
                        "marker": {
                          "line": {
                            "color": "rgb(17,17,17)",
                            "width": 0.5
                          },
                          "pattern": {
                            "fillmode": "overlay",
                            "size": 10,
                            "solidity": 0.2
                          }
                        },
                        "type": "barpolar"
                      }
                    ],
                    "carpet": [
                      {
                        "aaxis": {
                          "endlinecolor": "#A2B1C6",
                          "gridcolor": "#506784",
                          "linecolor": "#506784",
                          "minorgridcolor": "#506784",
                          "startlinecolor": "#A2B1C6"
                        },
                        "baxis": {
                          "endlinecolor": "#A2B1C6",
                          "gridcolor": "#506784",
                          "linecolor": "#506784",
                          "minorgridcolor": "#506784",
                          "startlinecolor": "#A2B1C6"
                        },
                        "type": "carpet"
                      }
                    ],
                    "choropleth": [
                      {
                        "colorbar": {
                          "outlinewidth": 0,
                          "ticks": ""
                        },
                        "type": "choropleth"
                      }
                    ],
                    "contour": [
                      {
                        "colorbar": {
                          "outlinewidth": 0,
                          "ticks": ""
                        },
                        "colorscale": [
                          [
                            0,
                            "#0d0887"
                          ],
                          [
                            0.1111111111111111,
                            "#46039f"
                          ],
                          [
                            0.2222222222222222,
                            "#7201a8"
                          ],
                          [
                            0.3333333333333333,
                            "#9c179e"
                          ],
                          [
                            0.4444444444444444,
                            "#bd3786"
                          ],
                          [
                            0.5555555555555556,
                            "#d8576b"
                          ],
                          [
                            0.6666666666666666,
                            "#ed7953"
                          ],
                          [
                            0.7777777777777778,
                            "#fb9f3a"
                          ],
                          [
                            0.8888888888888888,
                            "#fdca26"
                          ],
                          [
                            1,
                            "#f0f921"
                          ]
                        ],
                        "type": "contour"
                      }
                    ],
                    "contourcarpet": [
                      {
                        "colorbar": {
                          "outlinewidth": 0,
                          "ticks": ""
                        },
                        "type": "contourcarpet"
                      }
                    ],
                    "heatmap": [
                      {
                        "colorbar": {
                          "outlinewidth": 0,
                          "ticks": ""
                        },
                        "colorscale": [
                          [
                            0,
                            "#0d0887"
                          ],
                          [
                            0.1111111111111111,
                            "#46039f"
                          ],
                          [
                            0.2222222222222222,
                            "#7201a8"
                          ],
                          [
                            0.3333333333333333,
                            "#9c179e"
                          ],
                          [
                            0.4444444444444444,
                            "#bd3786"
                          ],
                          [
                            0.5555555555555556,
                            "#d8576b"
                          ],
                          [
                            0.6666666666666666,
                            "#ed7953"
                          ],
                          [
                            0.7777777777777778,
                            "#fb9f3a"
                          ],
                          [
                            0.8888888888888888,
                            "#fdca26"
                          ],
                          [
                            1,
                            "#f0f921"
                          ]
                        ],
                        "type": "heatmap"
                      }
                    ],
                    "histogram": [
                      {
                        "marker": {
                          "pattern": {
                            "fillmode": "overlay",
                            "size": 10,
                            "solidity": 0.2
                          }
                        },
                        "type": "histogram"
                      }
                    ],
                    "histogram2d": [
                      {
                        "colorbar": {
                          "outlinewidth": 0,
                          "ticks": ""
                        },
                        "colorscale": [
                          [
                            0,
                            "#0d0887"
                          ],
                          [
                            0.1111111111111111,
                            "#46039f"
                          ],
                          [
                            0.2222222222222222,
                            "#7201a8"
                          ],
                          [
                            0.3333333333333333,
                            "#9c179e"
                          ],
                          [
                            0.4444444444444444,
                            "#bd3786"
                          ],
                          [
                            0.5555555555555556,
                            "#d8576b"
                          ],
                          [
                            0.6666666666666666,
                            "#ed7953"
                          ],
                          [
                            0.7777777777777778,
                            "#fb9f3a"
                          ],
                          [
                            0.8888888888888888,
                            "#fdca26"
                          ],
                          [
                            1,
                            "#f0f921"
                          ]
                        ],
                        "type": "histogram2d"
                      }
                    ],
                    "histogram2dcontour": [
                      {
                        "colorbar": {
                          "outlinewidth": 0,
                          "ticks": ""
                        },
                        "colorscale": [
                          [
                            0,
                            "#0d0887"
                          ],
                          [
                            0.1111111111111111,
                            "#46039f"
                          ],
                          [
                            0.2222222222222222,
                            "#7201a8"
                          ],
                          [
                            0.3333333333333333,
                            "#9c179e"
                          ],
                          [
                            0.4444444444444444,
                            "#bd3786"
                          ],
                          [
                            0.5555555555555556,
                            "#d8576b"
                          ],
                          [
                            0.6666666666666666,
                            "#ed7953"
                          ],
                          [
                            0.7777777777777778,
                            "#fb9f3a"
                          ],
                          [
                            0.8888888888888888,
                            "#fdca26"
                          ],
                          [
                            1,
                            "#f0f921"
                          ]
                        ],
                        "type": "histogram2dcontour"
                      }
                    ],
                    "mesh3d": [
                      {
                        "colorbar": {
                          "outlinewidth": 0,
                          "ticks": ""
                        },
                        "type": "mesh3d"
                      }
                    ],
                    "parcoords": [
                      {
                        "line": {
                          "colorbar": {
                            "outlinewidth": 0,
                            "ticks": ""
                          }
                        },
                        "type": "parcoords"
                      }
                    ],
                    "pie": [
                      {
                        "automargin": true,
                        "type": "pie"
                      }
                    ],
                    "scatter": [
                      {
                        "marker": {
                          "line": {
                            "color": "#283442"
                          }
                        },
                        "type": "scatter"
                      }
                    ],
                    "scatter3d": [
                      {
                        "line": {
                          "colorbar": {
                            "outlinewidth": 0,
                            "ticks": ""
                          }
                        },
                        "marker": {
                          "colorbar": {
                            "outlinewidth": 0,
                            "ticks": ""
                          }
                        },
                        "type": "scatter3d"
                      }
                    ],
                    "scattercarpet": [
                      {
                        "marker": {
                          "colorbar": {
                            "outlinewidth": 0,
                            "ticks": ""
                          }
                        },
                        "type": "scattercarpet"
                      }
                    ],
                    "scattergeo": [
                      {
                        "marker": {
                          "colorbar": {
                            "outlinewidth": 0,
                            "ticks": ""
                          }
                        },
                        "type": "scattergeo"
                      }
                    ],
                    "scattergl": [
                      {
                        "marker": {
                          "line": {
                            "color": "#283442"
                          }
                        },
                        "type": "scattergl"
                      }
                    ],
                    "scattermap": [
                      {
                        "marker": {
                          "colorbar": {
                            "outlinewidth": 0,
                            "ticks": ""
                          }
                        },
                        "type": "scattermap"
                      }
                    ],
                    "scattermapbox": [
                      {
                        "marker": {
                          "colorbar": {
                            "outlinewidth": 0,
                            "ticks": ""
                          }
                        },
                        "type": "scattermapbox"
                      }
                    ],
                    "scatterpolar": [
                      {
                        "marker": {
                          "colorbar": {
                            "outlinewidth": 0,
                            "ticks": ""
                          }
                        },
                        "type": "scatterpolar"
                      }
                    ],
                    "scatterpolargl": [
                      {
                        "marker": {
                          "colorbar": {
                            "outlinewidth": 0,
                            "ticks": ""
                          }
                        },
                        "type": "scatterpolargl"
                      }
                    ],
                    "scatterternary": [
                      {
                        "marker": {
                          "colorbar": {
                            "outlinewidth": 0,
                            "ticks": ""
                          }
                        },
                        "type": "scatterternary"
                      }
                    ],
                    "surface": [
                      {
                        "colorbar": {
                          "outlinewidth": 0,
                          "ticks": ""
                        },
                        "colorscale": [
                          [
                            0,
                            "#0d0887"
                          ],
                          [
                            0.1111111111111111,
                            "#46039f"
                          ],
                          [
                            0.2222222222222222,
                            "#7201a8"
                          ],
                          [
                            0.3333333333333333,
                            "#9c179e"
                          ],
                          [
                            0.4444444444444444,
                            "#bd3786"
                          ],
                          [
                            0.5555555555555556,
                            "#d8576b"
                          ],
                          [
                            0.6666666666666666,
                            "#ed7953"
                          ],
                          [
                            0.7777777777777778,
                            "#fb9f3a"
                          ],
                          [
                            0.8888888888888888,
                            "#fdca26"
                          ],
                          [
                            1,
                            "#f0f921"
                          ]
                        ],
                        "type": "surface"
                      }
                    ],
                    "table": [
                      {
                        "cells": {
                          "fill": {
                            "color": "#506784"
                          },
                          "line": {
                            "color": "rgb(17,17,17)"
                          }
                        },
                        "header": {
                          "fill": {
                            "color": "#2a3f5f"
                          },
                          "line": {
                            "color": "rgb(17,17,17)"
                          }
                        },
                        "type": "table"
                      }
                    ]
                  },
                  "layout": {
                    "annotationdefaults": {
                      "arrowcolor": "#f2f5fa",
                      "arrowhead": 0,
                      "arrowwidth": 1
                    },
                    "autotypenumbers": "strict",
                    "coloraxis": {
                      "colorbar": {
                        "outlinewidth": 0,
                        "ticks": ""
                      }
                    },
                    "colorscale": {
                      "diverging": [
                        [
                          0,
                          "#8e0152"
                        ],
                        [
                          0.1,
                          "#c51b7d"
                        ],
                        [
                          0.2,
                          "#de77ae"
                        ],
                        [
                          0.3,
                          "#f1b6da"
                        ],
                        [
                          0.4,
                          "#fde0ef"
                        ],
                        [
                          0.5,
                          "#f7f7f7"
                        ],
                        [
                          0.6,
                          "#e6f5d0"
                        ],
                        [
                          0.7,
                          "#b8e186"
                        ],
                        [
                          0.8,
                          "#7fbc41"
                        ],
                        [
                          0.9,
                          "#4d9221"
                        ],
                        [
                          1,
                          "#276419"
                        ]
                      ],
                      "sequential": [
                        [
                          0,
                          "#0d0887"
                        ],
                        [
                          0.1111111111111111,
                          "#46039f"
                        ],
                        [
                          0.2222222222222222,
                          "#7201a8"
                        ],
                        [
                          0.3333333333333333,
                          "#9c179e"
                        ],
                        [
                          0.4444444444444444,
                          "#bd3786"
                        ],
                        [
                          0.5555555555555556,
                          "#d8576b"
                        ],
                        [
                          0.6666666666666666,
                          "#ed7953"
                        ],
                        [
                          0.7777777777777778,
                          "#fb9f3a"
                        ],
                        [
                          0.8888888888888888,
                          "#fdca26"
                        ],
                        [
                          1,
                          "#f0f921"
                        ]
                      ],
                      "sequentialminus": [
                        [
                          0,
                          "#0d0887"
                        ],
                        [
                          0.1111111111111111,
                          "#46039f"
                        ],
                        [
                          0.2222222222222222,
                          "#7201a8"
                        ],
                        [
                          0.3333333333333333,
                          "#9c179e"
                        ],
                        [
                          0.4444444444444444,
                          "#bd3786"
                        ],
                        [
                          0.5555555555555556,
                          "#d8576b"
                        ],
                        [
                          0.6666666666666666,
                          "#ed7953"
                        ],
                        [
                          0.7777777777777778,
                          "#fb9f3a"
                        ],
                        [
                          0.8888888888888888,
                          "#fdca26"
                        ],
                        [
                          1,
                          "#f0f921"
                        ]
                      ]
                    },
                    "colorway": [
                      "#636efa",
                      "#EF553B",
                      "#00cc96",
                      "#ab63fa",
                      "#FFA15A",
                      "#19d3f3",
                      "#FF6692",
                      "#B6E880",
                      "#FF97FF",
                      "#FECB52"
                    ],
                    "font": {
                      "color": "#f2f5fa"
                    },
                    "geo": {
                      "bgcolor": "rgb(17,17,17)",
                      "lakecolor": "rgb(17,17,17)",
                      "landcolor": "rgb(17,17,17)",
                      "showlakes": true,
                      "showland": true,
                      "subunitcolor": "#506784"
                    },
                    "hoverlabel": {
                      "align": "left"
                    },
                    "hovermode": "closest",
                    "mapbox": {
                      "style": "dark"
                    },
                    "paper_bgcolor": "rgb(17,17,17)",
                    "plot_bgcolor": "rgb(17,17,17)",
                    "polar": {
                      "angularaxis": {
                        "gridcolor": "#506784",
                        "linecolor": "#506784",
                        "ticks": ""
                      },
                      "bgcolor": "rgb(17,17,17)",
                      "radialaxis": {
                        "gridcolor": "#506784",
                        "linecolor": "#506784",
                        "ticks": ""
                      }
                    },
                    "scene": {
                      "xaxis": {
                        "backgroundcolor": "rgb(17,17,17)",
                        "gridcolor": "#506784",
                        "gridwidth": 2,
                        "linecolor": "#506784",
                        "showbackground": true,
                        "ticks": "",
                        "zerolinecolor": "#C8D4E3"
                      },
                      "yaxis": {
                        "backgroundcolor": "rgb(17,17,17)",
                        "gridcolor": "#506784",
                        "gridwidth": 2,
                        "linecolor": "#506784",
                        "showbackground": true,
                        "ticks": "",
                        "zerolinecolor": "#C8D4E3"
                      },
                      "zaxis": {
                        "backgroundcolor": "rgb(17,17,17)",
                        "gridcolor": "#506784",
                        "gridwidth": 2,
                        "linecolor": "#506784",
                        "showbackground": true,
                        "ticks": "",
                        "zerolinecolor": "#C8D4E3"
                      }
                    },
                    "shapedefaults": {
                      "line": {
                        "color": "#f2f5fa"
                      }
                    },
                    "sliderdefaults": {
                      "bgcolor": "#C8D4E3",
                      "bordercolor": "rgb(17,17,17)",
                      "borderwidth": 1,
                      "tickwidth": 0
                    },
                    "ternary": {
                      "aaxis": {
                        "gridcolor": "#506784",
                        "linecolor": "#506784",
                        "ticks": ""
                      },
                      "baxis": {
                        "gridcolor": "#506784",
                        "linecolor": "#506784",
                        "ticks": ""
                      },
                      "bgcolor": "rgb(17,17,17)",
                      "caxis": {
                        "gridcolor": "#506784",
                        "linecolor": "#506784",
                        "ticks": ""
                      }
                    },
                    "title": {
                      "x": 0.05
                    },
                    "updatemenudefaults": {
                      "bgcolor": "#506784",
                      "borderwidth": 0
                    },
                    "xaxis": {
                      "automargin": true,
                      "gridcolor": "#283442",
                      "linecolor": "#506784",
                      "ticks": "",
                      "title": {
                        "standoff": 15
                      },
                      "zerolinecolor": "#283442",
                      "zerolinewidth": 2
                    },
                    "yaxis": {
                      "automargin": true,
                      "gridcolor": "#283442",
                      "linecolor": "#506784",
                      "ticks": "",
                      "title": {
                        "standoff": 15
                      },
                      "zerolinecolor": "#283442",
                      "zerolinewidth": 2
                    }
                  }
                },
                "title": {
                  "text": "Dataset Readiness Assessment (Overall Score: 64.7/100)"
                }
              }
            }
          },
          "metadata": {},
          "output_type": "display_data"
        },
        {
          "name": "stdout",
          "output_type": "stream",
          "text": [
            "\n",
            "🎯 FINAL RECOMMENDATIONS\n",
            "========================================\n",
            "🔧 Dataset needs significant improvements before production use.\n",
            "• Enhance news collection and sentiment analysis coverage\n",
            "• Add more symbols to diversify the portfolio\n",
            "========================================\n",
            "\n",
            "✅ ANALYSIS COMPLETE!\n",
            "============================================================\n",
            "📊 All visualizations have been generated above.\n",
            "📈 Review the insights and recommendations for next steps.\n",
            "🚀 Ready for production decision making!\n"
          ]
        }
      ],
      "source": [
        "# Main Analysis Pipeline - Run Complete Analysis\n",
        "print(\"🚀 Starting Comprehensive Analysis Pipeline...\")\n",
        "print(\"=\" * 60)\n",
        "\n",
        "# Step 1: Load Foundation Dataset\n",
        "print(\"\\n📊 STEP 1: LOADING DATA\")\n",
        "print(\"-\" * 30)\n",
        "foundation_data = load_foundation_dataset()\n",
        "\n",
        "if foundation_data is not None:\n",
        "    # Step 2: Process Combined Dataset\n",
        "    print(\"\\n🔄 STEP 2: PROCESSING COMBINED DATASET\")\n",
        "    print(\"-\" * 40)\n",
        "    processed_data = create_combined_dataset(foundation_data, None)\n",
        "    \n",
        "    if processed_data is not None:\n",
        "        # Step 3: Market Analysis\n",
        "        print(\"\\n📈 STEP 3: MARKET OVERVIEW ANALYSIS\")\n",
        "        print(\"-\" * 40)\n",
        "        print(\"🔄 Creating market overview...\")\n",
        "        market_fig = create_market_overview(processed_data)\n",
        "        print_market_insights(processed_data)\n",
        "        \n",
        "        # Step 4: Sentiment Analysis\n",
        "        print(\"\\n🎭 STEP 4: SENTIMENT ANALYSIS\")\n",
        "        print(\"-\" * 35)\n",
        "        print(\"🔄 Creating sentiment analysis...\")\n",
        "        sentiment_fig = create_sentiment_analysis(processed_data)\n",
        "        correlations = calculate_sentiment_correlations(processed_data)\n",
        "        print_sentiment_insights(processed_data, correlations)\n",
        "        \n",
        "        # Step 5: Trading Strategy Analysis\n",
        "        print(\"\\n📈 STEP 5: TRADING STRATEGY ANALYSIS\")\n",
        "        print(\"-\" * 40)\n",
        "        print(\"🔄 Running basic strategy analysis...\")\n",
        "        strategy_results = analyze_basic_strategy(processed_data)\n",
        "        \n",
        "        if strategy_results:\n",
        "            create_strategy_visualization(strategy_results)\n",
        "            print_strategy_insights(strategy_results)\n",
        "        else:\n",
        "            print(\"⚠️ No strategy results available\")\n",
        "        \n",
        "        # Step 6: Dataset Readiness Assessment\n",
        "        print(\"\\n🎯 STEP 6: DATASET READINESS ASSESSMENT\")\n",
        "        print(\"-\" * 45)\n",
        "        readiness_analysis = analyze_dataset_readiness(processed_data)\n",
        "        \n",
        "        if readiness_analysis:\n",
        "            readiness_fig = create_readiness_summary(readiness_analysis)\n",
        "            \n",
        "            # Generate and display recommendations\n",
        "            recommendations = generate_recommendations(\n",
        "                readiness_analysis['overall_score'], \n",
        "                readiness_analysis['criteria_scores']\n",
        "            )\n",
        "            \n",
        "            print(f\"\\n🎯 FINAL RECOMMENDATIONS\")\n",
        "            print(\"=\" * 40)\n",
        "            for rec in recommendations:\n",
        "                print(rec)\n",
        "            print(\"=\" * 40)\n",
        "        \n",
        "        print(f\"\\n✅ ANALYSIS COMPLETE!\")\n",
        "        print(\"=\" * 60)\n",
        "        print(\"📊 All visualizations have been generated above.\")\n",
        "        print(\"📈 Review the insights and recommendations for next steps.\")\n",
        "        print(\"🚀 Ready for production decision making!\")\n",
        "        \n",
        "    else:\n",
        "        print(\"❌ Failed to process combined dataset\")\n",
        "else:\n",
        "    print(\"❌ Failed to load foundation dataset - check database connection\")\n"
      ]
    }
  ],
  "metadata": {
    "kernelspec": {
      "display_name": ".venv",
      "language": "python",
      "name": "python3"
    },
    "language_info": {
      "codemirror_mode": {
        "name": "ipython",
        "version": 3
      },
      "file_extension": ".py",
      "mimetype": "text/x-python",
      "name": "python",
      "nbconvert_exporter": "python",
      "pygments_lexer": "ipython3",
      "version": "3.11.13"
    }
  },
  "nbformat": 4,
  "nbformat_minor": 2
}
