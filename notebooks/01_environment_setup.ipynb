{
  "cells": [
    {
      "cell_type": "raw",
      "metadata": {
        "vscode": {
          "languageId": "raw"
        }
      },
      "source": [
        "# Sentiment Trends Analysis - Environment Setup\n",
        "## Phase 1A: Verifying Development Environment\n",
        "\n",
        "This notebook verifies that our development environment is properly configured and tests basic API connectivity for our sentiment analysis trading project.\n",
        "\n",
        "### Project Overview\n",
        "- **Primary Symbol**: Intel Corporation (INTC)\n",
        "- **Competitors**: AMD, NVIDIA (NVDA)\n",
        "- **Data Sources**: Yahoo Finance, Alpha Vantage, OpenAI\n",
        "- **Time Period**: 1 year of historical data (post-2020)\n"
      ]
    },
    {
      "cell_type": "raw",
      "metadata": {
        "vscode": {
          "languageId": "raw"
        }
      },
      "source": [
        "## 1. Import Dependencies\n",
        "Let's verify all our key libraries are working correctly.\n"
      ]
    },
    {
      "cell_type": "code",
      "execution_count": 1,
      "metadata": {},
      "outputs": [
        {
          "name": "stderr",
          "output_type": "stream",
          "text": [
            "/Users/dwestbury/Documents/Source Code/Python/sentiment_trends/.venv/lib/python3.11/site-packages/pandas_ta/__init__.py:7: UserWarning: pkg_resources is deprecated as an API. See https://setuptools.pypa.io/en/latest/pkg_resources.html. The pkg_resources package is slated for removal as early as 2025-11-30. Refrain from using this package or pin to Setuptools<81.\n",
            "  from pkg_resources import get_distribution, DistributionNotFound\n"
          ]
        },
        {
          "name": "stdout",
          "output_type": "stream",
          "text": [
            "✅ All imports successful!\n",
            "📊 Pandas version: 2.3.0\n",
            "🔢 NumPy version: 1.26.4\n",
            "📈 YFinance version: 0.2.64\n"
          ]
        }
      ],
      "source": [
        "# Core data science libraries\n",
        "import pandas as pd\n",
        "import numpy as np\n",
        "import matplotlib.pyplot as plt\n",
        "import seaborn as sns\n",
        "import plotly.graph_objects as go\n",
        "import plotly.express as px\n",
        "\n",
        "# Financial data APIs\n",
        "import yfinance as yf\n",
        "from alpha_vantage.timeseries import TimeSeries\n",
        "\n",
        "# Technical analysis\n",
        "import pandas_ta as ta\n",
        "\n",
        "# Database and configuration\n",
        "import sqlalchemy\n",
        "from sqlalchemy import create_engine\n",
        "from dotenv import load_dotenv\n",
        "import os\n",
        "\n",
        "# AI/ML\n",
        "import openai\n",
        "\n",
        "# Utilities\n",
        "from datetime import datetime, timedelta\n",
        "import warnings\n",
        "warnings.filterwarnings('ignore')\n",
        "\n",
        "print(\"✅ All imports successful!\")\n",
        "print(f\"📊 Pandas version: {pd.__version__}\")\n",
        "print(f\"🔢 NumPy version: {np.__version__}\")\n",
        "print(f\"📈 YFinance version: {yf.__version__}\")\n"
      ]
    },
    {
      "cell_type": "raw",
      "metadata": {
        "vscode": {
          "languageId": "raw"
        }
      },
      "source": [
        "## 2. Test Yahoo Finance API\n",
        "Let's verify we can successfully retrieve market data for our primary symbol (INTC).\n"
      ]
    },
    {
      "cell_type": "code",
      "execution_count": 2,
      "metadata": {},
      "outputs": [
        {
          "name": "stdout",
          "output_type": "stream",
          "text": [
            "🔍 Testing Yahoo Finance API...\n",
            "✅ Successfully retrieved 22 days of INTC data\n",
            "📅 Date range: 2025-05-28 to 2025-06-27\n",
            "💰 Latest close price: $22.69\n",
            "\n",
            "📋 Data columns: ['Open', 'High', 'Low', 'Close', 'Volume', 'Dividends', 'Stock Splits']\n"
          ]
        },
        {
          "data": {
            "text/html": [
              "<div>\n",
              "<style scoped>\n",
              "    .dataframe tbody tr th:only-of-type {\n",
              "        vertical-align: middle;\n",
              "    }\n",
              "\n",
              "    .dataframe tbody tr th {\n",
              "        vertical-align: top;\n",
              "    }\n",
              "\n",
              "    .dataframe thead th {\n",
              "        text-align: right;\n",
              "    }\n",
              "</style>\n",
              "<table border=\"1\" class=\"dataframe\">\n",
              "  <thead>\n",
              "    <tr style=\"text-align: right;\">\n",
              "      <th></th>\n",
              "      <th>Open</th>\n",
              "      <th>High</th>\n",
              "      <th>Low</th>\n",
              "      <th>Close</th>\n",
              "      <th>Volume</th>\n",
              "      <th>Dividends</th>\n",
              "      <th>Stock Splits</th>\n",
              "    </tr>\n",
              "    <tr>\n",
              "      <th>Date</th>\n",
              "      <th></th>\n",
              "      <th></th>\n",
              "      <th></th>\n",
              "      <th></th>\n",
              "      <th></th>\n",
              "      <th></th>\n",
              "      <th></th>\n",
              "    </tr>\n",
              "  </thead>\n",
              "  <tbody>\n",
              "    <tr>\n",
              "      <th>2025-05-28 00:00:00-04:00</th>\n",
              "      <td>20.570000</td>\n",
              "      <td>20.639999</td>\n",
              "      <td>20.330000</td>\n",
              "      <td>20.370001</td>\n",
              "      <td>46096500</td>\n",
              "      <td>0.0</td>\n",
              "      <td>0.0</td>\n",
              "    </tr>\n",
              "    <tr>\n",
              "      <th>2025-05-29 00:00:00-04:00</th>\n",
              "      <td>20.540001</td>\n",
              "      <td>20.600000</td>\n",
              "      <td>20.100000</td>\n",
              "      <td>20.250000</td>\n",
              "      <td>66372200</td>\n",
              "      <td>0.0</td>\n",
              "      <td>0.0</td>\n",
              "    </tr>\n",
              "    <tr>\n",
              "      <th>2025-05-30 00:00:00-04:00</th>\n",
              "      <td>20.260000</td>\n",
              "      <td>20.260000</td>\n",
              "      <td>19.309999</td>\n",
              "      <td>19.549999</td>\n",
              "      <td>114281900</td>\n",
              "      <td>0.0</td>\n",
              "      <td>0.0</td>\n",
              "    </tr>\n",
              "    <tr>\n",
              "      <th>2025-06-02 00:00:00-04:00</th>\n",
              "      <td>19.480000</td>\n",
              "      <td>19.820000</td>\n",
              "      <td>19.370001</td>\n",
              "      <td>19.740000</td>\n",
              "      <td>67885500</td>\n",
              "      <td>0.0</td>\n",
              "      <td>0.0</td>\n",
              "    </tr>\n",
              "    <tr>\n",
              "      <th>2025-06-03 00:00:00-04:00</th>\n",
              "      <td>19.750000</td>\n",
              "      <td>20.410000</td>\n",
              "      <td>19.400000</td>\n",
              "      <td>20.290001</td>\n",
              "      <td>80401900</td>\n",
              "      <td>0.0</td>\n",
              "      <td>0.0</td>\n",
              "    </tr>\n",
              "  </tbody>\n",
              "</table>\n",
              "</div>"
            ],
            "text/plain": [
              "                                Open       High        Low      Close  \\\n",
              "Date                                                                    \n",
              "2025-05-28 00:00:00-04:00  20.570000  20.639999  20.330000  20.370001   \n",
              "2025-05-29 00:00:00-04:00  20.540001  20.600000  20.100000  20.250000   \n",
              "2025-05-30 00:00:00-04:00  20.260000  20.260000  19.309999  19.549999   \n",
              "2025-06-02 00:00:00-04:00  19.480000  19.820000  19.370001  19.740000   \n",
              "2025-06-03 00:00:00-04:00  19.750000  20.410000  19.400000  20.290001   \n",
              "\n",
              "                              Volume  Dividends  Stock Splits  \n",
              "Date                                                           \n",
              "2025-05-28 00:00:00-04:00   46096500        0.0           0.0  \n",
              "2025-05-29 00:00:00-04:00   66372200        0.0           0.0  \n",
              "2025-05-30 00:00:00-04:00  114281900        0.0           0.0  \n",
              "2025-06-02 00:00:00-04:00   67885500        0.0           0.0  \n",
              "2025-06-03 00:00:00-04:00   80401900        0.0           0.0  "
            ]
          },
          "execution_count": 2,
          "metadata": {},
          "output_type": "execute_result"
        }
      ],
      "source": [
        "# Test basic Yahoo Finance connectivity\n",
        "print(\"🔍 Testing Yahoo Finance API...\")\n",
        "\n",
        "# Get Intel stock data for the last 30 days\n",
        "intc = yf.Ticker(\"INTC\")\n",
        "data = intc.history(period=\"1mo\")\n",
        "\n",
        "print(f\"✅ Successfully retrieved {len(data)} days of INTC data\")\n",
        "print(f\"📅 Date range: {data.index[0].date()} to {data.index[-1].date()}\")\n",
        "print(f\"💰 Latest close price: ${data['Close'][-1]:.2f}\")\n",
        "\n",
        "# Display basic info\n",
        "print(\"\\n📋 Data columns:\", list(data.columns))\n",
        "data.head()\n"
      ]
    },
    {
      "cell_type": "raw",
      "metadata": {
        "vscode": {
          "languageId": "raw"
        }
      },
      "source": [
        "## 3. Environment Summary\n",
        "Summary of our development environment status.\n"
      ]
    },
    {
      "cell_type": "code",
      "execution_count": null,
      "metadata": {},
      "outputs": [],
      "source": [
        "print(\"🎉 ENVIRONMENT SETUP COMPLETE!\")\n",
        "print(\"=\" * 40)\n",
        "print(\"✅ All dependencies installed and working\")\n",
        "print(\"✅ Yahoo Finance API connectivity verified\")\n",
        "print(\"✅ Technical analysis library functional\")\n",
        "print(\"✅ Data visualization capabilities ready\")\n",
        "print(\"✅ Competitor data retrieval working\")\n",
        "print(\"\\n🚀 Ready for Phase 1A: Data Pipeline Setup\")\n",
        "print(\"\\nNext steps:\")\n",
        "print(\"1. Set up PostgreSQL database\")\n",
        "print(\"2. Create database schema\")\n",
        "print(\"3. Implement data ingestion pipeline\")\n",
        "print(\"4. Test Alpha Vantage news API\")\n",
        "print(\"5. Set up OpenAI integration\")\n"
      ]
    }
  ],
  "metadata": {
    "kernelspec": {
      "display_name": ".venv",
      "language": "python",
      "name": "python3"
    },
    "language_info": {
      "codemirror_mode": {
        "name": "ipython",
        "version": 3
      },
      "file_extension": ".py",
      "mimetype": "text/x-python",
      "name": "python",
      "nbconvert_exporter": "python",
      "pygments_lexer": "ipython3",
      "version": "3.11.13"
    }
  },
  "nbformat": 4,
  "nbformat_minor": 2
}
