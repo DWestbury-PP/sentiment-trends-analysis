{
  "cells": [
    {
      "cell_type": "raw",
      "metadata": {
        "vscode": {
          "languageId": "raw"
        }
      },
      "source": [
        "# Phase 1E: Historical News Collection & Decoupled Architecture\n",
        "## Building Real Historical News Pipeline for Strategy Validation\n",
        "\n",
        "**Mission**: Collect real historical financial news for Intel (INTC), AMD, and NVIDIA to enable proper backtesting of our sentiment-based trading strategy.\n",
        "\n",
        "**Key Improvements**:\n",
        "- ✅ **Real Historical Data**: GDELT Project (free) + Polygon.io (paid option)\n",
        "- ✅ **Decoupled Architecture**: Separate news collection from sentiment analysis\n",
        "- ✅ **Aggressive OpenAI Usage**: 10-20 second intervals, batch processing\n",
        "- ✅ **Cost Optimization**: Reprocess sentiment without re-fetching news\n"
      ]
    },
    {
      "cell_type": "raw",
      "metadata": {
        "vscode": {
          "languageId": "raw"
        }
      },
      "source": [
        "## 1. Setup and Database Schema Updates\n"
      ]
    },
    {
      "cell_type": "code",
      "execution_count": null,
      "metadata": {},
      "outputs": [],
      "source": [
        "import sys\n",
        "import os\n",
        "sys.path.append(os.path.dirname(os.path.abspath('.')))\n",
        "\n",
        "# Essential imports\n",
        "import pandas as pd\n",
        "import sqlalchemy\n",
        "from datetime import datetime, date, timedelta\n",
        "import requests\n",
        "import json\n",
        "import time\n",
        "from tqdm import tqdm\n",
        "\n",
        "# Local imports\n",
        "from src.database import get_database_connection, get_api_key\n",
        "\n",
        "print(\"🚀 Phase 1E: Historical News Collection - Ready!\")\n",
        "print(\"📊 Mission: Build real historical news pipeline for strategy validation\")\n"
      ]
    },
    {
      "cell_type": "code",
      "execution_count": null,
      "metadata": {},
      "outputs": [],
      "source": [
        "# Create decoupled database schema\n",
        "def create_decoupled_schema():\n",
        "    \"\"\"Create new tables for decoupled news collection and sentiment analysis\"\"\"\n",
        "    \n",
        "    schema_sql = \"\"\"\n",
        "    -- Raw news articles storage\n",
        "    CREATE TABLE IF NOT EXISTS raw_news_articles (\n",
        "        id SERIAL PRIMARY KEY,\n",
        "        symbol_id INTEGER REFERENCES symbols(id),\n",
        "        article_date DATE NOT NULL,\n",
        "        title TEXT NOT NULL,\n",
        "        content TEXT,\n",
        "        summary TEXT,\n",
        "        source VARCHAR(100),\n",
        "        url TEXT,\n",
        "        published_at TIMESTAMP,\n",
        "        relevance_score DECIMAL(3,2),\n",
        "        created_at TIMESTAMP DEFAULT CURRENT_TIMESTAMP,\n",
        "        UNIQUE(url, symbol_id)\n",
        "    );\n",
        "    \n",
        "    -- Processed sentiment results\n",
        "    CREATE TABLE IF NOT EXISTS processed_sentiment (\n",
        "        id SERIAL PRIMARY KEY,\n",
        "        symbol_id INTEGER REFERENCES symbols(id),\n",
        "        analysis_date DATE NOT NULL,\n",
        "        smo_score DECIMAL(3,2),\n",
        "        smd_score DECIMAL(3,2),\n",
        "        smc_score DECIMAL(3,2),\n",
        "        sms_score DECIMAL(3,2),\n",
        "        sdc_score DECIMAL(3,2),\n",
        "        articles_analyzed INTEGER,\n",
        "        confidence_score DECIMAL(3,2),\n",
        "        analysis_summary TEXT,\n",
        "        created_at TIMESTAMP DEFAULT CURRENT_TIMESTAMP,\n",
        "        UNIQUE(symbol_id, analysis_date)\n",
        "    );\n",
        "    \n",
        "    -- Create indexes\n",
        "    CREATE INDEX IF NOT EXISTS idx_raw_news_symbol_date ON raw_news_articles(symbol_id, article_date);\n",
        "    CREATE INDEX IF NOT EXISTS idx_processed_sentiment_date ON processed_sentiment(symbol_id, analysis_date);\n",
        "    \"\"\"\n",
        "    \n",
        "    try:\n",
        "        engine = get_database_connection()\n",
        "        with engine.connect() as conn:\n",
        "            conn.execute(sqlalchemy.text(schema_sql))\n",
        "            conn.commit()\n",
        "        \n",
        "        print(\"✅ Decoupled database schema created successfully\")\n",
        "        return True\n",
        "    except Exception as e:\n",
        "        print(f\"❌ Error creating schema: {e}\")\n",
        "        return False\n",
        "\n",
        "# Create the new schema\n",
        "create_decoupled_schema()\n"
      ]
    }
  ],
  "metadata": {
    "language_info": {
      "name": "python"
    }
  },
  "nbformat": 4,
  "nbformat_minor": 2
}
